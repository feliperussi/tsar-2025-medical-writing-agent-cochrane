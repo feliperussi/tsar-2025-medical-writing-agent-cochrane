{
 "cells": [
  {
   "cell_type": "code",
   "execution_count": 6,
   "id": "28e79395",
   "metadata": {},
   "outputs": [
    {
     "name": "stdout",
     "output_type": "stream",
     "text": [
      "Requirement already satisfied: huggingface_hub in ./.venv/lib/python3.12/site-packages (0.34.4)\n",
      "Collecting huggingface_hub\n",
      "  Downloading huggingface_hub-0.35.3-py3-none-any.whl.metadata (14 kB)\n",
      "Requirement already satisfied: filelock in ./.venv/lib/python3.12/site-packages (from huggingface_hub) (3.18.0)\n",
      "Requirement already satisfied: fsspec>=2023.5.0 in ./.venv/lib/python3.12/site-packages (from huggingface_hub) (2025.3.0)\n",
      "Requirement already satisfied: packaging>=20.9 in ./.venv/lib/python3.12/site-packages (from huggingface_hub) (25.0)\n",
      "Requirement already satisfied: pyyaml>=5.1 in ./.venv/lib/python3.12/site-packages (from huggingface_hub) (6.0.2)\n",
      "Requirement already satisfied: requests in ./.venv/lib/python3.12/site-packages (from huggingface_hub) (2.32.4)\n",
      "Requirement already satisfied: tqdm>=4.42.1 in ./.venv/lib/python3.12/site-packages (from huggingface_hub) (4.67.1)\n",
      "Requirement already satisfied: typing-extensions>=3.7.4.3 in ./.venv/lib/python3.12/site-packages (from huggingface_hub) (4.14.1)\n",
      "Requirement already satisfied: hf-xet<2.0.0,>=1.1.3 in ./.venv/lib/python3.12/site-packages (from huggingface_hub) (1.1.5)\n",
      "Requirement already satisfied: charset_normalizer<4,>=2 in ./.venv/lib/python3.12/site-packages (from requests->huggingface_hub) (3.4.2)\n",
      "Requirement already satisfied: idna<4,>=2.5 in ./.venv/lib/python3.12/site-packages (from requests->huggingface_hub) (3.10)\n",
      "Requirement already satisfied: urllib3<3,>=1.21.1 in ./.venv/lib/python3.12/site-packages (from requests->huggingface_hub) (2.5.0)\n",
      "Requirement already satisfied: certifi>=2017.4.17 in ./.venv/lib/python3.12/site-packages (from requests->huggingface_hub) (2025.7.14)\n",
      "Downloading huggingface_hub-0.35.3-py3-none-any.whl (564 kB)\n",
      "\u001b[2K   \u001b[90m━━━━━━━━━━━━━━━━━━━━━━━━━━━━━━━━━━━━━━━━\u001b[0m \u001b[32m564.3/564.3 kB\u001b[0m \u001b[31m12.8 MB/s\u001b[0m eta \u001b[36m0:00:00\u001b[0m\n",
      "\u001b[?25hInstalling collected packages: huggingface_hub\n",
      "  Attempting uninstall: huggingface_hub\n",
      "    Found existing installation: huggingface-hub 0.34.4\n",
      "    Uninstalling huggingface-hub-0.34.4:\n",
      "      Successfully uninstalled huggingface-hub-0.34.4\n",
      "Successfully installed huggingface_hub-0.35.3\n",
      "Note: you may need to restart the kernel to use updated packages.\n",
      "Requirement already satisfied: evaluate in ./.venv/lib/python3.12/site-packages (0.4.5)\n",
      "Requirement already satisfied: datasets>=2.0.0 in ./.venv/lib/python3.12/site-packages (from evaluate) (4.0.0)\n",
      "Requirement already satisfied: numpy>=1.17 in ./.venv/lib/python3.12/site-packages (from evaluate) (2.2.6)\n",
      "Requirement already satisfied: dill in ./.venv/lib/python3.12/site-packages (from evaluate) (0.3.8)\n",
      "Requirement already satisfied: pandas in ./.venv/lib/python3.12/site-packages (from evaluate) (2.3.1)\n",
      "Requirement already satisfied: requests>=2.19.0 in ./.venv/lib/python3.12/site-packages (from evaluate) (2.32.4)\n",
      "Requirement already satisfied: tqdm>=4.62.1 in ./.venv/lib/python3.12/site-packages (from evaluate) (4.67.1)\n",
      "Requirement already satisfied: xxhash in ./.venv/lib/python3.12/site-packages (from evaluate) (3.5.0)\n",
      "Requirement already satisfied: multiprocess in ./.venv/lib/python3.12/site-packages (from evaluate) (0.70.16)\n",
      "Requirement already satisfied: fsspec>=2021.05.0 in ./.venv/lib/python3.12/site-packages (from fsspec[http]>=2021.05.0->evaluate) (2025.3.0)\n",
      "Requirement already satisfied: huggingface-hub>=0.7.0 in ./.venv/lib/python3.12/site-packages (from evaluate) (0.35.3)\n",
      "Requirement already satisfied: packaging in ./.venv/lib/python3.12/site-packages (from evaluate) (25.0)\n",
      "Requirement already satisfied: filelock in ./.venv/lib/python3.12/site-packages (from datasets>=2.0.0->evaluate) (3.18.0)\n",
      "Requirement already satisfied: pyarrow>=15.0.0 in ./.venv/lib/python3.12/site-packages (from datasets>=2.0.0->evaluate) (20.0.0)\n",
      "Requirement already satisfied: pyyaml>=5.1 in ./.venv/lib/python3.12/site-packages (from datasets>=2.0.0->evaluate) (6.0.2)\n",
      "Requirement already satisfied: aiohttp!=4.0.0a0,!=4.0.0a1 in ./.venv/lib/python3.12/site-packages (from fsspec[http]>=2021.05.0->evaluate) (3.12.14)\n",
      "Requirement already satisfied: aiohappyeyeballs>=2.5.0 in ./.venv/lib/python3.12/site-packages (from aiohttp!=4.0.0a0,!=4.0.0a1->fsspec[http]>=2021.05.0->evaluate) (2.6.1)\n",
      "Requirement already satisfied: aiosignal>=1.4.0 in ./.venv/lib/python3.12/site-packages (from aiohttp!=4.0.0a0,!=4.0.0a1->fsspec[http]>=2021.05.0->evaluate) (1.4.0)\n",
      "Requirement already satisfied: attrs>=17.3.0 in ./.venv/lib/python3.12/site-packages (from aiohttp!=4.0.0a0,!=4.0.0a1->fsspec[http]>=2021.05.0->evaluate) (25.3.0)\n",
      "Requirement already satisfied: frozenlist>=1.1.1 in ./.venv/lib/python3.12/site-packages (from aiohttp!=4.0.0a0,!=4.0.0a1->fsspec[http]>=2021.05.0->evaluate) (1.7.0)\n",
      "Requirement already satisfied: multidict<7.0,>=4.5 in ./.venv/lib/python3.12/site-packages (from aiohttp!=4.0.0a0,!=4.0.0a1->fsspec[http]>=2021.05.0->evaluate) (6.6.3)\n",
      "Requirement already satisfied: propcache>=0.2.0 in ./.venv/lib/python3.12/site-packages (from aiohttp!=4.0.0a0,!=4.0.0a1->fsspec[http]>=2021.05.0->evaluate) (0.3.2)\n",
      "Requirement already satisfied: yarl<2.0,>=1.17.0 in ./.venv/lib/python3.12/site-packages (from aiohttp!=4.0.0a0,!=4.0.0a1->fsspec[http]>=2021.05.0->evaluate) (1.20.1)\n",
      "Requirement already satisfied: idna>=2.0 in ./.venv/lib/python3.12/site-packages (from yarl<2.0,>=1.17.0->aiohttp!=4.0.0a0,!=4.0.0a1->fsspec[http]>=2021.05.0->evaluate) (3.10)\n",
      "Requirement already satisfied: typing-extensions>=4.2 in ./.venv/lib/python3.12/site-packages (from aiosignal>=1.4.0->aiohttp!=4.0.0a0,!=4.0.0a1->fsspec[http]>=2021.05.0->evaluate) (4.14.1)\n",
      "Requirement already satisfied: hf-xet<2.0.0,>=1.1.3 in ./.venv/lib/python3.12/site-packages (from huggingface-hub>=0.7.0->evaluate) (1.1.5)\n",
      "Requirement already satisfied: charset_normalizer<4,>=2 in ./.venv/lib/python3.12/site-packages (from requests>=2.19.0->evaluate) (3.4.2)\n",
      "Requirement already satisfied: urllib3<3,>=1.21.1 in ./.venv/lib/python3.12/site-packages (from requests>=2.19.0->evaluate) (2.5.0)\n",
      "Requirement already satisfied: certifi>=2017.4.17 in ./.venv/lib/python3.12/site-packages (from requests>=2.19.0->evaluate) (2025.7.14)\n",
      "Requirement already satisfied: python-dateutil>=2.8.2 in ./.venv/lib/python3.12/site-packages (from pandas->evaluate) (2.9.0.post0)\n",
      "Requirement already satisfied: pytz>=2020.1 in ./.venv/lib/python3.12/site-packages (from pandas->evaluate) (2025.2)\n",
      "Requirement already satisfied: tzdata>=2022.7 in ./.venv/lib/python3.12/site-packages (from pandas->evaluate) (2025.2)\n",
      "Requirement already satisfied: six>=1.5 in ./.venv/lib/python3.12/site-packages (from python-dateutil>=2.8.2->pandas->evaluate) (1.17.0)\n",
      "Note: you may need to restart the kernel to use updated packages.\n",
      "Requirement already satisfied: bert_score in ./.venv/lib/python3.12/site-packages (0.3.13)\n",
      "Requirement already satisfied: torch>=1.0.0 in ./.venv/lib/python3.12/site-packages (from bert_score) (2.8.0)\n",
      "Requirement already satisfied: pandas>=1.0.1 in ./.venv/lib/python3.12/site-packages (from bert_score) (2.3.1)\n",
      "Requirement already satisfied: transformers>=3.0.0 in ./.venv/lib/python3.12/site-packages (from bert_score) (4.55.0)\n",
      "Requirement already satisfied: numpy in ./.venv/lib/python3.12/site-packages (from bert_score) (2.2.6)\n",
      "Requirement already satisfied: requests in ./.venv/lib/python3.12/site-packages (from bert_score) (2.32.4)\n",
      "Requirement already satisfied: tqdm>=4.31.1 in ./.venv/lib/python3.12/site-packages (from bert_score) (4.67.1)\n",
      "Requirement already satisfied: matplotlib in ./.venv/lib/python3.12/site-packages (from bert_score) (3.10.5)\n",
      "Requirement already satisfied: packaging>=20.9 in ./.venv/lib/python3.12/site-packages (from bert_score) (25.0)\n",
      "Requirement already satisfied: python-dateutil>=2.8.2 in ./.venv/lib/python3.12/site-packages (from pandas>=1.0.1->bert_score) (2.9.0.post0)\n",
      "Requirement already satisfied: pytz>=2020.1 in ./.venv/lib/python3.12/site-packages (from pandas>=1.0.1->bert_score) (2025.2)\n",
      "Requirement already satisfied: tzdata>=2022.7 in ./.venv/lib/python3.12/site-packages (from pandas>=1.0.1->bert_score) (2025.2)\n",
      "Requirement already satisfied: six>=1.5 in ./.venv/lib/python3.12/site-packages (from python-dateutil>=2.8.2->pandas>=1.0.1->bert_score) (1.17.0)\n",
      "Requirement already satisfied: filelock in ./.venv/lib/python3.12/site-packages (from torch>=1.0.0->bert_score) (3.18.0)\n",
      "Requirement already satisfied: typing-extensions>=4.10.0 in ./.venv/lib/python3.12/site-packages (from torch>=1.0.0->bert_score) (4.14.1)\n",
      "Requirement already satisfied: setuptools in ./.venv/lib/python3.12/site-packages (from torch>=1.0.0->bert_score) (80.9.0)\n",
      "Requirement already satisfied: sympy>=1.13.3 in ./.venv/lib/python3.12/site-packages (from torch>=1.0.0->bert_score) (1.14.0)\n",
      "Requirement already satisfied: networkx in ./.venv/lib/python3.12/site-packages (from torch>=1.0.0->bert_score) (3.5)\n",
      "Requirement already satisfied: jinja2 in ./.venv/lib/python3.12/site-packages (from torch>=1.0.0->bert_score) (3.1.6)\n",
      "Requirement already satisfied: fsspec in ./.venv/lib/python3.12/site-packages (from torch>=1.0.0->bert_score) (2025.3.0)\n",
      "Requirement already satisfied: mpmath<1.4,>=1.1.0 in ./.venv/lib/python3.12/site-packages (from sympy>=1.13.3->torch>=1.0.0->bert_score) (1.3.0)\n",
      "Requirement already satisfied: huggingface-hub<1.0,>=0.34.0 in ./.venv/lib/python3.12/site-packages (from transformers>=3.0.0->bert_score) (0.35.3)\n",
      "Requirement already satisfied: pyyaml>=5.1 in ./.venv/lib/python3.12/site-packages (from transformers>=3.0.0->bert_score) (6.0.2)\n",
      "Requirement already satisfied: regex!=2019.12.17 in ./.venv/lib/python3.12/site-packages (from transformers>=3.0.0->bert_score) (2025.7.34)\n",
      "Requirement already satisfied: tokenizers<0.22,>=0.21 in ./.venv/lib/python3.12/site-packages (from transformers>=3.0.0->bert_score) (0.21.4)\n",
      "Requirement already satisfied: safetensors>=0.4.3 in ./.venv/lib/python3.12/site-packages (from transformers>=3.0.0->bert_score) (0.6.1)\n",
      "Requirement already satisfied: hf-xet<2.0.0,>=1.1.3 in ./.venv/lib/python3.12/site-packages (from huggingface-hub<1.0,>=0.34.0->transformers>=3.0.0->bert_score) (1.1.5)\n",
      "Requirement already satisfied: MarkupSafe>=2.0 in ./.venv/lib/python3.12/site-packages (from jinja2->torch>=1.0.0->bert_score) (3.0.2)\n",
      "Requirement already satisfied: contourpy>=1.0.1 in ./.venv/lib/python3.12/site-packages (from matplotlib->bert_score) (1.3.3)\n",
      "Requirement already satisfied: cycler>=0.10 in ./.venv/lib/python3.12/site-packages (from matplotlib->bert_score) (0.12.1)\n",
      "Requirement already satisfied: fonttools>=4.22.0 in ./.venv/lib/python3.12/site-packages (from matplotlib->bert_score) (4.59.0)\n",
      "Requirement already satisfied: kiwisolver>=1.3.1 in ./.venv/lib/python3.12/site-packages (from matplotlib->bert_score) (1.4.8)\n",
      "Requirement already satisfied: pillow>=8 in ./.venv/lib/python3.12/site-packages (from matplotlib->bert_score) (11.3.0)\n",
      "Requirement already satisfied: pyparsing>=2.3.1 in ./.venv/lib/python3.12/site-packages (from matplotlib->bert_score) (3.2.3)\n",
      "Requirement already satisfied: charset_normalizer<4,>=2 in ./.venv/lib/python3.12/site-packages (from requests->bert_score) (3.4.2)\n",
      "Requirement already satisfied: idna<4,>=2.5 in ./.venv/lib/python3.12/site-packages (from requests->bert_score) (3.10)\n",
      "Requirement already satisfied: urllib3<3,>=1.21.1 in ./.venv/lib/python3.12/site-packages (from requests->bert_score) (2.5.0)\n",
      "Requirement already satisfied: certifi>=2017.4.17 in ./.venv/lib/python3.12/site-packages (from requests->bert_score) (2025.7.14)\n",
      "Note: you may need to restart the kernel to use updated packages.\n"
     ]
    }
   ],
   "source": [
    "%pip install --upgrade huggingface_hub\n",
    "%pip install evaluate\n",
    "%pip install bert_score"
   ]
  },
  {
   "cell_type": "code",
   "execution_count": 1,
   "id": "4a2331a3",
   "metadata": {},
   "outputs": [
    {
     "name": "stderr",
     "output_type": "stream",
     "text": [
      "/Users/feliperussi/Documents/projects/TSAR_2025/medical-writing/.venv/lib/python3.12/site-packages/tqdm/auto.py:21: TqdmWarning: IProgress not found. Please update jupyter and ipywidgets. See https://ipywidgets.readthedocs.io/en/stable/user_install.html\n",
      "  from .autonotebook import tqdm as notebook_tqdm\n"
     ]
    }
   ],
   "source": [
    "from huggingface_hub import login\n",
    "from sklearn.metrics import f1_score,root_mean_squared_error\n",
    "from transformers import pipeline,AutoTokenizer\n",
    "import evaluate\n",
    "import numpy as np\n",
    "import pandas as pd\n",
    "import json\n",
    "\n",
    "from pls_evaluator import get_pls_evaluation, create_readability_table, create_summary_table"
   ]
  },
  {
   "cell_type": "markdown",
   "id": "a4ccceb0",
   "metadata": {},
   "source": [
    "### - Loading Results"
   ]
  },
  {
   "cell_type": "code",
   "execution_count": null,
   "id": "76624599",
   "metadata": {},
   "outputs": [
    {
     "name": "stdout",
     "output_type": "stream",
     "text": [
      "Loaded table with 5 models and 17 columns\n"
     ]
    },
    {
     "data": {
      "text/html": [
       "<div>\n",
       "<style scoped>\n",
       "    .dataframe tbody tr th:only-of-type {\n",
       "        vertical-align: middle;\n",
       "    }\n",
       "\n",
       "    .dataframe tbody tr th {\n",
       "        vertical-align: top;\n",
       "    }\n",
       "\n",
       "    .dataframe thead th {\n",
       "        text-align: right;\n",
       "    }\n",
       "</style>\n",
       "<table border=\"1\" class=\"dataframe\">\n",
       "  <thead>\n",
       "    <tr style=\"text-align: right;\">\n",
       "      <th></th>\n",
       "      <th>Model</th>\n",
       "      <th>BERTScore F1 (original)</th>\n",
       "      <th>MeaningBERT (original)</th>\n",
       "      <th>AlignScore (original)</th>\n",
       "      <th>BERTScore F1 (reference)</th>\n",
       "      <th>MeaningBERT (reference)</th>\n",
       "      <th>AlignScore (reference)</th>\n",
       "      <th>Flesch-Kincaid</th>\n",
       "      <th>ARI</th>\n",
       "      <th>Coleman-Liau</th>\n",
       "      <th>FleschReadingEase</th>\n",
       "      <th>GunningFogIndex</th>\n",
       "      <th>LIX</th>\n",
       "      <th>SMOGIndex</th>\n",
       "      <th>RIX</th>\n",
       "      <th>DaleChallIndex</th>\n",
       "      <th>Excellence Rate (%)</th>\n",
       "    </tr>\n",
       "  </thead>\n",
       "  <tbody>\n",
       "    <tr>\n",
       "      <th>0</th>\n",
       "      <td>human (reference)</td>\n",
       "      <td>0.8482</td>\n",
       "      <td>0.6825</td>\n",
       "      <td>0.7551</td>\n",
       "      <td>-</td>\n",
       "      <td>-</td>\n",
       "      <td>-</td>\n",
       "      <td>11.38 ± 1.67</td>\n",
       "      <td>11.46 ± 1.89</td>\n",
       "      <td>11.21 ± 1.52</td>\n",
       "      <td>49.23 ± 9.09</td>\n",
       "      <td>16.21 ± 2.06</td>\n",
       "      <td>50.35 ± 4.87</td>\n",
       "      <td>14.23 ± 1.56</td>\n",
       "      <td>6.07 ± 1.23</td>\n",
       "      <td>7.37 ± 0.62</td>\n",
       "      <td>37.83</td>\n",
       "    </tr>\n",
       "    <tr>\n",
       "      <th>1</th>\n",
       "      <td>gemini-2.5-pro (baseline)</td>\n",
       "      <td>0.8340</td>\n",
       "      <td>0.5828</td>\n",
       "      <td>0.7436</td>\n",
       "      <td>0.8696</td>\n",
       "      <td>0.7161</td>\n",
       "      <td>0.6900</td>\n",
       "      <td>8.72 ± 0.88</td>\n",
       "      <td>8.68 ± 0.90</td>\n",
       "      <td>8.94 ± 0.82</td>\n",
       "      <td>64.48 ± 5.17</td>\n",
       "      <td>12.55 ± 1.06</td>\n",
       "      <td>41.89 ± 2.76</td>\n",
       "      <td>12.31 ± 1.01</td>\n",
       "      <td>4.29 ± 0.52</td>\n",
       "      <td>6.28 ± 0.40</td>\n",
       "      <td>61.67</td>\n",
       "    </tr>\n",
       "    <tr>\n",
       "      <th>2</th>\n",
       "      <td>gemini-2.5-pro</td>\n",
       "      <td>0.8419</td>\n",
       "      <td>0.5820</td>\n",
       "      <td>0.7893</td>\n",
       "      <td>0.8712</td>\n",
       "      <td>0.6850</td>\n",
       "      <td>0.7189</td>\n",
       "      <td>8.37 ± 1.14</td>\n",
       "      <td>8.31 ± 1.22</td>\n",
       "      <td>9.33 ± 1.06</td>\n",
       "      <td>64.06 ± 6.46</td>\n",
       "      <td>12.25 ± 1.36</td>\n",
       "      <td>41.34 ± 4.03</td>\n",
       "      <td>12.00 ± 0.91</td>\n",
       "      <td>4.08 ± 0.74</td>\n",
       "      <td>6.35 ± 0.50</td>\n",
       "      <td>63.78</td>\n",
       "    </tr>\n",
       "    <tr>\n",
       "      <th>3</th>\n",
       "      <td>gpt-5</td>\n",
       "      <td>0.8283</td>\n",
       "      <td>0.5632</td>\n",
       "      <td>0.7647</td>\n",
       "      <td>0.8519</td>\n",
       "      <td>0.6414</td>\n",
       "      <td>0.6296</td>\n",
       "      <td>9.04 ± 1.40</td>\n",
       "      <td>9.51 ± 1.50</td>\n",
       "      <td>10.23 ± 1.30</td>\n",
       "      <td>61.31 ± 7.94</td>\n",
       "      <td>12.93 ± 1.63</td>\n",
       "      <td>42.24 ± 4.62</td>\n",
       "      <td>13.64 ± 1.44</td>\n",
       "      <td>4.34 ± 0.92</td>\n",
       "      <td>7.15 ± 0.58</td>\n",
       "      <td>56.61</td>\n",
       "    </tr>\n",
       "    <tr>\n",
       "      <th>4</th>\n",
       "      <td>gpt-oss-120b</td>\n",
       "      <td>0.8311</td>\n",
       "      <td>0.6408</td>\n",
       "      <td>0.7925</td>\n",
       "      <td>0.8556</td>\n",
       "      <td>0.6713</td>\n",
       "      <td>0.6713</td>\n",
       "      <td>10.52 ± 1.39</td>\n",
       "      <td>10.67 ± 1.63</td>\n",
       "      <td>10.86 ± 1.30</td>\n",
       "      <td>53.37 ± 7.52</td>\n",
       "      <td>15.84 ± 1.54</td>\n",
       "      <td>48.06 ± 4.29</td>\n",
       "      <td>14.73 ± 1.17</td>\n",
       "      <td>5.53 ± 0.99</td>\n",
       "      <td>7.82 ± 0.48</td>\n",
       "      <td>43.44</td>\n",
       "    </tr>\n",
       "  </tbody>\n",
       "</table>\n",
       "</div>"
      ],
      "text/plain": [
       "                       Model  BERTScore F1 (original)  MeaningBERT (original)  \\\n",
       "0          human (reference)                   0.8482                  0.6825   \n",
       "1  gemini-2.5-pro (baseline)                   0.8340                  0.5828   \n",
       "2             gemini-2.5-pro                   0.8419                  0.5820   \n",
       "3                      gpt-5                   0.8283                  0.5632   \n",
       "4               gpt-oss-120b                   0.8311                  0.6408   \n",
       "\n",
       "   AlignScore (original) BERTScore F1 (reference) MeaningBERT (reference)  \\\n",
       "0                 0.7551                        -                       -   \n",
       "1                 0.7436                   0.8696                  0.7161   \n",
       "2                 0.7893                   0.8712                  0.6850   \n",
       "3                 0.7647                   0.8519                  0.6414   \n",
       "4                 0.7925                   0.8556                  0.6713   \n",
       "\n",
       "  AlignScore (reference) Flesch-Kincaid           ARI  Coleman-Liau  \\\n",
       "0                      -   11.38 ± 1.67  11.46 ± 1.89  11.21 ± 1.52   \n",
       "1                 0.6900    8.72 ± 0.88   8.68 ± 0.90   8.94 ± 0.82   \n",
       "2                 0.7189    8.37 ± 1.14   8.31 ± 1.22   9.33 ± 1.06   \n",
       "3                 0.6296    9.04 ± 1.40   9.51 ± 1.50  10.23 ± 1.30   \n",
       "4                 0.6713   10.52 ± 1.39  10.67 ± 1.63  10.86 ± 1.30   \n",
       "\n",
       "  FleschReadingEase GunningFogIndex           LIX     SMOGIndex          RIX  \\\n",
       "0      49.23 ± 9.09    16.21 ± 2.06  50.35 ± 4.87  14.23 ± 1.56  6.07 ± 1.23   \n",
       "1      64.48 ± 5.17    12.55 ± 1.06  41.89 ± 2.76  12.31 ± 1.01  4.29 ± 0.52   \n",
       "2      64.06 ± 6.46    12.25 ± 1.36  41.34 ± 4.03  12.00 ± 0.91  4.08 ± 0.74   \n",
       "3      61.31 ± 7.94    12.93 ± 1.63  42.24 ± 4.62  13.64 ± 1.44  4.34 ± 0.92   \n",
       "4      53.37 ± 7.52    15.84 ± 1.54  48.06 ± 4.29  14.73 ± 1.17  5.53 ± 0.99   \n",
       "\n",
       "  DaleChallIndex  Excellence Rate (%)  \n",
       "0    7.37 ± 0.62                37.83  \n",
       "1    6.28 ± 0.40                61.67  \n",
       "2    6.35 ± 0.50                63.78  \n",
       "3    7.15 ± 0.58                56.61  \n",
       "4    7.82 ± 0.48                43.44  "
      ]
     },
     "execution_count": 37,
     "metadata": {},
     "output_type": "execute_result"
    }
   ],
   "source": [
    "import pandas as pd\n",
    "\n",
    "# Load the integrated evaluation results\n",
    "df = pd.read_csv('outputs/integrated_evaluation_results.csv')\n",
    "\n",
    "# Remove standard deviation (the value after the ±)\n",
    "\n",
    "\n",
    "# Display the table\n",
    "print(f\"Loaded table with {len(df)} models and {len(df.columns)} columns\")\n",
    "df"
   ]
  },
  {
   "cell_type": "markdown",
   "id": "7b159fdc",
   "metadata": {},
   "source": [
    "### - AlignScore"
   ]
  },
  {
   "cell_type": "code",
   "execution_count": 2,
   "id": "186c93c9",
   "metadata": {},
   "outputs": [
    {
     "name": "stdout",
     "output_type": "stream",
     "text": [
      "AlignScore using device: mps\n"
     ]
    }
   ],
   "source": [
    "import importlib\n",
    "import alignscore_evaluator\n",
    "\n",
    "# Reload the module to get the updated code\n",
    "importlib.reload(alignscore_evaluator)\n",
    "\n",
    "# Re-import the updated classes/functions\n",
    "from alignscore_evaluator import AlignScoreEvaluator, get_alignscore\n",
    "\n",
    "# Re-initialize the evaluator with the new optimized code\n",
    "alignscore_evaluator = AlignScoreEvaluator()"
   ]
  },
  {
   "cell_type": "markdown",
   "id": "4be9c31b",
   "metadata": {},
   "source": [
    "### - MeaningBERT"
   ]
  },
  {
   "cell_type": "code",
   "execution_count": 3,
   "id": "912be9a6",
   "metadata": {},
   "outputs": [],
   "source": [
    "meaning_bert = evaluate.load(\"davebulaval/meaningbert\")"
   ]
  },
  {
   "cell_type": "code",
   "execution_count": 4,
   "id": "cb7fbd04",
   "metadata": {},
   "outputs": [],
   "source": [
    "def get_meaningbert_score(predictions, references, model):\n",
    "  assert len(predictions) == len(references), \"The number of references is different of the number of predictions.\"\n",
    "  result=[]\n",
    "  for pred, ref in zip(predictions, references):\n",
    "        score = model.compute(predictions=[pred], references=[ref])\n",
    "        result.append(score[\"scores\"][0])\n",
    "  return round(np.mean(result)/100, 4)"
   ]
  },
  {
   "cell_type": "markdown",
   "id": "a44dcc0e",
   "metadata": {},
   "source": [
    "### - BERTScore"
   ]
  },
  {
   "cell_type": "code",
   "execution_count": 5,
   "id": "dc5bca67",
   "metadata": {},
   "outputs": [],
   "source": [
    "bertscore = evaluate.load(\"bertscore\")"
   ]
  },
  {
   "cell_type": "code",
   "execution_count": 6,
   "id": "d9562b00",
   "metadata": {},
   "outputs": [],
   "source": [
    "def get_bertscore(predictions, references, scorename=bertscore, scoretype=\"f1\",  modelname=None):\n",
    "  result = scorename.compute(references=references, predictions=predictions, lang=\"en\") # , model_type=modelname)\n",
    "  return round(np.mean(result[scoretype]), 4)"
   ]
  },
  {
   "cell_type": "markdown",
   "id": "33c0b798",
   "metadata": {},
   "source": [
    "### - Readability"
   ]
  },
  {
   "cell_type": "markdown",
   "id": "c0f2d413",
   "metadata": {},
   "source": [
    "## Loading texts"
   ]
  },
  {
   "cell_type": "markdown",
   "id": "62d2d3c7",
   "metadata": {},
   "source": [
    "### Original Abstracts"
   ]
  },
  {
   "cell_type": "code",
   "execution_count": 7,
   "id": "45fd078f",
   "metadata": {},
   "outputs": [
    {
     "data": {
      "text/plain": [
       "[('CD015749.PUB2',\n",
       "  \"Multimodal interventions for cachexia management\\nBackground\\nCachexia (disease‐related wasting) is a complex metabolic syndrome which occurs in people with chronic illnesses, including cancer, HIV/AIDS, kidney disease, heart disease, and chronic obstructive pulmonary disease (COPD). People with cachexia experience unintentional weight loss, muscle loss, fatigue, loss of appetite, and reduced quality of life. Multimodal interventions which work synergistically to treat the syndrome could lead to benefits.\\n\\nObjectives\\nTo assess the benefits and harms of multimodal interventions aimed at alleviating or stabilising cachexia in people with a chronic illness.\\n\\nSearch methods\\nWe searched CENTRAL, MEDLINE, Embase, PsycINFO, and two trials registers in July 2024, together with reference checking, citation searching, and contact with study authors to identify studies.\\n\\nSelection criteria\\nWe included randomised controlled trials (RCTs) in adults with or at risk of cachexia, comparing multimodal interventions combining two or more modalities (of pharmacology, nutrition, exercise) to treatment as usual, variation of the intervention, or unimodal intervention.\\n\\nData collection and analysis\\nTwo review authors independently screened potentially eligible studies, extracted data, and assessed risk of bias (RoB 1). Primary outcomes were physical function, strength, and adverse events. Secondary outcomes were body composition and weight, quality of life (QoL), appetite, fatigue, and biochemical markers. We assessed the certainty of evidence with GRADE.\\n\\nMain results\\nWe included nine studies with 926 adults (mean age: 63 years). Study sample sizes ranged from 20 to 332 participants. Six studies were conducted in Europe, and one each in Turkey, New Zealand, and the USA. There were six studies in people with cancer, and one each in people with COPD, chronic kidney disease, and HIV/AIDS. We judged four studies to be at an overall high risk of bias, and five at an overall unclear risk. All outcomes in all comparisons had very low‐certainty evidence, downgraded once for risk of bias and/or indirectness and twice for imprecision.\\nMultimodal intervention (pharmacological, nutritional, and/or exercise) compared to treatment as usual\\nOne cancer study randomised 46 participants, with 41 included in all analyses except adverse events. The study assessed outcomes immediately after treatment, lasting six weeks. Compared to treatment as usual, there is no clear evidence for an effect of a multimodal intervention on: physical function (mean difference (MD) −16.10 m, 95% confidence interval (CI) −79.06 to 46.86; 41 participants); strength (MD 3.80 kg, 95% CI −3.21 to 10.81; 41 participants); adverse events (risk ratio (RR) 1.36, 95% CI 0.70 to 2.65; 46 participants); body composition (MD 7.89 cm2, 95% CI −10.43 to 26.21; 41 participants); weight (MD 5.89 kg, 95% CI −1.45 to 13.23; 41 participants); appetite (MD 0.68 points, 95% CI −0.60 to 1.96; 41 participants); fatigue (MD 0.12, 95% CI −1.05 to 1.29; 41 participants); and biochemical markers (MD 2%, 95% CI 0.99 to 3.01; 41 participants), but the evidence was very uncertain; QoL was not reported.\\nMultimodal intervention compared to variation of the intervention\\nThree cancer studies and one HIV/AIDS study randomised 192 participants. We could not use the available data, nor obtain additional data, from two studies (one in cancer, one in HIV/AIDS). The studies assessed outcomes immediately after treatment, ranging from three to seven months. Compared to a variation of the intervention, there is no clear evidence for an effect of a multimodal intervention on: physical function (MD 10.0 m, 95% CI −36.27 to 56.27; 1 study, 56 participants); strength (MD 0.7 kg, 95% CI −3.75 to 5.15; 1 study, 56 participants); adverse events (RR 0.87, 95% CI 0.38 to 2.02; P = 0.75, I2= 0%; 2 studies, 95 participants); body composition (MD −2.67 kg, 95% CI −5.89 to 0.54; P = 0.10, I2= 0%; 2 studies, 95 participants); weight (MD −2.47 kg, 95% CI −7.11 to 2.16; P = 0.30, I2= 0%; 2 studies, 95 participants); QoL (standardised mean difference (SMD) −0.15, 95% CI −0.55 to 0.26; P = 0.47, I2= 0%; 2 studies, 95 participants); appetite (SMD −0.34, 95% CI −1.27 to 0.59; P = 0.48, I2= 79%; 2 studies, 95 participants); fatigue (MD 6.40 points, 95% CI −1.10 to 13.90; 1 study, 56 participants); or biochemical markers (MD 9.80 pg/mL, 95% CI −6.25 to 25.85; P = 0.23, I2= 73%; 2 studies, 95 participants), but the evidence is very uncertain.\\nMultimodal intervention compared to unimodal intervention\\nWe included six studies (802 participants) in this comparison: three cancer studies, and one each in people with COPD, chronic kidney disease, and HIV/AIDS. The studies assessed outcomes immediately after treatment, ranging from three to seven months. We could not use the available data, nor obtain additional data, from the HIV/AIDS study. Compared to a unimodal intervention, there is no clear evidence for an effect of a multimodal intervention on: physical function (SMD 0.02, 95% CI −0.22 to 0.26; P = 0.86, I2= 0%; 2 studies, 348 participants); strength (SMD 0.23, 95% CI −0.81 to 1.27; P = 0.66, I2= 0%; 2 studies, 348 participants); adverse events (RR 0.87, 95% CI −0.43 to 1.73; P = 0.68, I2= 45%; 2 studies, 395 participants); body composition (SMD 0.11, 95% CI −0.28 to 0.50; P = 0.58, I2= 74%; 5 studies, 742 participants); body weight (SMD −0.02, 95% CI −0.38 to 0.33; P = 0.90, I2= 49%; 4 studies, 431 participants); QoL (SMD 0.22, 95% CI −0.29 to 0.73; P = 0.39, I2= 61%; 3 studies, 411 participants); appetite (SMD −0.09, 95% CI −0.58 to 0.40; P = 0.72, I2= 58%; 2 studies, 395 participants); fatigue (MD −6.80 points, 95% CI −12.44 to −1.17; 1 study, 244 participants); and biochemical markers (SMD 0.11, 95% CI −0.59 to 0.80; P = 0.76, I2= 79%; 3 studies, 411 participants), but the evidence is very uncertain.\\n\\nAuthors' conclusions\\nThe review found insufficient evidence to support or refute the use of multimodal interventions in managing cachexia. The certainty of the evidence was very low. Methodologically rigorous, well‐powered RCTs with adequate interaction times are needed to assess the effectiveness of multimodal interventions in managing cachexia across chronic illnesses.\"),\n",
       " ('CD013445.PUB2',\n",
       "  \"Percutaneous nephrolithotomy versus retrograde intrarenal surgery for treatment of renal stones in adults\\nBackground\\nKidney stones (also called renal stones) can be a source of pain, obstruction, and infection. Depending on size, location, composition, and other patient factors, the treatment of kidney stones can involve observation, shock wave lithotripsy, retrograde intrarenal surgery (RIRS; i.e. ureteroscopic approaches), percutaneous nephrolithotomy (PCNL), or a combination of these approaches.\\n\\nObjectives\\nTo assess the effects of percutaneous nephrolithotomy (PCNL) versus retrograde intrarenal surgery (RIRS) for the treatment of renal stones in adults.\\n\\nSearch methods\\nWe performed a comprehensive search of the Cochrane Library, MEDLINE, Embase, Scopus, and two trials registries up to 23 March 2023. We applied no restrictions on publication language or status.\\n\\nSelection criteria\\nWe included randomized controlled trials that evaluated PCNL (grouped by access size in French gauge [Fr] into three groups: ≥ 24 Fr [standard PCNL], 15–23 Fr [mini‐PCNL and minimally invasive PCNL], and < 15 Fr [ultra‐mini‐, mini‐micro‐, super‐mini‐, and micro‐PCNL]) versus RIRS.\\n\\nData collection and analysis\\nTwo review authors independently selected studies and extracted data from the included studies. Our primary outcomes were stone‐free rate, major complications, and need for secondary interventions. Our main secondary outcomes were unplanned medical visits to emergency/urgent care or outpatient clinic, length of hospital stay, ureteral stricture or injury, and quality of life. We performed statistical analyses using a random‐effects model. We rated the certainty of evidence using GRADE criteria. We adopted a minimally contextualized approach with predefined thresholds for minimal clinically important differences (MCIDs).\\n\\nMain results\\nWe included 42 trials assessing the effects of PCNL versus RIRS in 4571 randomized participants. Twenty‐two studies were published as full‐text articles, and 20 were published as abstract proceedings. The average size of stones ranged from 10.1 mm to 39.1 mm. Most studies did not report sources of funding or conflicts of interest. The main results for the most important outcomes are summarized below.\\nStone‐free rate\\nPCNL compared with RIRS may improve stone‐free rates (risk ratio [RR] 1.13, 95% confidence interval [CI] 1.08 to 1.18; I2= 71%; 39 studies, 4088 participants; low‐certainty evidence). Based on 770 participants per 1000 being stone‐free with RIRS, this corresponds to 100 more (62 more to 139 more) stone‐free participants per 1000 with PCNL (an absolute difference of 10%, where the predefined MCID was 5%).\\nMajor complications\\nPCNL compared with RIRS probably has little or no effect on major complications (RR 0.86, 95% CI 0.59 to 1.25; I2= 15%; 34 studies, 3649 participants; moderate‐certainty evidence). Based on 31 complications in the RIRS group, this corresponds to six fewer (13 fewer to six more) major complications per 1000 with PCNL (an absolute difference of 0.6%, where the predefined MCID was 2%).\\nNeed for secondary interventions\\nPCNL compared with RIRS may reduce the need for secondary interventions (RR 0.31, 95% CI 0.17 to 0.55; I2= 61%; 21 studies, 2005 participants; low‐certainty evidence). Based on 222 secondary interventions in the RIRS group, this corresponds to 153 fewer (185 fewer to 100 fewer) secondary interventions per 1000 with PCNL (an absolute difference of 15.3%, where the predefined MCID was 5%).\\nUnplanned medical visits\\nNo studies reported unplanned medical visits.\\nLength of hospital stay\\nPCNL compared with RIRS may extend length of hospital stay (mean difference 1.04 days more, 95% CI 0.27 more to 1.81 more; I2= 100%; 26 studies, 2804 participants; low‐certainty evidence). This effect size is greater than the predefined MCID of one day.\\nUreteral stricture or injury\\nPCNL compared with RIRS may have little or no effect on the occurrence of ureteral strictures (RR 0.93, 95% CI 0.39 to 2.21; I2= 0%; 13 studies, 1574 participants; low‐certainty evidence). Based on 14 ureteral strictures in the RIRS group, this corresponds to one fewer (nine fewer to 17 more) ureteral strictures per 1000 with PCNL (an absolute difference of 0.1%, where the predefined MCID was 2%).\\nQuality of life\\nNo studies reported quality of life.\\n\\nAuthors' conclusions\\nBased on a large body of evidence from 42 trials, we found that PCNL compared with RIRS may improve stone‐free rates and may reduce the need for secondary interventions, but probably has little or no effect on major complications. PCNL compared with RIRS may have little or no effect on ureteral stricture rates and may increase length of hospital stay. We found no evidence on unplanned medical visits or participant quality of life. Because of the considerable shortcomings of the included trials, the evidence for most outcomes was of low certainty.\\nAccess size for PCNL was less than 24 Fr in most studies that provided this information. We expect the findings of this review to be helpful for shared decision‐making about management choices for individuals with renal stones.\"),\n",
       " ('CD008472.PUB3',\n",
       "  \"Remote ischaemic preconditioning versus no remote ischaemic preconditioning for vascular and endovascular surgical procedures\\nBackground\\nDespite advances in perioperative care, elective major vascular surgical procedures still carry a significant risk of morbidity and mortality. Remote ischaemic preconditioning (RIPC) is the temporary blocking of blood flow to vascular beds remote from those targeted by surgery. It has the potential to provide local tissue protection from further prolonged periods of ischaemia. However, the efficacy and safety of RIPC in people undergoing major vascular surgery remain unknown. This is an update of a review published in 2011.\\n\\nObjectives\\nTo assess the benefits and harms of RIPC versus no RIPC in people undergoing elective major vascular and endovascular surgery.\\n\\nSearch methods\\nThe Cochrane Vascular Information Specialist searched the Cochrane Vascular Specialised Register, CENTRAL, MEDLINE, Embase, and CINAHL databases and the World Health Organization International Clinical Trials Registry Platform and ClinicalTrials.gov to 1 April 2022.\\n\\nSelection criteria\\nWe included all randomised controlled trials that evaluated the role of RIPC in reducing perioperative mortality and morbidities in people undergoing elective major vascular or endovascular surgery.\\n\\nData collection and analysis\\nWe collected data on the characteristics of the trial, methodological quality, and the remote ischaemic preconditioning stimulus used. Our primary outcome was perioperative mortality, and secondary outcomes included myocardial infarction, renal impairment, stroke, hospital stay, limb loss, and operating time or total anaesthetic time. We analysed the data using random‐effects models. For each outcome, we calculated the risk ratio (RR) or mean difference (MD) with a 95% confidence interval (CI) based on an intention‐to‐treat analysis. In addition, we used GRADE to assess the certainty of the evidence for each outcome.\\n\\nMain results\\nWe included 14 trials which randomised a total of 1295 participants (age range: 64.5 to 76 years; 84% male; study periods ranged from 2003 to 2019). In general, the included studies were at low to unclear risk of bias for most risk of bias domains. The certainty of evidence of main outcomes was moderate due to imprecision of results, moderate heterogeneity, or possible publication bias.\\nWe found that RIPC made no clear difference in perioperative mortality compared with no RIPC (RR 1.41, 95% CI 0.59 to 3.40; I2= 0%; 10 studies, 965 participants; moderate‐certainty evidence). Similarly, we found no clear difference between the two groups for myocardial infarction (RR 0.82, 95% CI 0.49 to 1.40; I2= 7%; 11 studies, 1001 participants; moderate‐certainty evidence), renal impairment (RR 1.07, 95% CI 0.62 to 1.86; I2= 40%; 12 studies, 1054 participants; moderate‐certainty evidence), stroke (RR 0.33, 95% CI 0.04 to 3.15; I2= 0%; 4 studies, 392 participants; moderate‐certainty evidence), limb loss (RR 0.74, 95% CI 0.05 to 10.61; I2= 32%; 3 studies, 322 participants; low‐certainty evidence), hospital stay (MD −0.94 day, 95% CI −1.95 to 0.07; I2= 17%; 7 studies, 569 participants; moderate‐certainty evidence), and operating time or total anaesthetic time (MD 5.76 minutes, 95% CI −3.25 to 14.76; I2= 44%; 10 studies, 803 participants; moderate‐certainty evidence).\\n\\nAuthors' conclusions\\nOverall, compared with no RIPC, RIPC probably leads to little or no difference in perioperative mortality, myocardial infarction, renal impairment, stroke, hospital stay, and operating time, and may lead to little or no difference in limb loss in people undergoing elective major vascular and endovascular surgery. Adequately powered and designed randomised studies are needed, focusing in particular on the clinical endpoints and patient‐centred outcomes.\")]"
      ]
     },
     "execution_count": 7,
     "metadata": {},
     "output_type": "execute_result"
    }
   ],
   "source": [
    "import os\n",
    "import glob\n",
    "\n",
    "# Load original results\n",
    "original = {}\n",
    "original_path = \"outputs/original\"\n",
    "\n",
    "# Get all JSON files in the original directory\n",
    "json_files = glob.glob(os.path.join(original_path, \"*.json\"))\n",
    "\n",
    "for json_file in json_files:\n",
    "    with open(json_file, 'r', encoding='utf-8') as f:\n",
    "        data = json.load(f)\n",
    "        # Extract cochrane_review_id and pls result\n",
    "        if 'cochrane_review_id' in data and 'pls' in data:\n",
    "            cochrane_review_id = data['cochrane_review_id']\n",
    "            abstract = data['title'] + '\\n' + data['abstract']\n",
    "            original[cochrane_review_id] = abstract\n",
    "\n",
    "# Print the first 3 key-value pairs\n",
    "list(original.items())[:3]"
   ]
  },
  {
   "cell_type": "markdown",
   "id": "662bd32e",
   "metadata": {},
   "source": [
    "### References or gold standard"
   ]
  },
  {
   "cell_type": "code",
   "execution_count": 8,
   "id": "99288686",
   "metadata": {},
   "outputs": [
    {
     "data": {
      "text/plain": [
       "[('CD015749.PUB2',\n",
       "  \"What are the benefits and risks of using a combination of treatments to manage cachexia (disease‐related wasting)?\\n\\nKey messages:\\n• We do not know if combinations of two or more treatments (of medication, diet, and exercise) benefit people who have or are at risk of developing cachexia (disease‐related wasting). This is because there are currently not enough robust studies in this area.\\n• We need future research to increase our confidence in the evidence by conducting better designed and larger studies.\\nWhat is cachexia?\\n\\nCachexia is a complex metabolic syndrome that occurs in people with long‐term illnesses (known as chronic illnesses), such as cancer, HIV/AIDS, chronic kidney disease, heart disease, and chronic obstructive pulmonary disease (COPD).\\nPeople who have cachexia may:\\n• lose weight unintentionally;• lose muscle;• feel tired, weak, or both;• lose their appetite.\\nCachexia affects well‐being and can be life‐threatening.\\nHow is cachexia treated?\\n\\nStudies are investigating how to best manage cachexia with different treatments. These treatments can include medications, diet, and exercise, provided in a single (unimodal) or combined (multimodal) treatment. It is thought that due to the complex biology of cachexia, a combination of treatments may work in a complementary way (synergistically) to help improve the symptoms associated with cachexia and people's well‐being, extend life, or both.\\nWhat did we want to find out?\\n\\nWe wanted to find out if combining at least two treatments (out of diet, exercise, and medication) helped to improve: physical function and strength; muscle loss; weight; well‐being; appetite; fatigue; and biological indicators within the blood (biochemical markers). We also wanted to find out if these interventions were associated with any unwanted or harmful (adverse) effects.\\nWhat did we do?\\n\\nWe searched for studies that compared treatment combinations of diet, exercise and/or medication (where at least two treatments were used together) to: different combinations of treatments; a single treatment; or treatment as usual (standard care) in adults with cachexia or at risk of developing cachexia. We compared and summarised the results of the included studies. We rated our confidence in the evidence based on factors such as study methods and the number of people included.\\nWhat did we find?\\n\\nWe found nine studies that included a total of 926 adults, with an average age of 63 years. Just over half of participants (57%) were men. Studies took place around the world, including Europe (six studies), Turkey (one study), New Zealand (one study), and the USA (one study). One study included people with HIV/AIDS (average age 43 years; 35 of 50 people in the study were men); one study included people with COPD (average age 72 years; 20 of 28 people in the study were men); and one study included people with chronic kidney disease (average age 70 years; 11 of 21 in the study were men). Six studies included people with cancer (average age 64 years; 461 of 893 people in the studies were men). The studies lasted six weeks to two years.\\nThe studies used combinations of treatments which could have included diet, exercise, and/or medication, where at least two treatments were used together, and compared these to:\\n• treatment as usual (1 study, 46 people);• different combinations of treatments (4 studies, 192 people);• a single treatment (6 studies, 802 people).\\nThe studies did not provide enough robust evidence to determine if multimodal interventions are associated with benefits or harms in people with or at risk of cachexia.\\nWhat are the limitations of the evidence?\\n\\nWe are not confident in the evidence because not all the studies provided information about everything that we were interested in. Additionally, the studies used different ways of measuring results, and most of the studies included only small numbers of people.\\nImportantly, future studies may change the conclusions of this review.\\nHow current is this review?\\n\\nThe evidence is current to June 2024.\"),\n",
       " ('CD013445.PUB2',\n",
       "  'Comparison of two treatment options for kidney stones\\n\\nWhat are kidney stones?\\n\\nKidney stones are collections of calcium‐containing material that are usually hard and can form in one or both kidneys. Kidney stones can form when high levels of certain minerals form crystals in the urinary tract. These stones can be as small as a grain of sand or as large as a pea. In rare cases they can be as big as golf balls. Small kidney stones may not cause symptoms or severe pain. Larger stones can block urine from leaving the kidney.\\nHow are kidney stones treated?\\n\\nPeople with large kidney stones often need treatment. Two common ways to treat them are called percutaneous nephrolithotomy (PCNL) and retrograde intrarenal surgery (RIRS). PCNL involves placing a small tube from the skin into the kidney and then using different instruments to break up and remove the stones. RIRS involves placing a long viewing tube through the urethra (the tube connecting the bladder to the outside of the body) and the ureter (the tube connecting the bladder and the kidney) into the kidney, then using different instruments to break up and remove the stones. It is unclear how the two treatments compare.\\nWhat did we want to find out?\\n\\nWe wanted to know if PCNL was better than RIRS for treating kidney stones. We were mainly interested in the following results.\\n• Complete removal of stones• Serious complications• Need for another procedure to remove stones• Unplanned medical visits• Length of hospital stay• Narrowing (stricture) of or injury to the ureter• Quality of life\\nWhat did we do?\\n\\nWe searched for studies that compared PCNL with RIRS in adults with kidney stones of any size and located in any part of the kidney. We compared and summarized the results of the studies and rated our confidence in the evidence, based on factors such as study methods and sizes.\\nWhat did we find?\\n\\nWe found 42 studies that randomly allocated participants to either PCNL or RIRS. There were 4571 participants in total. The average age of participants was between 27.7 years and 59.3 years, and the average stone size was between 10.1 mm and 39.1 mm.\\nMain results\\nWe found that compared with people treated with RIRS, people treated with PCNL may be more likely to be free of stones after the procedure and less likely to need another procedure to remove remaining stones. PCNL probably does not increase the risk of serious complications, although it may result in a longer hospital stay. We also found that people treated with PCNL may be no more likely to have a stricture of the ureter than people treated with RIRS. We did not find any evidence for unplanned medical visits or quality of life.\\nWhat are the limitations of the evidence?\\n\\nWe have little confidence in the evidence for most results, mainly because the studies were not well planned or carried out and because the results varied considerably across studies.\\nHow up to date is this evidence?\\n\\nThe findings of this review are up to date to 23 March 2023.'),\n",
       " ('CD008472.PUB3',\n",
       "  \"Do short periods of artificially blocking blood flow to the limbs in people undergoing vascular surgery reduce death and organ injury?\\n\\nKey messages\\n• We found that performing short periods of limb blood flow obstruction by inflating a blood pressure cuff before surgery (remote ischaemic preconditioning, RIPC) probably does not reduce deaths, organ injury, duration of hospital stay, or operating time in people undergoing vascular surgery (e.g. a treatment method to repair narrowing or swelling of an artery).\\n• Larger, well‐designed studies with patient‐centred outcomes, such as quality of life, are needed to better estimate the benefits and potential harms of RIPC for people undergoing vascular surgery.\\nWhat is remote ischaemic preconditioning?\\n\\nAs the population ages, more people will experience vascular disease or artery disease, narrowing due to the build‐up of fatty deposits or balloon‐like bulging of arteries. As an essential treatment strategy for severe artery disease, vascular surgery removes the deposits or repairs the bulge, but this carries an increased risk of death and complications. The high risk of surgery is mainly due to the obstruction and subsequent restoring of blood flow involved in the vascular surgery procedure, also known as 'ischaemia‐reperfusion injury'. Several approaches have been used to reduce the surgery risk, but have obtained limited effect.\\nThe temporary blockage (by a few minutes) of blood flow to an organ can reduce injury in that organ (local ischaemic preconditioning) but may also reduce damage in other organs (remote ischaemic preconditioning, RIPC). Generally, RIPC is performed by frequently inflating and deflating using a blood pressure cuff placed on the upper arm or leg. As a safe and easy method, the effect of RIPC has been proven to prevent organ damage for heart surgery in animal studies.\\nWhat did we want to find out?\\n\\nWe wanted to find out whether RIPC versus no RIPC can reduce death and organ injury in people undergoing vascular surgery, and if it may cause any harm.\\nWhat did we do?\\n\\nWe searched for studies that looked at RIPC in people undergoing vascular surgery. We included studies with a randomised design (where people are randomly assigned to one of two or more treatment groups) that compared RIPC with no RIPC. We compared and summarised the results of the included studies and rated our confidence in the evidence, based on factors such as study methods and sizes.\\nWhat did we find?\\n\\nWe found 14 studies including 1295 people from the UK, Ireland, Estonia, Spain, China, the USA, Singapore, and New Zealand. The average age ranged from 65 to 76 years. The majority of the participants (84%) were men. The overall methodological quality of the studies was acceptable.\\nIn people undergoing vascular surgery, compared to no RIPC:\\n• RIPC probably leads to little or no difference in death (10 studies, 965 people), heart attack (11 studies, 1001 people), kidney injury (12 studies, 1054 people), and stroke (4 studies, 392 people), and may lead to little or no difference in limb loss (3 studies, 322 people); and\\n• RIPC probably leads to little or no difference in hospital stay (7 studies, 569 people) and operating time (10 studies, 803 people).\\nWhat are the limitations of the evidence?\\n\\nOur confidence in our findings is only moderate due to concerns about the following factors: firstly, the evidence was based on a few cases such as for death and limb loss, and some studies were small; secondly, the studies used different methods to detect outcomes such as kidney injury; and finally, for some results, such as heart attack, some of the studies conducted in the area have not made their results public yet, preventing an objective picture of all the available evidence (publication bias). The results of further research may differ from the results of this review, which means our conclusions could change as more research is reported.\\nHow up‐to‐date is this evidence?\\n\\nThis review updates a previous Cochrane Review. The evidence is current to 1 April 2022.\")]"
      ]
     },
     "execution_count": 8,
     "metadata": {},
     "output_type": "execute_result"
    }
   ],
   "source": [
    "import os\n",
    "import glob\n",
    "\n",
    "# Load references results\n",
    "references = {}\n",
    "references_path = \"outputs/original\"\n",
    "\n",
    "# Get all JSON files in the references directory\n",
    "json_files = glob.glob(os.path.join(references_path, \"*.json\"))\n",
    "\n",
    "for json_file in json_files:\n",
    "    with open(json_file, 'r', encoding='utf-8') as f:\n",
    "        data = json.load(f)\n",
    "        # Extract cochrane_review_id and pls result\n",
    "        if 'cochrane_review_id' in data and 'pls' in data:\n",
    "            cochrane_review_id = data['cochrane_review_id']\n",
    "            pls_result = data['pls']\n",
    "            references[cochrane_review_id] = pls_result\n",
    "\n",
    "# Print the first 3 key-value pairs\n",
    "list(references.items())[:3]"
   ]
  },
  {
   "cell_type": "markdown",
   "id": "65e256eb",
   "metadata": {},
   "source": [
    "### Baselines (simple LLM with a single one prompt)"
   ]
  },
  {
   "cell_type": "markdown",
   "id": "4ba0e053",
   "metadata": {},
   "source": [
    "#### Gemini 2.5 Pro"
   ]
  },
  {
   "cell_type": "code",
   "execution_count": 9,
   "id": "1f218b46",
   "metadata": {},
   "outputs": [
    {
     "data": {
      "text/plain": [
       "[('CD015749.PUB2',\n",
       "  \"Can combining different treatments help people with cachexia (disease-related wasting)?\\n\\n**Key messages**\\n\\n– We do not know if combining treatments, such as medicines, nutritional support, and exercise, helps people with cachexia. The available evidence is very uncertain, so we cannot say if these combined treatments improve physical function, strength, appetite, or quality of life. It is also unclear if they cause any unwanted effects.\\n\\n– The studies we found were small and had weaknesses in how they were carried out.\\n\\n– We need larger, better-designed studies to find out if combined treatments are helpful and safe for people with cachexia.\\n\\n**What is cachexia?**\\n\\nCachexia is a condition also known as disease-related wasting. It can happen to people with long-term (chronic) illnesses like cancer, heart disease, kidney disease, or HIV/AIDS.\\n\\nPeople with cachexia lose weight and muscle without trying to. They often feel very tired, lose their appetite, and have a lower quality of life. Because cachexia is complex, it is thought that combining different types of treatments might be more helpful than using just one.\\n\\n**What did we want to find out?**\\n\\nWe wanted to find out if using a combination of treatments helps people with cachexia. These combinations could include:\\n– medicines\\n– nutritional support (like special diets or supplements)\\n– exercise programs\\n\\nWe compared these combined treatments to usual care, a single treatment, or a different combination of treatments. We were interested in their effects on people's physical ability, strength, body weight, and quality of life. We also looked for any unwanted or harmful effects.\\n\\n**What did we do?**\\n\\nWe searched for studies that compared combined treatments against usual care or single treatments in adults with cachexia. We compared and summarized the results of the studies. We also rated our confidence in the evidence, based on factors like how the studies were done and how many people took part.\\n\\n**What did we find?**\\n\\nWe found 9 studies that included a total of 926 adults with cachexia. The average age of people in the studies was 63 years. Most studies were done in Europe and included people with cancer. Other studies included people with lung disease, kidney disease, or HIV/AIDS.\\n\\nThe evidence from these studies was very uncertain for all the things we looked at.\\n\\n**Combined treatments compared with usual care**\\nWe do not know if combined treatments have an effect on physical function, strength, body weight, appetite, or tiredness when compared to usual care. It is also unclear if they cause any unwanted effects.\\n\\n**Combined treatments compared with a single treatment**\\nWe do not know if using a combination of treatments is better than using just one treatment. It is unclear if combined treatments have an effect on physical function, strength, body weight, quality of life, or appetite.\\n\\n**What are the limitations of the evidence?**\\n\\nWe are not confident in the evidence we found. This is because most of the studies were very small, and there were not enough of them for us to be certain about the results. There were also weaknesses in how the studies were carried out, which could have affected their findings. Because of these limitations, we cannot draw firm conclusions.\\n\\n**How up to date is this evidence?**\\n\\nThe evidence is up to date to July 2024.\"),\n",
       " ('CD013445.PUB2',\n",
       "  \"Which type of surgery is better for removing kidney stones in adults: PCNL or RIRS?\\n\\n**Key messages**\\n\\n– Surgery through a small cut in the back (PCNL) may be better at removing all kidney stones than surgery using a thin tube through the body's natural passages (RIRS). PCNL may also reduce the need for more procedures later.\\n\\n– PCNL probably makes little difference to the risk of major problems after surgery compared to RIRS, but it may mean people have to stay in the hospital for about one day longer.\\n\\n– We do not know how these two surgeries affect people's quality of life or their need for unplanned medical visits, as the studies did not report this. Future, better-quality studies are needed to be more certain about the benefits and harms of each surgery.\\n\\n**What are kidney stones?**\\n\\nKidney stones are hard lumps that can form in the kidneys. They are very common and can cause severe pain, blockages, and infections. Treatment for kidney stones depends on their size and where they are located. While some small stones pass on their own, larger stones often need to be removed with a procedure or surgery.\\n\\n**What are PCNL and RIRS?**\\n\\nPCNL and RIRS are two common types of surgery to remove kidney stones.\\n\\n– **Percutaneous nephrolithotomy (PCNL)** is a type of 'keyhole' surgery. A surgeon makes a small cut in the person's back and passes a thin tube through to the kidney to break up and remove the stone.\\n\\n– **Retrograde intrarenal surgery (RIRS)** does not involve any cuts in the skin. A surgeon passes a very thin, flexible tube with a camera through the body's natural urinary passages (from the bladder up to the kidney). The stone is then broken up with a laser, and the pieces are removed or passed naturally in the urine.\\n\\n**What did we want to find out?**\\n\\nWe wanted to find out which surgery, PCNL or RIRS, is better for treating kidney stones in adults. We were interested in how well each surgery removed the stones, and their risks, such as major problems after surgery, the need for more procedures, and the length of hospital stay.\\n\\n**What did we do?**\\n\\nWe searched for studies that compared PCNL with RIRS for treating kidney stones in adults. We compared and summarized the results of these studies and rated our confidence in the evidence.\\n\\n**What did we find?**\\n\\nWe found 42 studies that included 4571 adults who were randomly assigned to have either PCNL or RIRS. The kidney stones in the studies ranged in size from about 1 cm to 4 cm. Most studies did not report where their funding came from.\\n\\nHere are the main results of our review:\\n\\n**Being free of stones after surgery**\\nPeople who have PCNL may be more likely to be completely free of stones after surgery compared to people who have RIRS. If 770 out of 1000 people become stone-free after RIRS, we would expect about 870 people to become stone-free after PCNL.\\n\\n**Major problems after surgery**\\nPCNL probably makes little or no difference to the risk of having major problems after surgery compared with RIRS.\\n\\n**Needing another procedure**\\nPeople who have PCNL may be much less likely to need another procedure to remove leftover stone pieces. If 222 out of 1000 people need another procedure after RIRS, we would expect only about 69 people to need one after PCNL.\\n\\n**Length of hospital stay**\\nPeople who have PCNL may stay in the hospital longer than people who have RIRS, by about one day on average.\\n\\n**Other unwanted effects**\\nPCNL may have little or no effect on the risk of developing a narrowing of the tube that carries urine from the kidney.\\n\\nThe studies did not provide any information about unplanned medical visits or people's quality of life after surgery.\\n\\n**What are the limitations of the evidence?**\\n\\nWe have little confidence in the evidence for most of our findings. This is because many of the studies had weaknesses in their methods. For example, in some studies, it is possible that people were aware of which treatment they were getting, which could have affected the results. Also, many studies did not provide detailed results about everything we were interested in.\\n\\n**How up to date is this evidence?**\\n\\nThe evidence is up to date to March 2023.\"),\n",
       " ('CD008472.PUB3',\n",
       "  \"Can temporarily blocking blood flow in a limb reduce the risks of major blood vessel surgery?\\n\\nKey messages\\n\\n- For people having major surgery on their blood vessels, a technique of temporarily blocking blood flow in a limb before the operation (called remote ischaemic preconditioning) probably makes little to no difference in the risk of serious problems like death, heart attack, kidney problems, or stroke after surgery.\\n\\n- The technique also probably does not affect how long people stay in the hospital or how long the surgery takes.\\n\\n- More and better studies are needed to be certain about the effects of this technique. Future studies should focus on outcomes that are most important to patients.\\n\\nWhat is major blood vessel surgery and why can it be risky?\\n\\nMajor blood vessel surgery, also called vascular surgery, is used to treat serious problems with the body's network of arteries and veins. These operations are often complex and, like any major surgery, come with risks of serious complications. These can include heart attacks, strokes, or kidney damage. Researchers are always looking for ways to make these surgeries safer for patients.\\n\\nWhat is remote ischaemic preconditioning?\\n\\nOne idea to protect the body during surgery is called remote ischaemic preconditioning. This is a simple technique done just before the main operation. A cuff, similar to a blood pressure cuff, is placed on an arm or leg. It is inflated to stop the blood flow for a few minutes and then deflated to let the blood flow again. This cycle is repeated a few times.\\n\\nThe theory is that these short periods of blocked blood flow can trigger the body's natural protective responses. This might help prepare important organs like the heart and kidneys for the stress of the surgery.\\n\\nWhat did we want to find out?\\n\\nWe wanted to find out if using remote ischaemic preconditioning before major blood vessel surgery helps to reduce the risk of death or serious health problems compared to not using the technique.\\n\\nWhat did we do?\\n\\nWe searched for studies that compared people who received remote ischaemic preconditioning before surgery with people who did not. We compared and summarized the results of these studies and rated our confidence in the evidence.\\n\\nWhat did we find?\\n\\nWe found 14 studies that included a total of 1295 people having major blood vessel surgery. The people in the studies were between 64 and 76 years old on average, and most (84%) were men. The studies took place between 2003 and 2019.\\n\\nOur main findings were:\\n\\n- **Death after surgery:** Remote ischaemic preconditioning probably makes little to no difference to the risk of dying around the time of surgery.\\n\\n- **Heart attack, kidney problems, and stroke:** The technique probably makes little to no difference to the risk of having a heart attack, developing kidney problems, or having a stroke.\\n\\n- **Limb loss:** The technique may make little to no difference to the risk of losing a limb after surgery, but we are less certain about this finding.\\n\\n- **Hospital stay and surgery time:** Remote ischaemic preconditioning probably makes little to no difference to how long people stay in the hospital or how long the surgery takes.\\n\\nThe studies did not report on any unwanted or harmful effects of the technique itself.\\n\\nWhat are the limitations of the evidence?\\n\\nOur confidence in the evidence is only moderate for most findings. This is because some of the studies were small, and their results were not always consistent with each other. It is also possible that we could not find all the studies that have been done on this topic, especially if they showed no benefit. This means we cannot be completely certain about the results.\\n\\nHow up to date is this evidence?\\n\\nThis review updates our previous review. The evidence is up to date to April 2022.\")]"
      ]
     },
     "execution_count": 9,
     "metadata": {},
     "output_type": "execute_result"
    }
   ],
   "source": [
    "# Load baseline_gemini_2_5_pro results\n",
    "baseline_gemini_2_5_pro = {}\n",
    "baseline_gemini_2_5_pro_path = \"outputs/baseline_gemini_2_5_pro\"\n",
    "\n",
    "# Get all JSON files in the baseline_gemini_2_5_pro directory\n",
    "json_files = glob.glob(os.path.join(baseline_gemini_2_5_pro_path, \"*.json\"))\n",
    "\n",
    "for json_file in json_files:\n",
    "    with open(json_file, 'r', encoding='utf-8') as f:\n",
    "        data = json.load(f)\n",
    "        # Extract cochrane_id and response\n",
    "        if 'cochrane_id' in data and 'response' in data and 'output' in data['response']:\n",
    "            cochrane_id = data['cochrane_id']\n",
    "            response = data['response']['output']\n",
    "            baseline_gemini_2_5_pro[cochrane_id] = response\n",
    "\n",
    "# Print the first 3 key-value pairs\n",
    "list(baseline_gemini_2_5_pro.items())[:3]"
   ]
  },
  {
   "cell_type": "code",
   "execution_count": 10,
   "id": "89efe6a0",
   "metadata": {},
   "outputs": [
    {
     "data": {
      "text/plain": [
       "[('CD015749.PUB2',\n",
       "  'Plain Language Summary Title\\nWhat are the benefits and risks of combined treatments (multimodal interventions) for cachexia (disease-related wasting) in people with chronic illnesses?\\n\\nKey Messages\\n– We did not find enough good-quality evidence to show whether combined treatments (for example, medicines plus nutrition support and/or exercise) help people with cachexia. It is unclear if they improve physical function, strength, weight, appetite, fatigue, blood test markers, or quality of life. It is also unclear if they change the chance of unwanted effects (harms).\\n– The studies were small and short, used different mixes of treatments, and included people with cancer, chronic obstructive pulmonary disease (COPD), chronic kidney disease, and HIV/AIDS. Some important results were not reported, and some study data could not be used.\\n– Future research should include larger, longer, well-designed studies that fairly compare treatments by randomly assigning people to different groups (so the groups are similar). Researchers should clearly describe the treatment mix, measure outcomes that matter to people, and report unwanted effects.\\n\\nIntroduction to the review topic and review aims\\n\\nWhat is cachexia?\\nCachexia means disease-related wasting. It is a complex problem that can happen in long-lasting (chronic) illnesses such as cancer, HIV/AIDS, kidney disease, heart disease, and COPD (a long-term lung disease that makes it hard to breathe). People with cachexia often lose weight and muscle without trying, feel very tired, have a poor appetite, and find daily life harder.\\n\\nWhat are combined treatments (multimodal interventions)?\\nCombined treatments use more than one approach at the same time. For cachexia, this may include:\\n– medicines (for example, to reduce inflammation or improve appetite)\\n– nutrition support (for example, high-calorie, high-protein food or supplements)\\n– exercise (for example, strength or endurance training)\\nThe idea is that these approaches may work better together than alone.\\n\\nWhat did we want to find out?\\nWe wanted to find out if combined treatments help to ease or stabilize cachexia. We looked at benefits (such as better physical function, strength, weight, and quality of life) and unwanted effects (harms).\\n\\nOptional: How is cachexia treated?\\nCachexia care can include:\\n– nutrition support (high-energy, high-protein food, supplements, or feeding support)\\n– exercise (gentle strength and activity plans)\\n– medicines (for appetite, inflammation, or other symptoms)\\nCare is often tailored to the person and their illness.\\n\\nWhat did we do?\\nWe searched for studies in adults with cachexia or at risk of it that tested combined treatments and compared them with usual care, a different mix of the same treatments, or a single treatment. We summarized the results and judged how confident we could be in the findings.\\n\\nWhat did we find?\\nWe found 9 studies with 926 adults. The average age was 63 years. Six studies were done in Europe, and one each in Turkey, New Zealand, and the USA. Six studies involved people with cancer, and one each involved people with COPD, chronic kidney disease, and HIV/AIDS. Most studies measured outcomes right after treatment. Treatment periods ranged from about 6 weeks to 3 to 7 months. Funding sources were not clear from the information we had.\\n\\nThe combined treatments included different mixes of medicines, nutrition support, and exercise. The studies compared these combined treatments with:\\n– usual care (the care people would normally receive)\\n– a different mix or dose of the same treatments\\n– a single type of treatment (for example, nutrition support alone)\\n\\nOverall, the results were unclear. Across the different comparisons, it is unclear if combined treatments have an effect on physical function, strength, body weight, body composition (fat and muscle), appetite, fatigue, blood test markers (biochemical markers), or quality of life (how people feel and function in daily life). In one study that compared combined treatment with usual care, quality of life was not reported. Some studies measured unwanted effects (also called adverse events), but it is unclear if combined treatments change the chance of these harms. In a few studies, we could not use the available data, and not all studies reported all outcomes we were interested in.\\n\\nWhat are the limitations of the evidence?\\nWe are not confident in the evidence because the studies were small and short, and there were not enough studies to be sure about the results. People in the studies received different mixes of treatments, and the studies included different types of chronic illness. This makes it hard to compare results. Some studies did not report all the outcomes we needed, and some data were not usable. In some studies, it is possible that people knew which treatment they were getting, which can affect the results.\\n\\nHow up to date is this evidence?\\nThe evidence is up to date to July 2024.'),\n",
       " ('CD013445.PUB2',\n",
       "  'Plain Language Summary Title\\nPercutaneous nephrolithotomy (PCNL, keyhole surgery through the skin) or retrograde intrarenal surgery (RIRS, a small camera passed up the urine tube to the kidney): which works better for kidney stones in adults?\\n\\nKey Messages\\n- PCNL may remove all stones more often than RIRS and may reduce the need for a second procedure. PCNL probably makes little to no difference to serious medical problems compared with RIRS. PCNL may lead to a slightly longer stay in hospital. The studies did not report unplanned medical visits or how people felt and functioned after treatment (quality of life).\\n- The results mostly come from small studies, and many gave limited details. This means we cannot be fully sure about the size of the benefits and harms, or who they apply to best (for example, different stone sizes).\\n- Future research should include larger, well-reported studies that track outcomes people care about, such as pain, recovery time, unplanned medical visits, quality of life, and the need for further procedures. Studies should also report funding and compare different sizes of PCNL instruments.\\n\\nIntroduction to the review topic and review aims\\n\\nWhat are kidney stones and why do they matter?\\nKidney stones are hard lumps that form in the kidneys. They can cause severe pain, block the flow of urine, and lead to infection. Some small stones pass on their own. Larger or hard-to-reach stones often need treatment to remove or break them.\\n\\nWhat are PCNL and RIRS?\\nPCNL is “keyhole” surgery done through a small cut in the skin of the back to reach the kidney and remove stones. RIRS uses a thin scope with a camera passed through the body’s urine pathway (through the urethra and bladder, up the ureter to the kidney) to see and treat stones from inside. Doctors may use laser to break stones during RIRS.\\n\\nWhat did we want to find out?\\nWe wanted to find out which procedure works better for adults with kidney stones: PCNL or RIRS. We compared:\\n- How many people had no stones left after treatment (stone-free rate).\\n- Serious medical problems (major complications).\\n- The need for another procedure.\\nWe also looked for unplanned medical visits, length of hospital stay, injury or narrowing of the ureter (the tube that carries urine from the kidney to the bladder), and quality of life.\\n\\nWhat did we do?\\nWe searched for studies that directly compared PCNL with RIRS in adults. We summarized what the studies found and judged how confident we could be in the results.\\n\\nWhat did we find?\\n\\nStudy characteristics\\nWe found 42 studies that involved 4571 adults with kidney stones. The average stone size across studies ranged from about 10 mm to about 39 mm. Twenty-two studies were full papers, and 20 were conference abstracts. Most studies did not say who funded them or whether there were conflicts of interest. Many PCNL procedures used smaller-sized instruments rather than standard larger ones. The studies rarely reported unplanned medical visits or quality of life.\\n\\nMain results\\n- Stone-free rate (no stones left after treatment): PCNL may improve stone-free rates compared with RIRS. For example, if 77 out of 100 people are stone-free after RIRS, then about 87 out of 100 may be stone-free after PCNL.\\n- Major complications (serious medical problems): PCNL probably makes little to no difference to major complications compared with RIRS. The chance of a serious problem appears about the same with both procedures.\\n- Need for a second procedure: PCNL may reduce the need for a second procedure compared with RIRS. For every 100 people, about 22 may need a second procedure after RIRS. With PCNL, about 15 fewer out of 100 may need a second procedure.\\n- Length of hospital stay: PCNL may lead to a slightly longer stay in hospital than RIRS, by about 1 extra day on average.\\n- Ureteral stricture or injury (narrowing or damage to the urine tube): PCNL may make little to no difference compared with RIRS. These events were uncommon and rates were similar between groups.\\n- Unplanned medical visits and quality of life: No studies reported these outcomes, so we do not know how PCNL and RIRS compare for these aspects.\\n\\nWhat are the limitations of the evidence?\\nWe have little confidence in most of these findings because many studies were small and gave limited details. Results varied across studies, and many did not report all outcomes we care about, such as unplanned medical visits and quality of life. Most studies did not report who funded the research or any conflicts of interest. In addition, people and their doctors likely knew which procedure they received, which can affect how outcomes are reported.\\n\\nHow up to date is this evidence?\\nThe evidence is up to date to March 2023.'),\n",
       " ('CD008472.PUB3',\n",
       "  'Plain Language Summary Title\\nDoes briefly stopping blood flow to a limb (remote ischaemic preconditioning) help people having vascular or endovascular surgery?\\n\\nKey Messages\\n- Remote ischaemic preconditioning (RIPC) means using a cuff, like a blood pressure cuff, to briefly stop and restart blood flow in an arm or leg before or during surgery. Based on the studies we found, RIPC probably makes little to no difference to the chance of dying around the time of surgery, having a heart attack, kidney problems, or a stroke. It also probably makes little to no difference to time in hospital or how long the operation or anesthesia lasts. It may make little to no difference to limb loss. The studies did not clearly report unwanted effects from using the cuff (such as pain or skin problems).\\n- The people in the studies were mostly older men having planned major blood vessel surgery, either open surgery or less invasive surgery done inside the blood vessels (endovascular surgery). This is the group the findings apply to.\\n- Future research should include larger, well-designed studies that report patient-important outcomes and any unwanted effects. We also need studies that include more women and different age groups.\\n\\nIntroduction to the review topic and review aims\\n\\nWhat are vascular and endovascular surgeries, and why do they matter?\\nVascular surgery treats problems with blood vessels, such as blocked arteries or weak artery walls (aneurysms). Endovascular surgery is a less invasive type done inside the blood vessels using thin tubes. These major surgeries are often planned in advance. They can still carry risks, such as death, heart attack, kidney injury, stroke, losing a limb, and long stays in hospital.\\n\\nWhat is remote ischaemic preconditioning (RIPC)?\\nRIPC is a simple method that aims to protect the body during surgery. A healthcare worker inflates a cuff on your arm or leg to briefly stop blood flow, then lets it flow again. Doing this in short cycles, before or during surgery, may “train” the body to handle short periods of low blood flow during the operation. The hope is that this reduces harm to the heart, kidneys, brain, and other organs.\\n\\nWhat did we want to find out?\\nWe wanted to find out if RIPC, compared with no RIPC, helps people having planned major vascular or endovascular surgery. We looked for effects on death around the time of surgery, heart attack, kidney problems, stroke, losing a limb, time in hospital, and the length of the operation or anesthesia. We also looked for any unwanted effects from RIPC.\\n\\nWhat did we do?\\nWe searched for studies where people were randomly put into 2 groups: one group had RIPC and the other did not. We combined the results and judged how confident we are in the findings, based on the size and methods of the studies.\\n\\nWhat did we find?\\n\\nStudy characteristics\\nWe found 14 studies that included 1295 people. Most people were older adults (average ages ranged from about 64 to 76 years), and 84% were men. The studies took place between 2003 and 2019 in people having planned major vascular or endovascular surgery. The RIPC method used a cuff on an arm or leg to briefly stop and restart blood flow in cycles, usually before surgery started. The studies measured outcomes around the time of surgery and during the hospital stay. The abstract did not report which countries the studies took place in, who funded them, or how long people were followed after leaving the hospital.\\n\\nMain results\\n- Death around the time of surgery: RIPC probably makes little to no difference.\\n- Heart attack after surgery: RIPC probably makes little to no difference.\\n- Kidney problems after surgery: RIPC probably makes little to no difference.\\n- Stroke after surgery: RIPC probably makes little to no difference.\\n- Losing a limb: RIPC may make little to no difference, but we are not very sure about this result.\\n- Time in hospital: RIPC probably makes little to no difference.\\n- Length of the operation or anesthesia: RIPC probably makes little to no difference.\\n\\nWhat does this mean for people having surgery?\\nFor people having planned major blood vessel surgery, using a cuff to briefly stop and restart blood flow in a limb before or during surgery is unlikely to change the chances of the main problems that worry people and doctors, such as death, heart attack, kidney damage, stroke, or losing a limb. It is also unlikely to change how long the surgery or hospital stay is. The studies did not clearly report unwanted effects from the cuff, so we do not know much about discomfort or other minor harms.\\n\\nWhat are the limitations of the evidence?\\nWe are moderately confident in the evidence because many studies were small and the results were not very precise. The results also differed somewhat between studies, and some studies with different results may be missing from the published record. Most people in the studies were older men, so the results may not fully reflect what happens in women or younger people.\\n\\nHow up to date is this evidence?\\nThis review updates our previous review. The evidence is up to date to April 2022.')]"
      ]
     },
     "execution_count": 10,
     "metadata": {},
     "output_type": "execute_result"
    }
   ],
   "source": [
    "# Load baseline_gpt_5 results\n",
    "baseline_gpt_5 = {}\n",
    "baseline_gpt_5_path = \"outputs/baseline_gpt_5\"\n",
    "\n",
    "# Get all JSON files in the baseline_gpt_5 directory\n",
    "json_files = glob.glob(os.path.join(baseline_gpt_5_path, \"*.json\"))\n",
    "\n",
    "for json_file in json_files:\n",
    "    with open(json_file, 'r', encoding='utf-8') as f:\n",
    "        data = json.load(f)\n",
    "        # Extract cochrane_id and response\n",
    "        if 'cochrane_id' in data and 'response' in data and 'output' in data['response']:\n",
    "            cochrane_id = data['cochrane_id']\n",
    "            response = data['response']['output']\n",
    "            baseline_gpt_5[cochrane_id] = response\n",
    "\n",
    "# Print the first 3 key-value pairs\n",
    "list(baseline_gpt_5.items())[:3]"
   ]
  },
  {
   "cell_type": "code",
   "execution_count": 11,
   "id": "eb9ff312",
   "metadata": {},
   "outputs": [
    {
     "data": {
      "text/plain": [
       "[('CD015749.PUB2',\n",
       "  'Plain Language Summary Title  \\nIs a combined program of medicines, nutrition advice, and exercise helpful for people with disease‑related wasting (cachexia)?\\n\\nKey Messages  \\n- We found no clear evidence that a combined program of medicines, nutrition, and exercise improves strength, physical ability, weight, appetite, fatigue, quality of life, or other health measures in people with cachexia, and the studies did not report any consistent harmful effects.  \\n- The evidence comes from nine small studies that included about 900 adults with cancer, COPD, kidney disease, or HIV/AIDS; all of these studies had important limitations, so we are not confident in the results.  \\n- More large, well‑designed studies are needed to determine whether such combined programs can really help people with cachexia.\\n\\nWhat is cachexia and why does it matter?  \\nCachexia (disease‑related wasting) is a condition where people with long‑term illnesses lose weight and muscle even when they try to eat enough. It often causes fatigue, loss of appetite, and a lower quality of life. Conditions that can lead to cachexia include cancer, HIV/AIDS, kidney disease, heart disease, and chronic lung disease (COPD).  \\n\\nWhat are multimodal interventions?  \\nA multimodal intervention tries to treat cachexia by using two or more approaches together, such as medicines that affect metabolism, nutrition counseling or supplements, and exercise programs. The idea is that the different parts might work together to give a bigger benefit than any one part alone.\\n\\nWhat did we want to find out?  \\nWe wanted to know whether these combined programs help people with cachexia feel stronger, move better, gain or keep weight, eat more, feel less tired, and have a better quality of life, and whether they cause any extra harms.\\n\\nWhat did we do?  \\nWe searched several medical databases and trial registers for studies up to July\\u202f2024 that compared a combined program of medicines, nutrition, and/or exercise with usual care, a different version of the program, or a single‑component program. We then combined the findings from the eligible studies and judged how much confidence we could have in the evidence.\\n\\nWhat did we find?  \\nWe found nine studies that together included 926 adults (average age about 63\\u202fyears). The studies were done in Europe, Turkey, New\\u202fZealand, and the United States. Six studies involved people with cancer, and one each involved people with COPD, chronic kidney disease, or HIV/AIDS. The studies varied in how long the programs lasted, from a few weeks to several months, and many had small numbers of participants.\\n\\nWhen we looked at the results, the evidence was very uncertain. It is unclear whether the combined programs improve physical function, muscle strength, body composition, body weight, appetite, fatigue, quality of life, or laboratory markers of disease. The studies also did not show a clear increase or decrease in side‑effects, and harms were not consistently reported.\\n\\nWhat are the limitations of the evidence?  \\nWe are not confident in the evidence because the studies did not randomly assign people to the different groups in a way that prevents bias, because the participants and interventions were not always similar to the broader group of people with cachexia, and because the studies were small and provided limited data.\\n\\nHow up to date is this evidence?  \\nThe evidence is up to date to July\\u202f2024.'),\n",
       " ('CD013445.PUB2',\n",
       "  'Plain Language Summary Title  \\nIs percutaneous nephrolithotomy (PCNL) better than retrograde intrarenal surgery (RIRS) for treating kidney stones in adults?\\n\\nKey Messages  \\n- PCNL may increase the chance of being stone‑free and may greatly reduce the need for another procedure, while probably not changing the risk of serious complications, but it may lead to a slightly longer hospital stay. No information was found about unexpected doctor visits or quality‑of‑life effects.  \\n- The evidence comes from many small studies, many of which were only reported as brief abstracts, so we have little confidence in most of the results.  \\n- Future research should include larger, well‑designed studies that also look at quality of life and any unexpected medical visits after treatment.\\n\\nWhat is the problem that kidney stones cause?  \\nKidney stones (also called renal stones) are hard pieces that can form inside the kidney. They often cause sudden pain, block the flow of urine, and can lead to infections. Depending on the size and location of the stone, doctors may watch the stone, break it with shock waves, or use one of two main surgical approaches: a tube placed through the skin into the kidney (percutaneous nephrolithotomy, or PCNL) or a thin scope passed up through the urinary tract (retrograde intrarenal surgery, or RIRS).\\n\\nWhy compare PCNL and RIRS?  \\nBoth PCNL and RIRS aim to remove or break kidney stones, but they work in different ways. PCNL involves a small incision in the back to reach the stone directly, while RIRS uses a flexible tube that goes up through the urethra and bladder. Understanding which method works better, causes fewer problems, and leads to a quicker recovery helps doctors and patients choose the right treatment.\\n\\nWhat did we want to find out?  \\nWe wanted to learn whether PCNL or RIRS is more effective at making people stone‑free, whether one causes more serious complications, whether either reduces the need for additional procedures, and how each affects hospital stay, unexpected medical visits, ureter injuries, and quality of life.\\n\\nWhat did we do?  \\nWe searched many medical databases for studies that directly compared PCNL with RIRS in adults. We combined the findings from those studies and judged how much confidence we could have in the overall evidence.\\n\\nWhat did we find?  \\n\\nStudy characteristics  \\nWe found dozens of studies that together involved several thousand adults with kidney stones ranging from small to fairly large. Most studies were carried out in hospitals around the world, but many did not say who funded the research. The size of the PCNL tube varied, with most using smaller‑diameter tubes.  \\n\\nMain results  \\n\\n- Stone‑free rate: PCNL may increase stone‑free rates slightly.  \\n- Need for secondary procedures: PCNL may cause a large reduction in the need for additional procedures.  \\n- Major complications: PCNL probably makes little or no difference to serious complications.  \\n- Length of hospital stay: PCNL may increase the length of hospital stay slightly.  \\n- Ureteral strictures or injuries: PCNL may make little or no difference to ureteral strictures.  \\n- Unplanned medical visits: No studies reported any unexpected doctor or emergency visits after treatment.  \\n- Quality of life: No studies reported how the treatments affected people’s overall well‑being.\\n\\nWhat are the limitations of the evidence?  \\nWe have little confidence in the evidence because many of the studies were small, some were only brief abstracts, and the way the procedures were performed varied between studies. These issues make it hard to be sure about the true effects of the two treatments.\\n\\nHow up to date is this evidence?  \\nThe evidence is up to date to March 2023.'),\n",
       " ('CD008472.PUB3',\n",
       "  'Plain Language Summary Title  \\nIs remote ischaemic preconditioning (temporary blocking of blood flow to a distant body part) helpful for people having major vascular or endovascular surgery?\\n\\nKey Messages  \\n- Remote ischaemic preconditioning (RIPC) probably makes little or no difference to the chance of dying around the time of surgery, to heart attacks, kidney problems, strokes, how long people stay in hospital, or to the length of the operation. It may also make little or no difference to the risk of losing a limb. No clear evidence of extra harms from RIPC was found.  \\n- We are moderately confident in these findings because the studies were relatively small, showed some differences in how they were done, and not all possible studies may have been captured.  \\n- More large, well‑designed studies are needed to see whether RIPC could have any real benefit for patients undergoing these surgeries.\\n\\nWhat is the problem that the review looks at?  \\nWhy do we need better ways to protect people having major vascular surgery?  \\nMajor vascular and endovascular operations are done to fix big blood‑vessel problems, but even with modern care they still carry a noticeable risk of serious complications such as death, heart attacks, kidney injury, stroke, or loss of a limb. Finding simple, low‑cost ways to protect the body’s tissues during these procedures could improve outcomes.\\n\\nWhat is remote ischaemic preconditioning?  \\nRemote ischaemic preconditioning (RIPC) is a technique where a short, harmless blockage of blood flow is applied to a part of the body that is far away from the surgical site (for example, using a blood pressure cuff on an arm). The brief blockage is thought to “prime” the body’s protective mechanisms so that the organs are better able to tolerate the longer loss of blood flow that can happen during surgery.\\n\\nWhat did the reviewers want to find out?  \\nThe review team wanted to know whether using RIPC before major vascular or endovascular surgery changes the chances of dying around the time of the operation, or affects important complications such as heart attacks, kidney problems, strokes, limb loss, length of hospital stay, or how long the surgery takes, compared with not using RIPC.\\n\\nWhat did we do?  \\nWe searched several medical databases for studies that compared RIPC with no RIPC in people having elective major vascular or endovascular surgery. We combined the results of the studies we found and judged how much confidence we could have in the overall evidence.\\n\\nWhat did we find?  \\nWe identified several studies that together included many older adults, most of whom were men, who underwent major vascular or endovascular procedures in hospitals around the world. The studies used slightly different ways of delivering the brief blood‑flow block, but all compared it with the usual care where no block was applied.\\n\\nThe overall picture from these studies is that RIPC probably makes little or no difference to the chance of dying around the time of surgery, to the risk of having a heart attack, to developing kidney problems, to having a stroke, to how long people stay in hospital, and to how long the operation or anesthesia lasts. For the specific outcome of losing a limb, the evidence suggests RIPC may also make little or no difference, but the confidence in this finding is lower.\\n\\nWhat are the limitations of the evidence?  \\nWe are moderately confident in the evidence because the studies were relatively small, they used different methods and patient groups, and it is possible that not all relevant studies were identified. These factors make it harder to be certain about the exact effect of RIPC.\\n\\nHow up to date is this evidence?  \\nThis review updates our previous review. The evidence is up to date to April 2022.')]"
      ]
     },
     "execution_count": 11,
     "metadata": {},
     "output_type": "execute_result"
    }
   ],
   "source": [
    "# Load baseline_gpt_oss_120b results\n",
    "baseline_gpt_oss_120b = {}\n",
    "baseline_gpt_oss_120b_path = \"outputs/baseline_gpt_oss_120b\"\n",
    "\n",
    "# Get all JSON files in the baseline_gpt_oss_120b directory\n",
    "json_files = glob.glob(os.path.join(baseline_gpt_oss_120b_path, \"*.json\"))\n",
    "\n",
    "for json_file in json_files:\n",
    "    with open(json_file, 'r', encoding='utf-8') as f:\n",
    "        data = json.load(f)\n",
    "        # Extract cochrane_id and response\n",
    "        if 'cochrane_id' in data and 'response' in data and 'output' in data['response']:\n",
    "            cochrane_id = data['cochrane_id']\n",
    "            response = data['response']['output']\n",
    "            baseline_gpt_oss_120b[cochrane_id] = response\n",
    "\n",
    "# Print the first 3 key-value pairs\n",
    "list(baseline_gpt_oss_120b.items())[:3]"
   ]
  },
  {
   "cell_type": "code",
   "execution_count": 34,
   "id": "cbeb648a",
   "metadata": {},
   "outputs": [
    {
     "data": {
      "text/plain": [
       "[('CD015749.PUB2',\n",
       "  'Can multimodal treatments help people with cachexia from chronic illnesses?\\n\\nKey Messages:\\n- We found no clear evidence that combining medicines, nutrition, and exercise improves muscle strength, weight, appetite, or quality of life for people with cachexia. The studies were small and had design problems, so we are not sure.\\n- The evidence is very uncertain, so we cannot say whether these treatments are safe or harmful.\\n- More well‑designed studies with enough participants and longer follow‑up are needed to know if multimodal treatments work.\\n\\nIntroduction\\nWhat is cachexia and why is it a problem?\\nCachexia is a condition where people lose muscle and often weight because of a long‑term illness such as cancer, heart failure, kidney disease or chronic lung disease. It makes everyday activities harder, reduces quality of life and can shorten survival.\\n\\nWhat did we want to find out?\\nWe wanted to know whether a combination of medicines, special nutrition and exercise programmes works better than usual care or single treatments for people with cachexia.\\n\\nHow is cachexia treated?\\nTypical approaches include medicines that may affect metabolism, dietary supplements or high‑protein meals, and exercise programmes that aim to keep muscles strong. Sometimes these are used together, which is called a multimodal approach.\\n\\nWhat did we do?\\nWe searched many medical databases for studies that compared multimodal treatments with usual care or other single treatments, combined the results and judged how confident we could be in the findings.\\n\\nWhat did we find?\\nThe review included nine studies that together involved about nine hundred adults, most of whom had cancer and a few had other chronic illnesses. The studies were carried out in several European countries and lasted from a few weeks to a few months.\\n\\nWe do not know if multimodal treatments improve physical function, strength, weight, appetite, fatigue, quality of life, or reduce adverse events. The evidence does not show a clear benefit or clear harm.\\n\\nWhat are the limitations of the evidence?\\nThe studies were small, often did not follow participants for a long time and had some design problems that make it hard to be sure about the results. Because of these issues we cannot be confident that the findings apply to everyday care.\\n\\nHow up to date is this evidence?\\nThe literature search was current to July 2024, so the evidence reflects studies published up to that time.'),\n",
       " ('CD013445.PUB2',\n",
       "  'Title:\\nIs percutaneous kidney stone removal (PCNL) better than ureteroscope surgery (RIRS) for adults with kidney stones?\\n\\nKey messages:\\n- PCNL may clear stones more often than RIRS, but it can cause more short‑term pain and a higher chance of needing a repeat procedure.\\n- RIRS may lead to fewer immediate problems and a quicker return to normal activities, but it might leave more stone fragments behind.\\n- We are fairly sure about the difference in stone‑clearing success, but we are less sure about the exact size of the side‑effects because the studies were not all the same.\\n\\nIntroduction to the review topic and aims:\\nWhy do we need to compare these two ways of treating kidney stones?\\nKidney stones can block the flow of urine and cause severe pain. Doctors can either make a small cut in the back to reach the stone (PCNL) or use a thin tube passed through the urethra and bladder to the kidney (RIRS). Both methods aim to remove the stone, but they work in different ways and may have different benefits and harms.\\nWhat did the review set out to find?\\nThe review looked at whether PCNL or RIRS is better at making patients stone‑free, how often patients need another operation, and what short‑term problems each method might cause.\\n\\nWhat did we do?\\nWe searched medical research databases for studies that directly compared PCNL with RIRS in adults. Two reviewers checked each study for relevance, pulled out the important numbers, and judged how reliable the studies were.\\n\\nWhat did we find?\\nStudy characteristics:\\nWe found three studies that together included about 600 adults with kidney stones. All participants were treated in hospitals that had experience with both PCNL and RIRS. The studies reported how many patients were stone‑free after the first treatment, how many needed another treatment, and what short‑term problems (like pain, bleeding, or infection) occurred.\\nMain results:\\n- Stone‑free rates: In the studies, PCNL cleared stones in most patients, while RIRS left a few more stone pieces behind. This suggests PCNL may be more effective at making patients stone‑free.\\n- Need for repeat procedures: Because RIRS sometimes left stone fragments, a few more patients in the RIRS groups needed another operation compared with PCNL.\\n- Short‑term harms: Patients who had PCNL reported more pain right after the surgery and a slightly higher chance of bleeding that required extra care. RIRS patients generally had milder discomfort and fewer bleeding problems.\\nOverall, the evidence points to PCNL being better at removing stones completely, but it also comes with a higher chance of short‑term pain and bleeding. RIRS appears gentler on the body but may not clear the stone as thoroughly, leading to more follow‑up procedures.\\n\\nWhat does this mean for patients and doctors?\\nIf the main goal is to get rid of the stone in one go, PCNL might be the preferred choice, especially for larger stones. However, if a patient is worried about pain after surgery or wants a quicker recovery, RIRS could be a reasonable alternative, keeping in mind that another procedure might be needed later.\\nWhat should happen next?\\nDoctors should discuss both options with patients, explaining the trade‑off between a higher chance of being stone‑free and the possibility of more immediate discomfort. More research that follows patients for a longer time would help clarify how often repeat procedures are needed after each method and whether the short‑term harms have any lasting effects.'),\n",
       " ('CD008472.PUB3',\n",
       "  'What is remote ischaemic preconditioning and does it help people who have major blood vessel surgery?\\n\\nKey Messages\\n- The review found no clear difference in death, heart attack, kidney problems, stroke, length of hospital stay, or time spent in surgery between people who received the technique and those who did not.\\n- The evidence comes from a small number of studies that used different methods, so we are only moderately confident in these findings.\\n- More large, well‑designed studies are needed to determine whether the technique can truly benefit people undergoing major blood vessel surgery.\\n\\nIntroduction to the review topic and review aims\\nBackground\\nRemote ischaemic preconditioning is a simple method that briefly stops blood flow to a part of the body, such as an arm or a leg, using a cuff. The brief interruption is thought to send protective signals that might help other organs cope with the stress of surgery. Major blood vessel surgery, also called vascular surgery, involves repairing or replacing large arteries or veins. These operations are needed when blood flow is blocked or weakened, but they carry risks such as heart attacks, kidney problems, strokes, and even death.\\n\\nAims\\nThe review set out to find out whether remote ischaemic preconditioning changes the chances of death, heart attack, kidney problems, stroke, loss of a limb, length of hospital stay, or the time needed for the operation in people having major blood vessel surgery.\\n\\nWhat did we do?\\nWe searched for studies that compared the technique with no technique in people undergoing major blood vessel surgery. We combined the results and judged how confident we were in the evidence.\\n\\nWhat did we find?\\nFourteen studies involving a total of about 1,300 people were included. Participants were mostly older adults, with ages ranging from the mid‑sixties to the mid‑seventies, and most were men. The studies were carried out between 2003 and 2019 in various hospitals. In each study, some participants received the brief blood‑flow interruption before their operation, while others received the usual care without the technique.\\n\\nThe review looked at several outcomes. For death, heart attack, kidney problems, stroke, length of hospital stay, and the time spent in surgery, the combined evidence suggests that the technique probably makes little or no difference. For loss of a limb, the evidence was less certain because only a few studies reported this outcome, so we cannot say confidently whether the technique helps or harms.\\n\\nWhat are the limitations of the evidence?\\nWe are moderately confident in the findings for most outcomes because the studies were small, used different ways of applying the technique, and some may not have been published. The variation between studies and the limited number of participants make the results less precise. For limb loss, the evidence is very uncertain because only a small number of participants were studied.\\n\\nHow up to date is this evidence?\\nThe literature search was completed in April 2022, so the evidence reflects studies published up to that date.')]"
      ]
     },
     "execution_count": 34,
     "metadata": {},
     "output_type": "execute_result"
    }
   ],
   "source": [
    "# Load baseline_gpt_oss_20b results\n",
    "baseline_gpt_oss_20b = {}\n",
    "baseline_gpt_oss_20b_path = \"outputs/baseline_gpt_oss_20b\"\n",
    "\n",
    "# Get all JSON files in the baseline_gpt_oss_20b directory\n",
    "json_files = glob.glob(os.path.join(baseline_gpt_oss_20b_path, \"*.json\"))\n",
    "\n",
    "for json_file in json_files:\n",
    "    with open(json_file, 'r', encoding='utf-8') as f:\n",
    "        data = json.load(f)\n",
    "        # Extract cochrane_id and response\n",
    "        if 'cochrane_id' in data and 'response' in data and 'output' in data['response']:\n",
    "            cochrane_id = data['cochrane_id']\n",
    "            response = data['response']['output']\n",
    "            baseline_gpt_oss_20b[cochrane_id] = response\n",
    "\n",
    "# Print the first 3 key-value pairs\n",
    "list(baseline_gpt_oss_20b.items())[:3]"
   ]
  },
  {
   "cell_type": "code",
   "execution_count": 97,
   "id": "eef2f5d1",
   "metadata": {},
   "outputs": [
    {
     "data": {
      "text/plain": [
       "[('CD015749.PUB2',\n",
       "  'What are the benefits and harms of multimodal interventions for managing cachexia in people with chronic illnesses?\\n\\n### Key Messages\\n* Due to a lack of robust evidence, the benefits and harms of multimodal interventions for managing cachexia in people with chronic illnesses are unclear. The evidence was very uncertain, and we could not find any clear evidence for an effect of multimodal interventions on physical function, strength, adverse events, body composition, weight, quality of life, appetite, fatigue, or biochemical markers.\\n* We have little confidence in the evidence because it is possible that people in the studies were aware of which treatment they were getting, and because the studies were very small.\\n* Future research in this area should focus on methodologically rigorous, well-powered randomized controlled trials with adequate interaction times to assess the effectiveness of multimodal interventions in managing cachexia across chronic illnesses.\\n\\n### Introduction to the review topic and review aims\\nWhat is cachexia? \\nCachexia is a complex metabolic syndrome that occurs in people with chronic illnesses, including cancer, HIV/AIDS, kidney disease, heart disease, and chronic obstructive pulmonary disease (COPD). People with cachexia experience unintentional weight loss, muscle loss, fatigue, loss of appetite, and reduced quality of life. \\n\\nWhat did we want to find out? \\nWe wanted to find out which types of multimodal interventions work best to help people with cachexia, and what the benefits and harms of these interventions are. Multimodal interventions combine two or more types of treatment, such as medicines, nutrition, and exercise, to treat the syndrome.\\n\\n### What did we do?\\nWe searched for studies that compared multimodal interventions with treatment as usual, or with other types of interventions. We evaluated the evidence from these studies to assess the benefits and harms of multimodal interventions for managing cachexia.\\n\\n### What did we find?\\nWe found nine studies with 926 adults, and the studies were conducted in different countries and included people with different types of chronic illnesses, such as cancer, COPD, and HIV/AIDS. The evidence was very uncertain, and we could not find any clear evidence for an effect of multimodal interventions on physical function, strength, adverse events, body composition, weight, quality of life, appetite, fatigue, or biochemical markers.\\n\\n### What are the limitations of the evidence?\\nWe have little confidence in the evidence because it is possible that people in the studies were aware of which treatment they were getting, and because the studies were very small. The evidence does not cover all of the people, interventions, and outcomes we were interested in.\\n\\n### How up to date is this evidence?\\nThe evidence is up to date to July 2024.'),\n",
       " ('CD013445.PUB2',\n",
       "  \"## Plain Language Summary\\n\\n### What are the benefits and risks of percutaneous nephrolithotomy versus retrograde intrarenal surgery for treating kidney stones in adults?\\n\\n### Key Messages\\n- We found that percutaneous nephrolithotomy (PCNL) may be better than retrograde intrarenal surgery (RIRS) at removing kidney stones, but the evidence is not very strong. This means that more people who had PCNL were stone-free after the procedure compared to those who had RIRS.\\n- PCNL probably does not increase the risk of major complications compared to RIRS, but again, the evidence is not very strong. This suggests that the risk of serious problems is likely similar between the two procedures.\\n- More research is needed to fully understand the benefits and risks of PCNL and RIRS for treating kidney stones, especially in terms of how they affect people's quality of life and need for follow-up medical care.\\n\\n### Introduction to the review topic and review aims\\n#### What are kidney stones and how are they treated?\\nKidney stones can cause severe pain, blockage, and infection. Treatment options vary depending on the size, location, and type of stone, as well as the patient's overall health. Common treatments include watching and waiting, shock wave lithotripsy, retrograde intrarenal surgery (RIRS), percutaneous nephrolithotomy (PCNL), or a combination of these approaches.\\n\\n#### What did we want to find out?\\nWe wanted to compare the effects of PCNL versus RIRS for treating kidney stones in adults. Specifically, we looked at how well each procedure removed stones, the rate of major complications, the need for additional procedures, and other important outcomes like hospital stay length and quality of life.\\n\\n### What did we do?\\nWe searched for studies that compared PCNL to RIRS for kidney stone treatment. We then summarized and evaluated the results of these studies to understand the benefits and risks of each procedure.\\n\\n### What did we find?\\nWe included 42 studies in our review, involving 4571 participants. The studies compared PCNL to RIRS in terms of stone removal, complications, need for secondary interventions, and other outcomes. We found that PCNL may improve stone-free rates and reduce the need for secondary interventions compared to RIRS. However, PCNL probably has little to no effect on major complications and may increase the length of hospital stay. Unfortunately, the evidence for most outcomes was of low certainty due to shortcomings in the included trials.\\n\\n### What are the limitations of the evidence?\\nWe have little confidence in the evidence because the studies had significant shortcomings, such as not reporting funding sources or conflicts of interest, and the results varied widely across studies. This means that while we can see some potential benefits of PCNL over RIRS, we are not very sure about these findings.\\n\\n### How up to date is this evidence?\\nThe evidence is up to date to March 2023. This review updates our previous review. The evidence is up to date to March 2023.\"),\n",
       " ('CD008472.PUB3',\n",
       "  'Can remote ischaemic preconditioning help reduce complications during major vascular and endovascular surgical procedures?\\n\\nKey Messages:\\n- Remote ischaemic preconditioning may make little to no difference in reducing complications during major vascular and endovascular surgical procedures, but the evidence is not strong enough to be certain.\\n- The current evidence does not show a clear benefit of remote ischaemic preconditioning in reducing mortality, heart attacks, kidney problems, strokes, or hospital stays after surgery.\\n- More research is needed to determine the potential benefits and harms of remote ischaemic preconditioning in people undergoing major vascular and endovascular surgery.\\n\\nWhat is remote ischaemic preconditioning and how does it work?\\nRemote ischaemic preconditioning is a technique that involves temporarily blocking blood flow to certain areas of the body before surgery. This is done to help protect the body from damage caused by lack of blood flow during surgery.\\n\\nWhat did we want to find out?\\nWe wanted to find out if remote ischaemic preconditioning can help reduce complications during major vascular and endovascular surgical procedures. We looked at the results of 14 studies that compared remote ischaemic preconditioning with no remote ischaemic preconditioning in people undergoing elective major vascular or endovascular surgery.\\n\\nWhat did we do?\\nWe searched for studies that compared remote ischaemic preconditioning with no remote ischaemic preconditioning in people undergoing elective major vascular or endovascular surgery. We summarized and combined the results of these studies to see if remote ischaemic preconditioning can help reduce complications during surgery.\\n\\nWhat did we find?\\nWe found that remote ischaemic preconditioning may make little to no difference in reducing complications during major vascular and endovascular surgical procedures. The evidence suggests that remote ischaemic preconditioning probably leads to little or no difference in perioperative mortality, myocardial infarction, renal impairment, stroke, hospital stay, and operating time.\\n\\nWhat are the limitations of the evidence?\\nWe have little confidence in the evidence because the studies were small and had some methodological limitations. The evidence is not strong enough to be certain about the benefits and harms of remote ischaemic preconditioning.\\n\\nHow up to date is this evidence?\\nThis review updates our previous review. The evidence is up to date to April 2022.')]"
      ]
     },
     "execution_count": 97,
     "metadata": {},
     "output_type": "execute_result"
    }
   ],
   "source": [
    "# Load baseline_llama_3_3_70b results\n",
    "baseline_llama_3_3_70b = {}\n",
    "baseline_llama_3_3_70b_path = \"outputs/baseline_llama_3_3_70b\"\n",
    "\n",
    "# Get all JSON files in the baseline_llama_3_3_70b directory\n",
    "json_files = glob.glob(os.path.join(baseline_llama_3_3_70b_path, \"*.json\"))\n",
    "\n",
    "for json_file in json_files:\n",
    "    with open(json_file, 'r', encoding='utf-8') as f:\n",
    "        data = json.load(f)\n",
    "        # Extract cochrane_id and response\n",
    "        if 'cochrane_id' in data and 'response' in data and 'output' in data['response']:\n",
    "            cochrane_id = data['cochrane_id']\n",
    "            response = data['response']['output']\n",
    "            baseline_llama_3_3_70b[cochrane_id] = response\n",
    "\n",
    "# Print the first 3 key-value pairs\n",
    "list(baseline_llama_3_3_70b.items())[:3]"
   ]
  },
  {
   "cell_type": "code",
   "execution_count": 41,
   "id": "c67cbb4d",
   "metadata": {},
   "outputs": [
    {
     "data": {
      "text/plain": [
       "[('CD015749.PUB2',\n",
       "  'I can help you transform the Cochrane abstract into a Plain Language Summary (PLS) following the guidelines provided.\\n\\nHere is the transformed summary:\\n\\n**What are the benefits and risks of multimodal interventions for managing cachexia?**\\n\\nCachexia is a complex condition that occurs in people with chronic illnesses, such as cancer, HIV/AIDS, kidney disease, heart disease, and chronic obstructive pulmonary disease (COPD). It can cause unintentional weight loss, muscle loss, fatigue, loss of appetite, and reduced quality of life.\\n\\n**What did we want to find out?**\\n\\nWe wanted to find out if multimodal interventions, which combine different treatments such as medication, nutrition, and exercise, can help alleviate or stabilize cachexia in people with chronic illnesses.\\n\\n**What did we find?**\\n\\nWe found nine studies that involved 926 adults with cachexia. The studies were conducted in different countries and had different sample sizes. However, we were unable to find any clear evidence that multimodal interventions are effective in managing cachexia.\\n\\n**What are the limitations of the evidence?**\\n\\nThe evidence we found was very low in quality due to a high risk of bias and indirectness. This means that we cannot be confident in the results of the studies.\\n\\n**How up to date is this evidence?**\\n\\nThe studies we found were conducted in 2024, but we were unable to find any more recent studies.\\n\\n**What should happen next?**\\n\\nMore research is needed to assess the effectiveness of multimodal interventions in managing cachexia across chronic illnesses. Methodologically rigorous, well-powered RCTs with adequate interaction times are needed to provide more reliable evidence.\\n\\nNote: I have followed the guidelines provided to transform the Cochrane abstract into a Plain Language Summary. However, please note that this is a machine-generated summary and may not be perfect. It is always best to have a human reviewer check the summary for accuracy and clarity.'),\n",
       " ('CD013445.PUB2',\n",
       "  'Is there anything else I can help you with?\\n\\nNow, I will transform the provided Cochrane abstract into a Plain Language Summary (PLS) following Cochrane guidelines.\\n\\n**Plain Language Summary Title**\\n**What are the benefits and risks of percutaneous nephrolithotomy (PCNL) versus retrograde intrarenal surgery (RIRS) for treating kidney stones in adults?**\\n\\n**Key Messages**\\n\\n* PCNL may improve stone-free rates and reduce the need for secondary interventions, but probably has little or no effect on major complications.\\n* PCNL may have little or no effect on ureteral stricture rates, but may increase length of hospital stay.\\n* There is no evidence on unplanned medical visits or participant quality of life.\\n\\n**Introduction to the review topic and review aims**\\n**What is kidney stone treatment?**\\nKidney stones can be a source of pain, obstruction, and infection. Depending on size, location, composition, and other patient factors, treatment can involve observation, shock wave lithotripsy, retrograde intrarenal surgery (RIRS), percutaneous nephrolithotomy (PCNL), or a combination of these approaches.\\n\\n**What did we want to find out?**\\nWe wanted to find out: which treatment works best for treating kidney stones in adults: PCNL or RIRS?\\n\\n**What did we do?**\\nWe searched for studies that compared PCNL with RIRS in adults with kidney stones. We included 42 trials assessing the effects of PCNL versus RIRS in 4571 randomized participants.\\n\\n**What did we find?**\\nWe found that PCNL compared with RIRS may improve stone-free rates and may reduce the need for secondary interventions, but probably has little or no effect on major complications. PCNL compared with RIRS may have little or no effect on ureteral stricture rates, but may increase length of hospital stay. There is no evidence on unplanned medical visits or participant quality of life.\\n\\n**What are the limitations of the evidence?**\\nWe have little confidence in the evidence because the included trials had many shortcomings, such as small sample sizes, lack of funding information, and inadequate reporting. The evidence for most outcomes was of low certainty.\\n\\n**How up to date is this evidence?**\\nThe evidence is up to date to March 2023.\\n\\n**How accurate are the results?**\\nThe results are based on a large body of evidence from 42 trials, but the evidence for most outcomes was of low certainty due to the shortcomings of the included trials.'),\n",
       " ('CD008472.PUB3',\n",
       "  \"Ischaemic preconditioning is a technique that may help protect people's bodies from damage during major surgery. But we don't know if it really works and what the risks are.\\n\\nWhat is ischaemic preconditioning?\\nIschaemic preconditioning is a temporary blockage of blood flow to parts of the body that are not being operated on. This can help protect the body from further damage when blood flow is blocked again during surgery.\\n\\nWhat does this review say about ischaemic preconditioning?\\nThis review looked at 14 studies that tested ischaemic preconditioning in people having major vascular or endovascular surgery. The studies compared people who received ischaemic preconditioning with those who did not.\\n\\nWhat did the review find?\\nThe review found that ischaemic preconditioning probably makes little or no difference in the risk of death, heart attack, kidney problems, stroke, hospital stay, or operating time. It may also make little or no difference in the risk of losing a limb.\\n\\nWhat does this mean for patients?\\nMore research is needed to fully understand the benefits and risks of ischaemic preconditioning. In the meantime, patients should talk to their doctor about what the best approach is for their individual situation.\\n\\nNote: I've rewritten the text in a plain language summary format, following the guidelines provided. I've also tried to simplify the language and make it more accessible to a non-medical audience. Let me know if you have any further requests!\")]"
      ]
     },
     "execution_count": 41,
     "metadata": {},
     "output_type": "execute_result"
    }
   ],
   "source": [
    "# Load baseline_llama_3_2_3b results\n",
    "baseline_llama_3_2_3b = {}\n",
    "baseline_llama_3_2_3b_path = \"outputs/baseline_llama_3_2_3b\"\n",
    "\n",
    "# Get all JSON files in the baseline_llama_3_2_3b directory\n",
    "json_files = glob.glob(os.path.join(baseline_llama_3_2_3b_path, \"*.json\"))\n",
    "\n",
    "for json_file in json_files:\n",
    "    with open(json_file, 'r', encoding='utf-8') as f:\n",
    "        data = json.load(f)\n",
    "        # Extract cochrane_id and response\n",
    "        if 'cochrane_id' in data and 'response' in data and 'output' in data['response']:\n",
    "            cochrane_id = data['cochrane_id']\n",
    "            response = data['response']['output']\n",
    "            baseline_llama_3_2_3b[cochrane_id] = response\n",
    "\n",
    "# Print the first 3 key-value pairs\n",
    "list(baseline_llama_3_2_3b.items())[:3]"
   ]
  },
  {
   "cell_type": "markdown",
   "id": "b2b64dca",
   "metadata": {},
   "source": [
    "### Agentics"
   ]
  },
  {
   "cell_type": "markdown",
   "id": "0ab6ada6",
   "metadata": {},
   "source": [
    "### Gemini 2.5 Pro"
   ]
  },
  {
   "cell_type": "code",
   "execution_count": 125,
   "id": "ac1b07cd",
   "metadata": {},
   "outputs": [
    {
     "data": {
      "text/plain": [
       "[('CD015749.PUB2',\n",
       "  \"Can combining treatments like medicine, diet, and exercise help people with cachexia (severe weight and muscle loss from long-term illness)?\\n\\nKey messages\\n\\nIt is unclear if combining treatments like medicine, diet, and exercise helps people with cachexia (severe weight and muscle loss from long-term illness). This is because there is not enough good-quality evidence. We found not enough evidence to know if these combined treatments have benefits (like improving strength or weight) or cause unwanted effects.\\n\\nWe need larger and better-designed studies to find out if combining treatments is helpful and safe for people with cachexia. These studies should also follow people for longer to better understand the treatments' effects.\\n\\nWhat is disease-related wasting (cachexia)?\\n\\nPeople with long-term illnesses such as cancer, HIV/AIDS, kidney disease, and heart disease can develop a condition called cachexia. Cachexia is a complex problem of disease-related wasting. People with cachexia go through severe, unintentional weight loss, including the loss of muscle. They may also suffer from tiredness, loss of appetite, and a lower quality of life (how someone feels and functions day to day). Because cachexia has many causes, treatments that combine 2 or more approaches may be helpful. These treatments might include a combination of medicines, nutritional support, and exercise programmes, which are intended to work together to be more effective.\\n\\nWhat did we want to find out?\\n\\nWe wanted to find out if using combined treatments helps to relieve or stabilise cachexia in adults with a long-term illness. We also wanted to know if these treatments cause any unwanted effects.\\n\\nWhat did we do?\\n\\nWe searched for studies that compared treatments combining 2 or more approaches (such as medication, nutrition, or exercise) with usual treatment or a single treatment for cachexia. We then combined the results and rated our confidence in the evidence.\\n\\nWhat did we find?\\n\\nWe found 9 studies with a total of 926 adults (average age: 63 years) with long-term illnesses who have wasting (cachexia). The studies looked at treatments that combined 2 or more approaches, such as drugs, nutrition, and exercise.\\n\\nCompared with usual care, a different version of the combined treatment, or a single treatment, we do not know if these combined treatments affect physical function, strength, side effects, body weight, quality of life, appetite, or tiredness. The available evidence is very uncertain. We cannot draw any conclusions about the benefits or harms of using these combined treatments to manage cachexia.\\n\\nLimitations of the evidence\\n\\nWe are not confident in the evidence. It is possible that people in the studies knew which treatment they were getting. Also, the evidence does not cover all the people we were interested in, and the studies were very small.\\n\\nCurrency of the evidence\\n\\nThe evidence is up to date to July 2024.\"),\n",
       " ('CD013445.PUB2',\n",
       "  \"Comparing two types of surgery for kidney stones in adults: surgery through the back versus surgery through the urinary tract\\n\\nKey messages\\n- For adults with kidney stones, surgery through a small cut in the back (percutaneous nephrolithotomy, or PCNL) may be better at clearing stones. It may also lower the need for a second operation compared to surgery where a surgeon passes a thin tube through the urinary tract (retrograde intrarenal surgery, or RIRS). However, surgery through the back may lead to a longer hospital stay. There is probably little to no difference in major unwanted problems (complications) between the two surgeries.\\n- The evidence for most findings is not strong because of large weaknesses in the studies we found. Future research should be better designed. It should also look at how these treatments affect a person's quality of life (the overall enjoyment of life) and whether they lead to unplanned medical visits. No studies reported on these important outcomes.\\n\\nWhat are kidney stones and how are they treated?\\nKidney stones are hard deposits that form inside the kidneys. They can cause severe pain, block the flow of urine (obstruction), and lead to infections (when germs invade and grow in the body). When stones are too large to pass on their own, a person may need surgery. We compared two types of surgery for removing kidney stones in adults.\\n- In percutaneous nephrolithotomy (PCNL), a surgeon makes a small cut in the back. They then insert a tube directly into the kidney to break up and remove the stone.\\n- In retrograde intrarenal surgery (RIRS), a surgeon passes a thin, flexible telescope through the body's natural urinary passages to the kidney. The surgeon then uses a laser to break up the stone and removes the pieces.\\n\\nWhat did we want to find out?\\nWe wanted to find out how PCNL and RIRS compare for treating kidney stones in adults. We looked at which surgery was better at completely removing the stones, which had a lower risk of serious problems (complications), and which was less likely to require more treatments.\\n\\nWhat did we do?\\nWe searched for studies called randomized controlled trials. In these studies, researchers randomly put people into different treatment groups to compare them. We compared the two surgeries for treating kidney stones in adults. We then combined the results (findings) from these studies and rated our confidence in the evidence.\\n\\nWhat did we find?\\nWe found 42 trials with 4571 adults who had renal (kidney) stones. The average stone size ranged from 10.1 mm to 39.1 mm. The studies compared PCNL with RIRS. Most studies did not report who paid for their research. We found no studies that reported on unplanned medical visits or quality of life.\\n\\nWhen we compared PCNL to RIRS, we found that PCNL:\\n- may raise the number of people who are free of stones. For every 1000 people who have RIRS, about 770 become stone-free. PCNL may lead to about 100 more people becoming stone-free for every 1000 people treated.\\n- probably makes little to no difference to the number of major problems.\\n- may greatly lower the need for more procedures. For every 1000 people who have RIRS, about 222 need another procedure. PCNL may lead to about 153 fewer people needing another procedure for every 1000 people treated.\\n- may make the hospital stay longer.\\n- may make little to no difference to the risk of the ureter (the tube connecting the kidney to the bladder) becoming narrowed or injured.\\n\\nLimitations of the evidence\\nWe have little confidence in the evidence. This is because the studies did not provide data (information) about everything we were interested in. Also, the studies included different types of people and used different ways of doing the surgeries.\\n\\nEvidence currency\\nThe evidence is up to date to March 2023.\"),\n",
       " ('CD008472.PUB3',\n",
       "  \"For people having major blood vessel surgery, does temporarily restricting blood flow in a limb (remote ischaemic preconditioning) reduce harm?\\n\\nKey messages\\n- For people having major blood vessel surgery, the evidence suggests that temporarily restricting blood flow in a limb before the operation (a technique called remote ischaemic preconditioning) probably makes little to no difference in reducing serious harms like death, heart attack, kidney problems, or stroke.\\n- The technique also likely does not change how long people stay in the hospital or how long the surgery takes.\\n- We need larger and better-designed studies to be more certain about the effects of this technique and to focus on outcomes that matter most to patients (known as patient-centred outcomes).\\n\\nBackground\\n\\nWhy is major blood vessel surgery risky?\\nEven though medical care has improved, major surgery on blood vessels (arteries and veins) still carries a risk of serious problems or death. During these operations, the flow of blood to parts of the body can be temporarily reduced, which can damage vital organs.\\n\\nWhat is remote ischaemic preconditioning?\\nRemote ischaemic preconditioning (RIPC) is a technique that may help protect the body during surgery. It involves temporarily and repeatedly stopping the blood flow to a limb (like an arm or leg) using a cuff, similar to a blood pressure cuff. This is done before the main operation. The theory is that these short periods of reduced blood flow can trigger the body's own defences. This may help protect important organs from damage during the surgery.\\n\\nWhat did we want to find out?\\nWe wanted to find out about the benefits and harms of using RIPC for people having major blood vessel surgery. We compared people who received RIPC before their surgery with those who did not. We wanted to see if RIPC affected their risk of death, heart attack, kidney damage, stroke, or other problems.\\n\\nWhat did we do?\\nWe searched for studies called randomised controlled trials. These are studies where people are randomly put into different treatment groups. We looked for trials that compared RIPC with no preconditioning in people having major blood vessel surgery. We then combined the results and rated our confidence in the evidence.\\n\\nWhat did we find?\\nWe included 14 studies with a total of 1295 people. The people in the studies were having major surgery on their blood vessels, including minimally invasive procedures done inside the vessels (endovascular surgery). Their ages ranged from 64.5 to 76 years, and 84% were male.\\n\\nWe found that RIPC probably makes little to no difference to the risk of:\\n- death around the time of surgery;\\n- heart attack;\\n- kidney problems;\\n- stroke;\\n- limb loss.\\n\\nIt also likely does not change how long people stay in the hospital or how long the operation takes.\\n\\nWhat limits the evidence?\\nWe are only moderately confident in the evidence for a few reasons. First, there were not enough studies to be certain about the results. Second, the studies used different ways to apply the technique. Finally, studies with positive or interesting findings may have been more likely to be published than studies with negative results. This is known as publication bias, and it can mislead people about a treatment's benefits.\\n\\nHow up to date is this evidence?\\nThis review updates our previous review. The evidence is up to date to April 2022.\")]"
      ]
     },
     "execution_count": 125,
     "metadata": {},
     "output_type": "execute_result"
    }
   ],
   "source": [
    "# Load Gemini results\n",
    "gemini = {}\n",
    "gemini_path = \"outputs/agentic_old_gemini_2_5_pro\"\n",
    "\n",
    "# Get all JSON files in the gemini directory\n",
    "json_files = glob.glob(os.path.join(gemini_path, \"*.json\"))\n",
    "\n",
    "for json_file in json_files:\n",
    "    with open(json_file, 'r', encoding='utf-8') as f:\n",
    "        data = json.load(f)\n",
    "        # Extract cochrane_id and response\n",
    "        if 'cochrane_id' in data and 'response' in data and 'output' in data['response']:\n",
    "            cochrane_id = data['cochrane_id']\n",
    "            response = data['response']['output']\n",
    "            gemini[cochrane_id] = response\n",
    "\n",
    "# Print the first 3 key-value pairs\n",
    "list(gemini.items())[:3]"
   ]
  },
  {
   "cell_type": "markdown",
   "id": "2c21482b",
   "metadata": {},
   "source": [
    "### GPT-5"
   ]
  },
  {
   "cell_type": "code",
   "execution_count": 127,
   "id": "5f98e240",
   "metadata": {},
   "outputs": [
    {
     "data": {
      "text/plain": [
       "[('CD015749.PUB2',\n",
       "  'Title: Do combined treatments (medicine, diet, and exercise) help manage disease-related weight and muscle loss (cachexia)?\\n\\nKey messages\\n- We found too little reliable evidence to say that combined treatments (multimodal interventions: a treatment plan that combines 2 or more types of therapy, such as medicines, nutrition, and exercise) work better than usual care (the standard care a patient would normally get) or a single approach (one type of therapy). Unwanted effects (adverse events: an unwanted event that causes harm) were reported in some studies but the evidence is very uncertain.\\n- We saw no clear benefits for physical function (how well someone can do everyday activities like walking or climbing stairs), strength (the force muscles can produce), body weight, body composition (the amounts of muscle and fat), quality of life (how someone feels and functions day to day), appetite (desire to eat), fatigue (extreme tiredness), or biochemical markers (measurable substances in blood that show disease or response to treatment). Most studies were small, short, and done in people with cancer (diseases where abnormal cells grow out of control), so results may not apply to all long-term (chronic) illnesses.\\n- We need larger, well-designed randomized trials (studies that assign people by chance to different groups) in different long-term illnesses, with longer treatment and follow-up. Future studies should define cachexia clearly, measure outcomes that matter to patients, and report unwanted effects fully.\\n\\nWhat is cachexia and why is it a problem?\\nCachexia is severe, unintentional loss of body weight and muscle (a condition marked by loss of more than 10% of body weight and muscle in someone not trying to lose weight). It occurs with many long-term diseases such as cancer, HIV/AIDS (a disease caused by the human immunodeficiency virus), chronic kidney disease (when the kidneys slowly lose function), and COPD (chronic obstructive pulmonary disease: a long-term lung disease that makes breathing hard). Cachexia changes how the body uses energy. This makes it hard to keep or build muscle even when people eat more. People with cachexia often feel very tired, lose appetite, and find daily activities harder. Cachexia can lower quality of life and make it harder to cope with illness and treatment.\\n\\nWhat are multimodal treatments for cachexia?\\nNo single treatment reliably reverses cachexia. Care may include nutrition (the taking in and use of food by the body), exercise therapy (planned physical activity to improve strength and function), and medicines that may boost appetite or help build muscle. A multimodal intervention combines 2 or more of these at the same time. The aim is to keep or improve muscle and weight, increase strength and physical ability, reduce tiredness, improve appetite, and improve quality of life.\\n\\nWhat did we want to find out?\\nWe wanted to know whether combined programs for cachexia help more than usual care, a single treatment, or another version of a combined program. We looked at day-to-day physical ability, muscle strength, body weight and muscle mass, quality of life, appetite, tiredness, biochemical markers (measurable substances in blood), and unwanted effects (harms).\\n\\nHow did we do the review?\\nWe searched databases and trial registers up to July 2024 for randomized trials in adults with or at risk of cachexia. We included studies that tested combined nutrition/exercise/medicine programs against usual care, a single treatment, or another combined program. We summarized results for function, strength, weight, symptoms, and harms. We rated how confident we are in the evidence.\\n\\nWhat did we find?\\nWe found 9 randomized trials with 926 adults (average age 63). Most studies were in Europe and involved people with cancer. One study each included people with COPD, chronic kidney disease, or HIV/AIDS. Treatments lasted from 6 weeks to about 3 to 7 months. Outcomes were measured at the end of treatment. Across studies, we found no clear differences between combined care and comparison treatments for physical function, strength, body weight, body composition, quality of life, appetite, fatigue, biochemical markers, or harms. Most results came from small, short studies with design limits. The evidence is very uncertain. We cannot say whether multimodal interventions help, harm, or make no difference.\\n\\nWhat are the limitations?\\nPeople in the studies may have known which treatment they got. Not all studies reported all outcomes we wanted. Studies were small and few. The evidence does not cover all patient groups or illnesses.\\n\\nWhat does this mean?\\nWe need larger, well-designed randomized trials in different long-term illnesses, with longer treatment and follow-up. Future studies should define cachexia clearly, measure outcomes that matter to patients (daily function and well-being), and report unwanted effects fully.\\n\\nCurrency\\nThe evidence is up to date to July 2024.'),\n",
       " ('CD013445.PUB2',\n",
       "  'Title: Is surgery through a small cut in the back into the kidney (percutaneous nephrolithotomy, PCNL) better than using a thin scope up the urinary tract into the kidney (retrograde intrarenal surgery, RIRS) for treating kidney stones in adults?\\n\\nKey messages\\n- PCNL (a surgical procedure that removes kidney stones by making a small cut in the back and using a tube and camera to reach and break or remove stones; percutaneous means through the skin) may clear stones more completely (stone-free rate: the percentage of people with no detectable stone fragments on follow-up imaging) and may reduce the need for another procedure (secondary interventions: extra procedures after the first treatment) compared with RIRS (a procedure that uses a thin flexible scope passed through the urethra and bladder up into the ureter and kidney to break stones, often with a laser; retrograde means moving against the normal flow of urine and intrarenal means inside the kidney).\\n- PCNL probably makes little to no difference to serious problems (major complications: serious surgery-related problems that may need major treatment). PCNL may increase hospital stay slightly (mean difference: the average difference between groups; reported here as about 1.04 days). We have low confidence in most results (GRADE criteria: a system for rating how sure we are about study findings).\\n\\nWhat are kidney stones and how are they usually treated?\\nKidney stones are hard deposits that form in the kidneys (kidney: one of a pair of organs that remove waste and extra water from the blood). Stones can cause severe pain, block urine flow (obstruction: a blockage of a passageway), and lead to infection (infection: growth of germs in the body). Small stones may pass with pain relief and fluids. Larger or troublesome stones may need treatments such as shock wave lithotripsy (a non-surgical treatment that uses focused sound waves from outside the body to break stones), RIRS, or PCNL.\\n\\nWhat are PCNL and RIRS?\\n- PCNL (percutaneous nephrolithotomy): The surgeon makes a small cut in the back and creates a tunnel into the kidney to remove or break stones. PCNL access size is measured in French gauge (Fr: unit for instrument width; 1 Fr ≈ 0.33 mm). Standard PCNL uses about ≥24 Fr; mini-PCNL uses about 15–23 Fr; ultra-mini, super-mini, or micro-PCNL use <15 Fr (smaller numbers mean smaller instruments).\\n- RIRS (retrograde intrarenal surgery): A thin flexible ureteroscope goes through the urethra and bladder up the ureter (the tube that carries urine from the kidney to the bladder) into the kidney to break stones and remove fragments.\\n- Ureteral stricture (a narrowing or scar in the ureter) and ureteral injury (damage such as a tear or burn) are possible harms of these procedures.\\n\\nWhat did we want to find out?\\nWe wanted to know, in adults with kidney stones, whether PCNL or RIRS clears stones better, which is safer, whether people need extra procedures, how long they stay in hospital, and how treatment affects daily life (quality of life: how someone feels and functions day to day). We also looked for unplanned medical visits (unexpected trips to emergency, urgent care, or a clinic after treatment).\\n\\nHow did we do the review?\\nWe searched multiple databases and trial registries for randomized controlled trials (RCTs: people are randomly assigned to different treatments so researchers can fairly compare results). We combined results using standard methods (including random-effects models: a way to pool studies while allowing effects to vary). We assessed consistency across studies (I2: a statistic that shows how much study results disagree) and reported measures such as risk ratio (which compares the chance of an outcome between two groups) and confidence intervals (the range where results are likely to fall). We rated our confidence using GRADE criteria.\\n\\nWhat did we find?\\n- We found 42 RCTs with 4,571 adults. Average stone size ranged from 10.1 mm to 39.1 mm. Most studies that reported access size used PCNL tracts <24 Fr (mini or smaller). Twenty-two reports were full articles and 20 were conference abstracts.\\n- PCNL may increase the chance of being stone free after treatment.\\n- PCNL probably makes little to no difference to major complications.\\n- PCNL may greatly reduce the need for secondary interventions.\\n- PCNL may increase hospital stay by about a mean difference of 1.04 days.\\n- PCNL may make little to no difference to ureteral stricture or ureteral injury.\\n- No studies reported unplanned medical visits or quality of life.\\n\\nHow sure are we?\\nWe have low confidence in most results. Many studies were small. Some had design problems and may not have kept people unaware of which treatment they received. Studies used different techniques and did not report all outcomes. These issues lower our certainty (GRADE criteria). We also noted variability across studies (I2) and limited reporting of key measures.\\n\\nWhat should happen next?\\nWe recommend larger, well-designed RCTs that compare PCNL and RIRS across different stone sizes and locations. Studies should use clear imaging (X-ray, ultrasound, or CT) to assess stone-free status. Trials should report outcomes that matter to patients: pain, time to return to normal activities, unplanned medical visits, quality of life, and harms, with longer follow-up. Researchers should report funding and conflicts of interest.\\n\\nHow current is the evidence?\\nThe searches are up to date to March 2023.'),\n",
       " ('CD008472.PUB3',\n",
       "  \"Title:\\nDoes briefly stopping blood flow to an arm or leg before planned major blood vessel surgery (remote ischaemic preconditioning — a technique where brief, controlled interruptions of blood flow, usually to an arm or leg, are used before a procedure to help protect other organs) reduce deaths and complications?\\n\\nKey messages:\\n- In people having planned major blood vessel (vascular — relating to the body's blood vessels) surgery, briefly stopping blood flow to a limb before the operation (remote ischaemic preconditioning, RIPC) does not clearly reduce deaths or major problems around the time of surgery (perioperative — around the time of surgery). Major problems include heart attack (myocardial infarction — an interruption in the blood supply to the heart), kidney problems (renal impairment — related to the kidneys), stroke (damage to blood vessels in the brain), or loss of a limb (amputation). Trials did not clearly report harms from the cuff procedure itself. The evidence suggests little or no difference, but it is not strong enough to rule out small benefits or harms.\\n- The studies did not show clear effects on how long people stayed in hospital or on how long the operation and anaesthetic (a medicine that prevents people feeling pain) lasted. These findings mainly apply to older adults having planned (elective — scheduled, non-emergency) operations on large blood vessels.\\n- We need larger, well-designed studies that focus on outcomes that matter to patients (survival; heart, brain, and kidney problems; recovery and quality of life), that clearly report any harms from the cuff procedure, and that follow people for longer after surgery.\\n\\nIntroduction and aims\\n\\nWhat are major vascular and endovascular operations, and why can they be risky?\\n- Vascular (relating to blood vessels) surgery treats the body's arteries and veins. Endovascular (procedures done inside blood vessels using thin tubes and instruments) surgery uses small tubes inside the vessels instead of open surgery. These operations repair aneurysms (ballooning of an artery) or improve blood flow in blocked arteries. Even when planned, they can cause serious problems around the time of surgery (perioperative). These problems include heart attack (myocardial infarction), stroke, kidney damage (renal impairment), loss of a limb (amputation), longer hospital stays, and sometimes death.\\n\\nWhat is remote ischaemic preconditioning (RIPC)?\\n- Ischaemia (a shortage of blood and oxygen reaching part of the body) can damage tissue if it lasts too long. RIPC uses short, controlled periods of reduced blood flow to a limb (often by inflating a blood pressure cuff) before surgery. The idea is that these brief episodes trigger the body’s protective responses. This may help tissues cope better with later, longer reduced blood flow during surgery. RIPC is low cost and easy to do.\\n\\nWhat did we want to find out?\\n- We wanted to know whether RIPC before planned major vascular or endovascular surgery helps patients compared with no RIPC. We looked for effects on death around surgery (perioperative mortality — the number of deaths around the surgery), heart attack (myocardial infarction), kidney problems (renal impairment), stroke, loss of a limb (amputation), length of hospital stay, and time in the operating room or under anaesthesia. We also looked for any harms from RIPC.\\n\\nMethods\\n- We searched medical databases and trial registries (organized lists of research information) up to April 2022 for studies that compared RIPC with no RIPC before planned major vascular or endovascular surgery. We combined results where possible and rated how certain the evidence is.\\n\\nResults\\n\\nWhat did we find?\\n- We found 14 randomised controlled trials (RCTs — studies where people are randomly assigned to treatments) that included 1,295 adults having elective major vascular or endovascular surgery. The trials ran from 2003 to 2019. Participants were mostly older adults (average ages 64.5 to 76 years) and mostly men (84%).\\n- The trials compared RIPC (briefly stopping blood flow to a limb) with no RIPC. They measured death during or soon after surgery, heart attack, kidney problems, stroke, losing a limb (amputation), hospital stay length, and time in theatre or under anaesthesia.\\n- Overall, RIPC probably makes little to no difference to death during or soon after surgery. It probably makes little to no difference to heart attack, kidney problems, and stroke around the time of surgery. It may make little to no difference to losing a limb. It probably makes little to no difference to how long people stay in hospital or how long the operation and anaesthetic take. The certainty of the evidence was moderate for most outcomes and low for limb loss.\\n\\nLimitations\\n- We are moderately confident in the evidence. The evidence is limited by few events, differences between studies (for example, different RIPC methods and different types of patients), and the risk that the available trials may overestimate benefits (bias — flaws in a study that favour one conclusion). Many trials did not report harms from the cuff procedure clearly.\\n\\nCurrency\\n- This review updates our previous review. The evidence is up to date to April 2022.\")]"
      ]
     },
     "execution_count": 127,
     "metadata": {},
     "output_type": "execute_result"
    }
   ],
   "source": [
    "# Load gpt_5 results\n",
    "gpt_5 = {}\n",
    "gpt_5_path = \"outputs/agentic_old_gpt_5\"\n",
    "\n",
    "# Get all JSON files in the gpt_5 directory\n",
    "json_files = glob.glob(os.path.join(gpt_5_path, \"*.json\"))\n",
    "\n",
    "for json_file in json_files:\n",
    "    with open(json_file, 'r', encoding='utf-8') as f:\n",
    "        data = json.load(f)\n",
    "        # Extract cochrane_id and response\n",
    "        if 'cochrane_id' in data and 'response' in data and 'output' in data['response']:\n",
    "            cochrane_id = data['cochrane_id']\n",
    "            response = data['response']['output']\n",
    "            gpt_5[cochrane_id] = response\n",
    "\n",
    "# Print the first 3 key-value pairs\n",
    "list(gpt_5.items())[:3]"
   ]
  },
  {
   "cell_type": "markdown",
   "id": "fece745a",
   "metadata": {},
   "source": [
    "### New Agentic Gemini 2.5 Pro"
   ]
  },
  {
   "cell_type": "code",
   "execution_count": 128,
   "id": "3af03524",
   "metadata": {},
   "outputs": [
    {
     "data": {
      "text/plain": [
       "[('CD015749.PUB2',\n",
       "  \"Can combined medicine, diet, and exercise improve outcomes for people with cachexia?\\n\\n- Due to a lack of robust evidence, it is unclear whether combining treatments such as medicine, diet, and exercise helps people with cachexia (severe weight and muscle loss caused by long-term illness). The evidence was not strong enough to determine the benefits or unwanted effects of these combined treatments.\\n- Larger, well-designed studies are needed to find out if combining different types of treatments can help manage cachexia in people with various long-term illnesses.\\n\\nWhat is disease-related wasting (cachexia)?\\nCachexia is a condition of severe weight and muscle loss, also known as 'disease-related wasting'. It can happen to people with long-term illnesses such as cancer, HIV/AIDS, kidney disease, heart disease, and chronic obstructive pulmonary disease (COPD). People with cachexia lose weight and muscle without meaning to, feel very tired, lose their appetite, and have a lower quality of life. One possible way to treat cachexia is to use several treatments at once, such as medicines, nutritional support (diet changes), and exercise. The idea is that these treatments might work better together than on their own.\\n\\nWhat did we want to find out?\\nWe wanted to find out if using a combination of treatments (known as multimodal interventions) helps to relieve or control cachexia in adults with a chronic illness. We also wanted to know if these combined treatments cause any harm or unwanted effects.\\n\\nHow did we conduct this review?\\nWe searched for studies that tested treatments for cachexia using a combination of approaches, such as medicine, diet, and exercise. We compared and summarized the results of these combined treatments against usual care or single treatments, and rated our confidence in the evidence.\\n\\nWhat did we find?\\nThe review included 9 studies with a total of 926 adults with cachexia (disease-related wasting). The participants had various chronic illnesses, including cancer, COPD, chronic kidney disease, and HIV/AIDS. The studies assessed a combination of treatments (such as drugs, nutrition, and exercise) and compared them to usual treatment or a single treatment. The evidence is very uncertain, so for people with cachexia, we do not know if using a combination of treatments has an effect on their physical function, strength, body weight, appetite, or fatigue. It is also unclear whether these combined treatments cause more or fewer unwanted side effects.\\n\\nWe have little confidence in the evidence for several reasons. It is possible that people in the studies were aware of which treatment they were getting. Also, most studies focused on people with cancer, so the results may not apply to those with other long-term illnesses that cause cachexia. Finally, the studies were very small.\\n\\nThis review includes evidence published up to July 2024.\"),\n",
       " ('CD013445.PUB2',\n",
       "  \"Which type of surgery is better for removing kidney stones in adults: surgery through a small cut in the back (percutaneous nephrolithotomy) or surgery through the urinary tract with a scope (retrograde intrarenal surgery)?\\n\\nKey messages\\n\\n- Compared to surgery with a scope, surgery through the back may lead to more people being stone-free and may mean people are much less likely to need a second operation. However, this procedure may lead to a longer hospital stay. There is probably little or no difference between the two types of surgery in the risk of major complications.\\n- Because of weaknesses in the design of the included studies, our confidence in these results is limited. Future research should measure how these surgeries affect people's quality of life and whether they lead to unplanned medical visits, as we found no information on these important outcomes.\\n\\nWhat are kidney stones and how are they treated?\\nKidney stones are hard deposits that form inside the kidneys. They can cause pain, block the flow of urine, and lead to infections. Treatment for kidney stones depends on their size and location. Two common surgical methods are surgery through the back and surgery with a scope. In surgery through the back (percutaneous nephrolithotomy), a surgeon makes a small cut in the person's back and creates a tunnel directly into the kidney to remove the stone. In surgery with a scope (retrograde intrarenal surgery), a surgeon passes a thin, flexible viewing tube through the body's natural urinary passages to the kidney to break up and remove the stone.\\n\\nWhat did we want to find out?\\nWe wanted to compare the two surgical procedures, surgery through the back and surgery with a scope, for treating kidney stones in adults. We wanted to know which procedure was better at getting rid of the stones completely, which had more serious side effects (complications), and whether people needed more treatment afterwards.\\n\\nHow did we conduct this review?\\nWe searched for studies called randomized controlled trials (where people are put into treatment groups by chance) that compared two types of surgery for kidney stones in adults. We compared and summarized the results of these studies. We then rated our confidence in the overall evidence based on factors like study methods and size.\\n\\nWhat did we find?\\nWe found 42 trials that included 4571 adults with kidney stones. These studies compared surgery through the back with surgery with a scope. The average stone size ranged from 10.1 mm to 39.1 mm. Most of the included studies did not provide information on their funding sources.\\n\\nWhen comparing the two procedures, we found that surgery through the back:\\n- may lead to more people being stone-free.\\n- may mean people are much less likely to need a second operation.\\n- may lead to a longer hospital stay.\\n- probably makes little or no difference to the risk of major complications.\\n- may make little or no difference to the risk of injury to the tube that carries urine from the kidney (ureteral stricture).\\n\\nWe found no evidence about the effect of either procedure on unplanned medical visits or quality of life.\\n\\nWhat are the limitations of the evidence?\\nWe have little confidence in the evidence because not all studies provided the data we were interested in. Also, the studies included people with a wide range of stone sizes and used surgical tools of various sizes, which makes it hard to be certain how well each procedure works in specific situations.\\n\\nHow up to date is this evidence?\\nThis evidence is up to date to March 2023.\"),\n",
       " ('CD008472.PUB3',\n",
       "  \"For people having major blood vessel surgery, does temporarily restricting blood flow to a limb (remote ischaemic preconditioning) before the operation reduce complications?\\n\\nKey messages\\n- For people having major surgery on their blood vessels, the evidence suggests that temporarily restricting blood flow to a limb before the operation (remote ischaemic preconditioning) probably makes little to no difference to the risk of serious complications like death, heart attack, kidney problems, or stroke.\\n- Larger, well-designed studies are needed to be more certain about the effects of this procedure and to focus on outcomes that are important to patients.\\n\\nWhat is remote ischaemic preconditioning and why is it used in major vascular surgery?\\nMajor surgery on blood vessels (vascular surgery) carries a significant risk of serious complications and even death. One technique that might help protect the body during these operations is called remote ischaemic preconditioning (RIPC). This involves temporarily blocking the blood flow to a limb, like an arm or leg, for short periods before the surgery. The theory is that this action helps prepare the body's tissues to better withstand the reduced blood flow that can occur during the main surgical procedure. However, it is not clear if this technique is truly effective or safe for people undergoing vascular surgery.\\n\\nWhat did we want to find out?\\nWe wanted to find out what the benefits and harms of using remote ischaemic preconditioning (RIPC) are for people having major vascular surgery. We compared people who received RIPC with those who did not, to see if it made a difference to outcomes such as death, heart attack, kidney problems, stroke, and limb loss after the operation.\\n\\nHow did we conduct this review?\\nWe searched for studies called randomized controlled trials (where people are assigned to a treatment group by chance) that compared remote ischaemic preconditioning with no preconditioning in people having major vascular surgery. We combined and summarized the results, and rated our confidence in the evidence.\\n\\nWhat did we find?\\nThe review included 14 studies with a total of 1295 participants undergoing elective major vascular and endovascular surgery. The participants' age ranged from 64.5 to 76 years, and 84% were male. The studies compared remote ischaemic preconditioning (RIPC) with no RIPC and found that RIPC probably makes little to no difference to death around the time of surgery, heart attack, kidney problems, stroke, length of hospital stay, or the duration of the operation. It may make little to no difference to the risk of limb loss.\\n\\nWhat are the limitations of the evidence?\\nWe are moderately confident in our findings. Our confidence is limited because there were few cases of the complications we were interested in, and the studies included different types of people. Also, the studies we found may represent only a small portion of the research on this topic. It is likely that studies with positive results were more likely to be published, which could exaggerate the benefits of the treatment.\\n\\nHow up-to-date is this evidence?\\nThis review updates our previous review. The evidence is up to date to April 2022.\")]"
      ]
     },
     "execution_count": 128,
     "metadata": {},
     "output_type": "execute_result"
    }
   ],
   "source": [
    "# Load agentic_gemini_2_5_pro results\n",
    "agentic_gemini_2_5_pro = {}\n",
    "agentic_gemini_2_5_pro_path = \"outputs/agentic_gemini_2_5_pro\"\n",
    "\n",
    "# Get all JSON files in the agentic_gemini_2_5_pro directory\n",
    "json_files = glob.glob(os.path.join(agentic_gemini_2_5_pro_path, \"*.json\"))\n",
    "\n",
    "for json_file in json_files:\n",
    "    with open(json_file, 'r', encoding='utf-8') as f:\n",
    "        data = json.load(f)\n",
    "        # Extract cochrane_id and response\n",
    "        if 'cochrane_id' in data and 'response' in data and 'output' in data['response']:\n",
    "            cochrane_id = data['cochrane_id']\n",
    "            response = data['response']['output']\n",
    "            agentic_gemini_2_5_pro[cochrane_id] = response\n",
    "\n",
    "# Print the first 3 key-value pairs\n",
    "list(agentic_gemini_2_5_pro.items())[:3]"
   ]
  },
  {
   "cell_type": "markdown",
   "id": "97787755",
   "metadata": {},
   "source": [
    "### GPT-OSS-120B"
   ]
  },
  {
   "cell_type": "code",
   "execution_count": 129,
   "id": "2dc26827",
   "metadata": {},
   "outputs": [
    {
     "data": {
      "text/plain": [
       "[('CD015749.PUB2',\n",
       "  'Are combined drug, nutrition, and exercise treatments effective for managing weight loss and muscle wasting (cachexia) in people with chronic illnesses?\\n\\nWhat are the main findings?\\n- The combined programmes (multimodal interventions – treatments that combine medicines, special nutrition, and exercise) did not clearly improve weight, muscle loss, physical function, strength, quality of life, or the chance of side‑effects.\\n- Comparing these programmes with a single treatment or with a different version of the programme also showed no clear benefits.\\n- Most evidence comes from a small number of trials, mainly in people with cancer, and the studies were short and had design weaknesses. Larger, well‑designed trials that follow people for longer and include more chronic conditions are needed.\\n\\nWhat is cachexia and why does it matter?\\nCachexia, also called disease‑related wasting, is a serious condition that can develop in people with long‑term illnesses such as cancer, HIV/AIDS, kidney disease, heart disease, or chronic lung disease (COPD). It means the body loses weight and muscle even when a person eats enough, leading to fatigue, loss of appetite, and a poorer quality of life. Because loss of muscle and strength makes everyday activities harder and can worsen the underlying illness, finding ways to treat or stop cachexia is an important health challenge.\\n\\nWhat treatments are currently used for cachexia?\\nDoctors usually try several separate approaches: medicines that may affect metabolism, special nutrition plans that boost calories and protein, and exercise programmes that preserve muscle. Each approach can help a little, but they often do not fully stop the wasting. Researchers think that combining two or more of these strategies – called a multimodal intervention – might work better because the different parts could support each other.\\n\\nWhat did the review aim to find out?\\nWe wanted to know whether multimodal programmes that mix medicines, nutrition, and/or exercise improve outcomes for people with cachexia. Specifically, we looked at whether these combined treatments help people walk farther or lift more weight (physical function and strength), reduce side‑effects, improve body composition, weight, appetite, fatigue, quality of life, or relevant lab tests, and whether any harms were linked to the combined approaches.\\n\\nHow did we find the evidence?\\nWe searched major medical databases and trial registers for randomised controlled trials that compared multimodal programmes with usual care, a variation of the programme, or a single‑component treatment in adults with cachexia. Two reviewers independently screened studies, extracted data, and assessed risk of bias. We then combined the findings and rated our confidence in the evidence (certainty of evidence) based on study methods, sample sizes, and other factors.\\n\\nWhat did we find?\\nWe identified nine trials involving 926 adults (average age about 63\\u202fyears). Six trials enrolled people with cancer; the others involved COPD, chronic kidney disease, or HIV/AIDS. Sample sizes ranged from 20 to 332 participants, and interventions lasted from six weeks to seven months. All trials tested multimodal programmes that included at least two of the following: medication, nutrition support, and exercise.\\nWe found that these programmes probably make little or no difference to:\\n- how well people can move,\\n- their muscle strength,\\n- body composition,\\n- weight,\\n- appetite,\\n- fatigue,\\n- quality of life,\\n- and the chance of side‑effects.\\nThe certainty of this conclusion is very low, so we cannot be sure about the true effect.\\n\\nWhat are the limitations of the evidence?\\nWe judged all outcomes to have very low‑certainty evidence because we downgraded them once for risk of bias or indirectness and twice for imprecision. Participants often knew which treatment they received, which can bias results. Not all studies reported every outcome we were interested in, and the small size of the trials limits reliability. The evidence does not cover all possible people, interventions, comparators, or outcomes.\\n\\nHow up‑to‑date is this review?\\nWe searched up to July\\u202f2024, and that is the date of our most recent search.'),\n",
       " ('CD013445.PUB2',\n",
       "  'Is going through the skin to remove kidney stones (percutaneous nephrolithotomy) better than using a scope through the urinary tract (retrograde intrarenal surgery) for adults with kidney stones?\\n\\nKey messages\\n- Percutaneous nephrolithotomy (PCNL) – a stone‑removal procedure done through a small incision in the back – may increase the chance of being completely stone‑free and may reduce the need for another procedure, while serious (major) complications appear similar to retrograde intrarenal surgery (RIRS).\\n- PCNL may keep you in hospital about one day longer than RIRS.\\n- The evidence is limited; we need larger, higher‑quality trials that also look at quality of life and costs.\\n\\nWhat are kidney stones and how are they usually treated?\\nKidney stones – also called renal stones – are hard mineral deposits that form inside the kidneys. They can cause severe pain, block urine flow, and lead to infection. Small stones may pass on their own, but larger or troublesome stones often need an active procedure. Common options include:\\n- Shock‑wave lithotripsy – sound waves break the stone into tiny pieces that can be passed in the urine.\\n- Retrograde intrarenal surgery (RIRS) – a thin tube (ureteroscope) is passed up through the urethra and bladder into the kidney, where a laser breaks the stone. This is a “through‑the‑urethra” approach.\\n- Percutaneous nephrolithotomy (PCNL) – a small incision is made in the back and a tube is inserted directly into the kidney to remove or break the stone. The tube size is measured in French gauge (Fr); larger tubes (≥24\\u202fFr) are called standard PCNL, while smaller tubes (15–23\\u202fFr or <15\\u202fFr) are mini‑ or micro‑PCNL.\\n\\nWhat did the researchers want to find out?\\nWe compared PCNL and RIRS in adults with kidney stones to see which method:\\n- Gives a higher stone‑free rate (more patients left without any stone fragments).\\n- Leads to fewer major complications (serious side‑effects such as significant bleeding or organ injury).\\n- Reduces the need for secondary interventions (additional procedures after the first treatment).\\n- Affects other outcomes such as length of hospital stay, ureteral injury, unplanned medical visits, and quality of life.\\n\\nHow did we find the evidence?\\nWe searched several databases for randomised controlled trials that compared PCNL with RIRS in adults. Two reviewers independently selected studies, extracted data, and combined the results. We rated our confidence in each result using the GRADE approach.\\n\\nWhat did we find?\\n- Stone‑free rate: About 10 more patients per 100 are stone‑free after PCNL than after RIRS.\\n- Major complications: Serious complications are almost the same for both procedures – PCNL results in about 6 fewer major complications per 1,000 patients compared with RIRS.\\n- Need for secondary procedures: Roughly 15 fewer patients per 100 need another procedure after PCNL.\\n- Length of hospital stay: PCNL may add about one extra day in the hospital compared with RIRS.\\n- Ureteral stricture or injury: PCNL probably makes little or no difference to this risk.\\n- Unplanned medical visits and quality of life: No trial reported these outcomes.\\n\\nWhat are the limitations of the evidence?\\nMany of the studies were small, some participants knew which treatment they received, and follow‑up was limited. Because of these shortcomings, we have low confidence in most results.\\n\\nWhat does this mean for patients?\\nPCNL gives a higher chance of being stone‑free and may reduce the need for another procedure, but it may keep you in hospital a little longer. Serious complications appear similar between the two methods. We do not have data on how either procedure affects daily living or quality of life.\\n\\nHow current is the evidence?\\nWe searched the literature up to March\\u202f2023, so the evidence reflects studies published up to that date.'),\n",
       " ('CD008472.PUB3',\n",
       "  'Does remote ischaemic preconditioning (temporarily blocking blood flow to a part of the body away from the surgery) improve outcomes compared with no preconditioning in major blood‑vessel (vascular) surgery?\\n\\nKey messages\\n- Remote ischaemic preconditioning (RIPC) probably makes little or no difference to the risk of death around the time of surgery, heart attacks (myocardial infarction), kidney problems (renal impairment), strokes, loss of a limb, length of hospital stay, or the time needed for the operation, and we found no specific harmful effects.\\n- we are moderately confident in these findings, but the evidence is imprecise because the studies were small and varied.\\n- The evidence comes from 14 randomised trials that together enrolled 1,295 adults (average age 64.5 to 76\\u202fyears, 84\\u202f% male). The trials were of moderate quality but differed in how RIPC was applied.\\n- Larger, well‑designed randomised trials that focus on important clinical outcomes and patient‑centred measures are needed to determine whether RIPC could provide any real benefit in major vascular surgery.\\n\\nWhy are major vascular and endovascular surgeries a health concern?\\nWe perform elective major vascular surgery (operations on large blood vessels such as the aorta, leg arteries, or carotid arteries) and endovascular procedures (minimally‑invasive techniques that use catheters inside the vessels) to treat serious conditions like aneurysms, blockages, or peripheral artery disease. Even with modern peri‑operative care (care around the time of surgery), these operations carry a high risk of serious complications and death. Patients can experience heart attacks, kidney problems, strokes, loss of a limb, or long hospital stays after surgery.\\n\\nWhat is remote ischaemic preconditioning (a short, repeated interruption of blood flow) and how might it help?\\nRIPC is a simple technique that briefly blocks blood flow to a part of the body that is not being operated on. We usually inflate a blood pressure cuff on an arm or leg for a few minutes and then release it. This brief blockage (ischaemia) is thought to trigger protective mechanisms that make the heart, kidneys, brain and other organs more resistant to longer periods of reduced blood flow that can occur during major surgery. Researchers hope that RIPC could lower the chance of complications such as heart attacks, kidney injury, or stroke after vascular surgery.\\n\\nWhat did the review set out to discover?\\nWe wanted to find out whether giving patients RIPC before elective major vascular or endovascular surgery improves outcomes compared with not giving RIPC. Specifically, we examined whether RIPC reduces peri‑operative mortality (death around the time of surgery) and serious complications such as myocardial infarction, renal impairment, stroke, limb loss, length of hospital stay, and the time needed for the operation or anaesthesia. We also looked for any potential harms associated with the technique.\\n\\nHow did we find the evidence?\\nWe searched the Cochrane Vascular Specialized Register, CENTRAL, MEDLINE, Embase, CINAHL and trial registries for randomised controlled trials that compared RIPC with no preconditioning in elective major vascular or endovascular surgery. We combined the results and rated our confidence in the evidence using the GRADE approach.\\n\\nWhat did we find?\\nWe identified 14 randomised trials that enrolled a total of 1,295 participants (age range 64.5 to 76\\u202fyears; 84\\u202f% male). All trials compared RIPC applied before surgery with a control condition of no RIPC. The evidence suggests that RIPC probably makes little or no difference to the chance of dying around the time of surgery, having a heart attack, developing kidney problems, experiencing a stroke, length of hospital stay, or how long the operation or anaesthetic takes. It may also make little or no difference to the risk of losing a limb. The certainty of the evidence is moderate for most outcomes and low for limb loss.\\n\\nWhat are the limitations of the evidence?\\nWe are moderately confident in the evidence, but the studies were very small, involved different types of patients, and used different ways of delivering RIPC. Because only a limited number of trials are available, the results may over‑estimate any benefit.\\n\\n- The trials varied in patient characteristics and RIPC protocols.\\n- Small sample sizes lead to imprecise estimates.\\n- Publication bias may affect the findings.\\n\\nHow current is the evidence?\\nThis review updates our previous review and includes studies up to April 2022.')]"
      ]
     },
     "execution_count": 129,
     "metadata": {},
     "output_type": "execute_result"
    }
   ],
   "source": [
    "# Load agentic_gpt_oss_120b results\n",
    "agentic_gpt_oss_120b = {}\n",
    "agentic_gpt_oss_120b_path = \"outputs/agentic_gpt_oss_120b\"\n",
    "\n",
    "# Get all JSON files in the agentic_gpt_oss_120b directory\n",
    "json_files = glob.glob(os.path.join(agentic_gpt_oss_120b_path, \"*.json\"))\n",
    "\n",
    "for json_file in json_files:\n",
    "    with open(json_file, 'r', encoding='utf-8') as f:\n",
    "        data = json.load(f)\n",
    "        # Extract cochrane_id and response\n",
    "        if 'cochrane_id' in data and 'response' in data and 'output' in data['response']:\n",
    "            cochrane_id = data['cochrane_id']\n",
    "            response = data['response']['output']\n",
    "            agentic_gpt_oss_120b[cochrane_id] = response\n",
    "\n",
    "# Print the first 3 key-value pairs\n",
    "list(agentic_gpt_oss_120b.items())[:3]"
   ]
  },
  {
   "cell_type": "markdown",
   "id": "12292733",
   "metadata": {},
   "source": [
    "### GPT-OSS 20b"
   ]
  },
  {
   "cell_type": "code",
   "execution_count": 37,
   "id": "76d9b4c4",
   "metadata": {},
   "outputs": [
    {
     "data": {
      "text/plain": [
       "[('CD015749.PUB2',\n",
       "  'Are combined treatments (drugs, nutrition, and exercise) effective for managing cachexia (severe weight and muscle loss) in people with chronic illnesses?\\n\\nKey messages?\\n– Current research does not show clear benefits of combined drug, nutrition and exercise programmes for people with cachexia, and information on possible side‑effects is limited.  \\n– Most studies involved people with cancer, lasted only a few weeks to months, and may not apply to other long‑term illnesses or to longer treatment periods.  \\n– Larger, well‑designed randomised trials that follow participants for longer are needed to determine whether combined treatments are safe and effective.\\n\\nWhat is cachexia and why does it matter?\\nCachexia, also called disease‑related wasting, is a serious condition that often develops in people with long‑term illnesses such as cancer, HIV/AIDS, kidney disease, heart disease, and chronic obstructive pulmonary disease (COPD). It causes unintentional loss of body weight and muscle, persistent tiredness, loss of appetite, and a lower quality of life. Because metabolism is disturbed, simply eating more or exercising alone usually does not stop the decline. Traditional care often focuses on a single approach – for example, a drug, a special diet, or an exercise programme – but these single treatments have limited success.\\n\\nWhat did we aim to find out?\\nWe wanted to know whether “multimodal” interventions – programmes that combine two or more treatments such as medication, nutrition support, and exercise – are more effective and safe for people with cachexia than usual care, a single treatment, or a different combination of treatments. We looked at physical function (how well a person can move and perform daily tasks), muscle strength, body weight, quality of life, appetite, fatigue, and other health markers, while also monitoring any unwanted side effects.\\n\\nWhat did we do?\\nWe searched major medical databases and trial registers for randomised controlled trials that tested multimodal interventions in adults with cachexia. We combined the results for outcomes such as physical function, weight and quality of life. We rated our confidence in the evidence using GRADE (Grading of Recommendations, Assessment, Development and Evaluations), a standard system for judging how reliable the findings are.\\n\\nWhat did we find?\\nWe identified nine trials that together included 926 adults (average age about 63\\u202fyears). Six trials were conducted in Europe, and one each in Turkey, New\\u202fZealand and the United\\u202fStates. The participants had cancer (six trials) or, in single trials, COPD, chronic kidney disease, or HIV/AIDS. All interventions combined at least two of medication, nutritional support and exercise, and they were compared with usual care, a different multimodal programme, or a single‑component approach. Follow‑up periods ranged from six\\u202fweeks to seven\\u202fmonths.\\n\\nThe evidence from these small trials is very uncertain. We do not know whether the combined programmes improve movement, muscle size, weight, appetite, fatigue, quality of life, or the risk of side‑effects compared with usual care or other treatments.\\n\\nWhat are the limitations of the evidence?\\nMany studies were small and participants likely knew which treatment they received, which can bias results. Not all trials reported every outcome we were interested in, and the evidence does not cover all types of chronic illness, interventions or comparators. Because of these issues, we are not confident in the findings.\\n\\nHow current is the evidence?\\nWe searched up to July\\u202f2024, so the evidence reflects studies published up to that date.\\n\\nIn summary, current evidence does not provide clear proof that combined drug, nutrition and exercise programmes help manage cachexia, and data on safety are limited. More large, well‑designed randomised trials that follow participants for longer periods are needed to answer this important question.'),\n",
       " ('CD013445.PUB2',\n",
       "  'Is percutaneous nephrolithotomy (a skin‑through kidney stone removal surgery) better than retrograde intrarenal surgery (a scope‑through‑the‑ureter procedure) for treating kidney stones in adults?\\n\\nKey messages\\n– PCNL may increase the chance of being stone‑free by about 10\\u202f% and may reduce the need for extra procedures by about 15\\u202f% compared with RIRS.  \\n– Major complications (serious side‑effects that require additional treatment or hospital care) appear similar for both procedures.  \\n– PCNL may lead to a hospital stay that is roughly one day longer than RIRS. The evidence is limited, so our confidence in these findings is modest.\\n\\nWhat are kidney stones and how are they usually treated?\\nKidney stones (also called renal stones) are hard mineral deposits that form inside the kidneys. They can cause severe pain, block urine flow, and trigger infections. Treatment depends on stone size, location, composition, and the patient’s health. Options include watching the stone, using shock‑wave lithotripsy (a machine that breaks stones into small pieces), or performing minimally invasive procedures. Two common procedures are:\\n– Percutaneous nephrolithotomy (PCNL) – a small incision in the back allows a tube (nephroscope) to enter the kidney and remove the stone.  \\n– Retrograde intrarenal surgery (RIRS) – a thin tube (ureteroscope) is passed through the urethra, bladder and ureter into the kidney, where a laser fragments the stone.\\n\\nWhat did the researchers want to find out about PCNL and RIRS?\\nWe compared PCNL and RIRS in adults with kidney stones to see which method:\\n– Achieves a higher stone‑free rate (no visible stone fragments).  \\n– Leads to fewer major complications (serious side‑effects).  \\n– Reduces the need for secondary interventions (extra procedures after the first treatment).  \\n– Affects other outcomes such as length of hospital stay, ureteral injury or strictures (narrowing of the tube that carries urine), unplanned medical visits, and quality of life.\\n\\nHow did we conduct the review?\\nWe searched the Cochrane Library, MEDLINE, Embase, Scopus and two trial registries for randomised controlled trials that compared PCNL with RIRS in adults. Two reviewers selected studies, extracted data and assessed the certainty of the evidence using GRADE criteria. We combined results with a random‑effects model.\\n\\nWhat did we find?\\nWe identified 42 trials that enrolled 4\\u202f571 adults with stones ranging from about 10\\u202fmm to 39\\u202fmm. The trials used standard PCNL (≥24\\u202fFr), mini‑PCNL (15–23\\u202fFr) or ultra‑mini/micro‑PCNL (<15\\u202fFr). No study reported unplanned medical visits or quality‑of‑life outcomes.\\n\\n– Stone‑free rate: PCNL probably increases the proportion of patients who become stone‑free by about 10\\u202f% (roughly 10 more per 100 treated).  \\n– Major complications: PCNL probably makes little or “no” difference; about 1 fewer serious complication per 100 patients compared with RIRS.  \\n– Secondary interventions: PCNL probably reduces the need for extra procedures by about 15\\u202f% (around 15 fewer per 100 patients).  \\n– Hospital stay: PCNL probably adds about one day to the average stay.  \\n– Ureteral strictures or injury: PCNL probably makes little or no difference; about 1 fewer case per 1\\u202f000 patients.\\n\\nWhat are the limitations of the evidence?\\nWe have low confidence in many results because most trials were small, some did not conceal treatment allocation, and participants and clinicians often knew which procedure was used. Details about participants’ ages, gender, settings, follow‑up length, funding and conflicts of interest were frequently missing.\\n\\nHow up‑to‑date is this review?\\nThe evidence includes all studies published up to March\\u202f2023.'),\n",
       " ('CD008472.PUB3',\n",
       "  'Is temporary blockage of blood flow to a distant part of the body (remote ischaemic preconditioning) beneficial compared with no blockage for people undergoing major blood‑vessel surgery?\\n\\nKey messages  \\n– Remote ischaemic preconditioning (RIPC) is a short, harmless blockage of blood flow to an arm or leg. It probably does not change the risk of death around the time of surgery, heart attack (damage to the heart muscle), kidney problems, stroke (brain injury from reduced blood flow), loss of a limb, how long you stay in hospital, or how long the operation takes.  \\n– The 14 studies we looked at were randomised controlled trials of moderate quality. Because there were few studies and they differed in participants and how RIPC was given, we cannot completely rule out small benefits or harms.  \\n– Larger, well‑designed trials are needed to find out whether RIPC offers any real advantage for patients having major vascular or endovascular surgery.\\n\\nWhat health problems are associated with major vascular and endovascular surgery?  \\nPeople who need major operations on large blood vessels – for example, repairing an aortic aneurysm or opening blocked arteries – face serious complications. Even with modern care, they can experience death (mortality) or major health problems after the operation. Common complications include heart attacks, kidney problems (when the kidneys do not work well), strokes, loss of a limb, and longer stays in hospital.\\n\\nWhat is remote ischaemic preconditioning and why might it help?  \\nRemote ischaemic preconditioning (RIPC) is a technique where we briefly stop blood flow to a part of the body that is not being operated on, using a blood‑pressure cuff on an arm or leg. This short, controlled blockage is thought to “train” the body’s cells to survive longer periods of reduced blood flow (ischaemia) that can occur during surgery. In simple terms, it gives the body a tiny, safe stress so that it can protect its organs when a bigger stress happens during the operation.\\n\\nWhat did we want to find out?  \\nWe set out to discover whether using RIPC before planned major vascular or endovascular surgery makes a difference compared with not using it. Specifically, we wanted to know if RIPC reduces the risk of death around the time of surgery, heart attacks, kidney problems, strokes, loss of a limb, length of hospital stay, and the time needed for the operation or anaesthesia. We also looked for any harms.\\n\\nHow did we find the evidence?  \\nWe searched several databases for randomised controlled trials that compared RIPC with no preconditioning in people undergoing elective major vascular or endovascular surgery. We combined the results using statistical methods and rated our confidence in the evidence with the GRADE system, a standard way of judging how sure we can be about the findings.\\n\\nWhat did we find?  \\nWe identified 14 trials that together enrolled 1,295 participants (average age 65‑76\\u202fyears; 84\\u202f% men). All trials compare a short pause of blood flow to a limb with no preconditioning. Our pooled analysis shows that RIPC probably makes little or no difference to the main outcomes after surgery. It probably does not change the risk of death around the time of surgery, heart attacks, kidney problems, strokes, or loss of a limb. It also probably does not affect how long people stay in hospital or how long the operation or anaesthetic takes.\\n\\nWhat are the limitations of the evidence?  \\nWe are fairly sure about these findings, but only a few studies were available. The participants and the way RIPC was given differed between studies, and the small number of trials could make any benefit look larger than it really is.\\n\\nHow current is the evidence?  \\nThis review updates our previous work and includes all relevant studies up to April\\u202f2022.')]"
      ]
     },
     "execution_count": 37,
     "metadata": {},
     "output_type": "execute_result"
    }
   ],
   "source": [
    "# Load agentic_gpt_oss_20b results\n",
    "agentic_gpt_oss_20b = {}\n",
    "agentic_gpt_oss_20b_path = \"outputs/agentic_gpt_oss_20b\"\n",
    "\n",
    "# Get all JSON files in the agentic_gpt_oss_20b directory\n",
    "json_files = glob.glob(os.path.join(agentic_gpt_oss_20b_path, \"*.json\"))\n",
    "\n",
    "for json_file in json_files:\n",
    "    with open(json_file, 'r', encoding='utf-8') as f:\n",
    "        data = json.load(f)\n",
    "        # Extract cochrane_id and response\n",
    "        if 'cochrane_id' in data and 'response' in data and 'output' in data['response']:\n",
    "            cochrane_id = data['cochrane_id']\n",
    "            response = data['response']['output']\n",
    "            agentic_gpt_oss_20b[cochrane_id] = response\n",
    "\n",
    "# Print the first 3 key-value pairs\n",
    "list(agentic_gpt_oss_20b.items())[:3]"
   ]
  },
  {
   "cell_type": "markdown",
   "id": "85506568",
   "metadata": {},
   "source": [
    "### Llama 3.3 70B"
   ]
  },
  {
   "cell_type": "code",
   "execution_count": 130,
   "id": "ae938364",
   "metadata": {},
   "outputs": [
    {
     "data": {
      "text/plain": [
       "[('CD015749.PUB2',\n",
       "  'Can combined treatments help manage cachexia better than a single treatment or standard care?\\n\\nKey messages:\\n- We do not know if combined treatments are better than single treatments or standard care for managing cachexia, because the evidence is not strong enough.\\n- Multimodal interventions may have some effects on symptoms like fatigue, but we are very uncertain about this.\\n- More research is needed to find out if multimodal interventions are effective and safe for people with different types of chronic illnesses.\\n\\nWhat is cachexia and why is it a problem?\\nCachexia is a condition where the body wastes away due to chronic illness, such as cancer or HIV/AIDS. It causes unintentional weight loss, muscle loss, fatigue, loss of appetite, and reduced quality of life. Cachexia is a significant problem because it can lead to a decline in physical function, strength, and overall health.\\n\\nWhat are multimodal interventions and how might they help with cachexia?\\nMultimodal interventions combine different treatments, like medication, nutrition, and exercise, to manage a condition. For cachexia, these interventions aim to alleviate or stabilize the condition by addressing its multiple causes and symptoms. They may include a combination of medications, nutritional supplements, physical therapy, and counseling.\\n\\nWhat did we want to find out?\\nWe wanted to assess the benefits and harms of multimodal interventions for managing cachexia in people with chronic illnesses. We aimed to determine whether these interventions can improve physical function, strength, quality of life, and other outcomes.\\n\\nHow did we find the evidence?\\nWe searched for studies on multimodal interventions for cachexia management and rated our confidence in the evidence. We found 9 studies that involved 926 adults with a mean age of 63 years. The studies were conducted in several countries and lasted from 6 weeks to 7 months.\\n\\nWhat did we find?\\nWe found insufficient evidence to support or refute the use of multimodal interventions in managing cachexia. It is unclear if multimodal interventions have an effect on outcomes such as physical function, strength, adverse events, body composition, weight, quality of life, appetite, fatigue, and biochemical markers.\\n\\nWhat are the limitations of the evidence?\\nThe evidence is limited because the studies were small and did not cover all relevant groups or outcomes. We need more research to find out if combined treatments are effective and safe for people with different types of chronic illnesses. The current evidence is not strong enough to support or refute the use of multimodal interventions in managing cachexia.\\n\\nIs the evidence up to date?\\nThe evidence is up to date to July 2024. We will continue to monitor new research to update our findings.'),\n",
       " ('CD013445.PUB2',\n",
       "  'Is percutaneous nephrolithotomy (a surgical procedure where a small cut is made in the back to remove kidney stones) better than retrograde intrarenal surgery (a procedure where a small scope is inserted through the urethra and bladder to remove kidney stones) for treating kidney stones in adults?\\n\\nKey messages:\\n- Percutaneous nephrolithotomy might increase the chances of becoming stone-free and reduce the need for more treatments. However, it likely has little effect on serious complications.\\n- The evidence for most outcomes was not of high quality. This means the findings of this review should be interpreted with caution, and more research is needed to confirm these results.\\n- Future research should focus on addressing the limitations of the current evidence, such as the lack of reporting on unplanned medical visits and quality of life.\\n\\nWhat are kidney stones and why are they a problem?\\nKidney stones, also known as renal stones, are a source of pain, obstruction, and infection. They can vary in size, location, composition, and other patient factors, making treatment challenging. Common treatments for kidney stones include observation, shock wave lithotripsy, retrograde intrarenal surgery (RIRS), percutaneous nephrolithotomy (PCNL), or a combination of these approaches.\\n\\nWhat did the review authors want to find out?\\nWe wanted to assess the effects of percutaneous nephrolithotomy (PCNL) versus retrograde intrarenal surgery (RIRS) for the treatment of renal stones in adults. We aimed to compare the two treatments in terms of stone-free rate, major complications, need for secondary interventions, and other outcomes to inform shared decision-making about management choices for individuals with renal stones.\\n\\nHow did we find the evidence?\\nWe searched for studies comparing percutaneous nephrolithotomy (PCNL) and retrograde intrarenal surgery (RIRS) for treating renal stones. We summarized their results and rated our confidence in the evidence.\\n\\nWhat did we find?\\nWe found 42 studies that involved 4571 people with renal stones. The studies compared percutaneous nephrolithotomy (PCNL) with retrograde intrarenal surgery (RIRS) for the treatment of renal stones in adults. Most studies did not report sources of funding or conflicts of interest. The average size of stones ranged from 10.1 mm to 39.1 mm.\\n\\nMain results: Treatment outcomes for renal stones\\nPercutaneous nephrolithotomy may improve the rate of people becoming stone-free and may reduce the need for additional procedures. However, it probably has little to no effect on major complications. It may have little to no effect on the occurrence of ureteral strictures and may increase the length of hospital stay. For every 100 people who have percutaneous nephrolithotomy, 10 more may become stone-free compared to those who have retrograde intrarenal surgery.\\n\\nWhat are the limitations of the evidence?\\nWe found that the evidence is limited due to small study sizes, possible lack of blinding, and incomplete reporting of outcomes.\\n\\nIs the evidence up to date?\\nThe evidence is up to date to March 2023.'),\n",
       " ('CD008472.PUB3',\n",
       "  'Is remote ischaemic preconditioning (a technique where blood flow to a limb is temporarily blocked to protect against tissue damage during surgery) effective in reducing complications during major vascular and endovascular surgical procedures?\\n\\nKey messages:\\n- Remote ischaemic preconditioning probably leads to little or no difference in reducing complications, such as death, heart attack, kidney problems, or stroke, during major vascular and endovascular surgical procedures.\\n- The quality of evidence is not strong enough to give a clear answer, and more research is needed to understand the benefits and risks of remote ischaemic preconditioning.\\n- Future studies should investigate remote ischaemic preconditioning further, focusing on important outcomes for patients and healthcare providers.\\n\\nWhat is remote ischaemic preconditioning and why is it important for people undergoing vascular surgery?\\nRemote ischaemic preconditioning (RIPC) is a technique where blood flow to a part of the body, such as an arm or leg, is temporarily blocked and then restored. This process has been shown to protect tissues from damage caused by lack of blood flow, which can occur during vascular surgery. Vascular surgery can be risky and may lead to serious complications, including death. RIPC has the potential to reduce the risk of these complications by protecting the tissues from damage.\\n\\nWhat did the review authors want to find out about remote ischaemic preconditioning?\\nThe review authors wanted to find out if RIPC is effective in reducing the risk of complications, such as death, heart attack, kidney damage, and stroke, in people undergoing elective major vascular and endovascular surgery. They also wanted to know if RIPC has any effect on the length of hospital stay and operating time.\\n\\nWhat did we do?\\nWe searched for studies comparing remote ischaemic preconditioning with no remote ischaemic preconditioning. We summarized their results and rated our confidence in the evidence to assess the benefits and harms in people undergoing elective major vascular and endovascular surgery.\\n\\nWhat did we find?\\nWe found 14 studies that involved 1295 participants. The studies were conducted from 2003 to 2019. Remote ischaemic preconditioning probably makes little to no difference in outcomes such as death, heart attack, kidney problems, stroke, and hospital stay for people undergoing major vascular and endovascular surgery.\\n\\nWhat are the limitations of the evidence?\\nThe evidence is limited by very small study sample sizes, heterogeneity in participant populations and intervention delivery methods, and a high risk of exaggerating benefits.\\n\\nIs the evidence up to date?\\nThe evidence is up to date to April 2022.')]"
      ]
     },
     "execution_count": 130,
     "metadata": {},
     "output_type": "execute_result"
    }
   ],
   "source": [
    "# Load agentic_llama_3_3_70b results\n",
    "agentic_llama_3_3_70b = {}\n",
    "agentic_llama_3_3_70b_path = \"outputs/agentic_llama_3_3_70b\"\n",
    "\n",
    "# Get all JSON files in the agentic_llama_3_3_70b directory\n",
    "json_files = glob.glob(os.path.join(agentic_llama_3_3_70b_path, \"*.json\"))\n",
    "\n",
    "for json_file in json_files:\n",
    "    with open(json_file, 'r', encoding='utf-8') as f:\n",
    "        data = json.load(f)\n",
    "        # Extract cochrane_id and response\n",
    "        if 'cochrane_id' in data and 'response' in data and 'output' in data['response']:\n",
    "            cochrane_id = data['cochrane_id']\n",
    "            response = data['response']['output']\n",
    "            agentic_llama_3_3_70b[cochrane_id] = response\n",
    "\n",
    "# Print the first 3 key-value pairs\n",
    "list(agentic_llama_3_3_70b.items())[:3]"
   ]
  },
  {
   "cell_type": "markdown",
   "id": "d75d6f4b",
   "metadata": {},
   "source": [
    "### Llama 3.2 3B"
   ]
  },
  {
   "cell_type": "code",
   "execution_count": 44,
   "id": "8d02c988",
   "metadata": {},
   "outputs": [
    {
     "data": {
      "text/plain": [
       "[('CD015749.PUB2',\n",
       "  '**Agent stopped due to max iterations.**\\n\\n- The review found insufficient evidence to support or refute the use of multimodal interventions in managing cachexia. The certainty of the evidence was very low. Methodologically rigorous, well-powered RCTs with adequate interaction times are needed to assess the effectiveness of multimodal interventions in managing cachexia across chronic illnesses.\\n- We did not find enough good-quality evidence about the benefits and harms of multimodal interventions for cachexia management in people with chronic illnesses.\\n- Future research in this area should focus on options and effects that are important to decision-makers, such as: multimodal interventions that can be used in people with chronic illnesses, and unwanted effects and costs associated with these interventions.\\n\\n**What is cachexia?**\\n\\nCachexia is a complex metabolic syndrome that affects people with chronic illnesses, such as cancer, HIV/AIDS, kidney disease, heart disease, and chronic obstructive pulmonary disease (COPD). It leads to unintentional weight loss, muscle loss, fatigue, loss of appetite, and reduced quality of life. Multimodal interventions that work together to treat cachexia could potentially provide benefits.\\n\\n**What did we want to find out?**\\n\\nWe aimed to assess the benefits and harms of multimodal interventions aimed at alleviating or stabilizing cachexia in people with a chronic illness.\\n\\n**Background**\\n\\nCachexia is a complex metabolic syndrome frequently seen in chronic illnesses such as cancer, heart failure, and chronic obstructive pulmonary disease. Multimodal interventions—combining nutritional support, exercise, pharmacologic agents, and psychosocial components—have been proposed to address its multifactorial nature.\\n\\n**Methods**\\n\\nWe performed a systematic search of MEDLINE, Embase, Cochrane CENTRAL, and trial registries for randomized and controlled clinical trials evaluating multimodal interventions for cachexia in adults with chronic disease. Studies were screened, data extracted, and risk of bias assessed using the Cochrane tool. Meta‑analysis was conducted where feasible, and the GRADE approach was applied to rate confidence in the evidence, considering study limitations, inconsistency, indirectness, imprecision, and publication bias.\\n\\n**Results**\\n\\nEight trials (total n≈1,200) met inclusion criteria. Interventions typically combined oral nutritional supplements, resistance/ aerobic exercise programs, and either anti‑inflammatory agents (e.g., omega‑3 fatty acids) or anabolic agents (e.g., megestrol). Pooled analysis showed a modest increase in lean body mass (MD\\u202f=\\u202f1.2\\u202fkg; 95%\\u202fCI\\u202f0.4–2.0) and improved hand‑grip strength (MD\\u202f=\\u202f2.5\\u202fkg; 95%\\u202fCI\\u202f0.8–4.2). Quality‑of‑life scores improved slightly (SMD\\u202f=\\u202f0.30; 95%\\u202fCI\\u202f0.05–0.55). Adverse events were generally low, with mild gastrointestinal symptoms being the most common. GRADE ratings were low to moderate due to heterogeneity in intervention components, small sample sizes, and short follow‑up periods.\\n\\n**Conclusion**\\n\\nCurrent evidence suggests that multimodal interventions can provide modest benefits in muscle mass, strength, and patient‑reported outcomes for individuals with cachexia secondary to chronic illness, with an acceptable safety profile. However, confidence in these findings is limited by methodological shortcomings and variability across studies. Larger, well‑designed trials with standardized intervention protocols and longer follow‑up are needed to confirm efficacy and inform clinical guidelines.\\n\\n**What did we find?**\\n\\nCurrent evidence does not show clear benefits or harms of multimodal interventions (combined drugs, nutrition, and exercise) for treating cachexia in adults with chronic illnesses. The studies are of very low certainty because of bias, indirectness, and imprecision, making any observed effects on weight, body composition, quality of life, appetite, fatigue, or biochemical markers uncertain. More rigorous, well-designed randomized trials are needed before recommending multimodal approaches for cachexia management.\\n\\n**We have little confidence in the evidence because it is possible that people in the studies were aware of which treatment they were getting, and because the studies were very small.**\\n\\n**The evidence used in this response is current as of October 6, 2025.**'),\n",
       " ('CD013445.PUB2',\n",
       "  '**Is percutaneous nephrolithotomy (a type of surgery that involves making a hole in the kidney to remove stones) better than retrograde intrarenal surgery (a type of surgery that involves inserting a scope through the ureter to remove stones) for treating kidney stones in adults?**\\n\\n**Key messages:**\\n- Percutaneous nephrolithotomy (a type of surgery that involves making a hole in the kidney to remove stones) may be better than retrograde intrarenal surgery (a type of surgery that involves inserting a scope through the ureter to remove stones) for treating kidney stones in adults, with improved stone-free rates and reduced need for secondary interventions, but probably has little or no effect on major complications and may increase length of hospital stay.\\n- Due to the considerable shortcomings of the included trials, the evidence for most outcomes was of low certainty.\\n- Future research should focus on options and effects that are important to decision-makers, such as the effects of access size for percutaneous nephrolithotomy and the unwanted effects and costs of these treatments.\\n\\n**What is kidney stone treatment like?**\\nKidney stones can be a source of pain, obstruction, and infection. Depending on size, location, composition, and other patient factors, the treatment of kidney stones can involve observation, shock wave lithotripsy, retrograde intrarenal surgery (RIRS; i.e. ureteroscopic approaches), percutaneous nephrolithotomy (PCNL), or a combination of these approaches.\\n\\n**What did we want to find out?**\\nWe wanted to assess the effects of percutaneous nephrolithotomy (PCNL) versus retrograde intrarenal surgery (RIRS) for the treatment of renal stones in adults.\\n\\n**Summary**\\nThis summary is extremely brief, directly relates to the aims, and summarizes the core actions of the review authors. It also handles the study design in a way that is consistent with the critical rules.\\n\\n**What did we find?**\\nCurrent evidence from randomized trials and meta‑analyses indicates that percutaneous nephrolithotomy (PCNL) achieves higher stone‑free rates than retrograde intrarenal surgery (RIRS) for adult renal stones, especially those >2\\u202fcm, while RIRS offers a less invasive approach with lower postoperative pain and shorter hospital stay. Complication profiles are comparable, though PCNL carries a slightly higher risk of bleeding requiring transfusion. For stones ≤2\\u202fcm, RIRS provides similar efficacy to PCNL with the advantage of reduced morbidity, making it a reasonable first‑line option. Overall, treatment choice should balance stone size, location, patient comorbidities, and surgeon expertise.\\n\\n**Study characteristics**\\nThe agent terminated because it reached the maximum allowed number of iterations without completing its task. This typically indicates that the process entered a non‑terminating loop or failed to meet its convergence criteria within the iteration limit.\\n\\n**We have little confidence in the evidence because it is possible that people in the studies were aware of which treatment they were getting, and because the studies were very small.**\\n\\n**The evidence is up to date to March 23, 2023 of search.**'),\n",
       " ('CD008472.PUB3',\n",
       "  'Remote ischaemic preconditioning (RIPC), a technique that briefly restricts blood flow to a limb to protect distant organs, has been studied to see if it helps people undergoing major vascular surgery. The evidence suggests that RIPC does not make a clear difference in reducing perioperative mortality, myocardial infarction, renal impairment, stroke, hospital stay, or operating time in people undergoing elective major vascular and endovascular surgery.\\n\\nThe review included 14 randomized controlled trials that compared RIPC with no RIPC in adults undergoing elective major vascular and endovascular surgery. The studies found no clear difference in perioperative mortality, myocardial infarction, renal impairment, stroke, hospital stay, and operating time, and may lead to little or no difference in limb loss.\\n\\nThe certainty of evidence for the main outcomes was moderate due to imprecision of results, moderate heterogeneity, or possible publication bias. The studies were at low to unclear risk of bias for most risk of bias domains.\\n\\nOverall, compared with no RIPC, RIPC probably leads to little or no difference in perioperative mortality, myocardial infarction, renal impairment, stroke, hospital stay, and operating time, and may lead to little or no difference in limb loss in people undergoing elective major vascular and endovascular surgery. Adequately powered and designed randomised studies are needed, focusing in particular on the clinical endpoints and patient-centred outcomes.\\n\\nThe evidence is current as of the latest available data up to October 2025.')]"
      ]
     },
     "execution_count": 44,
     "metadata": {},
     "output_type": "execute_result"
    }
   ],
   "source": [
    "# Load agentic_llama_3_2_3b results\n",
    "agentic_llama_3_2_3b = {}\n",
    "agentic_llama_3_2_3b_path = \"outputs/agentic_llama_3_2_3b\"\n",
    "\n",
    "# Get all JSON files in the agentic_llama_3_2_3b directory\n",
    "json_files = glob.glob(os.path.join(agentic_llama_3_2_3b_path, \"*.json\"))\n",
    "\n",
    "for json_file in json_files:\n",
    "    with open(json_file, 'r', encoding='utf-8') as f:\n",
    "        data = json.load(f)\n",
    "        # Extract cochrane_id and response\n",
    "        if 'cochrane_id' in data and 'response' in data and 'output' in data['response']:\n",
    "            cochrane_id = data['cochrane_id']\n",
    "            response = data['response']['output']\n",
    "            agentic_llama_3_2_3b[cochrane_id] = response\n",
    "\n",
    "# Print the first 3 key-value pairs\n",
    "list(agentic_llama_3_2_3b.items())[:3]"
   ]
  },
  {
   "cell_type": "markdown",
   "id": "bded3078",
   "metadata": {},
   "source": [
    "### Llama 3.3 70B with Gemini 2.5 Flash as Evaluator"
   ]
  },
  {
   "cell_type": "code",
   "execution_count": 131,
   "id": "a97f8483",
   "metadata": {},
   "outputs": [
    {
     "data": {
      "text/plain": [
       "[('CD015749.PUB2',\n",
       "  'Can combined treatments like medication, nutrition, and exercise help manage cachexia, a condition where the body wastes away due to chronic illness, better than usual care? \\n\\nWe looked at studies that combined two or more of these approaches to see if they could improve physical function, strength, and quality of life for people with cachexia. \\n- Cachexia is a condition where the body wastes away due to chronic illness. Treatments that combine different approaches, like medication, nutrition, and exercise, might help manage it. However, we lack strong evidence to say if these combined treatments are better than usual care for people with chronic illnesses such as cancer, HIV/AIDS, or heart disease.\\n- The current evidence does not show clear benefits or harms of multimodal interventions for cachexia management. We are very uncertain about the benefits and harms of these combined treatments. The studies did not show clear effects, either helpful or harmful.\\n- We need more and better research to be sure if these combined treatments can help people with cachexia.\\n\\nWhat is cachexia and why is it a problem? \\nCachexia is a serious condition that causes the body to waste away. It can happen to people with long-term illnesses like cancer, HIV/AIDS, kidney disease, heart disease, and chronic obstructive pulmonary disease (COPD). People with cachexia unintentionally lose weight and muscle, feel fatigued, lose their appetite, and have a reduced quality of life. Cachexia weakens physical function, strength, and overall health, making it difficult for people to perform daily activities and enjoy life.\\n\\nWhat are multimodal interventions and how might they help with cachexia? \\nMultimodal interventions combine two or more treatments, like medication, nutrition, and exercise. They aim to meet the complex needs of people with cachexia. These interventions might help ease the symptoms of cachexia or stop them from getting worse, improving physical function, strength, and quality of life.\\n\\nWhat did the review authors want to find out? \\nThe review authors wanted to assess the benefits and harms of multimodal interventions for managing cachexia in people with chronic illnesses. They aimed to determine whether these interventions can improve physical function, strength, and quality of life, and reduce the symptoms of cachexia, such as fatigue, loss of appetite, and weight loss. The authors also wanted to evaluate the certainty of the evidence for these interventions and identify areas for further research.\\n\\nHow did we do this review? \\nWe searched for studies on multimodal interventions for cachexia management, summarized their results, and rated our confidence in the evidence to assess the benefits and harms of these interventions.\\n\\nWhat did we find? \\nWe included nine studies with 926 adults. The evidence for all outcomes was very uncertain. Compared to usual care, there was no clear evidence for an effect of multimodal interventions on physical function, strength, adverse events, body composition, weight, appetite, fatigue, or biochemical markers. Quality of life was not reported.\\n\\nWhat are the limitations of the evidence? \\nThe evidence is limited because the studies had very small sample sizes and likely lacked proper blinding, as participants may have known which treatment they received.\\n\\nHow up to date is this review? \\nThe evidence is up to date to July 2024.'),\n",
       " ('CD013445.PUB2',\n",
       "  \"Which surgery is better for removing kidney stones in adults: PCNL or RIRS?\\n\\nThis review compares two surgeries for kidney stones. One surgery involves making a small cut in the back to remove the stones, called percutaneous nephrolithotomy (PCNL). The other surgery involves passing a small scope through the body's natural openings to reach and remove the stones, called retrograde intrarenal surgery (RIRS).\\n\\nWhat are kidney stones and why are they a problem?\\nKidney stones (also called renal stones) can cause pain, blockages, and infections. They can vary in size, location, composition, and other patient factors, making treatment challenging. Common treatments for kidney stones include observation, shock wave lithotripsy, retrograde intrarenal surgery (RIRS), percutaneous nephrolithotomy (PCNL), or a combination of these approaches.\\n\\nWhat did the review authors want to find out?\\nWe wanted to assess the effects of percutaneous nephrolithotomy (PCNL) versus retrograde intrarenal surgery (RIRS) for the treatment of renal stones in adults. We compared the two treatments in terms of stone-free rate, major complications, need for secondary interventions, and other outcomes to inform shared decision-making for individuals with renal stones.\\n\\nHow did we find the evidence?\\nWe searched for studies comparing percutaneous nephrolithotomy (PCNL) and retrograde intrarenal surgery (RIRS) for treating renal stones, summarized their results, and rated our confidence in the evidence.\\n\\nWhat did we find?\\nWe found 42 studies that involved 4571 people with renal stones. The studies compared percutaneous nephrolithotomy (PCNL) with retrograde intrarenal surgery (RIRS) for the treatment of renal stones in adults. The average size of stones ranged from 10.1 mm to 39.1 mm. Most studies did not report sources of funding or conflicts of interest.\\n\\nWhat were the main results of the treatments?\\nCompared to RIRS, PCNL appears to be better at clearing stones completely and reducing the need for another procedure to remove leftover stone fragments. However, people who have PCNL may spend about one extra day in the hospital. The risk of serious side effects was similar for both procedures. The risk of developing a ureteral stricture (a narrowing of the tube that carries urine from the kidney) appears to be similar for both procedures.\\n\\nWhat are the limitations of the evidence?\\nWe have limited confidence in the evidence for a few reasons. Many of the studies were small. In most studies, both the patients and their doctors knew which treatment they were getting. This is a limitation because knowing the treatment could have influenced how they reported outcomes like pain or satisfaction, which can affect the reliability of the results. Finally, most studies did not report where their funding came from.\\n\\nHow up to date is this review?\\nThe evidence is up to date to March 2023.\\n\\nWhat are the key messages of this review?\\n- PCNL may be better than RIRS at clearing stones and may reduce the need for another procedure to remove leftover stone fragments.\\n- PCNL probably does not increase the risk of serious side effects but may lead to a longer hospital stay.\\n- The evidence is not very certain, so more research is needed to confirm these findings.\"),\n",
       " ('CD008472.PUB3',\n",
       "  \"Is remote ischaemic preconditioning (a technique where blood flow to a limb is temporarily blocked to protect against tissue damage during surgery) effective in reducing complications during major vascular and endovascular surgical procedures?\\n\\nKey Messages\\n- Remote ischaemic preconditioning may lead to little or no difference in complications such as death, heart attack, kidney problems, or stroke during major vascular and endovascular surgical procedures.\\n- Due to a lack of robust evidence, the benefits and risks of remote ischaemic preconditioning are unclear.\\n- We need more and larger studies to be certain about the effects of this technique. Future research should focus on results that matter most to patients, like their quality of life and recovery time.\\n\\nIntroduction\\nWhat is remote ischaemic preconditioning and why is it important for people undergoing vascular surgery?\\nRemote ischaemic preconditioning (RIPC) is a technique where blood flow to a part of the body, such as an arm or leg, is temporarily blocked and then restored. This process has been shown to protect other parts of the body from damage caused by a lack of blood flow, which can occur during vascular surgery. Vascular surgery carries a significant risk of complications, including death, heart attack, kidney damage, and stroke. RIPC has the potential to reduce these risks by protecting the body's tissues from damage.\\nWhat did the review authors want to find out about remote ischaemic preconditioning?\\nWe wanted to find out if RIPC reduces the risk of complications (like death, heart attack, or stroke) for people having major vascular surgery. We also looked for any unwanted effects to understand the overall benefits and harms of the technique.\\n\\nMethods\\nWhat studies did we look for?\\nWe looked for studies that randomly assigned adults having planned surgery to either receive RIPC or no treatment. This type of study, called a randomised controlled trial, provides the most reliable evidence.\\nHow did we collect and analyze the data?\\nWe collected data on the characteristics of the trials, the methods used, and the outcomes measured. We used a method called GRADE to judge how certain we could be about the evidence for each of these results.\\n\\nResults\\nWhat did we find?\\nResearchers conducted these studies between 2003 and 2019. We found 14 studies that involved 1295 participants with a range of ages from 64.5 to 76 years and 84% of them were male. The included studies compared RIPC with no RIPC in people undergoing elective major vascular or endovascular surgery. Remote ischaemic preconditioning probably makes little to no difference in outcomes such as death, heart attack, kidney problems, stroke, and hospital stay for people undergoing major vascular and endovascular surgery. It may also make little to no difference in the risk of limb loss.\\n\\nLimitations\\nWhat are the limitations of the evidence?\\nThe evidence has several limitations. The studies included very few participants. There were also differences in the types of people studied and how the treatment was given. Finally, only a small number of studies were included, which might overestimate the treatment's benefits.\\n\\nCurrency\\nIs the evidence up to date?\\nThis review updates our previous review. The evidence is up to date to April 2022.\")]"
      ]
     },
     "execution_count": 131,
     "metadata": {},
     "output_type": "execute_result"
    }
   ],
   "source": [
    "# Load agentic_llama_3_3_70b_evaluator_gemini_2_5_flash results\n",
    "agentic_llama_3_3_70b_evaluator_gemini_2_5_flash = {}\n",
    "agentic_llama_3_3_70b_evaluator_gemini_2_5_flash_path = \"outputs/agentic_llama_3_3_70b_evaluator_gemini_2_5_flash\"\n",
    "\n",
    "# Get all JSON files in the agentic_llama_3_3_70b_evaluator_gemini_2_5_flash directory\n",
    "json_files = glob.glob(os.path.join(agentic_llama_3_3_70b_evaluator_gemini_2_5_flash_path, \"*.json\"))\n",
    "\n",
    "for json_file in json_files:\n",
    "    with open(json_file, 'r', encoding='utf-8') as f:\n",
    "        data = json.load(f)\n",
    "        # Extract cochrane_id and response\n",
    "        if 'cochrane_id' in data and 'response' in data and 'output' in data['response']:\n",
    "            cochrane_id = data['cochrane_id']\n",
    "            response = data['response']['output']\n",
    "            agentic_llama_3_3_70b_evaluator_gemini_2_5_flash[cochrane_id] = response\n",
    "\n",
    "# Print the first 3 key-value pairs\n",
    "list(agentic_llama_3_3_70b_evaluator_gemini_2_5_flash.items())[:3]"
   ]
  },
  {
   "cell_type": "markdown",
   "id": "e675debc",
   "metadata": {},
   "source": [
    "# Test execution"
   ]
  },
  {
   "cell_type": "markdown",
   "id": "dfe711a4",
   "metadata": {},
   "source": [
    "### Reference"
   ]
  },
  {
   "cell_type": "code",
   "execution_count": 24,
   "id": "420d7b1d",
   "metadata": {},
   "outputs": [
    {
     "name": "stdout",
     "output_type": "stream",
     "text": [
      "Found 100 matching entries between original and references\n"
     ]
    }
   ],
   "source": [
    "# Extract references and original text with matching keys\n",
    "ground_truth_reference = []\n",
    "ground_truth_original = []\n",
    "matching_ids = []\n",
    "\n",
    "for cochrane_id in original:\n",
    "    if cochrane_id in original:\n",
    "        ground_truth_reference.append(references[cochrane_id])\n",
    "        ground_truth_original.append(original[cochrane_id])\n",
    "        matching_ids.append(cochrane_id)\n",
    "\n",
    "print(f\"Found {len(matching_ids)} matching entries between original and references\")"
   ]
  },
  {
   "cell_type": "code",
   "execution_count": null,
   "id": "c3958116",
   "metadata": {},
   "outputs": [
    {
     "name": "stderr",
     "output_type": "stream",
     "text": [
      "Some weights of RobertaModel were not initialized from the model checkpoint at roberta-large and are newly initialized: ['pooler.dense.bias', 'pooler.dense.weight']\n",
      "You should probably TRAIN this model on a down-stream task to be able to use it for predictions and inference.\n"
     ]
    },
    {
     "name": "stdout",
     "output_type": "stream",
     "text": [
      "Baseline BERTScore F1: 0.8482\n",
      "Baseline MeaningBERT score: 0.6825\n"
     ]
    }
   ],
   "source": [
    "# Calculate BERTScore using the function for baseline (gold standard and original text)\n",
    "ground_truth_bertscore = get_bertscore(ground_truth_reference, ground_truth_original, bertscore)\n",
    "print(f\"Ground Truth BERTScore F1: {ground_truth_bertscore:.4f}\")\n",
    "\n",
    "# Calculate MeaningBERT using the function for ground truth (gold standard and original text)\n",
    "ground_truth_meaningbert = get_meaningbert_score(ground_truth_reference, ground_truth_original, meaning_bert)\n",
    "print(f\"Ground Truth MeaningBERT score: {ground_truth_meaningbert:.4f}\")"
   ]
  },
  {
   "cell_type": "code",
   "execution_count": null,
   "id": "19f43fa0",
   "metadata": {},
   "outputs": [
    {
     "name": "stderr",
     "output_type": "stream",
     "text": [
      "Computing AlignScore:   0%|          | 0/100 [00:00<?, ?it/s]Token indices sequence length is longer than the specified maximum sequence length for this model (1687 > 512). Running this sequence through the model will result in indexing errors\n",
      "Computing AlignScore: 100%|██████████| 100/100 [43:17<00:00, 25.98s/it]"
     ]
    },
    {
     "name": "stdout",
     "output_type": "stream",
     "text": [
      "Baseline AlignScore: 0.7551\n"
     ]
    },
    {
     "name": "stderr",
     "output_type": "stream",
     "text": [
      "\n"
     ]
    }
   ],
   "source": [
    "ground_truth_alignscore = get_alignscore(ground_truth_reference, ground_truth_original, alignscore_evaluator)\n",
    "print(f\"Baseline AlignScore: {ground_truth_alignscore:.4f}\")"
   ]
  },
  {
   "cell_type": "markdown",
   "id": "41126382",
   "metadata": {},
   "source": [
    "### Baselines (simple agent)"
   ]
  },
  {
   "cell_type": "markdown",
   "id": "3d418d21",
   "metadata": {},
   "source": [
    "#### Gemini 2.5 Pro"
   ]
  },
  {
   "cell_type": "code",
   "execution_count": 19,
   "id": "28450863",
   "metadata": {},
   "outputs": [
    {
     "name": "stdout",
     "output_type": "stream",
     "text": [
      "Found 100 matching entries between baseline_gemini_2_5_pro and original\n"
     ]
    }
   ],
   "source": [
    "# Extract predictions and original with matching keys\n",
    "baseline_gemini_2_5_pro_predictions = []\n",
    "ground_truth_original = []\n",
    "matching_ids = []\n",
    "\n",
    "for cochrane_id in original:\n",
    "    if cochrane_id in original:\n",
    "        baseline_gemini_2_5_pro_predictions.append(baseline_gemini_2_5_pro[cochrane_id])\n",
    "        ground_truth_original.append(original[cochrane_id])\n",
    "        matching_ids.append(cochrane_id)\n",
    "\n",
    "print(f\"Found {len(matching_ids)} matching entries between baseline_gemini_2_5_pro and original\")"
   ]
  },
  {
   "cell_type": "code",
   "execution_count": 20,
   "id": "23f73ee2",
   "metadata": {},
   "outputs": [
    {
     "name": "stdout",
     "output_type": "stream",
     "text": [
      "Baseline_gemini_2_5_pro BERTScore F1: 0.8352\n",
      "Baseline_gemini_2_5_pro MeaningBERT score: 0.5957\n",
      "Baseline_gemini_2_5_pro BERTScore F1 (reference): 0.8701\n",
      "Baseline_gemini_2_5_pro MeaningBERT score (reference): 0.7162\n"
     ]
    },
    {
     "name": "stderr",
     "output_type": "stream",
     "text": [
      "Evaluating with PLS API: 100%|██████████| 100/100 [00:20<00:00,  4.86it/s]\n"
     ]
    }
   ],
   "source": [
    "# Calculate BERTScore using the function\n",
    "baseline_gemini_2_5_pro_bertscore = get_bertscore(baseline_gemini_2_5_pro_predictions, ground_truth_original, bertscore)\n",
    "print(f\"Baseline_gemini_2_5_pro BERTScore F1: {baseline_gemini_2_5_pro_bertscore:.4f}\")\n",
    "\n",
    "baseline_gemini_2_5_pro_meaningbert = get_meaningbert_score(baseline_gemini_2_5_pro_predictions, ground_truth_original, meaning_bert)\n",
    "print(f\"Baseline_gemini_2_5_pro MeaningBERT score: {baseline_gemini_2_5_pro_meaningbert:.4f}\")\n",
    "\n",
    "baseline_gemini_2_5_pro_bertscore_reference = get_bertscore(baseline_gemini_2_5_pro_predictions, ground_truth_reference, bertscore)\n",
    "print(f\"Baseline_gemini_2_5_pro BERTScore F1 (reference): {baseline_gemini_2_5_pro_bertscore_reference:.4f}\")\n",
    "\n",
    "baseline_gemini_2_5_pro_meaningbert_reference = get_meaningbert_score(baseline_gemini_2_5_pro_predictions, ground_truth_reference, meaning_bert)\n",
    "print(f\"Baseline_gemini_2_5_pro MeaningBERT score (reference): {baseline_gemini_2_5_pro_meaningbert_reference:.4f}\")\n",
    "\n",
    "baseline_gemini_2_5_pro_pls = get_pls_evaluation(baseline_gemini_2_5_pro_predictions)"
   ]
  },
  {
   "cell_type": "code",
   "execution_count": 37,
   "id": "cf604852",
   "metadata": {},
   "outputs": [
    {
     "name": "stderr",
     "output_type": "stream",
     "text": [
      "Computing AlignScore: 100%|██████████| 100/100 [1:05:56<00:00, 39.57s/it]\n"
     ]
    },
    {
     "name": "stdout",
     "output_type": "stream",
     "text": [
      "Baseline_gemini_2_5_pro AlignScore: 0.7820\n"
     ]
    },
    {
     "name": "stderr",
     "output_type": "stream",
     "text": [
      "Computing AlignScore: 100%|██████████| 100/100 [35:18<00:00, 21.18s/it]"
     ]
    },
    {
     "name": "stdout",
     "output_type": "stream",
     "text": [
      "Baseline_gemini_2_5_pro AlignScore (reference): 0.7002\n"
     ]
    },
    {
     "name": "stderr",
     "output_type": "stream",
     "text": [
      "\n"
     ]
    }
   ],
   "source": [
    "# For Baseline_gemini_2_5_pro predictions vs original\n",
    "baseline_gemini_2_5_pro_alignscore = get_alignscore(baseline_gemini_2_5_pro_predictions, ground_truth_original, alignscore_evaluator)\n",
    "print(f\"Baseline_gemini_2_5_pro AlignScore: {baseline_gemini_2_5_pro_alignscore:.4f}\")\n",
    "\n",
    "# For Baseline_gemini_2_5_pro predictions vs reference\n",
    "baseline_gemini_2_5_pro_alignscore_reference = get_alignscore(baseline_gemini_2_5_pro_predictions, ground_truth_reference, alignscore_evaluator)\n",
    "print(f\"Baseline_gemini_2_5_pro AlignScore (reference): {baseline_gemini_2_5_pro_alignscore_reference:.4f}\")"
   ]
  },
  {
   "cell_type": "markdown",
   "id": "b8b8b2ac",
   "metadata": {},
   "source": [
    "#### GPT 5"
   ]
  },
  {
   "cell_type": "code",
   "execution_count": 38,
   "id": "1a459703",
   "metadata": {},
   "outputs": [
    {
     "name": "stdout",
     "output_type": "stream",
     "text": [
      "Found 100 matching entries between baseline_gpt_5 and original\n"
     ]
    }
   ],
   "source": [
    "# Extract predictions and original with matching keys\n",
    "baseline_gpt_5_predictions = []\n",
    "ground_truth_original = []\n",
    "matching_ids = []\n",
    "\n",
    "for cochrane_id in original:\n",
    "    if cochrane_id in original:\n",
    "        baseline_gpt_5_predictions.append(baseline_gpt_5[cochrane_id])\n",
    "        ground_truth_original.append(original[cochrane_id])\n",
    "        matching_ids.append(cochrane_id)\n",
    "\n",
    "print(f\"Found {len(matching_ids)} matching entries between baseline_gpt_5 and original\")"
   ]
  },
  {
   "cell_type": "code",
   "execution_count": 40,
   "id": "71da2f74",
   "metadata": {},
   "outputs": [
    {
     "name": "stdout",
     "output_type": "stream",
     "text": [
      "Baseline_gpt_5 BERTScore F1: 0.8342\n",
      "Baseline_gpt_5 MeaningBERT score: 0.6075\n",
      "Baseline_gpt_5 BERTScore F1 (reference): 0.8619\n",
      "Baseline_gpt_5 MeaningBERT score (reference): 0.6873\n"
     ]
    },
    {
     "name": "stderr",
     "output_type": "stream",
     "text": [
      "Evaluating with PLS API: 100%|██████████| 100/100 [00:26<00:00,  3.71it/s]\n"
     ]
    }
   ],
   "source": [
    "# Calculate BERTScore using the function\n",
    "baseline_gpt_5_bertscore = get_bertscore(baseline_gpt_5_predictions, ground_truth_original, bertscore)\n",
    "print(f\"Baseline_gpt_5 BERTScore F1: {baseline_gpt_5_bertscore:.4f}\")\n",
    "\n",
    "baseline_gpt_5_meaningbert = get_meaningbert_score(baseline_gpt_5_predictions, ground_truth_original, meaning_bert)\n",
    "print(f\"Baseline_gpt_5 MeaningBERT score: {baseline_gpt_5_meaningbert:.4f}\")\n",
    "\n",
    "baseline_gpt_5_bertscore_reference = get_bertscore(baseline_gpt_5_predictions, ground_truth_reference, bertscore)\n",
    "print(f\"Baseline_gpt_5 BERTScore F1 (reference): {baseline_gpt_5_bertscore_reference:.4f}\")\n",
    "\n",
    "baseline_gpt_5_meaningbert_reference = get_meaningbert_score(baseline_gpt_5_predictions, ground_truth_reference, meaning_bert)\n",
    "print(f\"Baseline_gpt_5 MeaningBERT score (reference): {baseline_gpt_5_meaningbert_reference:.4f}\")\n",
    "\n",
    "baseline_gpt_5_pls = get_pls_evaluation(baseline_gpt_5_predictions)"
   ]
  },
  {
   "cell_type": "code",
   "execution_count": 41,
   "id": "4ef2ea34",
   "metadata": {},
   "outputs": [
    {
     "name": "stderr",
     "output_type": "stream",
     "text": [
      "Computing AlignScore: 100%|██████████| 100/100 [1:01:37<00:00, 36.97s/it]\n"
     ]
    },
    {
     "name": "stdout",
     "output_type": "stream",
     "text": [
      "Baseline_gpt_5 AlignScore: 0.7692\n"
     ]
    },
    {
     "name": "stderr",
     "output_type": "stream",
     "text": [
      "Computing AlignScore: 100%|██████████| 100/100 [44:37<00:00, 26.77s/it]"
     ]
    },
    {
     "name": "stdout",
     "output_type": "stream",
     "text": [
      "Baseline_gpt_5 AlignScore (reference): 0.6598\n"
     ]
    },
    {
     "name": "stderr",
     "output_type": "stream",
     "text": [
      "\n"
     ]
    }
   ],
   "source": [
    "# For Baseline_gpt_5 predictions vs original\n",
    "baseline_gpt_5_alignscore = get_alignscore(baseline_gpt_5_predictions, ground_truth_original, alignscore_evaluator)\n",
    "print(f\"Baseline_gpt_5 AlignScore: {baseline_gpt_5_alignscore:.4f}\")\n",
    "\n",
    "# For Baseline_gpt_5 predictions vs reference\n",
    "baseline_gpt_5_alignscore_reference = get_alignscore(baseline_gpt_5_predictions, ground_truth_reference, alignscore_evaluator)\n",
    "print(f\"Baseline_gpt_5 AlignScore (reference): {baseline_gpt_5_alignscore_reference:.4f}\")"
   ]
  },
  {
   "cell_type": "markdown",
   "id": "5078e48a",
   "metadata": {},
   "source": [
    "#### GPT OSS 120B"
   ]
  },
  {
   "cell_type": "code",
   "execution_count": 105,
   "id": "7ebedfbd",
   "metadata": {},
   "outputs": [
    {
     "name": "stdout",
     "output_type": "stream",
     "text": [
      "Found 100 matching entries between baseline_gpt_oss_120b and original\n"
     ]
    }
   ],
   "source": [
    "# Extract predictions and original with matching keys\n",
    "baseline_gpt_oss_120b_predictions = []\n",
    "ground_truth_original = []\n",
    "matching_ids = []\n",
    "\n",
    "for cochrane_id in original:\n",
    "    if cochrane_id in original:\n",
    "        baseline_gpt_oss_120b_predictions.append(baseline_gpt_oss_120b[cochrane_id])\n",
    "        ground_truth_original.append(original[cochrane_id])\n",
    "        matching_ids.append(cochrane_id)\n",
    "\n",
    "print(f\"Found {len(matching_ids)} matching entries between baseline_gpt_oss_120b and original\")"
   ]
  },
  {
   "cell_type": "code",
   "execution_count": null,
   "id": "ffea66e8",
   "metadata": {},
   "outputs": [],
   "source": [
    "# Calculate BERTScore using the function\n",
    "baseline_gpt_oss_120b_bertscore = get_bertscore(baseline_gpt_oss_120b_predictions, ground_truth_original, bertscore)\n",
    "print(f\"Baseline_gpt_oss_120b BERTScore F1: {baseline_gpt_oss_120b_bertscore:.4f}\")\n",
    "\n",
    "baseline_gpt_oss_120b_meaningbert = get_meaningbert_score(baseline_gpt_oss_120b_predictions, ground_truth_original, meaning_bert)\n",
    "print(f\"Baseline_gpt_oss_120b MeaningBERT score: {baseline_gpt_oss_120b_meaningbert:.4f}\")\n",
    "\n",
    "baseline_gpt_oss_120b_bertscore_reference = get_bertscore(baseline_gpt_oss_120b_predictions, ground_truth_reference, bertscore)\n",
    "print(f\"Baseline_gpt_oss_120b BERTScore F1 (reference): {baseline_gpt_oss_120b_bertscore_reference:.4f}\")\n",
    "\n",
    "baseline_gpt_oss_120b_meaningbert_reference = get_meaningbert_score(baseline_gpt_oss_120b_predictions, ground_truth_reference, meaning_bert)\n",
    "print(f\"Baseline_gpt_oss_120b MeaningBERT score (reference): {baseline_gpt_oss_120b_meaningbert_reference:.4f}\")\n",
    "\n",
    "baseline_gpt_oss_120b_pls = get_pls_evaluation(baseline_gpt_oss_120b_predictions)"
   ]
  },
  {
   "cell_type": "code",
   "execution_count": null,
   "id": "a0c229ec",
   "metadata": {},
   "outputs": [
    {
     "name": "stderr",
     "output_type": "stream",
     "text": [
      "Computing AlignScore: 100%|██████████| 100/100 [45:55<00:00, 27.55s/it]\n"
     ]
    },
    {
     "name": "stdout",
     "output_type": "stream",
     "text": [
      "Baseline_gpt_oss_120b AlignScore: 0.7696\n"
     ]
    },
    {
     "name": "stderr",
     "output_type": "stream",
     "text": [
      "Computing AlignScore: 100%|██████████| 100/100 [29:04<00:00, 17.45s/it]"
     ]
    },
    {
     "name": "stdout",
     "output_type": "stream",
     "text": [
      "Baseline_gpt_oss_120b AlignScore (reference): 0.6878\n"
     ]
    },
    {
     "name": "stderr",
     "output_type": "stream",
     "text": [
      "\n"
     ]
    }
   ],
   "source": [
    "# For Baseline_gpt_oss_120b predictions vs original\n",
    "baseline_gpt_oss_120b_alignscore = get_alignscore(baseline_gpt_oss_120b_predictions, ground_truth_original, alignscore_evaluator)\n",
    "print(f\"Baseline_gpt_oss_120b AlignScore: {baseline_gpt_oss_120b_alignscore:.4f}\")\n",
    "\n",
    "# For Baseline_gpt_oss_120b predictions vs reference\n",
    "baseline_gpt_oss_120b_alignscore_reference = get_alignscore(baseline_gpt_oss_120b_predictions, ground_truth_reference, alignscore_evaluator)\n",
    "print(f\"Baseline_gpt_oss_120b AlignScore (reference): {baseline_gpt_oss_120b_alignscore_reference:.4f}\")"
   ]
  },
  {
   "cell_type": "markdown",
   "id": "aa5b52d5",
   "metadata": {},
   "source": [
    "### GPT-OSS 20B"
   ]
  },
  {
   "cell_type": "code",
   "execution_count": 35,
   "id": "224b9448",
   "metadata": {},
   "outputs": [
    {
     "name": "stdout",
     "output_type": "stream",
     "text": [
      "Found 100 matching entries between baseline_gpt_oss_20b and original\n"
     ]
    }
   ],
   "source": [
    "# Extract predictions and original with matching keys\n",
    "baseline_gpt_oss_20b_predictions = []\n",
    "ground_truth_original = []\n",
    "matching_ids = []\n",
    "\n",
    "for cochrane_id in original:\n",
    "    if cochrane_id in original:\n",
    "        baseline_gpt_oss_20b_predictions.append(baseline_gpt_oss_20b[cochrane_id])\n",
    "        ground_truth_original.append(original[cochrane_id])\n",
    "        matching_ids.append(cochrane_id)\n",
    "\n",
    "print(f\"Found {len(matching_ids)} matching entries between baseline_gpt_oss_20b and original\")"
   ]
  },
  {
   "cell_type": "code",
   "execution_count": 48,
   "id": "a3a9f2c3",
   "metadata": {},
   "outputs": [
    {
     "name": "stdout",
     "output_type": "stream",
     "text": [
      "Baseline_gpt_oss_20b BERTScore F1: 0.8327\n",
      "Baseline_gpt_oss_20b MeaningBERT score: 0.5857\n",
      "Baseline_gpt_oss_20b BERTScore F1 (reference): 0.8565\n",
      "Baseline_gpt_oss_20b MeaningBERT score (reference): 0.6697\n"
     ]
    },
    {
     "name": "stderr",
     "output_type": "stream",
     "text": [
      "Evaluating with PLS API: 100%|██████████| 100/100 [00:15<00:00,  6.51it/s]\n"
     ]
    }
   ],
   "source": [
    "# Calculate BERTScore using the function\n",
    "baseline_gpt_oss_20b_bertscore = get_bertscore(baseline_gpt_oss_20b_predictions, ground_truth_original, bertscore)\n",
    "print(f\"Baseline_gpt_oss_20b BERTScore F1: {baseline_gpt_oss_20b_bertscore:.4f}\")\n",
    "\n",
    "baseline_gpt_oss_20b_meaningbert = get_meaningbert_score(baseline_gpt_oss_20b_predictions, ground_truth_original, meaning_bert)\n",
    "print(f\"Baseline_gpt_oss_20b MeaningBERT score: {baseline_gpt_oss_20b_meaningbert:.4f}\")\n",
    "\n",
    "baseline_gpt_oss_20b_bertscore_reference = get_bertscore(baseline_gpt_oss_20b_predictions, ground_truth_reference, bertscore)\n",
    "print(f\"Baseline_gpt_oss_20b BERTScore F1 (reference): {baseline_gpt_oss_20b_bertscore_reference:.4f}\")\n",
    "\n",
    "baseline_gpt_oss_20b_meaningbert_reference = get_meaningbert_score(baseline_gpt_oss_20b_predictions, ground_truth_reference, meaning_bert)\n",
    "print(f\"Baseline_gpt_oss_20b MeaningBERT score (reference): {baseline_gpt_oss_20b_meaningbert_reference:.4f}\")\n",
    "baseline_gpt_oss_20b_pls = get_pls_evaluation(baseline_gpt_oss_20b_predictions)"
   ]
  },
  {
   "cell_type": "code",
   "execution_count": 49,
   "id": "535fb39e",
   "metadata": {},
   "outputs": [
    {
     "name": "stderr",
     "output_type": "stream",
     "text": [
      "Computing AlignScore: 100%|██████████| 100/100 [43:55<00:00, 26.36s/it]\n"
     ]
    },
    {
     "name": "stdout",
     "output_type": "stream",
     "text": [
      "Baseline_gpt_oss_20b AlignScore: 0.7396\n"
     ]
    },
    {
     "name": "stderr",
     "output_type": "stream",
     "text": [
      "Computing AlignScore: 100%|██████████| 100/100 [39:50<00:00, 23.91s/it]"
     ]
    },
    {
     "name": "stdout",
     "output_type": "stream",
     "text": [
      "Baseline_gpt_oss_20b AlignScore (reference): 0.6480\n"
     ]
    },
    {
     "name": "stderr",
     "output_type": "stream",
     "text": [
      "\n"
     ]
    }
   ],
   "source": [
    "# For Baseline_gpt_oss_20b predictions vs original\n",
    "baseline_gpt_oss_20b_alignscore = get_alignscore(baseline_gpt_oss_20b_predictions, ground_truth_original, alignscore_evaluator)\n",
    "print(f\"Baseline_gpt_oss_20b AlignScore: {baseline_gpt_oss_20b_alignscore:.4f}\")\n",
    "\n",
    "# For Baseline_gpt_oss_20b predictions vs reference\n",
    "baseline_gpt_oss_20b_alignscore_reference = get_alignscore(baseline_gpt_oss_20b_predictions, ground_truth_reference, alignscore_evaluator)\n",
    "print(f\"Baseline_gpt_oss_20b AlignScore (reference): {baseline_gpt_oss_20b_alignscore_reference:.4f}\")"
   ]
  },
  {
   "cell_type": "markdown",
   "id": "719efb4f",
   "metadata": {},
   "source": [
    "### Llama 3.3 70B"
   ]
  },
  {
   "cell_type": "code",
   "execution_count": null,
   "id": "1efe8823",
   "metadata": {},
   "outputs": [
    {
     "name": "stdout",
     "output_type": "stream",
     "text": [
      "Found 100 matching entries between baseline_llama_3_3_70b and original\n"
     ]
    }
   ],
   "source": [
    "# Extract predictions and original with matching keys\n",
    "baseline_llama_3_3_70b_predictions = []\n",
    "ground_truth_original = []\n",
    "matching_ids = []\n",
    "\n",
    "for cochrane_id in original:\n",
    "    if cochrane_id in original:\n",
    "        baseline_llama_3_3_70b_predictions.append(baseline_llama_3_3_70b[cochrane_id])\n",
    "        ground_truth_original.append(original[cochrane_id])\n",
    "        matching_ids.append(cochrane_id)\n",
    "\n",
    "print(f\"Found {len(matching_ids)} matching entries between baseline_llama_3_3_70b and original\")"
   ]
  },
  {
   "cell_type": "code",
   "execution_count": null,
   "id": "03fa0d3c",
   "metadata": {},
   "outputs": [
    {
     "name": "stdout",
     "output_type": "stream",
     "text": [
      "Baseline_llama_3_3_70b BERTScore F1: 0.8514\n",
      "Baseline_llama_3_3_70b MeaningBERT score: 0.6985\n",
      "Baseline_llama_3_3_70b BERTScore F1 (reference): 0.8679\n",
      "Baseline_llama_3_3_70b MeaningBERT score (reference): 0.7158\n"
     ]
    },
    {
     "name": "stderr",
     "output_type": "stream",
     "text": [
      "Evaluating with PLS API: 100%|██████████| 100/100 [00:14<00:00,  6.71it/s]\n"
     ]
    }
   ],
   "source": [
    "# Calculate BERTScore using the function\n",
    "baseline_llama_3_3_70b_bertscore = get_bertscore(baseline_llama_3_3_70b_predictions, ground_truth_original, bertscore)\n",
    "print(f\"Baseline_llama_3_3_70b BERTScore F1: {baseline_llama_3_3_70b_bertscore:.4f}\")\n",
    "\n",
    "baseline_llama_3_3_70b_meaningbert = get_meaningbert_score(baseline_llama_3_3_70b_predictions, ground_truth_original, meaning_bert)\n",
    "print(f\"Baseline_llama_3_3_70b MeaningBERT score: {baseline_llama_3_3_70b_meaningbert:.4f}\")\n",
    "\n",
    "baseline_llama_3_3_70b_bertscore_reference = get_bertscore(baseline_llama_3_3_70b_predictions, ground_truth_reference, bertscore)\n",
    "print(f\"Baseline_llama_3_3_70b BERTScore F1 (reference): {baseline_llama_3_3_70b_bertscore_reference:.4f}\")\n",
    "\n",
    "baseline_llama_3_3_70b_meaningbert_reference = get_meaningbert_score(baseline_llama_3_3_70b_predictions, ground_truth_reference, meaning_bert)\n",
    "print(f\"Baseline_llama_3_3_70b MeaningBERT score (reference): {baseline_llama_3_3_70b_meaningbert_reference:.4f}\")\n",
    "\n",
    "baseline_llama_3_3_70b_pls = get_pls_evaluation(baseline_llama_3_3_70b_predictions)"
   ]
  },
  {
   "cell_type": "code",
   "execution_count": null,
   "id": "fbd5b0b1",
   "metadata": {},
   "outputs": [
    {
     "name": "stderr",
     "output_type": "stream",
     "text": [
      "Computing AlignScore: 100%|██████████| 100/100 [45:51<00:00, 27.51s/it]\n"
     ]
    },
    {
     "name": "stdout",
     "output_type": "stream",
     "text": [
      "Baseline_llama_3_3_70b AlignScore: 0.7536\n"
     ]
    },
    {
     "name": "stderr",
     "output_type": "stream",
     "text": [
      "Computing AlignScore: 100%|██████████| 100/100 [29:15<00:00, 17.55s/it]"
     ]
    },
    {
     "name": "stdout",
     "output_type": "stream",
     "text": [
      "Baseline_llama_3_3_70b AlignScore (reference): 0.7076\n"
     ]
    },
    {
     "name": "stderr",
     "output_type": "stream",
     "text": [
      "\n"
     ]
    }
   ],
   "source": [
    "# For Baseline_llama_3_3_70b predictions vs original\n",
    "baseline_llama_3_3_70b_alignscore = get_alignscore(baseline_llama_3_3_70b_predictions, ground_truth_original, alignscore_evaluator)\n",
    "print(f\"Baseline_llama_3_3_70b AlignScore: {baseline_llama_3_3_70b_alignscore:.4f}\")\n",
    "\n",
    "# For Baseline_llama_3_3_70b predictions vs reference\n",
    "baseline_llama_3_3_70b_alignscore_reference = get_alignscore(baseline_llama_3_3_70b_predictions, ground_truth_reference, alignscore_evaluator)\n",
    "print(f\"Baseline_llama_3_3_70b AlignScore (reference): {baseline_llama_3_3_70b_alignscore_reference:.4f}\")"
   ]
  },
  {
   "cell_type": "markdown",
   "id": "5530561a",
   "metadata": {},
   "source": [
    "### Llama 3.2 3B"
   ]
  },
  {
   "cell_type": "code",
   "execution_count": 42,
   "id": "61bc2d1e",
   "metadata": {},
   "outputs": [
    {
     "name": "stdout",
     "output_type": "stream",
     "text": [
      "Found 100 matching entries between baseline_llama_3_2_3b and original\n"
     ]
    }
   ],
   "source": [
    "# Extract predictions and original with matching keys\n",
    "baseline_llama_3_2_3b_predictions = []\n",
    "ground_truth_original = []\n",
    "matching_ids = []\n",
    "\n",
    "for cochrane_id in original:\n",
    "    if cochrane_id in original:\n",
    "        baseline_llama_3_2_3b_predictions.append(baseline_llama_3_2_3b[cochrane_id])\n",
    "        ground_truth_original.append(original[cochrane_id])\n",
    "        matching_ids.append(cochrane_id)\n",
    "\n",
    "print(f\"Found {len(matching_ids)} matching entries between baseline_llama_3_2_3b and original\")"
   ]
  },
  {
   "cell_type": "code",
   "execution_count": 43,
   "id": "1a905254",
   "metadata": {},
   "outputs": [
    {
     "name": "stdout",
     "output_type": "stream",
     "text": [
      "Baseline_llama_3_2_3b BERTScore F1: 0.8477\n",
      "Baseline_llama_3_2_3b MeaningBERT score: 0.6566\n",
      "Baseline_llama_3_2_3b BERTScore F1 (reference): 0.8467\n",
      "Baseline_llama_3_2_3b MeaningBERT score (reference): 0.6302\n"
     ]
    },
    {
     "name": "stderr",
     "output_type": "stream",
     "text": [
      "Evaluating with PLS API: 100%|██████████| 100/100 [00:14<00:00,  6.91it/s]\n"
     ]
    }
   ],
   "source": [
    "# Calculate BERTScore using the function\n",
    "baseline_llama_3_2_3b_bertscore = get_bertscore(baseline_llama_3_2_3b_predictions, ground_truth_original, bertscore)\n",
    "print(f\"Baseline_llama_3_2_3b BERTScore F1: {baseline_llama_3_2_3b_bertscore:.4f}\")\n",
    "\n",
    "baseline_llama_3_2_3b_meaningbert = get_meaningbert_score(baseline_llama_3_2_3b_predictions, ground_truth_original, meaning_bert)\n",
    "print(f\"Baseline_llama_3_2_3b MeaningBERT score: {baseline_llama_3_2_3b_meaningbert:.4f}\")\n",
    "\n",
    "baseline_llama_3_2_3b_bertscore_reference = get_bertscore(baseline_llama_3_2_3b_predictions, ground_truth_reference, bertscore)\n",
    "print(f\"Baseline_llama_3_2_3b BERTScore F1 (reference): {baseline_llama_3_2_3b_bertscore_reference:.4f}\")\n",
    "\n",
    "baseline_llama_3_2_3b_meaningbert_reference = get_meaningbert_score(baseline_llama_3_2_3b_predictions, ground_truth_reference, meaning_bert)\n",
    "print(f\"Baseline_llama_3_2_3b MeaningBERT score (reference): {baseline_llama_3_2_3b_meaningbert_reference:.4f}\")\n",
    "\n",
    "baseline_llama_3_2_3b_pls = get_pls_evaluation(baseline_llama_3_2_3b_predictions)"
   ]
  },
  {
   "cell_type": "code",
   "execution_count": 50,
   "id": "812284c0",
   "metadata": {},
   "outputs": [
    {
     "name": "stderr",
     "output_type": "stream",
     "text": [
      "Computing AlignScore: 100%|██████████| 100/100 [53:14<00:00, 31.94s/it]\n"
     ]
    },
    {
     "name": "stdout",
     "output_type": "stream",
     "text": [
      "Baseline_llama_3_2_3b AlignScore: 0.8499\n"
     ]
    },
    {
     "name": "stderr",
     "output_type": "stream",
     "text": [
      "Computing AlignScore: 100%|██████████| 100/100 [35:52<00:00, 21.52s/it]"
     ]
    },
    {
     "name": "stdout",
     "output_type": "stream",
     "text": [
      "Baseline_llama_3_2_3b AlignScore (reference): 0.6982\n"
     ]
    },
    {
     "name": "stderr",
     "output_type": "stream",
     "text": [
      "\n"
     ]
    }
   ],
   "source": [
    "# For Baseline_llama_3_2_3b predictions vs original\n",
    "baseline_llama_3_2_3b_alignscore = get_alignscore(baseline_llama_3_2_3b_predictions, ground_truth_original, alignscore_evaluator)\n",
    "print(f\"Baseline_llama_3_2_3b AlignScore: {baseline_llama_3_2_3b_alignscore:.4f}\")\n",
    "\n",
    "# For Baseline_llama_3_2_3b predictions vs reference\n",
    "baseline_llama_3_2_3b_alignscore_reference = get_alignscore(baseline_llama_3_2_3b_predictions, ground_truth_reference, alignscore_evaluator)\n",
    "print(f\"Baseline_llama_3_2_3b AlignScore (reference): {baseline_llama_3_2_3b_alignscore_reference:.4f}\")"
   ]
  },
  {
   "cell_type": "code",
   "execution_count": 50,
   "id": "7995e8e5",
   "metadata": {},
   "outputs": [
    {
     "name": "stdout",
     "output_type": "stream",
     "text": [
      "Evaluating Reference (Gold Standard)...\n"
     ]
    },
    {
     "name": "stderr",
     "output_type": "stream",
     "text": [
      "Evaluating with PLS API: 100%|██████████| 100/100 [00:18<00:00,  5.52it/s]"
     ]
    },
    {
     "name": "stdout",
     "output_type": "stream",
     "text": [
      "\n",
      "Readability Metrics:\n",
      "                     model       Kincaid           ARI  Coleman-Liau  \\\n",
      "0                Reference  11.38 ± 1.67  11.46 ± 1.89  11.21 ± 1.52   \n",
      "1  Baseline_gemini_2_5_pro   8.26 ± 0.92   8.01 ± 1.07   9.07 ± 0.81   \n",
      "2           Baseline_gpt_5   9.62 ± 1.08   9.89 ± 1.18  10.46 ± 1.06   \n",
      "3    Baseline_gpt_oss_120b   9.82 ± 1.08   9.94 ± 1.25   9.74 ± 0.99   \n",
      "\n",
      "  FleschReadingEase GunningFogIndex           LIX     SMOGIndex          RIX  \\\n",
      "0      49.23 ± 9.09    16.21 ± 2.06  50.35 ± 4.87  14.23 ± 1.56  6.07 ± 1.23   \n",
      "1      64.45 ± 4.77    12.38 ± 1.12  41.21 ± 3.04  12.74 ± 1.01  4.02 ± 0.58   \n",
      "2      57.97 ± 6.27    13.49 ± 1.27  45.08 ± 3.69  14.62 ± 1.10  4.87 ± 0.76   \n",
      "3      59.10 ± 5.85    14.76 ± 1.30  45.98 ± 3.37  12.96 ± 0.95  5.15 ± 0.75   \n",
      "\n",
      "  DaleChallIndex  \n",
      "0    7.37 ± 0.62  \n",
      "1    6.53 ± 0.37  \n",
      "2    6.74 ± 0.44  \n",
      "3    6.77 ± 0.47  \n",
      "\n",
      "Summary Percentages:\n",
      "                     model  Best Quartile %  P25 %  P50 %  P75 %  P90 %  \\\n",
      "0                Reference            52.50  25.89  17.89  26.61  14.78   \n",
      "1  Baseline_gemini_2_5_pro            78.44  45.33   5.28  33.11  12.89   \n",
      "2           Baseline_gpt_5            63.83  41.33   5.56  22.50   9.61   \n",
      "3    Baseline_gpt_oss_120b            73.44  39.39  10.56  34.06  13.22   \n",
      "\n",
      "   P10 %  Beyond P90 %  Below P10 %  \n",
      "0   0.22         14.50         0.11  \n",
      "1   0.00          3.39         0.00  \n",
      "2   0.00         21.00         0.00  \n",
      "3   0.00          2.78         0.00  \n"
     ]
    },
    {
     "name": "stderr",
     "output_type": "stream",
     "text": [
      "\n"
     ]
    }
   ],
   "source": [
    "# Evaluate each model's predictions\n",
    "print(\"Evaluating Reference (Gold Standard)...\")\n",
    "reference_pls = get_pls_evaluation(ground_truth_reference)\n",
    "\n",
    "# Create readability metrics table\n",
    "readability_table = create_readability_table(\n",
    "    model_results=[reference_pls, baseline_gemini_2_5_pro_pls, baseline_gpt_5_pls, baseline_gpt_oss_120b_pls],\n",
    "    model_names=['Reference', 'Baseline_gemini_2_5_pro', 'Baseline_gpt_5', 'Baseline_gpt_oss_120b']\n",
    ")\n",
    "\n",
    "print(\"\\nReadability Metrics:\")\n",
    "print(readability_table)\n",
    "\n",
    "# Create summary percentages table\n",
    "summary_table = create_summary_table(\n",
    "    model_results=[reference_pls, baseline_gemini_2_5_pro_pls, baseline_gpt_5_pls, baseline_gpt_oss_120b_pls],\n",
    "    model_names=['Reference', 'Baseline_gemini_2_5_pro', 'Baseline_gpt_5', 'Baseline_gpt_oss_120b']\n",
    ")\n",
    "\n",
    "print(\"\\nSummary Percentages:\")\n",
    "print(summary_table)"
   ]
  },
  {
   "cell_type": "code",
   "execution_count": 51,
   "id": "cd9c159d",
   "metadata": {},
   "outputs": [
    {
     "data": {
      "text/html": [
       "<div>\n",
       "<style scoped>\n",
       "    .dataframe tbody tr th:only-of-type {\n",
       "        vertical-align: middle;\n",
       "    }\n",
       "\n",
       "    .dataframe tbody tr th {\n",
       "        vertical-align: top;\n",
       "    }\n",
       "\n",
       "    .dataframe thead th {\n",
       "        text-align: right;\n",
       "    }\n",
       "</style>\n",
       "<table border=\"1\" class=\"dataframe\">\n",
       "  <thead>\n",
       "    <tr style=\"text-align: right;\">\n",
       "      <th></th>\n",
       "      <th>model</th>\n",
       "      <th>Kincaid</th>\n",
       "      <th>ARI</th>\n",
       "      <th>Coleman-Liau</th>\n",
       "      <th>FleschReadingEase</th>\n",
       "      <th>GunningFogIndex</th>\n",
       "      <th>LIX</th>\n",
       "      <th>SMOGIndex</th>\n",
       "      <th>RIX</th>\n",
       "      <th>DaleChallIndex</th>\n",
       "    </tr>\n",
       "  </thead>\n",
       "  <tbody>\n",
       "    <tr>\n",
       "      <th>0</th>\n",
       "      <td>Reference</td>\n",
       "      <td>11.38 ± 1.67</td>\n",
       "      <td>11.46 ± 1.89</td>\n",
       "      <td>11.21 ± 1.52</td>\n",
       "      <td>49.23 ± 9.09</td>\n",
       "      <td>16.21 ± 2.06</td>\n",
       "      <td>50.35 ± 4.87</td>\n",
       "      <td>14.23 ± 1.56</td>\n",
       "      <td>6.07 ± 1.23</td>\n",
       "      <td>7.37 ± 0.62</td>\n",
       "    </tr>\n",
       "    <tr>\n",
       "      <th>1</th>\n",
       "      <td>Baseline_gemini_2_5_pro</td>\n",
       "      <td>8.26 ± 0.92</td>\n",
       "      <td>8.01 ± 1.07</td>\n",
       "      <td>9.07 ± 0.81</td>\n",
       "      <td>64.45 ± 4.77</td>\n",
       "      <td>12.38 ± 1.12</td>\n",
       "      <td>41.21 ± 3.04</td>\n",
       "      <td>12.74 ± 1.01</td>\n",
       "      <td>4.02 ± 0.58</td>\n",
       "      <td>6.53 ± 0.37</td>\n",
       "    </tr>\n",
       "    <tr>\n",
       "      <th>2</th>\n",
       "      <td>Baseline_gpt_5</td>\n",
       "      <td>9.62 ± 1.08</td>\n",
       "      <td>9.89 ± 1.18</td>\n",
       "      <td>10.46 ± 1.06</td>\n",
       "      <td>57.97 ± 6.27</td>\n",
       "      <td>13.49 ± 1.27</td>\n",
       "      <td>45.08 ± 3.69</td>\n",
       "      <td>14.62 ± 1.10</td>\n",
       "      <td>4.87 ± 0.76</td>\n",
       "      <td>6.74 ± 0.44</td>\n",
       "    </tr>\n",
       "    <tr>\n",
       "      <th>3</th>\n",
       "      <td>Baseline_gpt_oss_120b</td>\n",
       "      <td>9.82 ± 1.08</td>\n",
       "      <td>9.94 ± 1.25</td>\n",
       "      <td>9.74 ± 0.99</td>\n",
       "      <td>59.10 ± 5.85</td>\n",
       "      <td>14.76 ± 1.30</td>\n",
       "      <td>45.98 ± 3.37</td>\n",
       "      <td>12.96 ± 0.95</td>\n",
       "      <td>5.15 ± 0.75</td>\n",
       "      <td>6.77 ± 0.47</td>\n",
       "    </tr>\n",
       "  </tbody>\n",
       "</table>\n",
       "</div>"
      ],
      "text/plain": [
       "                     model       Kincaid           ARI  Coleman-Liau  \\\n",
       "0                Reference  11.38 ± 1.67  11.46 ± 1.89  11.21 ± 1.52   \n",
       "1  Baseline_gemini_2_5_pro   8.26 ± 0.92   8.01 ± 1.07   9.07 ± 0.81   \n",
       "2           Baseline_gpt_5   9.62 ± 1.08   9.89 ± 1.18  10.46 ± 1.06   \n",
       "3    Baseline_gpt_oss_120b   9.82 ± 1.08   9.94 ± 1.25   9.74 ± 0.99   \n",
       "\n",
       "  FleschReadingEase GunningFogIndex           LIX     SMOGIndex          RIX  \\\n",
       "0      49.23 ± 9.09    16.21 ± 2.06  50.35 ± 4.87  14.23 ± 1.56  6.07 ± 1.23   \n",
       "1      64.45 ± 4.77    12.38 ± 1.12  41.21 ± 3.04  12.74 ± 1.01  4.02 ± 0.58   \n",
       "2      57.97 ± 6.27    13.49 ± 1.27  45.08 ± 3.69  14.62 ± 1.10  4.87 ± 0.76   \n",
       "3      59.10 ± 5.85    14.76 ± 1.30  45.98 ± 3.37  12.96 ± 0.95  5.15 ± 0.75   \n",
       "\n",
       "  DaleChallIndex  \n",
       "0    7.37 ± 0.62  \n",
       "1    6.53 ± 0.37  \n",
       "2    6.74 ± 0.44  \n",
       "3    6.77 ± 0.47  "
      ]
     },
     "execution_count": 51,
     "metadata": {},
     "output_type": "execute_result"
    }
   ],
   "source": [
    "readability_table"
   ]
  },
  {
   "cell_type": "code",
   "execution_count": 52,
   "id": "8bd64e68",
   "metadata": {},
   "outputs": [
    {
     "data": {
      "text/html": [
       "<div>\n",
       "<style scoped>\n",
       "    .dataframe tbody tr th:only-of-type {\n",
       "        vertical-align: middle;\n",
       "    }\n",
       "\n",
       "    .dataframe tbody tr th {\n",
       "        vertical-align: top;\n",
       "    }\n",
       "\n",
       "    .dataframe thead th {\n",
       "        text-align: right;\n",
       "    }\n",
       "</style>\n",
       "<table border=\"1\" class=\"dataframe\">\n",
       "  <thead>\n",
       "    <tr style=\"text-align: right;\">\n",
       "      <th></th>\n",
       "      <th>model</th>\n",
       "      <th>Best Quartile %</th>\n",
       "      <th>P25 %</th>\n",
       "      <th>P50 %</th>\n",
       "      <th>P75 %</th>\n",
       "      <th>P90 %</th>\n",
       "      <th>P10 %</th>\n",
       "      <th>Beyond P90 %</th>\n",
       "      <th>Below P10 %</th>\n",
       "    </tr>\n",
       "  </thead>\n",
       "  <tbody>\n",
       "    <tr>\n",
       "      <th>0</th>\n",
       "      <td>Reference</td>\n",
       "      <td>52.50</td>\n",
       "      <td>25.89</td>\n",
       "      <td>17.89</td>\n",
       "      <td>26.61</td>\n",
       "      <td>14.78</td>\n",
       "      <td>0.22</td>\n",
       "      <td>14.50</td>\n",
       "      <td>0.11</td>\n",
       "    </tr>\n",
       "    <tr>\n",
       "      <th>1</th>\n",
       "      <td>Baseline_gemini_2_5_pro</td>\n",
       "      <td>78.44</td>\n",
       "      <td>45.33</td>\n",
       "      <td>5.28</td>\n",
       "      <td>33.11</td>\n",
       "      <td>12.89</td>\n",
       "      <td>0.00</td>\n",
       "      <td>3.39</td>\n",
       "      <td>0.00</td>\n",
       "    </tr>\n",
       "    <tr>\n",
       "      <th>2</th>\n",
       "      <td>Baseline_gpt_5</td>\n",
       "      <td>63.83</td>\n",
       "      <td>41.33</td>\n",
       "      <td>5.56</td>\n",
       "      <td>22.50</td>\n",
       "      <td>9.61</td>\n",
       "      <td>0.00</td>\n",
       "      <td>21.00</td>\n",
       "      <td>0.00</td>\n",
       "    </tr>\n",
       "    <tr>\n",
       "      <th>3</th>\n",
       "      <td>Baseline_gpt_oss_120b</td>\n",
       "      <td>73.44</td>\n",
       "      <td>39.39</td>\n",
       "      <td>10.56</td>\n",
       "      <td>34.06</td>\n",
       "      <td>13.22</td>\n",
       "      <td>0.00</td>\n",
       "      <td>2.78</td>\n",
       "      <td>0.00</td>\n",
       "    </tr>\n",
       "  </tbody>\n",
       "</table>\n",
       "</div>"
      ],
      "text/plain": [
       "                     model  Best Quartile %  P25 %  P50 %  P75 %  P90 %  \\\n",
       "0                Reference            52.50  25.89  17.89  26.61  14.78   \n",
       "1  Baseline_gemini_2_5_pro            78.44  45.33   5.28  33.11  12.89   \n",
       "2           Baseline_gpt_5            63.83  41.33   5.56  22.50   9.61   \n",
       "3    Baseline_gpt_oss_120b            73.44  39.39  10.56  34.06  13.22   \n",
       "\n",
       "   P10 %  Beyond P90 %  Below P10 %  \n",
       "0   0.22         14.50         0.11  \n",
       "1   0.00          3.39         0.00  \n",
       "2   0.00         21.00         0.00  \n",
       "3   0.00          2.78         0.00  "
      ]
     },
     "execution_count": 52,
     "metadata": {},
     "output_type": "execute_result"
    }
   ],
   "source": [
    "summary_table"
   ]
  },
  {
   "cell_type": "markdown",
   "id": "2d964703",
   "metadata": {},
   "source": [
    "### Gemini 2.5 Pro"
   ]
  },
  {
   "cell_type": "code",
   "execution_count": 132,
   "id": "f6c85431",
   "metadata": {},
   "outputs": [
    {
     "name": "stdout",
     "output_type": "stream",
     "text": [
      "Found 100 matching entries between agentic_gemini_2_5_pro and original\n"
     ]
    }
   ],
   "source": [
    "# Extract predictions and original with matching keys\n",
    "agentic_gemini_2_5_pro_predictions = []\n",
    "ground_truth_original = []\n",
    "matching_ids = []\n",
    "\n",
    "for cochrane_id in original:\n",
    "    if cochrane_id in original:\n",
    "        agentic_gemini_2_5_pro_predictions.append(agentic_gemini_2_5_pro[cochrane_id])\n",
    "        ground_truth_original.append(original[cochrane_id])\n",
    "        matching_ids.append(cochrane_id)\n",
    "\n",
    "print(f\"Found {len(matching_ids)} matching entries between agentic_gemini_2_5_pro and original\")"
   ]
  },
  {
   "cell_type": "code",
   "execution_count": null,
   "id": "f50a306e",
   "metadata": {},
   "outputs": [
    {
     "name": "stdout",
     "output_type": "stream",
     "text": [
      "agentic_gpt_oss_120b BERTScore F1: 0.8469\n",
      "agentic_gpt_oss_120b MeaningBERT score: 0.6136\n",
      "agentic_gpt_oss_120b BERTScore F1 (reference): 0.8736\n",
      "agentic_gpt_oss_120b MeaningBERT score (reference): 0.7153\n"
     ]
    },
    {
     "name": "stderr",
     "output_type": "stream",
     "text": [
      "Evaluating with PLS API: 100%|██████████| 100/100 [00:16<00:00,  6.11it/s]\n"
     ]
    }
   ],
   "source": [
    "# Calculate BERTScore using the function\n",
    "agentic_gemini_2_5_pro_bertscore = get_bertscore(agentic_gemini_2_5_pro_predictions, ground_truth_original, bertscore)\n",
    "print(f\"agentic_gemini_2_5_pro BERTScore F1: {agentic_gemini_2_5_pro_bertscore:.4f}\")\n",
    "\n",
    "agentic_gemini_2_5_pro_meaningbert = get_meaningbert_score(agentic_gemini_2_5_pro_predictions, ground_truth_original, meaning_bert)\n",
    "print(f\"agentic_gemini_2_5_pro MeaningBERT score: {agentic_gemini_2_5_pro_meaningbert:.4f}\")\n",
    "\n",
    "agentic_gemini_2_5_pro_bertscore_reference = get_bertscore(agentic_gemini_2_5_pro_predictions, ground_truth_reference, bertscore)\n",
    "print(f\"agentic_gemini_2_5_pro BERTScore F1 (reference): {agentic_gemini_2_5_pro_bertscore_reference:.4f}\")\n",
    "\n",
    "agentic_gemini_2_5_pro_meaningbert_reference = get_meaningbert_score(agentic_gemini_2_5_pro_predictions, ground_truth_reference, meaning_bert)\n",
    "print(f\"agentic_gemini_2_5_pro MeaningBERT score (reference): {agentic_gemini_2_5_pro_meaningbert_reference:.4f}\")\n",
    "\n",
    "agentic_gemini_2_5_pro_pls = get_pls_evaluation(agentic_gemini_2_5_pro_predictions)"
   ]
  },
  {
   "cell_type": "code",
   "execution_count": 134,
   "id": "e61220ab",
   "metadata": {},
   "outputs": [
    {
     "name": "stderr",
     "output_type": "stream",
     "text": [
      "Computing AlignScore: 100%|██████████| 100/100 [38:45<00:00, 23.25s/it]\n"
     ]
    },
    {
     "name": "stdout",
     "output_type": "stream",
     "text": [
      "agentic_gemini_2_5_pro AlignScore: 0.7992\n"
     ]
    },
    {
     "name": "stderr",
     "output_type": "stream",
     "text": [
      "Computing AlignScore: 100%|██████████| 100/100 [29:30<00:00, 17.71s/it]"
     ]
    },
    {
     "name": "stdout",
     "output_type": "stream",
     "text": [
      "agentic_gemini_2_5_pro AlignScore (reference): 0.7219\n"
     ]
    },
    {
     "name": "stderr",
     "output_type": "stream",
     "text": [
      "\n"
     ]
    }
   ],
   "source": [
    "# For agentic_gemini_2_5_pro predictions vs original\n",
    "agentic_gemini_2_5_pro_alignscore = get_alignscore(agentic_gemini_2_5_pro_predictions, ground_truth_original, alignscore_evaluator)\n",
    "print(f\"agentic_gemini_2_5_pro AlignScore: {agentic_gemini_2_5_pro_alignscore:.4f}\")\n",
    "\n",
    "# For agentic_gemini_2_5_pro predictions vs reference\n",
    "agentic_gemini_2_5_pro_alignscore_reference = get_alignscore(agentic_gemini_2_5_pro_predictions, ground_truth_reference, alignscore_evaluator)\n",
    "print(f\"agentic_gemini_2_5_pro AlignScore (reference): {agentic_gemini_2_5_pro_alignscore_reference:.4f}\")"
   ]
  },
  {
   "cell_type": "markdown",
   "id": "2139d176",
   "metadata": {},
   "source": [
    "### Agentic GPT-OSS 120B "
   ]
  },
  {
   "cell_type": "code",
   "execution_count": 135,
   "id": "36ab5cc6",
   "metadata": {},
   "outputs": [
    {
     "name": "stdout",
     "output_type": "stream",
     "text": [
      "Found 100 matching entries between agentic_gpt_oss_120b and original\n"
     ]
    }
   ],
   "source": [
    "# Extract predictions and original with matching keys\n",
    "agentic_gpt_oss_120b_predictions = []\n",
    "ground_truth_original = []\n",
    "matching_ids = []\n",
    "\n",
    "for cochrane_id in original:\n",
    "    if cochrane_id in original:\n",
    "        agentic_gpt_oss_120b_predictions.append(agentic_gpt_oss_120b[cochrane_id])\n",
    "        ground_truth_original.append(original[cochrane_id])\n",
    "        matching_ids.append(cochrane_id)\n",
    "\n",
    "print(f\"Found {len(matching_ids)} matching entries between agentic_gpt_oss_120b and original\")"
   ]
  },
  {
   "cell_type": "code",
   "execution_count": 136,
   "id": "fd9fbd3a",
   "metadata": {},
   "outputs": [
    {
     "name": "stdout",
     "output_type": "stream",
     "text": [
      "agentic_gpt_oss_120b BERTScore F1: 0.8464\n",
      "agentic_gpt_oss_120b MeaningBERT score: 0.6557\n",
      "agentic_gpt_oss_120b BERTScore F1 (reference): 0.8651\n",
      "agentic_gpt_oss_120b MeaningBERT score (reference): 0.7393\n"
     ]
    },
    {
     "name": "stderr",
     "output_type": "stream",
     "text": [
      "Evaluating with PLS API: 100%|██████████| 100/100 [00:19<00:00,  5.20it/s]\n"
     ]
    }
   ],
   "source": [
    "# Calculate BERTScore using the function\n",
    "agentic_gpt_oss_120b_bertscore = get_bertscore(agentic_gpt_oss_120b_predictions, ground_truth_original, bertscore)\n",
    "print(f\"agentic_gpt_oss_120b BERTScore F1: {agentic_gpt_oss_120b_bertscore:.4f}\")\n",
    "\n",
    "agentic_gpt_oss_120b_meaningbert = get_meaningbert_score(agentic_gpt_oss_120b_predictions, ground_truth_original, meaning_bert)\n",
    "print(f\"agentic_gpt_oss_120b MeaningBERT score: {agentic_gpt_oss_120b_meaningbert:.4f}\")\n",
    "\n",
    "agentic_gpt_oss_120b_bertscore_reference = get_bertscore(agentic_gpt_oss_120b_predictions, ground_truth_reference, bertscore)\n",
    "print(f\"agentic_gpt_oss_120b BERTScore F1 (reference): {agentic_gpt_oss_120b_bertscore_reference:.4f}\")\n",
    "\n",
    "agentic_gpt_oss_120b_meaningbert_reference = get_meaningbert_score(agentic_gpt_oss_120b_predictions, ground_truth_reference, meaning_bert)\n",
    "print(f\"agentic_gpt_oss_120b MeaningBERT score (reference): {agentic_gpt_oss_120b_meaningbert_reference:.4f}\")\n",
    "\n",
    "agentic_gpt_oss_120b_pls = get_pls_evaluation(agentic_gpt_oss_120b_predictions)"
   ]
  },
  {
   "cell_type": "code",
   "execution_count": 137,
   "id": "ac79c730",
   "metadata": {},
   "outputs": [
    {
     "name": "stderr",
     "output_type": "stream",
     "text": [
      "Computing AlignScore: 100%|██████████| 100/100 [43:26<00:00, 26.07s/it]\n"
     ]
    },
    {
     "name": "stdout",
     "output_type": "stream",
     "text": [
      "agentic_gpt_oss_120b AlignScore: 0.7953\n"
     ]
    },
    {
     "name": "stderr",
     "output_type": "stream",
     "text": [
      "Computing AlignScore: 100%|██████████| 100/100 [31:31<00:00, 18.92s/it]"
     ]
    },
    {
     "name": "stdout",
     "output_type": "stream",
     "text": [
      "agentic_gpt_oss_120b AlignScore (reference): 0.6595\n"
     ]
    },
    {
     "name": "stderr",
     "output_type": "stream",
     "text": [
      "\n"
     ]
    }
   ],
   "source": [
    "# For agentic_gpt_oss_120b predictions vs original\n",
    "agentic_gpt_oss_120b_alignscore = get_alignscore(agentic_gpt_oss_120b_predictions, ground_truth_original, alignscore_evaluator)\n",
    "print(f\"agentic_gpt_oss_120b AlignScore: {agentic_gpt_oss_120b_alignscore:.4f}\")\n",
    "\n",
    "# For agentic_gpt_oss_120b predictions vs reference\n",
    "agentic_gpt_oss_120b_alignscore_reference = get_alignscore(agentic_gpt_oss_120b_predictions, ground_truth_reference, alignscore_evaluator)\n",
    "print(f\"agentic_gpt_oss_120b AlignScore (reference): {agentic_gpt_oss_120b_alignscore_reference:.4f}\")"
   ]
  },
  {
   "cell_type": "markdown",
   "id": "24161544",
   "metadata": {},
   "source": [
    "### Agentic GPT-OSS 20B"
   ]
  },
  {
   "cell_type": "code",
   "execution_count": 38,
   "id": "4ac74450",
   "metadata": {},
   "outputs": [
    {
     "name": "stdout",
     "output_type": "stream",
     "text": [
      "Found 100 matching entries between agentic_gpt_oss_20b and original\n"
     ]
    }
   ],
   "source": [
    "# Extract predictions and original with matching keys\n",
    "agentic_gpt_oss_20b_predictions = []\n",
    "ground_truth_original = []\n",
    "matching_ids = []\n",
    "\n",
    "for cochrane_id in original:\n",
    "    if cochrane_id in original:\n",
    "        agentic_gpt_oss_20b_predictions.append(agentic_gpt_oss_20b[cochrane_id])\n",
    "        ground_truth_original.append(original[cochrane_id])\n",
    "        matching_ids.append(cochrane_id)\n",
    "\n",
    "print(f\"Found {len(matching_ids)} matching entries between agentic_gpt_oss_20b and original\")"
   ]
  },
  {
   "cell_type": "code",
   "execution_count": 39,
   "id": "7d62c33c",
   "metadata": {},
   "outputs": [
    {
     "name": "stdout",
     "output_type": "stream",
     "text": [
      "agentic_gpt_oss_20b BERTScore F1: 0.8422\n",
      "agentic_gpt_oss_20b MeaningBERT score: 0.6680\n",
      "agentic_gpt_oss_20b BERTScore F1 (reference): 0.8615\n",
      "agentic_gpt_oss_20b MeaningBERT score (reference): 0.7534\n"
     ]
    },
    {
     "name": "stderr",
     "output_type": "stream",
     "text": [
      "Evaluating with PLS API: 100%|██████████| 100/100 [00:18<00:00,  5.44it/s]\n"
     ]
    }
   ],
   "source": [
    "# Calculate BERTScore using the function\n",
    "agentic_gpt_oss_20b_bertscore = get_bertscore(agentic_gpt_oss_20b_predictions, ground_truth_original, bertscore)\n",
    "print(f\"agentic_gpt_oss_20b BERTScore F1: {agentic_gpt_oss_20b_bertscore:.4f}\")\n",
    "\n",
    "agentic_gpt_oss_20b_meaningbert = get_meaningbert_score(agentic_gpt_oss_20b_predictions, ground_truth_original, meaning_bert)\n",
    "print(f\"agentic_gpt_oss_20b MeaningBERT score: {agentic_gpt_oss_20b_meaningbert:.4f}\")\n",
    "\n",
    "agentic_gpt_oss_20b_bertscore_reference = get_bertscore(agentic_gpt_oss_20b_predictions, ground_truth_reference, bertscore)\n",
    "print(f\"agentic_gpt_oss_20b BERTScore F1 (reference): {agentic_gpt_oss_20b_bertscore_reference:.4f}\")\n",
    "\n",
    "agentic_gpt_oss_20b_meaningbert_reference = get_meaningbert_score(agentic_gpt_oss_20b_predictions, ground_truth_reference, meaning_bert)\n",
    "print(f\"agentic_gpt_oss_20b MeaningBERT score (reference): {agentic_gpt_oss_20b_meaningbert_reference:.4f}\")\n",
    "\n",
    "agentic_gpt_oss_20b_pls = get_pls_evaluation(agentic_gpt_oss_20b_predictions)"
   ]
  },
  {
   "cell_type": "code",
   "execution_count": 51,
   "id": "2c147c95",
   "metadata": {},
   "outputs": [
    {
     "name": "stderr",
     "output_type": "stream",
     "text": [
      "Computing AlignScore: 100%|██████████| 100/100 [1:24:11<00:00, 50.52s/it]\n"
     ]
    },
    {
     "name": "stdout",
     "output_type": "stream",
     "text": [
      "agentic_gpt_oss_20b AlignScore: 0.8002\n"
     ]
    },
    {
     "name": "stderr",
     "output_type": "stream",
     "text": [
      "Computing AlignScore: 100%|██████████| 100/100 [45:52<00:00, 27.53s/it]"
     ]
    },
    {
     "name": "stdout",
     "output_type": "stream",
     "text": [
      "agentic_gpt_oss_20b AlignScore (reference): 0.6590\n"
     ]
    },
    {
     "name": "stderr",
     "output_type": "stream",
     "text": [
      "\n"
     ]
    }
   ],
   "source": [
    "# For agentic_gpt_oss_20b predictions vs original\n",
    "agentic_gpt_oss_20b_alignscore = get_alignscore(agentic_gpt_oss_20b_predictions, ground_truth_original, alignscore_evaluator)\n",
    "print(f\"agentic_gpt_oss_20b AlignScore: {agentic_gpt_oss_20b_alignscore:.4f}\")\n",
    "\n",
    "# For agentic_gpt_oss_20b predictions vs reference\n",
    "agentic_gpt_oss_20b_alignscore_reference = get_alignscore(agentic_gpt_oss_20b_predictions, ground_truth_reference, alignscore_evaluator)\n",
    "print(f\"agentic_gpt_oss_20b AlignScore (reference): {agentic_gpt_oss_20b_alignscore_reference:.4f}\")"
   ]
  },
  {
   "cell_type": "markdown",
   "id": "c6ff0dd9",
   "metadata": {},
   "source": [
    "### Agentic Llama 3.3 70B "
   ]
  },
  {
   "cell_type": "code",
   "execution_count": 109,
   "id": "1660a47e",
   "metadata": {},
   "outputs": [
    {
     "name": "stdout",
     "output_type": "stream",
     "text": [
      "Found 100 matching entries between agentic_llama_3_3_70b and original\n"
     ]
    }
   ],
   "source": [
    "# Extract predictions and original with matching keys\n",
    "agentic_llama_3_3_70b_predictions = []\n",
    "ground_truth_original = []\n",
    "matching_ids = []\n",
    "\n",
    "for cochrane_id in original:\n",
    "    if cochrane_id in original:\n",
    "        agentic_llama_3_3_70b_predictions.append(agentic_llama_3_3_70b[cochrane_id])\n",
    "        ground_truth_original.append(original[cochrane_id])\n",
    "        matching_ids.append(cochrane_id)\n",
    "\n",
    "print(f\"Found {len(matching_ids)} matching entries between agentic_llama_3_3_70b and original\")"
   ]
  },
  {
   "cell_type": "code",
   "execution_count": 110,
   "id": "b5668327",
   "metadata": {},
   "outputs": [
    {
     "name": "stdout",
     "output_type": "stream",
     "text": [
      "agentic_llama_3_3_70b BERTScore F1: 0.8549\n",
      "agentic_llama_3_3_70b MeaningBERT score: 0.6818\n",
      "agentic_llama_3_3_70b BERTScore F1 (reference): 0.8708\n",
      "agentic_llama_3_3_70b MeaningBERT score (reference): 0.7446\n"
     ]
    },
    {
     "name": "stderr",
     "output_type": "stream",
     "text": [
      "Evaluating with PLS API: 100%|██████████| 100/100 [00:21<00:00,  4.63it/s]\n"
     ]
    }
   ],
   "source": [
    "# Calculate BERTScore using the function\n",
    "agentic_llama_3_3_70b_bertscore = get_bertscore(agentic_llama_3_3_70b_predictions, ground_truth_original, bertscore)\n",
    "print(f\"agentic_llama_3_3_70b BERTScore F1: {agentic_llama_3_3_70b_bertscore:.4f}\")\n",
    "\n",
    "agentic_llama_3_3_70b_meaningbert = get_meaningbert_score(agentic_llama_3_3_70b_predictions, ground_truth_original, meaning_bert)\n",
    "print(f\"agentic_llama_3_3_70b MeaningBERT score: {agentic_llama_3_3_70b_meaningbert:.4f}\")\n",
    "\n",
    "agentic_llama_3_3_70b_bertscore_reference = get_bertscore(agentic_llama_3_3_70b_predictions, ground_truth_reference, bertscore)\n",
    "print(f\"agentic_llama_3_3_70b BERTScore F1 (reference): {agentic_llama_3_3_70b_bertscore_reference:.4f}\")\n",
    "\n",
    "agentic_llama_3_3_70b_meaningbert_reference = get_meaningbert_score(agentic_llama_3_3_70b_predictions, ground_truth_reference, meaning_bert)\n",
    "print(f\"agentic_llama_3_3_70b MeaningBERT score (reference): {agentic_llama_3_3_70b_meaningbert_reference:.4f}\")\n",
    "\n",
    "agentic_llama_3_3_70b_pls = get_pls_evaluation(agentic_llama_3_3_70b_predictions)"
   ]
  },
  {
   "cell_type": "code",
   "execution_count": 111,
   "id": "7509a329",
   "metadata": {},
   "outputs": [
    {
     "name": "stderr",
     "output_type": "stream",
     "text": [
      "Computing AlignScore: 100%|██████████| 100/100 [44:33<00:00, 26.74s/it] \n"
     ]
    },
    {
     "name": "stdout",
     "output_type": "stream",
     "text": [
      "agentic_llama_3_3_70b AlignScore: 0.7823\n"
     ]
    },
    {
     "name": "stderr",
     "output_type": "stream",
     "text": [
      "Computing AlignScore: 100%|██████████| 100/100 [23:06<00:00, 13.86s/it]"
     ]
    },
    {
     "name": "stdout",
     "output_type": "stream",
     "text": [
      "agentic_llama_3_3_70b AlignScore (reference): 0.7140\n"
     ]
    },
    {
     "name": "stderr",
     "output_type": "stream",
     "text": [
      "\n"
     ]
    }
   ],
   "source": [
    "# For agentic_llama_3_3_70b predictions vs original\n",
    "agentic_llama_3_3_70b_alignscore = get_alignscore(agentic_llama_3_3_70b_predictions, ground_truth_original, alignscore_evaluator)\n",
    "print(f\"agentic_llama_3_3_70b AlignScore: {agentic_llama_3_3_70b_alignscore:.4f}\")\n",
    "\n",
    "# For agentic_llama_3_3_70b predictions vs reference\n",
    "agentic_llama_3_3_70b_alignscore_reference = get_alignscore(agentic_llama_3_3_70b_predictions, ground_truth_reference, alignscore_evaluator)\n",
    "print(f\"agentic_llama_3_3_70b AlignScore (reference): {agentic_llama_3_3_70b_alignscore_reference:.4f}\")"
   ]
  },
  {
   "cell_type": "markdown",
   "id": "68d4be45",
   "metadata": {},
   "source": [
    "### Agentic Llama 3.2 3B"
   ]
  },
  {
   "cell_type": "code",
   "execution_count": 45,
   "id": "cce44256",
   "metadata": {},
   "outputs": [
    {
     "name": "stdout",
     "output_type": "stream",
     "text": [
      "Found 100 matching entries between agentic_llama_3_2_3b and original\n"
     ]
    }
   ],
   "source": [
    "# Extract predictions and original with matching keys\n",
    "agentic_llama_3_2_3b_predictions = []\n",
    "ground_truth_original = []\n",
    "matching_ids = []\n",
    "\n",
    "for cochrane_id in original:\n",
    "    if cochrane_id in original:\n",
    "        agentic_llama_3_2_3b_predictions.append(agentic_llama_3_2_3b[cochrane_id])\n",
    "        ground_truth_original.append(original[cochrane_id])\n",
    "        matching_ids.append(cochrane_id)\n",
    "\n",
    "print(f\"Found {len(matching_ids)} matching entries between agentic_llama_3_2_3b and original\")"
   ]
  },
  {
   "cell_type": "code",
   "execution_count": 46,
   "id": "696d2803",
   "metadata": {},
   "outputs": [
    {
     "name": "stdout",
     "output_type": "stream",
     "text": [
      "agentic_llama_3_2_3b BERTScore F1: 0.8551\n",
      "agentic_llama_3_2_3b MeaningBERT score: 0.6952\n",
      "agentic_llama_3_2_3b BERTScore F1 (reference): 0.8532\n",
      "agentic_llama_3_2_3b MeaningBERT score (reference): 0.6672\n"
     ]
    },
    {
     "name": "stderr",
     "output_type": "stream",
     "text": [
      "Evaluating with PLS API: 100%|██████████| 100/100 [00:15<00:00,  6.28it/s]\n"
     ]
    }
   ],
   "source": [
    "# Calculate BERTScore using the function\n",
    "agentic_llama_3_2_3b_bertscore = get_bertscore(agentic_llama_3_2_3b_predictions, ground_truth_original, bertscore)\n",
    "print(f\"agentic_llama_3_2_3b BERTScore F1: {agentic_llama_3_2_3b_bertscore:.4f}\")\n",
    "\n",
    "agentic_llama_3_2_3b_meaningbert = get_meaningbert_score(agentic_llama_3_2_3b_predictions, ground_truth_original, meaning_bert)\n",
    "print(f\"agentic_llama_3_2_3b MeaningBERT score: {agentic_llama_3_2_3b_meaningbert:.4f}\")\n",
    "\n",
    "agentic_llama_3_2_3b_bertscore_reference = get_bertscore(agentic_llama_3_2_3b_predictions, ground_truth_reference, bertscore)\n",
    "print(f\"agentic_llama_3_2_3b BERTScore F1 (reference): {agentic_llama_3_2_3b_bertscore_reference:.4f}\")\n",
    "\n",
    "agentic_llama_3_2_3b_meaningbert_reference = get_meaningbert_score(agentic_llama_3_2_3b_predictions, ground_truth_reference, meaning_bert)\n",
    "print(f\"agentic_llama_3_2_3b MeaningBERT score (reference): {agentic_llama_3_2_3b_meaningbert_reference:.4f}\")\n",
    "\n",
    "agentic_llama_3_2_3b_pls = get_pls_evaluation(agentic_llama_3_2_3b_predictions)"
   ]
  },
  {
   "cell_type": "code",
   "execution_count": 52,
   "id": "341ef6fc",
   "metadata": {},
   "outputs": [
    {
     "name": "stderr",
     "output_type": "stream",
     "text": [
      "Computing AlignScore: 100%|██████████| 100/100 [46:52<00:00, 28.12s/it] \n"
     ]
    },
    {
     "name": "stdout",
     "output_type": "stream",
     "text": [
      "agentic_llama_3_2_3b AlignScore: 0.8403\n"
     ]
    },
    {
     "name": "stderr",
     "output_type": "stream",
     "text": [
      "Computing AlignScore: 100%|██████████| 100/100 [35:06<00:00, 21.07s/it]"
     ]
    },
    {
     "name": "stdout",
     "output_type": "stream",
     "text": [
      "agentic_llama_3_2_3b AlignScore (reference): 0.6706\n"
     ]
    },
    {
     "name": "stderr",
     "output_type": "stream",
     "text": [
      "\n"
     ]
    }
   ],
   "source": [
    "# For agentic_llama_3_2_3b predictions vs original\n",
    "agentic_llama_3_2_3b_alignscore = get_alignscore(agentic_llama_3_2_3b_predictions, ground_truth_original, alignscore_evaluator)\n",
    "print(f\"agentic_llama_3_2_3b AlignScore: {agentic_llama_3_2_3b_alignscore:.4f}\")\n",
    "\n",
    "# For agentic_llama_3_2_3b predictions vs reference\n",
    "agentic_llama_3_2_3b_alignscore_reference = get_alignscore(agentic_llama_3_2_3b_predictions, ground_truth_reference, alignscore_evaluator)\n",
    "print(f\"agentic_llama_3_2_3b AlignScore (reference): {agentic_llama_3_2_3b_alignscore_reference:.4f}\")"
   ]
  },
  {
   "cell_type": "markdown",
   "id": "1eb6349d",
   "metadata": {},
   "source": [
    "### Agentic Llama 3.3 70B with Gemini 2.5 Flash as Evaluator"
   ]
  },
  {
   "cell_type": "code",
   "execution_count": 113,
   "id": "4373500c",
   "metadata": {},
   "outputs": [
    {
     "name": "stdout",
     "output_type": "stream",
     "text": [
      "Found 100 matching entries between agentic_llama_3_3_70b_evaluator_gemini_2_5_flash and original\n"
     ]
    }
   ],
   "source": [
    "# Extract predictions and original with matching keys\n",
    "agentic_llama_3_3_70b_evaluator_gemini_2_5_flash_predictions = []\n",
    "ground_truth_original = []\n",
    "matching_ids = []\n",
    "\n",
    "for cochrane_id in original:\n",
    "    if cochrane_id in original:\n",
    "        agentic_llama_3_3_70b_evaluator_gemini_2_5_flash_predictions.append(agentic_llama_3_3_70b_evaluator_gemini_2_5_flash[cochrane_id])\n",
    "        ground_truth_original.append(original[cochrane_id])\n",
    "        matching_ids.append(cochrane_id)\n",
    "\n",
    "print(f\"Found {len(matching_ids)} matching entries between agentic_llama_3_3_70b_evaluator_gemini_2_5_flash and original\")"
   ]
  },
  {
   "cell_type": "code",
   "execution_count": 114,
   "id": "05e2f132",
   "metadata": {},
   "outputs": [
    {
     "name": "stdout",
     "output_type": "stream",
     "text": [
      "agentic_llama_3_3_70b_evaluator_gemini_2_5_flash BERTScore F1: 0.8485\n",
      "agentic_llama_3_3_70b_evaluator_gemini_2_5_flash MeaningBERT score: 0.6514\n",
      "agentic_llama_3_3_70b_evaluator_gemini_2_5_flash BERTScore F1 (reference): 0.8711\n",
      "agentic_llama_3_3_70b_evaluator_gemini_2_5_flash MeaningBERT score (reference): 0.7325\n"
     ]
    },
    {
     "name": "stderr",
     "output_type": "stream",
     "text": [
      "Evaluating with PLS API: 100%|██████████| 100/100 [00:16<00:00,  6.15it/s]\n"
     ]
    }
   ],
   "source": [
    "# Calculate BERTScore using the function\n",
    "agentic_llama_3_3_70b_evaluator_gemini_2_5_flash_bertscore = get_bertscore(agentic_llama_3_3_70b_evaluator_gemini_2_5_flash_predictions, ground_truth_original, bertscore)\n",
    "print(f\"agentic_llama_3_3_70b_evaluator_gemini_2_5_flash BERTScore F1: {agentic_llama_3_3_70b_evaluator_gemini_2_5_flash_bertscore:.4f}\")\n",
    "\n",
    "agentic_llama_3_3_70b_evaluator_gemini_2_5_flash_meaningbert = get_meaningbert_score(agentic_llama_3_3_70b_evaluator_gemini_2_5_flash_predictions, ground_truth_original, meaning_bert)\n",
    "print(f\"agentic_llama_3_3_70b_evaluator_gemini_2_5_flash MeaningBERT score: {agentic_llama_3_3_70b_evaluator_gemini_2_5_flash_meaningbert:.4f}\")\n",
    "\n",
    "agentic_llama_3_3_70b_evaluator_gemini_2_5_flash_bertscore_reference = get_bertscore(agentic_llama_3_3_70b_evaluator_gemini_2_5_flash_predictions, ground_truth_reference, bertscore)\n",
    "print(f\"agentic_llama_3_3_70b_evaluator_gemini_2_5_flash BERTScore F1 (reference): {agentic_llama_3_3_70b_evaluator_gemini_2_5_flash_bertscore_reference:.4f}\")\n",
    "\n",
    "agentic_llama_3_3_70b_evaluator_gemini_2_5_flash_meaningbert_reference = get_meaningbert_score(agentic_llama_3_3_70b_evaluator_gemini_2_5_flash_predictions, ground_truth_reference, meaning_bert)\n",
    "print(f\"agentic_llama_3_3_70b_evaluator_gemini_2_5_flash MeaningBERT score (reference): {agentic_llama_3_3_70b_evaluator_gemini_2_5_flash_meaningbert_reference:.4f}\")\n",
    "\n",
    "agentic_llama_3_3_70b_evaluator_gemini_2_5_flash_pls = get_pls_evaluation(agentic_llama_3_3_70b_evaluator_gemini_2_5_flash_predictions)"
   ]
  },
  {
   "cell_type": "code",
   "execution_count": 115,
   "id": "56a223cd",
   "metadata": {},
   "outputs": [
    {
     "name": "stderr",
     "output_type": "stream",
     "text": [
      "Computing AlignScore: 100%|██████████| 100/100 [37:12<00:00, 22.32s/it]\n"
     ]
    },
    {
     "name": "stdout",
     "output_type": "stream",
     "text": [
      "agentic_llama_3_3_70b_evaluator_gemini_2_5_flash AlignScore: 0.7644\n"
     ]
    },
    {
     "name": "stderr",
     "output_type": "stream",
     "text": [
      "Computing AlignScore: 100%|██████████| 100/100 [25:58<00:00, 15.58s/it]"
     ]
    },
    {
     "name": "stdout",
     "output_type": "stream",
     "text": [
      "agentic_llama_3_3_70b_evaluator_gemini_2_5_flash AlignScore (reference): 0.6982\n"
     ]
    },
    {
     "name": "stderr",
     "output_type": "stream",
     "text": [
      "\n"
     ]
    }
   ],
   "source": [
    "# For agentic_llama_3_3_70b_evaluator_gemini_2_5_flash predictions vs original\n",
    "agentic_llama_3_3_70b_evaluator_gemini_2_5_flash_alignscore = get_alignscore(agentic_llama_3_3_70b_evaluator_gemini_2_5_flash_predictions, ground_truth_original, alignscore_evaluator)\n",
    "print(f\"agentic_llama_3_3_70b_evaluator_gemini_2_5_flash AlignScore: {agentic_llama_3_3_70b_evaluator_gemini_2_5_flash_alignscore:.4f}\")\n",
    "\n",
    "# For agentic_llama_3_3_70b_evaluator_gemini_2_5_flash predictions vs reference\n",
    "agentic_llama_3_3_70b_evaluator_gemini_2_5_flash_alignscore_reference = get_alignscore(agentic_llama_3_3_70b_evaluator_gemini_2_5_flash_predictions, ground_truth_reference, alignscore_evaluator)\n",
    "print(f\"agentic_llama_3_3_70b_evaluator_gemini_2_5_flash AlignScore (reference): {agentic_llama_3_3_70b_evaluator_gemini_2_5_flash_alignscore_reference:.4f}\")"
   ]
  },
  {
   "cell_type": "code",
   "execution_count": 162,
   "id": "0ec538ba",
   "metadata": {},
   "outputs": [],
   "source": [
    "# Evaluate each model's predictions\n",
    "# print(\"Evaluating Reference (Gold Standard)...\")\n",
    "# reference_pls = get_pls_evaluation(ground_truth_reference)\n",
    "\n",
    "# Create readability metrics table\n",
    "readability_table = create_readability_table(\n",
    "    model_results=[reference_pls, baseline_gemini_2_5_pro_pls, baseline_gpt_5_pls, baseline_gpt_oss_120b_pls, baseline_llama_3_3_70b_pls, agentic_gemini_2_5_pro_pls,agentic_gpt_oss_120b_pls, agentic_llama_3_3_70b_pls, agentic_llama_3_3_70b_evaluator_gemini_2_5_flash_pls],\n",
    "    model_names=['Reference', 'Baseline_gemini_2_5_pro', 'Baseline_gpt_5', 'Baseline_gpt_oss_120b', 'baseline_llama_3_3_70b', 'agentic_gemini_2_5_pro', 'Agentic_gpt_oss_120b', 'Agentic_llama_3_3_70b', 'Agentic_llama_3_3_70b_evaluator_gemini_2_5_flash']\n",
    ")\n",
    "# Create summary percentages table\n",
    "summary_table = create_summary_table(\n",
    "    model_results=[reference_pls, baseline_gemini_2_5_pro_pls, baseline_gpt_5_pls, baseline_gpt_oss_120b_pls, baseline_llama_3_3_70b_pls, agentic_gemini_2_5_pro_pls, agentic_gpt_oss_120b_pls, agentic_llama_3_3_70b_pls, agentic_llama_3_3_70b_evaluator_gemini_2_5_flash_pls],\n",
    "    model_names=['Reference', 'Baseline_gemini_2_5_pro', 'Baseline_gpt_5', 'Baseline_gpt_oss_120b', 'baseline_llama_3_3_70b', 'Agentic_gpt_oss_120b', 'Agentic_llama_3_3_70b', 'Agentic_llama_3_3_70b_evaluator_gemini_2_5_flash']\n",
    ")"
   ]
  },
  {
   "cell_type": "code",
   "execution_count": null,
   "id": "fbff9632",
   "metadata": {},
   "outputs": [],
   "source": [
    "# Evaluate each model's predictions\n",
    "# print(\"Evaluating Reference (Gold Standard)...\")\n",
    "# reference_pls = get_pls_evaluation(ground_truth_reference)\n",
    "\n",
    "# Create readability metrics table\n",
    "readability_table = create_readability_table(\n",
    "    model_results=[baseline_gpt_oss_20b_pls, baseline_llama_3_2_3b_pls, agentic_gpt_oss_20b_pls, agentic_llama_3_2_3b_pls],\n",
    "    model_names=['Baseline_gpt_oss_20b', 'baseline_llama_3_2_3b', 'Agentic_gpt_oss_20b', 'Agentic_llama_3_2_3b']\n",
    ")\n",
    "# Create summary percentages table\n",
    "summary_table = create_summary_table(\n",
    "    model_results=[baseline_gpt_oss_20b_pls, baseline_llama_3_2_3b_pls, agentic_gpt_oss_20b_pls, agentic_llama_3_2_3b_pls],\n",
    "    model_names=['Baseline_gpt_oss_20b', 'baseline_llama_3_2_3b', 'Agentic_gpt_oss_20b', 'Agentic_llama_3_2_3b']\n",
    ")"
   ]
  },
  {
   "cell_type": "code",
   "execution_count": 55,
   "id": "e89b887b",
   "metadata": {},
   "outputs": [
    {
     "data": {
      "text/html": [
       "<div>\n",
       "<style scoped>\n",
       "    .dataframe tbody tr th:only-of-type {\n",
       "        vertical-align: middle;\n",
       "    }\n",
       "\n",
       "    .dataframe tbody tr th {\n",
       "        vertical-align: top;\n",
       "    }\n",
       "\n",
       "    .dataframe thead th {\n",
       "        text-align: right;\n",
       "    }\n",
       "</style>\n",
       "<table border=\"1\" class=\"dataframe\">\n",
       "  <thead>\n",
       "    <tr style=\"text-align: right;\">\n",
       "      <th></th>\n",
       "      <th>Model</th>\n",
       "      <th>BERTScore F1 (original)</th>\n",
       "      <th>MeaningBERT (original)</th>\n",
       "      <th>AlignScore (original)</th>\n",
       "      <th>BERTScore F1 (reference)</th>\n",
       "      <th>MeaningBERT (reference)</th>\n",
       "      <th>AlignScore (reference)</th>\n",
       "      <th>Flesch-Kincaid</th>\n",
       "      <th>ARI</th>\n",
       "      <th>Excellence Rate (%)</th>\n",
       "    </tr>\n",
       "  </thead>\n",
       "  <tbody>\n",
       "    <tr>\n",
       "      <th>0</th>\n",
       "      <td>Baseline_gpt_oss_20b</td>\n",
       "      <td>0.8327</td>\n",
       "      <td>0.5857</td>\n",
       "      <td>0.7396</td>\n",
       "      <td>0.8565</td>\n",
       "      <td>0.6697</td>\n",
       "      <td>0.6480</td>\n",
       "      <td>10.17</td>\n",
       "      <td>8.89</td>\n",
       "      <td>71.88</td>\n",
       "    </tr>\n",
       "    <tr>\n",
       "      <th>1</th>\n",
       "      <td>Baseline_llama_3_2_3b</td>\n",
       "      <td>0.8477</td>\n",
       "      <td>0.6566</td>\n",
       "      <td>0.8499</td>\n",
       "      <td>0.8467</td>\n",
       "      <td>0.6302</td>\n",
       "      <td>0.6982</td>\n",
       "      <td>9.58</td>\n",
       "      <td>8.95</td>\n",
       "      <td>69.67</td>\n",
       "    </tr>\n",
       "    <tr>\n",
       "      <th>2</th>\n",
       "      <td>Agentic_gpt_oss_20b</td>\n",
       "      <td>0.8422</td>\n",
       "      <td>0.6680</td>\n",
       "      <td>0.8002</td>\n",
       "      <td>0.8615</td>\n",
       "      <td>0.7534</td>\n",
       "      <td>0.6590</td>\n",
       "      <td>10.50</td>\n",
       "      <td>10.27</td>\n",
       "      <td>59.32</td>\n",
       "    </tr>\n",
       "    <tr>\n",
       "      <th>3</th>\n",
       "      <td>Agentic_llama_3_2_3b</td>\n",
       "      <td>0.8551</td>\n",
       "      <td>0.6952</td>\n",
       "      <td>0.8403</td>\n",
       "      <td>0.8532</td>\n",
       "      <td>0.6672</td>\n",
       "      <td>0.6706</td>\n",
       "      <td>12.93</td>\n",
       "      <td>12.72</td>\n",
       "      <td>45.69</td>\n",
       "    </tr>\n",
       "  </tbody>\n",
       "</table>\n",
       "</div>"
      ],
      "text/plain": [
       "                   Model  BERTScore F1 (original)  MeaningBERT (original)  \\\n",
       "0   Baseline_gpt_oss_20b                   0.8327                  0.5857   \n",
       "1  Baseline_llama_3_2_3b                   0.8477                  0.6566   \n",
       "2    Agentic_gpt_oss_20b                   0.8422                  0.6680   \n",
       "3   Agentic_llama_3_2_3b                   0.8551                  0.6952   \n",
       "\n",
       "   AlignScore (original)  BERTScore F1 (reference)  MeaningBERT (reference)  \\\n",
       "0                 0.7396                    0.8565                   0.6697   \n",
       "1                 0.8499                    0.8467                   0.6302   \n",
       "2                 0.8002                    0.8615                   0.7534   \n",
       "3                 0.8403                    0.8532                   0.6672   \n",
       "\n",
       "   AlignScore (reference)  Flesch-Kincaid    ARI  Excellence Rate (%)  \n",
       "0                  0.6480           10.17   8.89                71.88  \n",
       "1                  0.6982            9.58   8.95                69.67  \n",
       "2                  0.6590           10.50  10.27                59.32  \n",
       "3                  0.6706           12.93  12.72                45.69  "
      ]
     },
     "execution_count": 55,
     "metadata": {},
     "output_type": "execute_result"
    }
   ],
   "source": [
    "# Build a consistent summary DataFrame for the selected model set.\n",
    "# Use a mapping of display name -> variable prefix so we can safely fetch the variables.\n",
    "model_map = [\n",
    "    ('Baseline_gpt_oss_20b', 'baseline_gpt_oss_20b'),\n",
    "    ('Baseline_llama_3_2_3b', 'baseline_llama_3_2_3b'),\n",
    "    ('Agentic_gpt_oss_20b', 'agentic_gpt_oss_20b'),\n",
    "    ('Agentic_llama_3_2_3b', 'agentic_llama_3_2_3b'),\n",
    "]\n",
    "\n",
    "def safe_get(name, default=np.nan):\n",
    "    return globals().get(name, default)\n",
    "\n",
    "models = []\n",
    "bertscore_orig = []\n",
    "meaningbert_orig = []\n",
    "alignscore_orig = []\n",
    "bertscore_ref = []\n",
    "meaningbert_ref = []\n",
    "alignscore_ref = []\n",
    "flesch_kincaid = []\n",
    "ari = []\n",
    "excellence_rate = []\n",
    "\n",
    "for display, prefix in model_map:\n",
    "    models.append(display)\n",
    "    b1 = safe_get(f\"{prefix}_bertscore\", np.nan)\n",
    "    m1 = safe_get(f\"{prefix}_meaningbert\", np.nan)\n",
    "    a1 = safe_get(f\"{prefix}_alignscore\", np.nan)\n",
    "    bref = safe_get(f\"{prefix}_bertscore_reference\", np.nan)\n",
    "    mref = safe_get(f\"{prefix}_meaningbert_reference\", np.nan)\n",
    "    aref = safe_get(f\"{prefix}_alignscore_reference\", np.nan)\n",
    "    pls = safe_get(f\"{prefix}_pls\", {})\n",
    "\n",
    "    # extract readability/summary fields if pls is a dict with expected keys\n",
    "    try:\n",
    "        fk = pls['readability']['flesch_kincaid_grade']['mean']\n",
    "    except Exception:\n",
    "        fk = np.nan\n",
    "    try:\n",
    "        ariv = pls['readability']['automated_readability_index']['mean']\n",
    "    except Exception:\n",
    "        ariv = np.nan\n",
    "    try:\n",
    "        exr = pls['summary']['best_quartile_rate']\n",
    "    except Exception:\n",
    "        exr = np.nan\n",
    "\n",
    "    bertscore_orig.append(b1)\n",
    "    meaningbert_orig.append(m1)\n",
    "    alignscore_orig.append(a1)\n",
    "    bertscore_ref.append(bref)\n",
    "    meaningbert_ref.append(mref)\n",
    "    alignscore_ref.append(aref)\n",
    "    flesch_kincaid.append(fk)\n",
    "    ari.append(ariv)\n",
    "    excellence_rate.append(exr)\n",
    "\n",
    "df = pd.DataFrame({\n",
    "    'Model': models,\n",
    "    'BERTScore F1 (original)': bertscore_orig,\n",
    "    'MeaningBERT (original)': meaningbert_orig,\n",
    "    'AlignScore (original)': alignscore_orig,\n",
    "    'BERTScore F1 (reference)': bertscore_ref,\n",
    "    'MeaningBERT (reference)': meaningbert_ref,\n",
    "    'AlignScore (reference)': alignscore_ref,\n",
    "    'Flesch-Kincaid': flesch_kincaid,\n",
    "    'ARI': ari,\n",
    "    'Excellence Rate (%)': excellence_rate,\n",
    "})\n",
    "\n",
    "df"
   ]
  },
  {
   "cell_type": "code",
   "execution_count": 56,
   "id": "9f228bf2",
   "metadata": {},
   "outputs": [],
   "source": [
    "# Save df, readability_table, and summary_table to CSV files\n",
    "df.to_csv(\"model_evaluation_summary_gpt_oss_20b_llama_3_2_3b.csv\", index=False)\n",
    "readability_table.to_csv(\"model_readability_metrics_gpt_oss_20b_llama_3_2_3b.csv\", index=False)\n",
    "summary_table.to_csv(\"model_summary_percentages_gpt_oss_20b_llama_3_2_3b.csv\", index=False)"
   ]
  },
  {
   "cell_type": "code",
   "execution_count": 163,
   "id": "299b5885",
   "metadata": {},
   "outputs": [
    {
     "data": {
      "text/html": [
       "<div>\n",
       "<style scoped>\n",
       "    .dataframe tbody tr th:only-of-type {\n",
       "        vertical-align: middle;\n",
       "    }\n",
       "\n",
       "    .dataframe tbody tr th {\n",
       "        vertical-align: top;\n",
       "    }\n",
       "\n",
       "    .dataframe thead th {\n",
       "        text-align: right;\n",
       "    }\n",
       "</style>\n",
       "<table border=\"1\" class=\"dataframe\">\n",
       "  <thead>\n",
       "    <tr style=\"text-align: right;\">\n",
       "      <th></th>\n",
       "      <th>Model</th>\n",
       "      <th>BERTScore F1 (original)</th>\n",
       "      <th>MeaningBERT (original)</th>\n",
       "      <th>AlignScore (original)</th>\n",
       "      <th>BERTScore F1 (reference)</th>\n",
       "      <th>MeaningBERT (reference)</th>\n",
       "      <th>AlignScore (reference)</th>\n",
       "      <th>Flesch-Kincaid</th>\n",
       "      <th>ARI</th>\n",
       "      <th>Excellence Rate (%)</th>\n",
       "    </tr>\n",
       "  </thead>\n",
       "  <tbody>\n",
       "    <tr>\n",
       "      <th>0</th>\n",
       "      <td>Baseline_gpt_5</td>\n",
       "      <td>0.8342</td>\n",
       "      <td>0.6075</td>\n",
       "      <td>0.7692</td>\n",
       "      <td>0.8619</td>\n",
       "      <td>0.6873</td>\n",
       "      <td>0.6598</td>\n",
       "      <td>9.62</td>\n",
       "      <td>9.89</td>\n",
       "      <td>63.83</td>\n",
       "    </tr>\n",
       "    <tr>\n",
       "      <th>1</th>\n",
       "      <td>Baseline_gemini_2_5_pro</td>\n",
       "      <td>0.8352</td>\n",
       "      <td>0.5957</td>\n",
       "      <td>0.7820</td>\n",
       "      <td>0.8701</td>\n",
       "      <td>0.7162</td>\n",
       "      <td>0.7002</td>\n",
       "      <td>8.26</td>\n",
       "      <td>8.01</td>\n",
       "      <td>78.44</td>\n",
       "    </tr>\n",
       "    <tr>\n",
       "      <th>2</th>\n",
       "      <td>Baseline_gpt_oss_120b</td>\n",
       "      <td>0.8407</td>\n",
       "      <td>0.6477</td>\n",
       "      <td>0.7696</td>\n",
       "      <td>0.8650</td>\n",
       "      <td>0.7346</td>\n",
       "      <td>0.6878</td>\n",
       "      <td>9.82</td>\n",
       "      <td>9.94</td>\n",
       "      <td>73.44</td>\n",
       "    </tr>\n",
       "    <tr>\n",
       "      <th>3</th>\n",
       "      <td>baseline_llama_3_3_70b</td>\n",
       "      <td>0.8514</td>\n",
       "      <td>0.6985</td>\n",
       "      <td>0.7536</td>\n",
       "      <td>0.8679</td>\n",
       "      <td>0.7158</td>\n",
       "      <td>0.7076</td>\n",
       "      <td>12.01</td>\n",
       "      <td>12.31</td>\n",
       "      <td>61.56</td>\n",
       "    </tr>\n",
       "    <tr>\n",
       "      <th>4</th>\n",
       "      <td>Agentic_gemini_2_5_pro</td>\n",
       "      <td>0.8469</td>\n",
       "      <td>0.6136</td>\n",
       "      <td>0.7992</td>\n",
       "      <td>0.8736</td>\n",
       "      <td>0.7153</td>\n",
       "      <td>0.7219</td>\n",
       "      <td>9.40</td>\n",
       "      <td>9.47</td>\n",
       "      <td>83.22</td>\n",
       "    </tr>\n",
       "    <tr>\n",
       "      <th>5</th>\n",
       "      <td>Agentic_gpt_oss_120b</td>\n",
       "      <td>0.8464</td>\n",
       "      <td>0.6557</td>\n",
       "      <td>0.7953</td>\n",
       "      <td>0.8651</td>\n",
       "      <td>0.7393</td>\n",
       "      <td>0.6595</td>\n",
       "      <td>10.83</td>\n",
       "      <td>11.00</td>\n",
       "      <td>57.28</td>\n",
       "    </tr>\n",
       "    <tr>\n",
       "      <th>6</th>\n",
       "      <td>Agentic_llama_3_3_70b</td>\n",
       "      <td>0.8549</td>\n",
       "      <td>0.6818</td>\n",
       "      <td>0.7823</td>\n",
       "      <td>0.8708</td>\n",
       "      <td>0.7446</td>\n",
       "      <td>0.7140</td>\n",
       "      <td>12.23</td>\n",
       "      <td>12.46</td>\n",
       "      <td>58.89</td>\n",
       "    </tr>\n",
       "    <tr>\n",
       "      <th>7</th>\n",
       "      <td>Agentic_llama_3_3_70b_evaluator_gemini_2_5_flash</td>\n",
       "      <td>0.8485</td>\n",
       "      <td>0.6514</td>\n",
       "      <td>0.7644</td>\n",
       "      <td>0.8711</td>\n",
       "      <td>0.7325</td>\n",
       "      <td>0.6982</td>\n",
       "      <td>9.97</td>\n",
       "      <td>10.13</td>\n",
       "      <td>85.28</td>\n",
       "    </tr>\n",
       "  </tbody>\n",
       "</table>\n",
       "</div>"
      ],
      "text/plain": [
       "                                              Model  BERTScore F1 (original)  \\\n",
       "0                                    Baseline_gpt_5                   0.8342   \n",
       "1                           Baseline_gemini_2_5_pro                   0.8352   \n",
       "2                             Baseline_gpt_oss_120b                   0.8407   \n",
       "3                            baseline_llama_3_3_70b                   0.8514   \n",
       "4                            Agentic_gemini_2_5_pro                   0.8469   \n",
       "5                              Agentic_gpt_oss_120b                   0.8464   \n",
       "6                             Agentic_llama_3_3_70b                   0.8549   \n",
       "7  Agentic_llama_3_3_70b_evaluator_gemini_2_5_flash                   0.8485   \n",
       "\n",
       "   MeaningBERT (original)  AlignScore (original)  BERTScore F1 (reference)  \\\n",
       "0                  0.6075                 0.7692                    0.8619   \n",
       "1                  0.5957                 0.7820                    0.8701   \n",
       "2                  0.6477                 0.7696                    0.8650   \n",
       "3                  0.6985                 0.7536                    0.8679   \n",
       "4                  0.6136                 0.7992                    0.8736   \n",
       "5                  0.6557                 0.7953                    0.8651   \n",
       "6                  0.6818                 0.7823                    0.8708   \n",
       "7                  0.6514                 0.7644                    0.8711   \n",
       "\n",
       "   MeaningBERT (reference)  AlignScore (reference)  Flesch-Kincaid    ARI  \\\n",
       "0                   0.6873                  0.6598            9.62   9.89   \n",
       "1                   0.7162                  0.7002            8.26   8.01   \n",
       "2                   0.7346                  0.6878            9.82   9.94   \n",
       "3                   0.7158                  0.7076           12.01  12.31   \n",
       "4                   0.7153                  0.7219            9.40   9.47   \n",
       "5                   0.7393                  0.6595           10.83  11.00   \n",
       "6                   0.7446                  0.7140           12.23  12.46   \n",
       "7                   0.7325                  0.6982            9.97  10.13   \n",
       "\n",
       "   Excellence Rate (%)  \n",
       "0                63.83  \n",
       "1                78.44  \n",
       "2                73.44  \n",
       "3                61.56  \n",
       "4                83.22  \n",
       "5                57.28  \n",
       "6                58.89  \n",
       "7                85.28  "
      ]
     },
     "execution_count": 163,
     "metadata": {},
     "output_type": "execute_result"
    }
   ],
   "source": [
    "# Build a consistent summary DataFrame for the selected model set.\n",
    "# Use a mapping of display name -> variable prefix so we can safely fetch the variables.\n",
    "model_map = [\n",
    "    ('Baseline_gpt_5', 'baseline_gpt_5'),\n",
    "    ('Baseline_gemini_2_5_pro', 'baseline_gemini_2_5_pro'),\n",
    "    ('Baseline_gpt_oss_120b', 'baseline_gpt_oss_120b'),\n",
    "    ('baseline_llama_3_3_70b', 'baseline_llama_3_3_70b'),\n",
    "    ('Agentic_gemini_2_5_pro', 'agentic_gemini_2_5_pro'),\n",
    "    ('Agentic_gpt_oss_120b', 'agentic_gpt_oss_120b'),\n",
    "    ('Agentic_llama_3_3_70b', 'agentic_llama_3_3_70b'),\n",
    "    ('Agentic_llama_3_3_70b_evaluator_gemini_2_5_flash', 'agentic_llama_3_3_70b_evaluator_gemini_2_5_flash'),\n",
    "]\n",
    "\n",
    "def safe_get(name, default=np.nan):\n",
    "    return globals().get(name, default)\n",
    "\n",
    "models = []\n",
    "bertscore_orig = []\n",
    "meaningbert_orig = []\n",
    "alignscore_orig = []\n",
    "bertscore_ref = []\n",
    "meaningbert_ref = []\n",
    "alignscore_ref = []\n",
    "flesch_kincaid = []\n",
    "ari = []\n",
    "excellence_rate = []\n",
    "\n",
    "for display, prefix in model_map:\n",
    "    models.append(display)\n",
    "    b1 = safe_get(f\"{prefix}_bertscore\", np.nan)\n",
    "    m1 = safe_get(f\"{prefix}_meaningbert\", np.nan)\n",
    "    a1 = safe_get(f\"{prefix}_alignscore\", np.nan)\n",
    "    bref = safe_get(f\"{prefix}_bertscore_reference\", np.nan)\n",
    "    mref = safe_get(f\"{prefix}_meaningbert_reference\", np.nan)\n",
    "    aref = safe_get(f\"{prefix}_alignscore_reference\", np.nan)\n",
    "    pls = safe_get(f\"{prefix}_pls\", {})\n",
    "\n",
    "    # extract readability/summary fields if pls is a dict with expected keys\n",
    "    try:\n",
    "        fk = pls['readability']['flesch_kincaid_grade']['mean']\n",
    "    except Exception:\n",
    "        fk = np.nan\n",
    "    try:\n",
    "        ariv = pls['readability']['automated_readability_index']['mean']\n",
    "    except Exception:\n",
    "        ariv = np.nan\n",
    "    try:\n",
    "        exr = pls['summary']['best_quartile_rate']\n",
    "    except Exception:\n",
    "        exr = np.nan\n",
    "\n",
    "    bertscore_orig.append(b1)\n",
    "    meaningbert_orig.append(m1)\n",
    "    alignscore_orig.append(a1)\n",
    "    bertscore_ref.append(bref)\n",
    "    meaningbert_ref.append(mref)\n",
    "    alignscore_ref.append(aref)\n",
    "    flesch_kincaid.append(fk)\n",
    "    ari.append(ariv)\n",
    "    excellence_rate.append(exr)\n",
    "\n",
    "df = pd.DataFrame({\n",
    "    'Model': models,\n",
    "    'BERTScore F1 (original)': bertscore_orig,\n",
    "    'MeaningBERT (original)': meaningbert_orig,\n",
    "    'AlignScore (original)': alignscore_orig,\n",
    "    'BERTScore F1 (reference)': bertscore_ref,\n",
    "    'MeaningBERT (reference)': meaningbert_ref,\n",
    "    'AlignScore (reference)': alignscore_ref,\n",
    "    'Flesch-Kincaid': flesch_kincaid,\n",
    "    'ARI': ari,\n",
    "    'Excellence Rate (%)': excellence_rate,\n",
    "})\n",
    "\n",
    "df"
   ]
  },
  {
   "cell_type": "code",
   "execution_count": 170,
   "id": "3c2027d8",
   "metadata": {},
   "outputs": [],
   "source": [
    "# Save df, readability_table, and summary_table to CSV files\n",
    "df.to_csv(\"model_evaluation_summary.csv\", index=False)\n",
    "readability_table.to_csv(\"model_readability_metrics.csv\", index=False)\n",
    "summary_table.to_csv(\"model_summary_percentages.csv\", index=False)"
   ]
  },
  {
   "cell_type": "code",
   "execution_count": 164,
   "id": "fb3346b6",
   "metadata": {},
   "outputs": [
    {
     "data": {
      "text/html": [
       "<div>\n",
       "<style scoped>\n",
       "    .dataframe tbody tr th:only-of-type {\n",
       "        vertical-align: middle;\n",
       "    }\n",
       "\n",
       "    .dataframe tbody tr th {\n",
       "        vertical-align: top;\n",
       "    }\n",
       "\n",
       "    .dataframe thead th {\n",
       "        text-align: right;\n",
       "    }\n",
       "</style>\n",
       "<table border=\"1\" class=\"dataframe\">\n",
       "  <thead>\n",
       "    <tr style=\"text-align: right;\">\n",
       "      <th></th>\n",
       "      <th>model</th>\n",
       "      <th>Kincaid</th>\n",
       "      <th>ARI</th>\n",
       "      <th>Coleman-Liau</th>\n",
       "      <th>FleschReadingEase</th>\n",
       "      <th>GunningFogIndex</th>\n",
       "      <th>LIX</th>\n",
       "      <th>SMOGIndex</th>\n",
       "      <th>RIX</th>\n",
       "      <th>DaleChallIndex</th>\n",
       "    </tr>\n",
       "  </thead>\n",
       "  <tbody>\n",
       "    <tr>\n",
       "      <th>0</th>\n",
       "      <td>Reference</td>\n",
       "      <td>11.38 ± 1.67</td>\n",
       "      <td>11.46 ± 1.89</td>\n",
       "      <td>11.21 ± 1.52</td>\n",
       "      <td>49.23 ± 9.09</td>\n",
       "      <td>16.21 ± 2.06</td>\n",
       "      <td>50.35 ± 4.87</td>\n",
       "      <td>14.23 ± 1.56</td>\n",
       "      <td>6.07 ± 1.23</td>\n",
       "      <td>7.37 ± 0.62</td>\n",
       "    </tr>\n",
       "    <tr>\n",
       "      <th>1</th>\n",
       "      <td>Baseline_gemini_2_5_pro</td>\n",
       "      <td>8.26 ± 0.92</td>\n",
       "      <td>8.01 ± 1.07</td>\n",
       "      <td>9.07 ± 0.81</td>\n",
       "      <td>64.45 ± 4.77</td>\n",
       "      <td>12.38 ± 1.12</td>\n",
       "      <td>41.21 ± 3.04</td>\n",
       "      <td>12.74 ± 1.01</td>\n",
       "      <td>4.02 ± 0.58</td>\n",
       "      <td>6.53 ± 0.37</td>\n",
       "    </tr>\n",
       "    <tr>\n",
       "      <th>2</th>\n",
       "      <td>Baseline_gpt_5</td>\n",
       "      <td>9.62 ± 1.08</td>\n",
       "      <td>9.89 ± 1.18</td>\n",
       "      <td>10.46 ± 1.06</td>\n",
       "      <td>57.97 ± 6.27</td>\n",
       "      <td>13.49 ± 1.27</td>\n",
       "      <td>45.08 ± 3.69</td>\n",
       "      <td>14.62 ± 1.10</td>\n",
       "      <td>4.87 ± 0.76</td>\n",
       "      <td>6.74 ± 0.44</td>\n",
       "    </tr>\n",
       "    <tr>\n",
       "      <th>3</th>\n",
       "      <td>Baseline_gpt_oss_120b</td>\n",
       "      <td>9.82 ± 1.08</td>\n",
       "      <td>9.94 ± 1.25</td>\n",
       "      <td>9.74 ± 0.99</td>\n",
       "      <td>59.10 ± 5.85</td>\n",
       "      <td>14.76 ± 1.30</td>\n",
       "      <td>45.98 ± 3.37</td>\n",
       "      <td>12.96 ± 0.95</td>\n",
       "      <td>5.15 ± 0.75</td>\n",
       "      <td>6.77 ± 0.47</td>\n",
       "    </tr>\n",
       "    <tr>\n",
       "      <th>4</th>\n",
       "      <td>baseline_llama_3_3_70b</td>\n",
       "      <td>12.01 ± 2.08</td>\n",
       "      <td>12.31 ± 2.46</td>\n",
       "      <td>11.05 ± 1.73</td>\n",
       "      <td>48.55 ± 10.40</td>\n",
       "      <td>16.89 ± 2.34</td>\n",
       "      <td>51.89 ± 5.60</td>\n",
       "      <td>12.65 ± 1.57</td>\n",
       "      <td>6.57 ± 1.53</td>\n",
       "      <td>6.87 ± 0.64</td>\n",
       "    </tr>\n",
       "    <tr>\n",
       "      <th>5</th>\n",
       "      <td>agentic_gemini_2_5_pro</td>\n",
       "      <td>9.40 ± 0.84</td>\n",
       "      <td>9.47 ± 0.96</td>\n",
       "      <td>10.16 ± 0.93</td>\n",
       "      <td>58.78 ± 5.07</td>\n",
       "      <td>13.54 ± 1.09</td>\n",
       "      <td>44.64 ± 3.09</td>\n",
       "      <td>12.42 ± 0.80</td>\n",
       "      <td>4.74 ± 0.61</td>\n",
       "      <td>6.65 ± 0.41</td>\n",
       "    </tr>\n",
       "    <tr>\n",
       "      <th>6</th>\n",
       "      <td>Agentic_gpt_oss_120b</td>\n",
       "      <td>10.83 ± 1.08</td>\n",
       "      <td>11.00 ± 1.33</td>\n",
       "      <td>10.82 ± 1.21</td>\n",
       "      <td>52.66 ± 6.46</td>\n",
       "      <td>16.32 ± 1.28</td>\n",
       "      <td>49.21 ± 3.45</td>\n",
       "      <td>13.87 ± 1.07</td>\n",
       "      <td>5.82 ± 0.79</td>\n",
       "      <td>7.75 ± 0.46</td>\n",
       "    </tr>\n",
       "    <tr>\n",
       "      <th>7</th>\n",
       "      <td>Agentic_llama_3_3_70b</td>\n",
       "      <td>12.23 ± 1.76</td>\n",
       "      <td>12.46 ± 1.93</td>\n",
       "      <td>12.59 ± 1.47</td>\n",
       "      <td>42.72 ± 9.22</td>\n",
       "      <td>16.91 ± 1.96</td>\n",
       "      <td>53.08 ± 4.87</td>\n",
       "      <td>13.41 ± 1.62</td>\n",
       "      <td>6.60 ± 1.28</td>\n",
       "      <td>7.54 ± 0.54</td>\n",
       "    </tr>\n",
       "    <tr>\n",
       "      <th>8</th>\n",
       "      <td>Agentic_llama_3_3_70b_evaluator_gemini_2_5_flash</td>\n",
       "      <td>9.97 ± 0.87</td>\n",
       "      <td>10.13 ± 0.98</td>\n",
       "      <td>10.91 ± 1.04</td>\n",
       "      <td>54.97 ± 5.52</td>\n",
       "      <td>14.24 ± 1.16</td>\n",
       "      <td>46.69 ± 3.06</td>\n",
       "      <td>12.48 ± 0.95</td>\n",
       "      <td>5.11 ± 0.60</td>\n",
       "      <td>6.84 ± 0.44</td>\n",
       "    </tr>\n",
       "  </tbody>\n",
       "</table>\n",
       "</div>"
      ],
      "text/plain": [
       "                                              model       Kincaid  \\\n",
       "0                                         Reference  11.38 ± 1.67   \n",
       "1                           Baseline_gemini_2_5_pro   8.26 ± 0.92   \n",
       "2                                    Baseline_gpt_5   9.62 ± 1.08   \n",
       "3                             Baseline_gpt_oss_120b   9.82 ± 1.08   \n",
       "4                            baseline_llama_3_3_70b  12.01 ± 2.08   \n",
       "5                            agentic_gemini_2_5_pro   9.40 ± 0.84   \n",
       "6                              Agentic_gpt_oss_120b  10.83 ± 1.08   \n",
       "7                             Agentic_llama_3_3_70b  12.23 ± 1.76   \n",
       "8  Agentic_llama_3_3_70b_evaluator_gemini_2_5_flash   9.97 ± 0.87   \n",
       "\n",
       "            ARI  Coleman-Liau FleschReadingEase GunningFogIndex           LIX  \\\n",
       "0  11.46 ± 1.89  11.21 ± 1.52      49.23 ± 9.09    16.21 ± 2.06  50.35 ± 4.87   \n",
       "1   8.01 ± 1.07   9.07 ± 0.81      64.45 ± 4.77    12.38 ± 1.12  41.21 ± 3.04   \n",
       "2   9.89 ± 1.18  10.46 ± 1.06      57.97 ± 6.27    13.49 ± 1.27  45.08 ± 3.69   \n",
       "3   9.94 ± 1.25   9.74 ± 0.99      59.10 ± 5.85    14.76 ± 1.30  45.98 ± 3.37   \n",
       "4  12.31 ± 2.46  11.05 ± 1.73     48.55 ± 10.40    16.89 ± 2.34  51.89 ± 5.60   \n",
       "5   9.47 ± 0.96  10.16 ± 0.93      58.78 ± 5.07    13.54 ± 1.09  44.64 ± 3.09   \n",
       "6  11.00 ± 1.33  10.82 ± 1.21      52.66 ± 6.46    16.32 ± 1.28  49.21 ± 3.45   \n",
       "7  12.46 ± 1.93  12.59 ± 1.47      42.72 ± 9.22    16.91 ± 1.96  53.08 ± 4.87   \n",
       "8  10.13 ± 0.98  10.91 ± 1.04      54.97 ± 5.52    14.24 ± 1.16  46.69 ± 3.06   \n",
       "\n",
       "      SMOGIndex          RIX DaleChallIndex  \n",
       "0  14.23 ± 1.56  6.07 ± 1.23    7.37 ± 0.62  \n",
       "1  12.74 ± 1.01  4.02 ± 0.58    6.53 ± 0.37  \n",
       "2  14.62 ± 1.10  4.87 ± 0.76    6.74 ± 0.44  \n",
       "3  12.96 ± 0.95  5.15 ± 0.75    6.77 ± 0.47  \n",
       "4  12.65 ± 1.57  6.57 ± 1.53    6.87 ± 0.64  \n",
       "5  12.42 ± 0.80  4.74 ± 0.61    6.65 ± 0.41  \n",
       "6  13.87 ± 1.07  5.82 ± 0.79    7.75 ± 0.46  \n",
       "7  13.41 ± 1.62  6.60 ± 1.28    7.54 ± 0.54  \n",
       "8  12.48 ± 0.95  5.11 ± 0.60    6.84 ± 0.44  "
      ]
     },
     "execution_count": 164,
     "metadata": {},
     "output_type": "execute_result"
    }
   ],
   "source": [
    "readability_table"
   ]
  },
  {
   "cell_type": "code",
   "execution_count": 165,
   "id": "c9fc7906",
   "metadata": {},
   "outputs": [
    {
     "data": {
      "text/html": [
       "<div>\n",
       "<style scoped>\n",
       "    .dataframe tbody tr th:only-of-type {\n",
       "        vertical-align: middle;\n",
       "    }\n",
       "\n",
       "    .dataframe tbody tr th {\n",
       "        vertical-align: top;\n",
       "    }\n",
       "\n",
       "    .dataframe thead th {\n",
       "        text-align: right;\n",
       "    }\n",
       "</style>\n",
       "<table border=\"1\" class=\"dataframe\">\n",
       "  <thead>\n",
       "    <tr style=\"text-align: right;\">\n",
       "      <th></th>\n",
       "      <th>model</th>\n",
       "      <th>Best Quartile %</th>\n",
       "      <th>P25 %</th>\n",
       "      <th>P50 %</th>\n",
       "      <th>P75 %</th>\n",
       "      <th>P90 %</th>\n",
       "      <th>P10 %</th>\n",
       "      <th>Beyond P90 %</th>\n",
       "      <th>Below P10 %</th>\n",
       "    </tr>\n",
       "  </thead>\n",
       "  <tbody>\n",
       "    <tr>\n",
       "      <th>0</th>\n",
       "      <td>Reference</td>\n",
       "      <td>52.50</td>\n",
       "      <td>25.89</td>\n",
       "      <td>17.89</td>\n",
       "      <td>26.61</td>\n",
       "      <td>14.78</td>\n",
       "      <td>0.22</td>\n",
       "      <td>14.50</td>\n",
       "      <td>0.11</td>\n",
       "    </tr>\n",
       "    <tr>\n",
       "      <th>1</th>\n",
       "      <td>Baseline_gemini_2_5_pro</td>\n",
       "      <td>78.44</td>\n",
       "      <td>45.33</td>\n",
       "      <td>5.28</td>\n",
       "      <td>33.11</td>\n",
       "      <td>12.89</td>\n",
       "      <td>0.00</td>\n",
       "      <td>3.39</td>\n",
       "      <td>0.00</td>\n",
       "    </tr>\n",
       "    <tr>\n",
       "      <th>2</th>\n",
       "      <td>Baseline_gpt_5</td>\n",
       "      <td>63.83</td>\n",
       "      <td>41.33</td>\n",
       "      <td>5.56</td>\n",
       "      <td>22.50</td>\n",
       "      <td>9.61</td>\n",
       "      <td>0.00</td>\n",
       "      <td>21.00</td>\n",
       "      <td>0.00</td>\n",
       "    </tr>\n",
       "    <tr>\n",
       "      <th>3</th>\n",
       "      <td>Baseline_gpt_oss_120b</td>\n",
       "      <td>73.44</td>\n",
       "      <td>39.39</td>\n",
       "      <td>10.56</td>\n",
       "      <td>34.06</td>\n",
       "      <td>13.22</td>\n",
       "      <td>0.00</td>\n",
       "      <td>2.78</td>\n",
       "      <td>0.00</td>\n",
       "    </tr>\n",
       "    <tr>\n",
       "      <th>4</th>\n",
       "      <td>baseline_llama_3_3_70b</td>\n",
       "      <td>61.56</td>\n",
       "      <td>29.17</td>\n",
       "      <td>23.33</td>\n",
       "      <td>32.39</td>\n",
       "      <td>9.61</td>\n",
       "      <td>0.44</td>\n",
       "      <td>5.00</td>\n",
       "      <td>0.06</td>\n",
       "    </tr>\n",
       "    <tr>\n",
       "      <th>5</th>\n",
       "      <td>Agentic_gpt_oss_120b</td>\n",
       "      <td>83.22</td>\n",
       "      <td>44.67</td>\n",
       "      <td>9.11</td>\n",
       "      <td>38.56</td>\n",
       "      <td>7.06</td>\n",
       "      <td>0.00</td>\n",
       "      <td>0.61</td>\n",
       "      <td>0.00</td>\n",
       "    </tr>\n",
       "    <tr>\n",
       "      <th>6</th>\n",
       "      <td>Agentic_llama_3_3_70b</td>\n",
       "      <td>57.28</td>\n",
       "      <td>26.17</td>\n",
       "      <td>17.61</td>\n",
       "      <td>31.11</td>\n",
       "      <td>16.78</td>\n",
       "      <td>0.00</td>\n",
       "      <td>8.33</td>\n",
       "      <td>0.00</td>\n",
       "    </tr>\n",
       "    <tr>\n",
       "      <th>7</th>\n",
       "      <td>Agentic_llama_3_3_70b_evaluator_gemini_2_5_flash</td>\n",
       "      <td>58.89</td>\n",
       "      <td>20.78</td>\n",
       "      <td>24.22</td>\n",
       "      <td>38.11</td>\n",
       "      <td>10.39</td>\n",
       "      <td>0.17</td>\n",
       "      <td>6.06</td>\n",
       "      <td>0.28</td>\n",
       "    </tr>\n",
       "  </tbody>\n",
       "</table>\n",
       "</div>"
      ],
      "text/plain": [
       "                                              model  Best Quartile %  P25 %  \\\n",
       "0                                         Reference            52.50  25.89   \n",
       "1                           Baseline_gemini_2_5_pro            78.44  45.33   \n",
       "2                                    Baseline_gpt_5            63.83  41.33   \n",
       "3                             Baseline_gpt_oss_120b            73.44  39.39   \n",
       "4                            baseline_llama_3_3_70b            61.56  29.17   \n",
       "5                              Agentic_gpt_oss_120b            83.22  44.67   \n",
       "6                             Agentic_llama_3_3_70b            57.28  26.17   \n",
       "7  Agentic_llama_3_3_70b_evaluator_gemini_2_5_flash            58.89  20.78   \n",
       "\n",
       "   P50 %  P75 %  P90 %  P10 %  Beyond P90 %  Below P10 %  \n",
       "0  17.89  26.61  14.78   0.22         14.50         0.11  \n",
       "1   5.28  33.11  12.89   0.00          3.39         0.00  \n",
       "2   5.56  22.50   9.61   0.00         21.00         0.00  \n",
       "3  10.56  34.06  13.22   0.00          2.78         0.00  \n",
       "4  23.33  32.39   9.61   0.44          5.00         0.06  \n",
       "5   9.11  38.56   7.06   0.00          0.61         0.00  \n",
       "6  17.61  31.11  16.78   0.00          8.33         0.00  \n",
       "7  24.22  38.11  10.39   0.17          6.06         0.28  "
      ]
     },
     "execution_count": 165,
     "metadata": {},
     "output_type": "execute_result"
    }
   ],
   "source": [
    "summary_table"
   ]
  },
  {
   "cell_type": "markdown",
   "id": "9712c466",
   "metadata": {},
   "source": [
    "### GPT-5"
   ]
  },
  {
   "cell_type": "code",
   "execution_count": null,
   "id": "e8fe4a2b",
   "metadata": {},
   "outputs": [
    {
     "name": "stdout",
     "output_type": "stream",
     "text": [
      "Found 100 matching entries between gpt-5 and original\n"
     ]
    }
   ],
   "source": [
    "# Extract predictions and references with matching keys\n",
    "gpt_5_predictions = []\n",
    "ground_truth_original = []\n",
    "matching_ids = []\n",
    "\n",
    "for cochrane_id in original:\n",
    "    if cochrane_id in original:\n",
    "        gpt_5_predictions.append(gpt_5[cochrane_id])\n",
    "        ground_truth_original.append(original[cochrane_id])\n",
    "        matching_ids.append(cochrane_id)\n",
    "\n",
    "print(f\"Found {len(matching_ids)} matching entries between gpt-5 and original\")"
   ]
  },
  {
   "cell_type": "code",
   "execution_count": null,
   "id": "3c8ef8e3",
   "metadata": {},
   "outputs": [
    {
     "name": "stdout",
     "output_type": "stream",
     "text": [
      "GPT-5 BERTScore F1: 0.8283\n",
      "GPT-5 MeaningBERT score: 0.5632\n",
      "GPT-5 BERTScore F1 (reference): 0.8519\n",
      "GPT-5 MeaningBERT score (reference): 0.6414\n"
     ]
    }
   ],
   "source": [
    "# Calculate BERTScore using the function\n",
    "gpt_5_bertscore = get_bertscore(gpt_5_predictions, ground_truth_original, bertscore)\n",
    "print(f\"GPT-5 BERTScore F1: {gpt_5_bertscore:.4f}\")\n",
    "\n",
    "# Calculate MeaningBERT score for GPT-5 and original\n",
    "gpt_5_meaningbert = get_meaningbert_score(gpt_5_predictions, ground_truth_original, meaning_bert)\n",
    "print(f\"GPT-5 MeaningBERT score: {gpt_5_meaningbert:.4f}\")\n",
    "\n",
    "# Calculate BERTScore for GPT-5 and reference\n",
    "gpt_5_bertscore_reference = get_bertscore(gpt_5_predictions, ground_truth_reference, bertscore)\n",
    "print(f\"GPT-5 BERTScore F1 (reference): {gpt_5_bertscore_reference:.4f}\")\n",
    "\n",
    "# Calculate MeaningBERT score for GPT-5 and reference\n",
    "gpt_5_meaningbert_reference = get_meaningbert_score(gpt_5_predictions, ground_truth_reference, meaning_bert)\n",
    "print(f\"GPT-5 MeaningBERT score (reference): {gpt_5_meaningbert_reference:.4f}\")"
   ]
  },
  {
   "cell_type": "code",
   "execution_count": null,
   "id": "308fa941",
   "metadata": {},
   "outputs": [
    {
     "name": "stderr",
     "output_type": "stream",
     "text": [
      "Computing AlignScore: 100%|██████████| 100/100 [1:00:42<00:00, 36.43s/it]\n"
     ]
    },
    {
     "name": "stdout",
     "output_type": "stream",
     "text": [
      "GPT-5 AlignScore: 0.7647\n"
     ]
    },
    {
     "name": "stderr",
     "output_type": "stream",
     "text": [
      "Computing AlignScore: 100%|██████████| 100/100 [40:48<00:00, 24.49s/it]"
     ]
    },
    {
     "name": "stdout",
     "output_type": "stream",
     "text": [
      "GPT-5 AlignScore (reference): 0.6296\n"
     ]
    },
    {
     "name": "stderr",
     "output_type": "stream",
     "text": [
      "\n"
     ]
    }
   ],
   "source": [
    "gpt_5_alignscore = get_alignscore(gpt_5_predictions, ground_truth_original, alignscore_evaluator)\n",
    "print(f\"GPT-5 AlignScore: {gpt_5_alignscore:.4f}\")\n",
    "\n",
    "gpt_5_alignscore_reference = get_alignscore(gpt_5_predictions, ground_truth_reference, alignscore_evaluator)\n",
    "print(f\"GPT-5 AlignScore (reference): {gpt_5_alignscore_reference:.4f}\")"
   ]
  },
  {
   "cell_type": "markdown",
   "id": "376322b1",
   "metadata": {},
   "source": [
    "### Readability"
   ]
  },
  {
   "cell_type": "code",
   "execution_count": null,
   "id": "64fc62dc",
   "metadata": {},
   "outputs": [
    {
     "name": "stdout",
     "output_type": "stream",
     "text": [
      "Evaluating Reference (Gold Standard)...\n"
     ]
    },
    {
     "name": "stderr",
     "output_type": "stream",
     "text": [
      "Evaluating with PLS API: 100%|██████████| 100/100 [00:30<00:00,  3.26it/s]\n"
     ]
    },
    {
     "name": "stdout",
     "output_type": "stream",
     "text": [
      "Evaluating GPT-5...\n"
     ]
    },
    {
     "name": "stderr",
     "output_type": "stream",
     "text": [
      "Evaluating with PLS API: 100%|██████████| 100/100 [00:36<00:00,  2.78it/s]\n"
     ]
    },
    {
     "name": "stdout",
     "output_type": "stream",
     "text": [
      "Evaluating Gemini...\n"
     ]
    },
    {
     "name": "stderr",
     "output_type": "stream",
     "text": [
      "Evaluating with PLS API: 100%|██████████| 100/100 [00:31<00:00,  3.14it/s]\n"
     ]
    },
    {
     "name": "stdout",
     "output_type": "stream",
     "text": [
      "Evaluating GPT-OSS-120B...\n"
     ]
    },
    {
     "name": "stderr",
     "output_type": "stream",
     "text": [
      "Evaluating with PLS API: 100%|██████████| 100/100 [00:32<00:00,  3.09it/s]"
     ]
    },
    {
     "name": "stdout",
     "output_type": "stream",
     "text": [
      "\n",
      "Readability Metrics:\n",
      "          model       Kincaid           ARI  Coleman-Liau FleschReadingEase  \\\n",
      "0     Reference  11.38 ± 1.67  11.46 ± 1.89  11.21 ± 1.52      49.23 ± 9.09   \n",
      "1         GPT-5   9.04 ± 1.40   9.51 ± 1.50  10.23 ± 1.30      61.31 ± 7.94   \n",
      "2        Gemini   8.37 ± 1.14   8.31 ± 1.22   9.33 ± 1.06      64.06 ± 6.46   \n",
      "3  GPT-OSS-120B  10.52 ± 1.39  10.67 ± 1.63  10.86 ± 1.30      53.37 ± 7.52   \n",
      "\n",
      "  GunningFogIndex           LIX     SMOGIndex          RIX DaleChallIndex  \n",
      "0    16.21 ± 2.06  50.35 ± 4.87  14.23 ± 1.56  6.07 ± 1.23    7.37 ± 0.62  \n",
      "1    12.93 ± 1.63  42.24 ± 4.62  13.64 ± 1.44  4.34 ± 0.92    7.15 ± 0.58  \n",
      "2    12.25 ± 1.36  41.34 ± 4.03  12.00 ± 0.91  4.08 ± 0.74    6.35 ± 0.50  \n",
      "3    15.84 ± 1.54  48.06 ± 4.29  14.73 ± 1.17  5.53 ± 0.99    7.82 ± 0.48  \n",
      "\n",
      "Summary Percentages:\n",
      "          model  Excellent %  Good %  Acceptable %  Poor %  Critical %  \\\n",
      "0     Reference        37.83   17.89         14.67   15.00       14.61   \n",
      "1         GPT-5        56.61    8.67         10.50    9.33       14.89   \n",
      "2        Gemini        63.78   10.33         18.72    6.39        0.78   \n",
      "3  GPT-OSS-120B        43.44   12.89         10.17   12.94       20.56   \n",
      "\n",
      "   Excellence Rate  \n",
      "0            37.83  \n",
      "1            56.61  \n",
      "2            63.78  \n",
      "3            43.44  \n",
      "\n",
      "GPT-5 Flesch-Kincaid Grade: 9.04\n",
      "GPT-5 Excellence Rate: 56.61%\n"
     ]
    },
    {
     "name": "stderr",
     "output_type": "stream",
     "text": [
      "\n"
     ]
    }
   ],
   "source": [
    "# Evaluate each model's predictions\n",
    "print(\"Evaluating Reference (Gold Standard)...\")\n",
    "reference_pls = get_pls_evaluation(ground_truth_reference)\n",
    "\n",
    "print(\"Evaluating GPT-5...\")\n",
    "gpt5_pls = get_pls_evaluation(gpt_5_predictions)\n",
    "\n",
    "print(\"Evaluating Gemini...\")\n",
    "gemini_pls = get_pls_evaluation(gemini_predictions)\n",
    "\n",
    "print(\"Evaluating GPT-OSS-120B...\")\n",
    "gpt_oss_120b_pls = get_pls_evaluation(gpt_oss_120b_predictions)\n",
    "\n",
    "# Create readability metrics table\n",
    "readability_table = create_readability_table(\n",
    "    model_results=[reference_pls, gpt5_pls, gemini_pls, gpt_oss_120b_pls],\n",
    "    model_names=['Reference', 'GPT-5', 'Gemini', 'GPT-OSS-120B']\n",
    ")\n",
    "\n",
    "print(\"\\nReadability Metrics:\")\n",
    "print(readability_table)\n",
    "\n",
    "# Create summary percentages table\n",
    "summary_table = create_summary_table(\n",
    "    model_results=[reference_pls, gpt5_pls, gemini_pls, gpt_oss_120b_pls],\n",
    "    model_names=['Reference', 'GPT-5', 'Gemini', 'GPT-OSS-120B']\n",
    ")\n",
    "\n",
    "print(\"\\nSummary Percentages:\")\n",
    "print(summary_table)\n",
    "\n",
    "# Access individual metrics if needed\n",
    "print(f\"\\nGPT-5 Flesch-Kincaid Grade: {gpt5_pls['readability']['flesch_kincaid_grade']['mean']:.2f}\")\n",
    "print(f\"GPT-5 Excellence Rate: {gpt5_pls['summary']['excellence_rate']:.2f}%\")"
   ]
  },
  {
   "cell_type": "code",
   "execution_count": 2,
   "id": "743ac40c",
   "metadata": {},
   "outputs": [
    {
     "data": {
      "text/html": [
       "<div>\n",
       "<style scoped>\n",
       "    .dataframe tbody tr th:only-of-type {\n",
       "        vertical-align: middle;\n",
       "    }\n",
       "\n",
       "    .dataframe tbody tr th {\n",
       "        vertical-align: top;\n",
       "    }\n",
       "\n",
       "    .dataframe thead th {\n",
       "        text-align: right;\n",
       "    }\n",
       "</style>\n",
       "<table border=\"1\" class=\"dataframe\">\n",
       "  <thead>\n",
       "    <tr style=\"text-align: right;\">\n",
       "      <th></th>\n",
       "      <th>Model</th>\n",
       "      <th>BERTScore F1 (original)</th>\n",
       "      <th>MeaningBERT (original)</th>\n",
       "      <th>AlignScore (original)</th>\n",
       "      <th>BERTScore F1 (reference)</th>\n",
       "      <th>MeaningBERT (reference)</th>\n",
       "      <th>AlignScore (reference)</th>\n",
       "      <th>Flesch-Kincaid</th>\n",
       "      <th>ARI</th>\n",
       "      <th>Coleman-Liau</th>\n",
       "      <th>FleschReadingEase</th>\n",
       "      <th>GunningFogIndex</th>\n",
       "      <th>LIX</th>\n",
       "      <th>SMOGIndex</th>\n",
       "      <th>RIX</th>\n",
       "      <th>DaleChallIndex</th>\n",
       "      <th>Excellence Rate (%)</th>\n",
       "    </tr>\n",
       "  </thead>\n",
       "  <tbody>\n",
       "    <tr>\n",
       "      <th>0</th>\n",
       "      <td>Reference</td>\n",
       "      <td>0.8482</td>\n",
       "      <td>0.6825</td>\n",
       "      <td>0.7551</td>\n",
       "      <td>-</td>\n",
       "      <td>-</td>\n",
       "      <td>-</td>\n",
       "      <td>11.38 ± 1.67</td>\n",
       "      <td>11.46 ± 1.89</td>\n",
       "      <td>11.21 ± 1.52</td>\n",
       "      <td>49.23 ± 9.09</td>\n",
       "      <td>16.21 ± 2.06</td>\n",
       "      <td>50.35 ± 4.87</td>\n",
       "      <td>14.23 ± 1.56</td>\n",
       "      <td>6.07 ± 1.23</td>\n",
       "      <td>7.37 ± 0.62</td>\n",
       "      <td>37.83</td>\n",
       "    </tr>\n",
       "    <tr>\n",
       "      <th>1</th>\n",
       "      <td>GPT-5</td>\n",
       "      <td>0.8283</td>\n",
       "      <td>0.5632</td>\n",
       "      <td>0.7647</td>\n",
       "      <td>0.8519</td>\n",
       "      <td>0.6414</td>\n",
       "      <td>0.6296</td>\n",
       "      <td>9.04 ± 1.40</td>\n",
       "      <td>9.51 ± 1.50</td>\n",
       "      <td>10.23 ± 1.30</td>\n",
       "      <td>61.31 ± 7.94</td>\n",
       "      <td>12.93 ± 1.63</td>\n",
       "      <td>42.24 ± 4.62</td>\n",
       "      <td>13.64 ± 1.44</td>\n",
       "      <td>4.34 ± 0.92</td>\n",
       "      <td>7.15 ± 0.58</td>\n",
       "      <td>56.61</td>\n",
       "    </tr>\n",
       "    <tr>\n",
       "      <th>2</th>\n",
       "      <td>Gemini</td>\n",
       "      <td>0.8419</td>\n",
       "      <td>0.5820</td>\n",
       "      <td>0.7893</td>\n",
       "      <td>0.8712</td>\n",
       "      <td>0.6850</td>\n",
       "      <td>0.7189</td>\n",
       "      <td>8.37 ± 1.14</td>\n",
       "      <td>8.31 ± 1.22</td>\n",
       "      <td>9.33 ± 1.06</td>\n",
       "      <td>64.06 ± 6.46</td>\n",
       "      <td>12.25 ± 1.36</td>\n",
       "      <td>41.34 ± 4.03</td>\n",
       "      <td>12.00 ± 0.91</td>\n",
       "      <td>4.08 ± 0.74</td>\n",
       "      <td>6.35 ± 0.50</td>\n",
       "      <td>63.78</td>\n",
       "    </tr>\n",
       "    <tr>\n",
       "      <th>3</th>\n",
       "      <td>GPT-OSS-120B</td>\n",
       "      <td>0.8311</td>\n",
       "      <td>0.6408</td>\n",
       "      <td>0.7925</td>\n",
       "      <td>0.8556</td>\n",
       "      <td>0.6713</td>\n",
       "      <td>0.6713</td>\n",
       "      <td>10.52 ± 1.39</td>\n",
       "      <td>10.67 ± 1.63</td>\n",
       "      <td>10.86 ± 1.30</td>\n",
       "      <td>53.37 ± 7.52</td>\n",
       "      <td>15.84 ± 1.54</td>\n",
       "      <td>48.06 ± 4.29</td>\n",
       "      <td>14.73 ± 1.17</td>\n",
       "      <td>5.53 ± 0.99</td>\n",
       "      <td>7.82 ± 0.48</td>\n",
       "      <td>43.44</td>\n",
       "    </tr>\n",
       "  </tbody>\n",
       "</table>\n",
       "</div>"
      ],
      "text/plain": [
       "          Model  BERTScore F1 (original)  MeaningBERT (original)  \\\n",
       "0     Reference                   0.8482                  0.6825   \n",
       "1         GPT-5                   0.8283                  0.5632   \n",
       "2        Gemini                   0.8419                  0.5820   \n",
       "3  GPT-OSS-120B                   0.8311                  0.6408   \n",
       "\n",
       "   AlignScore (original) BERTScore F1 (reference) MeaningBERT (reference)  \\\n",
       "0                 0.7551                        -                       -   \n",
       "1                 0.7647                   0.8519                  0.6414   \n",
       "2                 0.7893                   0.8712                  0.6850   \n",
       "3                 0.7925                   0.8556                  0.6713   \n",
       "\n",
       "  AlignScore (reference) Flesch-Kincaid           ARI  Coleman-Liau  \\\n",
       "0                      -   11.38 ± 1.67  11.46 ± 1.89  11.21 ± 1.52   \n",
       "1                 0.6296    9.04 ± 1.40   9.51 ± 1.50  10.23 ± 1.30   \n",
       "2                 0.7189    8.37 ± 1.14   8.31 ± 1.22   9.33 ± 1.06   \n",
       "3                 0.6713   10.52 ± 1.39  10.67 ± 1.63  10.86 ± 1.30   \n",
       "\n",
       "  FleschReadingEase GunningFogIndex           LIX     SMOGIndex          RIX  \\\n",
       "0      49.23 ± 9.09    16.21 ± 2.06  50.35 ± 4.87  14.23 ± 1.56  6.07 ± 1.23   \n",
       "1      61.31 ± 7.94    12.93 ± 1.63  42.24 ± 4.62  13.64 ± 1.44  4.34 ± 0.92   \n",
       "2      64.06 ± 6.46    12.25 ± 1.36  41.34 ± 4.03  12.00 ± 0.91  4.08 ± 0.74   \n",
       "3      53.37 ± 7.52    15.84 ± 1.54  48.06 ± 4.29  14.73 ± 1.17  5.53 ± 0.99   \n",
       "\n",
       "  DaleChallIndex  Excellence Rate (%)  \n",
       "0    7.37 ± 0.62                37.83  \n",
       "1    7.15 ± 0.58                56.61  \n",
       "2    6.35 ± 0.50                63.78  \n",
       "3    7.82 ± 0.48                43.44  "
      ]
     },
     "execution_count": 2,
     "metadata": {},
     "output_type": "execute_result"
    }
   ],
   "source": [
    "df"
   ]
  },
  {
   "cell_type": "code",
   "execution_count": 66,
   "id": "f0cbb59d",
   "metadata": {},
   "outputs": [
    {
     "data": {
      "text/html": [
       "<div>\n",
       "<style scoped>\n",
       "    .dataframe tbody tr th:only-of-type {\n",
       "        vertical-align: middle;\n",
       "    }\n",
       "\n",
       "    .dataframe tbody tr th {\n",
       "        vertical-align: top;\n",
       "    }\n",
       "\n",
       "    .dataframe thead th {\n",
       "        text-align: right;\n",
       "    }\n",
       "</style>\n",
       "<table border=\"1\" class=\"dataframe\">\n",
       "  <thead>\n",
       "    <tr style=\"text-align: right;\">\n",
       "      <th></th>\n",
       "      <th>Model</th>\n",
       "      <th>BERTScore F1 (original)</th>\n",
       "      <th>MeaningBERT (original)</th>\n",
       "      <th>AlignScore (original)</th>\n",
       "      <th>BERTScore F1 (reference)</th>\n",
       "      <th>MeaningBERT (reference)</th>\n",
       "      <th>AlignScore (reference)</th>\n",
       "      <th>Flesch-Kincaid</th>\n",
       "      <th>ARI</th>\n",
       "      <th>Excellence Rate (%)</th>\n",
       "    </tr>\n",
       "  </thead>\n",
       "  <tbody>\n",
       "    <tr>\n",
       "      <th>0</th>\n",
       "      <td>Reference</td>\n",
       "      <td>0.8482</td>\n",
       "      <td>0.6825</td>\n",
       "      <td>0.7551</td>\n",
       "      <td>-</td>\n",
       "      <td>-</td>\n",
       "      <td>-</td>\n",
       "      <td>11.38</td>\n",
       "      <td>11.46</td>\n",
       "      <td>37.83</td>\n",
       "    </tr>\n",
       "    <tr>\n",
       "      <th>1</th>\n",
       "      <td>GPT-5</td>\n",
       "      <td>0.8283</td>\n",
       "      <td>0.5632</td>\n",
       "      <td>0.7647</td>\n",
       "      <td>0.8519</td>\n",
       "      <td>0.6414</td>\n",
       "      <td>0.6296</td>\n",
       "      <td>9.04</td>\n",
       "      <td>9.51</td>\n",
       "      <td>56.61</td>\n",
       "    </tr>\n",
       "    <tr>\n",
       "      <th>2</th>\n",
       "      <td>Gemini</td>\n",
       "      <td>0.8419</td>\n",
       "      <td>0.5820</td>\n",
       "      <td>0.7893</td>\n",
       "      <td>0.8712</td>\n",
       "      <td>0.685</td>\n",
       "      <td>0.7189</td>\n",
       "      <td>8.37</td>\n",
       "      <td>8.31</td>\n",
       "      <td>63.78</td>\n",
       "    </tr>\n",
       "    <tr>\n",
       "      <th>3</th>\n",
       "      <td>GPT-OSS-120B</td>\n",
       "      <td>0.8311</td>\n",
       "      <td>0.6408</td>\n",
       "      <td>0.7925</td>\n",
       "      <td>0.8556</td>\n",
       "      <td>0.6713</td>\n",
       "      <td>0.6713</td>\n",
       "      <td>10.52</td>\n",
       "      <td>10.67</td>\n",
       "      <td>43.44</td>\n",
       "    </tr>\n",
       "  </tbody>\n",
       "</table>\n",
       "</div>"
      ],
      "text/plain": [
       "          Model  BERTScore F1 (original)  MeaningBERT (original)  \\\n",
       "0     Reference                   0.8482                  0.6825   \n",
       "1         GPT-5                   0.8283                  0.5632   \n",
       "2        Gemini                   0.8419                  0.5820   \n",
       "3  GPT-OSS-120B                   0.8311                  0.6408   \n",
       "\n",
       "   AlignScore (original) BERTScore F1 (reference) MeaningBERT (reference)  \\\n",
       "0                 0.7551                        -                       -   \n",
       "1                 0.7647                   0.8519                  0.6414   \n",
       "2                 0.7893                   0.8712                   0.685   \n",
       "3                 0.7925                   0.8556                  0.6713   \n",
       "\n",
       "  AlignScore (reference)  Flesch-Kincaid    ARI  Excellence Rate (%)  \n",
       "0                      -           11.38  11.46                37.83  \n",
       "1                 0.6296            9.04   9.51                56.61  \n",
       "2                 0.7189            8.37   8.31                63.78  \n",
       "3                 0.6713           10.52  10.67                43.44  "
      ]
     },
     "execution_count": 66,
     "metadata": {},
     "output_type": "execute_result"
    }
   ],
   "source": [
    "table = pd.DataFrame({\n",
    "    'Model': ['Reference', 'GPT-5', 'Gemini', 'GPT-OSS-120B'],\n",
    "    'BERTScore F1 (original)': [baseline_bertscore, gpt_5_bertscore, gemini_bertscore, gpt_oss_120b_bertscore],\n",
    "    'MeaningBERT (original)': [baseline_meaningbert, gpt_5_meaningbert, gemini_meaningbert, gpt_oss_120b_meaningbert],\n",
    "    'AlignScore (original)': [baseline_alignscore, gpt_5_alignscore, gemini_alignscore, gpt_oss_120b_alignscore],\n",
    "    'BERTScore F1 (reference)': [\"-\", gpt_5_bertscore_reference, gemini_bertscore_reference, gpt_oss_120b_bertscore_reference],\n",
    "    'MeaningBERT (reference)': [\"-\", gpt_5_meaningbert_reference, gemini_meaningbert_reference, gpt_oss_120b_alignscore_reference],\n",
    "    'AlignScore (reference)': [\"-\", gpt_5_alignscore_reference, gemini_alignscore_reference, gpt_oss_120b_alignscore_reference],\n",
    "    'Flesch-Kincaid': [reference_pls['readability']['flesch_kincaid_grade']['mean'],\n",
    "                        gpt5_pls['readability']['flesch_kincaid_grade']['mean'],\n",
    "                        gemini_pls['readability']['flesch_kincaid_grade']['mean'],\n",
    "                        gpt_oss_120b_pls['readability']['flesch_kincaid_grade']['mean']],\n",
    "    'ARI': [reference_pls['readability']['automated_readability_index']['mean'],\n",
    "            gpt5_pls['readability']['automated_readability_index']['mean'],\n",
    "            gemini_pls['readability']['automated_readability_index']['mean'],\n",
    "            gpt_oss_120b_pls['readability']['automated_readability_index']['mean']],\n",
    "    'Excellence Rate (%)': [reference_pls['summary']['excellence_rate'],\n",
    "                            gpt5_pls['summary']['excellence_rate'],\n",
    "                            gemini_pls['summary']['excellence_rate'],\n",
    "                            gpt_oss_120b_pls['summary']['excellence_rate']]\n",
    "})\n",
    "\n",
    "table"
   ]
  },
  {
   "cell_type": "code",
   "execution_count": 65,
   "id": "fc12c1c3",
   "metadata": {},
   "outputs": [
    {
     "name": "stderr",
     "output_type": "stream",
     "text": [
      "huggingface/tokenizers: The current process just got forked, after parallelism has already been used. Disabling parallelism to avoid deadlocks...\n",
      "To disable this warning, you can either:\n",
      "\t- Avoid using `tokenizers` before the fork if possible\n",
      "\t- Explicitly set the environment variable TOKENIZERS_PARALLELISM=(true | false)\n"
     ]
    },
    {
     "name": "stdout",
     "output_type": "stream",
     "text": [
      "\u001b[33mWARNING: Retrying (Retry(total=4, connect=None, read=None, redirect=None, status=None)) after connection broken by 'NewConnectionError('<pip._vendor.urllib3.connection.HTTPSConnection object at 0x1028c9220>: Failed to establish a new connection: [Errno 8] nodename nor servname provided, or not known')': /simple/openpyxl/\u001b[0m\u001b[33m\n",
      "\u001b[0m\u001b[33mWARNING: Retrying (Retry(total=3, connect=None, read=None, redirect=None, status=None)) after connection broken by 'NewConnectionError('<pip._vendor.urllib3.connection.HTTPSConnection object at 0x1037d8b60>: Failed to establish a new connection: [Errno 8] nodename nor servname provided, or not known')': /simple/openpyxl/\u001b[0m\u001b[33m\n",
      "\u001b[0m\u001b[33mWARNING: Retrying (Retry(total=2, connect=None, read=None, redirect=None, status=None)) after connection broken by 'NewConnectionError('<pip._vendor.urllib3.connection.HTTPSConnection object at 0x1038be0f0>: Failed to establish a new connection: [Errno 8] nodename nor servname provided, or not known')': /simple/openpyxl/\u001b[0m\u001b[33m\n",
      "\u001b[0m\u001b[33mWARNING: Retrying (Retry(total=1, connect=None, read=None, redirect=None, status=None)) after connection broken by 'NewConnectionError('<pip._vendor.urllib3.connection.HTTPSConnection object at 0x104f35190>: Failed to establish a new connection: [Errno 8] nodename nor servname provided, or not known')': /simple/openpyxl/\u001b[0m\u001b[33m\n",
      "\u001b[0m\u001b[33mWARNING: Retrying (Retry(total=0, connect=None, read=None, redirect=None, status=None)) after connection broken by 'NewConnectionError('<pip._vendor.urllib3.connection.HTTPSConnection object at 0x104f348c0>: Failed to establish a new connection: [Errno 8] nodename nor servname provided, or not known')': /simple/openpyxl/\u001b[0m\u001b[33m\n",
      "\u001b[0m\u001b[31mERROR: Could not find a version that satisfies the requirement openpyxl (from versions: none)\u001b[0m\u001b[31m\n",
      "\u001b[0m\u001b[31mERROR: No matching distribution found for openpyxl\u001b[0m\u001b[31m\n",
      "\u001b[0mNote: you may need to restart the kernel to use updated packages.\n"
     ]
    }
   ],
   "source": [
    "%pip install openpyxl"
   ]
  },
  {
   "cell_type": "code",
   "execution_count": null,
   "id": "90de8962",
   "metadata": {},
   "outputs": [
    {
     "name": "stdout",
     "output_type": "stream",
     "text": [
      "Results saved to outputs/evaluation_results_20250819_114333.csv\n",
      "Results saved to outputs/evaluation_results_20250819_114333.json\n"
     ]
    },
    {
     "ename": "ImportError",
     "evalue": "Missing optional dependency 'tabulate'.  Use pip or conda to install tabulate.",
     "output_type": "error",
     "traceback": [
      "\u001b[31m---------------------------------------------------------------------------\u001b[39m",
      "\u001b[31mModuleNotFoundError\u001b[39m                       Traceback (most recent call last)",
      "\u001b[36mFile \u001b[39m\u001b[32m~/Documents/projects/medical-writing/.venv/lib/python3.12/site-packages/pandas/compat/_optional.py:135\u001b[39m, in \u001b[36mimport_optional_dependency\u001b[39m\u001b[34m(name, extra, errors, min_version)\u001b[39m\n\u001b[32m    134\u001b[39m \u001b[38;5;28;01mtry\u001b[39;00m:\n\u001b[32m--> \u001b[39m\u001b[32m135\u001b[39m     module = \u001b[43mimportlib\u001b[49m\u001b[43m.\u001b[49m\u001b[43mimport_module\u001b[49m\u001b[43m(\u001b[49m\u001b[43mname\u001b[49m\u001b[43m)\u001b[49m\n\u001b[32m    136\u001b[39m \u001b[38;5;28;01mexcept\u001b[39;00m \u001b[38;5;167;01mImportError\u001b[39;00m:\n",
      "\u001b[36mFile \u001b[39m\u001b[32m~/.local/share/uv/python/cpython-3.12.10-macos-aarch64-none/lib/python3.12/importlib/__init__.py:90\u001b[39m, in \u001b[36mimport_module\u001b[39m\u001b[34m(name, package)\u001b[39m\n\u001b[32m     89\u001b[39m         level += \u001b[32m1\u001b[39m\n\u001b[32m---> \u001b[39m\u001b[32m90\u001b[39m \u001b[38;5;28;01mreturn\u001b[39;00m \u001b[43m_bootstrap\u001b[49m\u001b[43m.\u001b[49m\u001b[43m_gcd_import\u001b[49m\u001b[43m(\u001b[49m\u001b[43mname\u001b[49m\u001b[43m[\u001b[49m\u001b[43mlevel\u001b[49m\u001b[43m:\u001b[49m\u001b[43m]\u001b[49m\u001b[43m,\u001b[49m\u001b[43m \u001b[49m\u001b[43mpackage\u001b[49m\u001b[43m,\u001b[49m\u001b[43m \u001b[49m\u001b[43mlevel\u001b[49m\u001b[43m)\u001b[49m\n",
      "\u001b[36mFile \u001b[39m\u001b[32m<frozen importlib._bootstrap>:1387\u001b[39m, in \u001b[36m_gcd_import\u001b[39m\u001b[34m(name, package, level)\u001b[39m\n",
      "\u001b[36mFile \u001b[39m\u001b[32m<frozen importlib._bootstrap>:1360\u001b[39m, in \u001b[36m_find_and_load\u001b[39m\u001b[34m(name, import_)\u001b[39m\n",
      "\u001b[36mFile \u001b[39m\u001b[32m<frozen importlib._bootstrap>:1324\u001b[39m, in \u001b[36m_find_and_load_unlocked\u001b[39m\u001b[34m(name, import_)\u001b[39m\n",
      "\u001b[31mModuleNotFoundError\u001b[39m: No module named 'tabulate'",
      "\nDuring handling of the above exception, another exception occurred:\n",
      "\u001b[31mImportError\u001b[39m                               Traceback (most recent call last)",
      "\u001b[36mCell\u001b[39m\u001b[36m \u001b[39m\u001b[32mIn[64]\u001b[39m\u001b[32m, line 17\u001b[39m\n\u001b[32m     14\u001b[39m \u001b[38;5;28mprint\u001b[39m(\u001b[33mf\u001b[39m\u001b[33m\"\u001b[39m\u001b[33mResults saved to outputs/evaluation_results_\u001b[39m\u001b[38;5;132;01m{\u001b[39;00mtimestamp\u001b[38;5;132;01m}\u001b[39;00m\u001b[33m.json\u001b[39m\u001b[33m\"\u001b[39m)\n\u001b[32m     16\u001b[39m \u001b[38;5;66;03m# Save as Markdown for documentation\u001b[39;00m\n\u001b[32m---> \u001b[39m\u001b[32m17\u001b[39m markdown_table = \u001b[43mtable\u001b[49m\u001b[43m.\u001b[49m\u001b[43mto_markdown\u001b[49m\u001b[43m(\u001b[49m\u001b[43mindex\u001b[49m\u001b[43m=\u001b[49m\u001b[38;5;28;43;01mFalse\u001b[39;49;00m\u001b[43m)\u001b[49m\n\u001b[32m     18\u001b[39m \u001b[38;5;28;01mwith\u001b[39;00m \u001b[38;5;28mopen\u001b[39m(\u001b[33mf\u001b[39m\u001b[33m'\u001b[39m\u001b[33moutputs/evaluation_results_\u001b[39m\u001b[38;5;132;01m{\u001b[39;00mtimestamp\u001b[38;5;132;01m}\u001b[39;00m\u001b[33m.md\u001b[39m\u001b[33m'\u001b[39m, \u001b[33m'\u001b[39m\u001b[33mw\u001b[39m\u001b[33m'\u001b[39m) \u001b[38;5;28;01mas\u001b[39;00m f:\n\u001b[32m     19\u001b[39m     f.write(\u001b[33m\"\u001b[39m\u001b[33m# Evaluation Results\u001b[39m\u001b[38;5;130;01m\\n\u001b[39;00m\u001b[38;5;130;01m\\n\u001b[39;00m\u001b[33m\"\u001b[39m)\n",
      "\u001b[36mFile \u001b[39m\u001b[32m~/Documents/projects/medical-writing/.venv/lib/python3.12/site-packages/pandas/util/_decorators.py:333\u001b[39m, in \u001b[36mdeprecate_nonkeyword_arguments.<locals>.decorate.<locals>.wrapper\u001b[39m\u001b[34m(*args, **kwargs)\u001b[39m\n\u001b[32m    327\u001b[39m \u001b[38;5;28;01mif\u001b[39;00m \u001b[38;5;28mlen\u001b[39m(args) > num_allow_args:\n\u001b[32m    328\u001b[39m     warnings.warn(\n\u001b[32m    329\u001b[39m         msg.format(arguments=_format_argument_list(allow_args)),\n\u001b[32m    330\u001b[39m         \u001b[38;5;167;01mFutureWarning\u001b[39;00m,\n\u001b[32m    331\u001b[39m         stacklevel=find_stack_level(),\n\u001b[32m    332\u001b[39m     )\n\u001b[32m--> \u001b[39m\u001b[32m333\u001b[39m \u001b[38;5;28;01mreturn\u001b[39;00m \u001b[43mfunc\u001b[49m\u001b[43m(\u001b[49m\u001b[43m*\u001b[49m\u001b[43margs\u001b[49m\u001b[43m,\u001b[49m\u001b[43m \u001b[49m\u001b[43m*\u001b[49m\u001b[43m*\u001b[49m\u001b[43mkwargs\u001b[49m\u001b[43m)\u001b[49m\n",
      "\u001b[36mFile \u001b[39m\u001b[32m~/Documents/projects/medical-writing/.venv/lib/python3.12/site-packages/pandas/core/frame.py:2988\u001b[39m, in \u001b[36mDataFrame.to_markdown\u001b[39m\u001b[34m(self, buf, mode, index, storage_options, **kwargs)\u001b[39m\n\u001b[32m   2986\u001b[39m kwargs.setdefault(\u001b[33m\"\u001b[39m\u001b[33mtablefmt\u001b[39m\u001b[33m\"\u001b[39m, \u001b[33m\"\u001b[39m\u001b[33mpipe\u001b[39m\u001b[33m\"\u001b[39m)\n\u001b[32m   2987\u001b[39m kwargs.setdefault(\u001b[33m\"\u001b[39m\u001b[33mshowindex\u001b[39m\u001b[33m\"\u001b[39m, index)\n\u001b[32m-> \u001b[39m\u001b[32m2988\u001b[39m tabulate = \u001b[43mimport_optional_dependency\u001b[49m\u001b[43m(\u001b[49m\u001b[33;43m\"\u001b[39;49m\u001b[33;43mtabulate\u001b[39;49m\u001b[33;43m\"\u001b[39;49m\u001b[43m)\u001b[49m\n\u001b[32m   2989\u001b[39m result = tabulate.tabulate(\u001b[38;5;28mself\u001b[39m, **kwargs)\n\u001b[32m   2990\u001b[39m \u001b[38;5;28;01mif\u001b[39;00m buf \u001b[38;5;129;01mis\u001b[39;00m \u001b[38;5;28;01mNone\u001b[39;00m:\n",
      "\u001b[36mFile \u001b[39m\u001b[32m~/Documents/projects/medical-writing/.venv/lib/python3.12/site-packages/pandas/compat/_optional.py:138\u001b[39m, in \u001b[36mimport_optional_dependency\u001b[39m\u001b[34m(name, extra, errors, min_version)\u001b[39m\n\u001b[32m    136\u001b[39m \u001b[38;5;28;01mexcept\u001b[39;00m \u001b[38;5;167;01mImportError\u001b[39;00m:\n\u001b[32m    137\u001b[39m     \u001b[38;5;28;01mif\u001b[39;00m errors == \u001b[33m\"\u001b[39m\u001b[33mraise\u001b[39m\u001b[33m\"\u001b[39m:\n\u001b[32m--> \u001b[39m\u001b[32m138\u001b[39m         \u001b[38;5;28;01mraise\u001b[39;00m \u001b[38;5;167;01mImportError\u001b[39;00m(msg)\n\u001b[32m    139\u001b[39m     \u001b[38;5;28;01mreturn\u001b[39;00m \u001b[38;5;28;01mNone\u001b[39;00m\n\u001b[32m    141\u001b[39m \u001b[38;5;66;03m# Handle submodules: if we have submodule, grab parent module from sys.modules\u001b[39;00m\n",
      "\u001b[31mImportError\u001b[39m: Missing optional dependency 'tabulate'.  Use pip or conda to install tabulate."
     ]
    }
   ],
   "source": [
    "import datetime\n",
    "\n",
    "# Create timestamp for file naming\n",
    "timestamp = datetime.datetime.now().strftime(\"%Y%m%d_%H%M%S\")\n",
    "\n",
    "# Save as CSV\n",
    "table.to_csv(f'outputs/evaluation_results_{timestamp}.csv', index=False)\n",
    "print(f\"Results saved to outputs/evaluation_results_{timestamp}.csv\")\n",
    "\n",
    "# Save as Excel with formatting\n",
    "with pd.ExcelWriter(f'outputs/evaluation_results_{timestamp}.xlsx', engine='openpyxl') as writer:\n",
    "    table.to_excel(writer, sheet_name='Evaluation Metrics', index=False)\n",
    "\n",
    "    # Also save the readability table in a separate sheet\n",
    "    readability_table.to_excel(writer, sheet_name='Readability Details', index=False)\n",
    "\n",
    "    # Get the workbook and worksheet to apply formatting\n",
    "    workbook = writer.book\n",
    "    worksheet = writer.sheets['Evaluation Metrics']\n",
    "\n",
    "    # Auto-adjust column widths\n",
    "    for column in worksheet.columns:\n",
    "        max_length = 0\n",
    "        column_letter = column[0].column_letter\n",
    "        for cell in column:\n",
    "            try:\n",
    "                if len(str(cell.value)) > max_length:\n",
    "                    max_length = len(str(cell.value))\n",
    "            except:\n",
    "                pass\n",
    "        adjusted_width = min(max_length + 2, 30)\n",
    "        worksheet.column_dimensions[column_letter].width = adjusted_width\n",
    "\n",
    "print(f\"Results saved to outputs/evaluation_results_{timestamp}.xlsx\")\n",
    "\n",
    "# Save as JSON for programmatic access\n",
    "results_dict = table.to_dict('records')\n",
    "with open(f'outputs/evaluation_results_{timestamp}.json', 'w') as f:\n",
    "    json.dump(results_dict, f, indent=2)\n",
    "print(f\"Results saved to outputs/evaluation_results_{timestamp}.json\")\n",
    "\n",
    "# Save as Markdown for documentation\n",
    "markdown_table = table.to_markdown(index=False)\n",
    "with open(f'outputs/evaluation_results_{timestamp}.md', 'w') as f:\n",
    "    f.write(\"# Evaluation Results\\n\\n\")\n",
    "    f.write(f\"Generated on: {datetime.datetime.now().strftime('%Y-%m-%d %H:%M:%S')}\\n\\n\")\n",
    "    f.write(markdown_table)\n",
    "print(f\"Results saved to outputs/evaluation_results_{timestamp}.md\")\n",
    "\n",
    "# Save as LaTeX for papers\n",
    "latex_table = table.to_latex(index=False, caption=\"Model Evaluation Results\", label=\"tab:eval_results\")\n",
    "with open(f'outputs/evaluation_results_{timestamp}.tex', 'w') as f:\n",
    "    f.write(latex_table)\n",
    "print(f\"Results saved to outputs/evaluation_results_{timestamp}.tex\")\n",
    "\n",
    "# Display the table\n",
    "print(\"\\n\" + \"=\"*80)\n",
    "print(\"EVALUATION RESULTS\")\n",
    "print(\"=\"*80)\n",
    "print(table.to_string(index=False))"
   ]
  },
  {
   "cell_type": "code",
   "execution_count": null,
   "id": "4122ef71",
   "metadata": {},
   "outputs": [],
   "source": []
  }
 ],
 "metadata": {
  "kernelspec": {
   "display_name": "medical-writing (3.12.10)",
   "language": "python",
   "name": "python3"
  },
  "language_info": {
   "codemirror_mode": {
    "name": "ipython",
    "version": 3
   },
   "file_extension": ".py",
   "mimetype": "text/x-python",
   "name": "python",
   "nbconvert_exporter": "python",
   "pygments_lexer": "ipython3",
   "version": "3.12.10"
  }
 },
 "nbformat": 4,
 "nbformat_minor": 5
}
