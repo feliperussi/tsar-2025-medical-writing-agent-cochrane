{
 "cells": [
  {
   "cell_type": "code",
   "execution_count": null,
   "id": "28e79395",
   "metadata": {},
   "outputs": [],
   "source": [
    "%pip install --upgrade huggingface_hub\n",
    "%pip install evaluate\n",
    "%pip install bert_score"
   ]
  },
  {
   "cell_type": "code",
   "execution_count": null,
   "id": "4a2331a3",
   "metadata": {},
   "outputs": [],
   "source": [
    "from huggingface_hub import login\n",
    "from sklearn.metrics import f1_score,root_mean_squared_error\n",
    "from transformers import pipeline,AutoTokenizer\n",
    "import evaluate\n",
    "import numpy as np\n",
    "import pandas as pd\n",
    "import json\n",
    "\n",
    "from pls_evaluator import get_pls_evaluation, create_readability_table, create_summary_table"
   ]
  },
  {
   "cell_type": "markdown",
   "id": "a4ccceb0",
   "metadata": {},
   "source": [
    "### - Loading Results"
   ]
  },
  {
   "cell_type": "code",
   "execution_count": null,
   "id": "76624599",
   "metadata": {},
   "outputs": [
    {
     "name": "stdout",
     "output_type": "stream",
     "text": [
      "Loaded table with 5 models and 17 columns\n"
     ]
    },
    {
     "data": {
      "text/html": [
       "<div>\n",
       "<style scoped>\n",
       "    .dataframe tbody tr th:only-of-type {\n",
       "        vertical-align: middle;\n",
       "    }\n",
       "\n",
       "    .dataframe tbody tr th {\n",
       "        vertical-align: top;\n",
       "    }\n",
       "\n",
       "    .dataframe thead th {\n",
       "        text-align: right;\n",
       "    }\n",
       "</style>\n",
       "<table border=\"1\" class=\"dataframe\">\n",
       "  <thead>\n",
       "    <tr style=\"text-align: right;\">\n",
       "      <th></th>\n",
       "      <th>Model</th>\n",
       "      <th>BERTScore F1 (original)</th>\n",
       "      <th>MeaningBERT (original)</th>\n",
       "      <th>AlignScore (original)</th>\n",
       "      <th>BERTScore F1 (reference)</th>\n",
       "      <th>MeaningBERT (reference)</th>\n",
       "      <th>AlignScore (reference)</th>\n",
       "      <th>Flesch-Kincaid</th>\n",
       "      <th>ARI</th>\n",
       "      <th>Coleman-Liau</th>\n",
       "      <th>FleschReadingEase</th>\n",
       "      <th>GunningFogIndex</th>\n",
       "      <th>LIX</th>\n",
       "      <th>SMOGIndex</th>\n",
       "      <th>RIX</th>\n",
       "      <th>DaleChallIndex</th>\n",
       "      <th>Excellence Rate (%)</th>\n",
       "    </tr>\n",
       "  </thead>\n",
       "  <tbody>\n",
       "    <tr>\n",
       "      <th>0</th>\n",
       "      <td>human (reference)</td>\n",
       "      <td>0.8482</td>\n",
       "      <td>0.6825</td>\n",
       "      <td>0.7551</td>\n",
       "      <td>-</td>\n",
       "      <td>-</td>\n",
       "      <td>-</td>\n",
       "      <td>11.38 ± 1.67</td>\n",
       "      <td>11.46 ± 1.89</td>\n",
       "      <td>11.21 ± 1.52</td>\n",
       "      <td>49.23 ± 9.09</td>\n",
       "      <td>16.21 ± 2.06</td>\n",
       "      <td>50.35 ± 4.87</td>\n",
       "      <td>14.23 ± 1.56</td>\n",
       "      <td>6.07 ± 1.23</td>\n",
       "      <td>7.37 ± 0.62</td>\n",
       "      <td>37.83</td>\n",
       "    </tr>\n",
       "    <tr>\n",
       "      <th>1</th>\n",
       "      <td>gemini-2.5-pro (baseline)</td>\n",
       "      <td>0.8340</td>\n",
       "      <td>0.5828</td>\n",
       "      <td>0.7436</td>\n",
       "      <td>0.8696</td>\n",
       "      <td>0.7161</td>\n",
       "      <td>0.6900</td>\n",
       "      <td>8.72 ± 0.88</td>\n",
       "      <td>8.68 ± 0.90</td>\n",
       "      <td>8.94 ± 0.82</td>\n",
       "      <td>64.48 ± 5.17</td>\n",
       "      <td>12.55 ± 1.06</td>\n",
       "      <td>41.89 ± 2.76</td>\n",
       "      <td>12.31 ± 1.01</td>\n",
       "      <td>4.29 ± 0.52</td>\n",
       "      <td>6.28 ± 0.40</td>\n",
       "      <td>61.67</td>\n",
       "    </tr>\n",
       "    <tr>\n",
       "      <th>2</th>\n",
       "      <td>gemini-2.5-pro</td>\n",
       "      <td>0.8419</td>\n",
       "      <td>0.5820</td>\n",
       "      <td>0.7893</td>\n",
       "      <td>0.8712</td>\n",
       "      <td>0.6850</td>\n",
       "      <td>0.7189</td>\n",
       "      <td>8.37 ± 1.14</td>\n",
       "      <td>8.31 ± 1.22</td>\n",
       "      <td>9.33 ± 1.06</td>\n",
       "      <td>64.06 ± 6.46</td>\n",
       "      <td>12.25 ± 1.36</td>\n",
       "      <td>41.34 ± 4.03</td>\n",
       "      <td>12.00 ± 0.91</td>\n",
       "      <td>4.08 ± 0.74</td>\n",
       "      <td>6.35 ± 0.50</td>\n",
       "      <td>63.78</td>\n",
       "    </tr>\n",
       "    <tr>\n",
       "      <th>3</th>\n",
       "      <td>gpt-5</td>\n",
       "      <td>0.8283</td>\n",
       "      <td>0.5632</td>\n",
       "      <td>0.7647</td>\n",
       "      <td>0.8519</td>\n",
       "      <td>0.6414</td>\n",
       "      <td>0.6296</td>\n",
       "      <td>9.04 ± 1.40</td>\n",
       "      <td>9.51 ± 1.50</td>\n",
       "      <td>10.23 ± 1.30</td>\n",
       "      <td>61.31 ± 7.94</td>\n",
       "      <td>12.93 ± 1.63</td>\n",
       "      <td>42.24 ± 4.62</td>\n",
       "      <td>13.64 ± 1.44</td>\n",
       "      <td>4.34 ± 0.92</td>\n",
       "      <td>7.15 ± 0.58</td>\n",
       "      <td>56.61</td>\n",
       "    </tr>\n",
       "    <tr>\n",
       "      <th>4</th>\n",
       "      <td>gpt-oss-120b</td>\n",
       "      <td>0.8311</td>\n",
       "      <td>0.6408</td>\n",
       "      <td>0.7925</td>\n",
       "      <td>0.8556</td>\n",
       "      <td>0.6713</td>\n",
       "      <td>0.6713</td>\n",
       "      <td>10.52 ± 1.39</td>\n",
       "      <td>10.67 ± 1.63</td>\n",
       "      <td>10.86 ± 1.30</td>\n",
       "      <td>53.37 ± 7.52</td>\n",
       "      <td>15.84 ± 1.54</td>\n",
       "      <td>48.06 ± 4.29</td>\n",
       "      <td>14.73 ± 1.17</td>\n",
       "      <td>5.53 ± 0.99</td>\n",
       "      <td>7.82 ± 0.48</td>\n",
       "      <td>43.44</td>\n",
       "    </tr>\n",
       "  </tbody>\n",
       "</table>\n",
       "</div>"
      ],
      "text/plain": [
       "                       Model  BERTScore F1 (original)  MeaningBERT (original)  \\\n",
       "0          human (reference)                   0.8482                  0.6825   \n",
       "1  gemini-2.5-pro (baseline)                   0.8340                  0.5828   \n",
       "2             gemini-2.5-pro                   0.8419                  0.5820   \n",
       "3                      gpt-5                   0.8283                  0.5632   \n",
       "4               gpt-oss-120b                   0.8311                  0.6408   \n",
       "\n",
       "   AlignScore (original) BERTScore F1 (reference) MeaningBERT (reference)  \\\n",
       "0                 0.7551                        -                       -   \n",
       "1                 0.7436                   0.8696                  0.7161   \n",
       "2                 0.7893                   0.8712                  0.6850   \n",
       "3                 0.7647                   0.8519                  0.6414   \n",
       "4                 0.7925                   0.8556                  0.6713   \n",
       "\n",
       "  AlignScore (reference) Flesch-Kincaid           ARI  Coleman-Liau  \\\n",
       "0                      -   11.38 ± 1.67  11.46 ± 1.89  11.21 ± 1.52   \n",
       "1                 0.6900    8.72 ± 0.88   8.68 ± 0.90   8.94 ± 0.82   \n",
       "2                 0.7189    8.37 ± 1.14   8.31 ± 1.22   9.33 ± 1.06   \n",
       "3                 0.6296    9.04 ± 1.40   9.51 ± 1.50  10.23 ± 1.30   \n",
       "4                 0.6713   10.52 ± 1.39  10.67 ± 1.63  10.86 ± 1.30   \n",
       "\n",
       "  FleschReadingEase GunningFogIndex           LIX     SMOGIndex          RIX  \\\n",
       "0      49.23 ± 9.09    16.21 ± 2.06  50.35 ± 4.87  14.23 ± 1.56  6.07 ± 1.23   \n",
       "1      64.48 ± 5.17    12.55 ± 1.06  41.89 ± 2.76  12.31 ± 1.01  4.29 ± 0.52   \n",
       "2      64.06 ± 6.46    12.25 ± 1.36  41.34 ± 4.03  12.00 ± 0.91  4.08 ± 0.74   \n",
       "3      61.31 ± 7.94    12.93 ± 1.63  42.24 ± 4.62  13.64 ± 1.44  4.34 ± 0.92   \n",
       "4      53.37 ± 7.52    15.84 ± 1.54  48.06 ± 4.29  14.73 ± 1.17  5.53 ± 0.99   \n",
       "\n",
       "  DaleChallIndex  Excellence Rate (%)  \n",
       "0    7.37 ± 0.62                37.83  \n",
       "1    6.28 ± 0.40                61.67  \n",
       "2    6.35 ± 0.50                63.78  \n",
       "3    7.15 ± 0.58                56.61  \n",
       "4    7.82 ± 0.48                43.44  "
      ]
     },
     "execution_count": 37,
     "metadata": {},
     "output_type": "execute_result"
    }
   ],
   "source": [
    "import pandas as pd\n",
    "\n",
    "# Load the integrated evaluation results\n",
    "df = pd.read_csv('outputs/integrated_evaluation_results.csv')\n",
    "\n",
    "# Remove standard deviation (the value after the ±)\n",
    "\n",
    "\n",
    "# Display the table\n",
    "print(f\"Loaded table with {len(df)} models and {len(df.columns)} columns\")\n",
    "df"
   ]
  },
  {
   "cell_type": "markdown",
   "id": "7b159fdc",
   "metadata": {},
   "source": [
    "### - AlignScore"
   ]
  },
  {
   "cell_type": "code",
   "execution_count": 2,
   "id": "186c93c9",
   "metadata": {},
   "outputs": [
    {
     "name": "stdout",
     "output_type": "stream",
     "text": [
      "AlignScore using device: mps\n"
     ]
    }
   ],
   "source": [
    "# Import the AlignScore evaluator\n",
    "from alignscore_evaluator import AlignScoreEvaluator, get_alignscore\n",
    "\n",
    "# Initialize the evaluator once (to avoid reloading the model)\n",
    "alignscore_evaluator = AlignScoreEvaluator()"
   ]
  },
  {
   "cell_type": "markdown",
   "id": "4be9c31b",
   "metadata": {},
   "source": [
    "### - MeaningBERT"
   ]
  },
  {
   "cell_type": "code",
   "execution_count": 3,
   "id": "912be9a6",
   "metadata": {},
   "outputs": [],
   "source": [
    "meaning_bert = evaluate.load(\"davebulaval/meaningbert\")"
   ]
  },
  {
   "cell_type": "code",
   "execution_count": 4,
   "id": "cb7fbd04",
   "metadata": {},
   "outputs": [],
   "source": [
    "def get_meaningbert_score(predictions, references, model):\n",
    "  assert len(predictions) == len(references), \"The number of references is different of the number of predictions.\"\n",
    "  result=[]\n",
    "  for pred, ref in zip(predictions, references):\n",
    "        score = model.compute(predictions=[pred], references=[ref])\n",
    "        result.append(score[\"scores\"][0])\n",
    "  return round(np.mean(result)/100, 4)"
   ]
  },
  {
   "cell_type": "markdown",
   "id": "a44dcc0e",
   "metadata": {},
   "source": [
    "### - BERTScore"
   ]
  },
  {
   "cell_type": "code",
   "execution_count": 5,
   "id": "dc5bca67",
   "metadata": {},
   "outputs": [],
   "source": [
    "bertscore = evaluate.load(\"bertscore\")"
   ]
  },
  {
   "cell_type": "code",
   "execution_count": 6,
   "id": "d9562b00",
   "metadata": {},
   "outputs": [],
   "source": [
    "def get_bertscore(predictions, references, scorename=bertscore, scoretype=\"f1\",  modelname=None):\n",
    "  result = scorename.compute(references=references, predictions=predictions, lang=\"en\") # , model_type=modelname)\n",
    "  return round(np.mean(result[scoretype]), 4)"
   ]
  },
  {
   "cell_type": "markdown",
   "id": "33c0b798",
   "metadata": {},
   "source": [
    "### - Readability"
   ]
  },
  {
   "cell_type": "markdown",
   "id": "c0f2d413",
   "metadata": {},
   "source": [
    "## Loading texts"
   ]
  },
  {
   "cell_type": "markdown",
   "id": "62d2d3c7",
   "metadata": {},
   "source": [
    "### Original Abstracts"
   ]
  },
  {
   "cell_type": "code",
   "execution_count": null,
   "id": "45fd078f",
   "metadata": {},
   "outputs": [
    {
     "data": {
      "text/plain": [
       "[('CD015749.PUB2',\n",
       "  \"Multimodal interventions for cachexia management\\nBackground\\nCachexia (disease‐related wasting) is a complex metabolic syndrome which occurs in people with chronic illnesses, including cancer, HIV/AIDS, kidney disease, heart disease, and chronic obstructive pulmonary disease (COPD). People with cachexia experience unintentional weight loss, muscle loss, fatigue, loss of appetite, and reduced quality of life. Multimodal interventions which work synergistically to treat the syndrome could lead to benefits.\\n\\nObjectives\\nTo assess the benefits and harms of multimodal interventions aimed at alleviating or stabilising cachexia in people with a chronic illness.\\n\\nSearch methods\\nWe searched CENTRAL, MEDLINE, Embase, PsycINFO, and two trials registers in July 2024, together with reference checking, citation searching, and contact with study authors to identify studies.\\n\\nSelection criteria\\nWe included randomised controlled trials (RCTs) in adults with or at risk of cachexia, comparing multimodal interventions combining two or more modalities (of pharmacology, nutrition, exercise) to treatment as usual, variation of the intervention, or unimodal intervention.\\n\\nData collection and analysis\\nTwo review authors independently screened potentially eligible studies, extracted data, and assessed risk of bias (RoB 1). Primary outcomes were physical function, strength, and adverse events. Secondary outcomes were body composition and weight, quality of life (QoL), appetite, fatigue, and biochemical markers. We assessed the certainty of evidence with GRADE.\\n\\nMain results\\nWe included nine studies with 926 adults (mean age: 63 years). Study sample sizes ranged from 20 to 332 participants. Six studies were conducted in Europe, and one each in Turkey, New Zealand, and the USA. There were six studies in people with cancer, and one each in people with COPD, chronic kidney disease, and HIV/AIDS. We judged four studies to be at an overall high risk of bias, and five at an overall unclear risk. All outcomes in all comparisons had very low‐certainty evidence, downgraded once for risk of bias and/or indirectness and twice for imprecision.\\nMultimodal intervention (pharmacological, nutritional, and/or exercise) compared to treatment as usual\\nOne cancer study randomised 46 participants, with 41 included in all analyses except adverse events. The study assessed outcomes immediately after treatment, lasting six weeks. Compared to treatment as usual, there is no clear evidence for an effect of a multimodal intervention on: physical function (mean difference (MD) −16.10 m, 95% confidence interval (CI) −79.06 to 46.86; 41 participants); strength (MD 3.80 kg, 95% CI −3.21 to 10.81; 41 participants); adverse events (risk ratio (RR) 1.36, 95% CI 0.70 to 2.65; 46 participants); body composition (MD 7.89 cm2, 95% CI −10.43 to 26.21; 41 participants); weight (MD 5.89 kg, 95% CI −1.45 to 13.23; 41 participants); appetite (MD 0.68 points, 95% CI −0.60 to 1.96; 41 participants); fatigue (MD 0.12, 95% CI −1.05 to 1.29; 41 participants); and biochemical markers (MD 2%, 95% CI 0.99 to 3.01; 41 participants), but the evidence was very uncertain; QoL was not reported.\\nMultimodal intervention compared to variation of the intervention\\nThree cancer studies and one HIV/AIDS study randomised 192 participants. We could not use the available data, nor obtain additional data, from two studies (one in cancer, one in HIV/AIDS). The studies assessed outcomes immediately after treatment, ranging from three to seven months. Compared to a variation of the intervention, there is no clear evidence for an effect of a multimodal intervention on: physical function (MD 10.0 m, 95% CI −36.27 to 56.27; 1 study, 56 participants); strength (MD 0.7 kg, 95% CI −3.75 to 5.15; 1 study, 56 participants); adverse events (RR 0.87, 95% CI 0.38 to 2.02; P = 0.75, I2= 0%; 2 studies, 95 participants); body composition (MD −2.67 kg, 95% CI −5.89 to 0.54; P = 0.10, I2= 0%; 2 studies, 95 participants); weight (MD −2.47 kg, 95% CI −7.11 to 2.16; P = 0.30, I2= 0%; 2 studies, 95 participants); QoL (standardised mean difference (SMD) −0.15, 95% CI −0.55 to 0.26; P = 0.47, I2= 0%; 2 studies, 95 participants); appetite (SMD −0.34, 95% CI −1.27 to 0.59; P = 0.48, I2= 79%; 2 studies, 95 participants); fatigue (MD 6.40 points, 95% CI −1.10 to 13.90; 1 study, 56 participants); or biochemical markers (MD 9.80 pg/mL, 95% CI −6.25 to 25.85; P = 0.23, I2= 73%; 2 studies, 95 participants), but the evidence is very uncertain.\\nMultimodal intervention compared to unimodal intervention\\nWe included six studies (802 participants) in this comparison: three cancer studies, and one each in people with COPD, chronic kidney disease, and HIV/AIDS. The studies assessed outcomes immediately after treatment, ranging from three to seven months. We could not use the available data, nor obtain additional data, from the HIV/AIDS study. Compared to a unimodal intervention, there is no clear evidence for an effect of a multimodal intervention on: physical function (SMD 0.02, 95% CI −0.22 to 0.26; P = 0.86, I2= 0%; 2 studies, 348 participants); strength (SMD 0.23, 95% CI −0.81 to 1.27; P = 0.66, I2= 0%; 2 studies, 348 participants); adverse events (RR 0.87, 95% CI −0.43 to 1.73; P = 0.68, I2= 45%; 2 studies, 395 participants); body composition (SMD 0.11, 95% CI −0.28 to 0.50; P = 0.58, I2= 74%; 5 studies, 742 participants); body weight (SMD −0.02, 95% CI −0.38 to 0.33; P = 0.90, I2= 49%; 4 studies, 431 participants); QoL (SMD 0.22, 95% CI −0.29 to 0.73; P = 0.39, I2= 61%; 3 studies, 411 participants); appetite (SMD −0.09, 95% CI −0.58 to 0.40; P = 0.72, I2= 58%; 2 studies, 395 participants); fatigue (MD −6.80 points, 95% CI −12.44 to −1.17; 1 study, 244 participants); and biochemical markers (SMD 0.11, 95% CI −0.59 to 0.80; P = 0.76, I2= 79%; 3 studies, 411 participants), but the evidence is very uncertain.\\n\\nAuthors' conclusions\\nThe review found insufficient evidence to support or refute the use of multimodal interventions in managing cachexia. The certainty of the evidence was very low. Methodologically rigorous, well‐powered RCTs with adequate interaction times are needed to assess the effectiveness of multimodal interventions in managing cachexia across chronic illnesses.\"),\n",
       " ('CD013445.PUB2',\n",
       "  \"Percutaneous nephrolithotomy versus retrograde intrarenal surgery for treatment of renal stones in adults\\nBackground\\nKidney stones (also called renal stones) can be a source of pain, obstruction, and infection. Depending on size, location, composition, and other patient factors, the treatment of kidney stones can involve observation, shock wave lithotripsy, retrograde intrarenal surgery (RIRS; i.e. ureteroscopic approaches), percutaneous nephrolithotomy (PCNL), or a combination of these approaches.\\n\\nObjectives\\nTo assess the effects of percutaneous nephrolithotomy (PCNL) versus retrograde intrarenal surgery (RIRS) for the treatment of renal stones in adults.\\n\\nSearch methods\\nWe performed a comprehensive search of the Cochrane Library, MEDLINE, Embase, Scopus, and two trials registries up to 23 March 2023. We applied no restrictions on publication language or status.\\n\\nSelection criteria\\nWe included randomized controlled trials that evaluated PCNL (grouped by access size in French gauge [Fr] into three groups: ≥ 24 Fr [standard PCNL], 15–23 Fr [mini‐PCNL and minimally invasive PCNL], and < 15 Fr [ultra‐mini‐, mini‐micro‐, super‐mini‐, and micro‐PCNL]) versus RIRS.\\n\\nData collection and analysis\\nTwo review authors independently selected studies and extracted data from the included studies. Our primary outcomes were stone‐free rate, major complications, and need for secondary interventions. Our main secondary outcomes were unplanned medical visits to emergency/urgent care or outpatient clinic, length of hospital stay, ureteral stricture or injury, and quality of life. We performed statistical analyses using a random‐effects model. We rated the certainty of evidence using GRADE criteria. We adopted a minimally contextualized approach with predefined thresholds for minimal clinically important differences (MCIDs).\\n\\nMain results\\nWe included 42 trials assessing the effects of PCNL versus RIRS in 4571 randomized participants. Twenty‐two studies were published as full‐text articles, and 20 were published as abstract proceedings. The average size of stones ranged from 10.1 mm to 39.1 mm. Most studies did not report sources of funding or conflicts of interest. The main results for the most important outcomes are summarized below.\\nStone‐free rate\\nPCNL compared with RIRS may improve stone‐free rates (risk ratio [RR] 1.13, 95% confidence interval [CI] 1.08 to 1.18; I2= 71%; 39 studies, 4088 participants; low‐certainty evidence). Based on 770 participants per 1000 being stone‐free with RIRS, this corresponds to 100 more (62 more to 139 more) stone‐free participants per 1000 with PCNL (an absolute difference of 10%, where the predefined MCID was 5%).\\nMajor complications\\nPCNL compared with RIRS probably has little or no effect on major complications (RR 0.86, 95% CI 0.59 to 1.25; I2= 15%; 34 studies, 3649 participants; moderate‐certainty evidence). Based on 31 complications in the RIRS group, this corresponds to six fewer (13 fewer to six more) major complications per 1000 with PCNL (an absolute difference of 0.6%, where the predefined MCID was 2%).\\nNeed for secondary interventions\\nPCNL compared with RIRS may reduce the need for secondary interventions (RR 0.31, 95% CI 0.17 to 0.55; I2= 61%; 21 studies, 2005 participants; low‐certainty evidence). Based on 222 secondary interventions in the RIRS group, this corresponds to 153 fewer (185 fewer to 100 fewer) secondary interventions per 1000 with PCNL (an absolute difference of 15.3%, where the predefined MCID was 5%).\\nUnplanned medical visits\\nNo studies reported unplanned medical visits.\\nLength of hospital stay\\nPCNL compared with RIRS may extend length of hospital stay (mean difference 1.04 days more, 95% CI 0.27 more to 1.81 more; I2= 100%; 26 studies, 2804 participants; low‐certainty evidence). This effect size is greater than the predefined MCID of one day.\\nUreteral stricture or injury\\nPCNL compared with RIRS may have little or no effect on the occurrence of ureteral strictures (RR 0.93, 95% CI 0.39 to 2.21; I2= 0%; 13 studies, 1574 participants; low‐certainty evidence). Based on 14 ureteral strictures in the RIRS group, this corresponds to one fewer (nine fewer to 17 more) ureteral strictures per 1000 with PCNL (an absolute difference of 0.1%, where the predefined MCID was 2%).\\nQuality of life\\nNo studies reported quality of life.\\n\\nAuthors' conclusions\\nBased on a large body of evidence from 42 trials, we found that PCNL compared with RIRS may improve stone‐free rates and may reduce the need for secondary interventions, but probably has little or no effect on major complications. PCNL compared with RIRS may have little or no effect on ureteral stricture rates and may increase length of hospital stay. We found no evidence on unplanned medical visits or participant quality of life. Because of the considerable shortcomings of the included trials, the evidence for most outcomes was of low certainty.\\nAccess size for PCNL was less than 24 Fr in most studies that provided this information. We expect the findings of this review to be helpful for shared decision‐making about management choices for individuals with renal stones.\"),\n",
       " ('CD008472.PUB3',\n",
       "  \"Remote ischaemic preconditioning versus no remote ischaemic preconditioning for vascular and endovascular surgical procedures\\nBackground\\nDespite advances in perioperative care, elective major vascular surgical procedures still carry a significant risk of morbidity and mortality. Remote ischaemic preconditioning (RIPC) is the temporary blocking of blood flow to vascular beds remote from those targeted by surgery. It has the potential to provide local tissue protection from further prolonged periods of ischaemia. However, the efficacy and safety of RIPC in people undergoing major vascular surgery remain unknown. This is an update of a review published in 2011.\\n\\nObjectives\\nTo assess the benefits and harms of RIPC versus no RIPC in people undergoing elective major vascular and endovascular surgery.\\n\\nSearch methods\\nThe Cochrane Vascular Information Specialist searched the Cochrane Vascular Specialised Register, CENTRAL, MEDLINE, Embase, and CINAHL databases and the World Health Organization International Clinical Trials Registry Platform and ClinicalTrials.gov to 1 April 2022.\\n\\nSelection criteria\\nWe included all randomised controlled trials that evaluated the role of RIPC in reducing perioperative mortality and morbidities in people undergoing elective major vascular or endovascular surgery.\\n\\nData collection and analysis\\nWe collected data on the characteristics of the trial, methodological quality, and the remote ischaemic preconditioning stimulus used. Our primary outcome was perioperative mortality, and secondary outcomes included myocardial infarction, renal impairment, stroke, hospital stay, limb loss, and operating time or total anaesthetic time. We analysed the data using random‐effects models. For each outcome, we calculated the risk ratio (RR) or mean difference (MD) with a 95% confidence interval (CI) based on an intention‐to‐treat analysis. In addition, we used GRADE to assess the certainty of the evidence for each outcome.\\n\\nMain results\\nWe included 14 trials which randomised a total of 1295 participants (age range: 64.5 to 76 years; 84% male; study periods ranged from 2003 to 2019). In general, the included studies were at low to unclear risk of bias for most risk of bias domains. The certainty of evidence of main outcomes was moderate due to imprecision of results, moderate heterogeneity, or possible publication bias.\\nWe found that RIPC made no clear difference in perioperative mortality compared with no RIPC (RR 1.41, 95% CI 0.59 to 3.40; I2= 0%; 10 studies, 965 participants; moderate‐certainty evidence). Similarly, we found no clear difference between the two groups for myocardial infarction (RR 0.82, 95% CI 0.49 to 1.40; I2= 7%; 11 studies, 1001 participants; moderate‐certainty evidence), renal impairment (RR 1.07, 95% CI 0.62 to 1.86; I2= 40%; 12 studies, 1054 participants; moderate‐certainty evidence), stroke (RR 0.33, 95% CI 0.04 to 3.15; I2= 0%; 4 studies, 392 participants; moderate‐certainty evidence), limb loss (RR 0.74, 95% CI 0.05 to 10.61; I2= 32%; 3 studies, 322 participants; low‐certainty evidence), hospital stay (MD −0.94 day, 95% CI −1.95 to 0.07; I2= 17%; 7 studies, 569 participants; moderate‐certainty evidence), and operating time or total anaesthetic time (MD 5.76 minutes, 95% CI −3.25 to 14.76; I2= 44%; 10 studies, 803 participants; moderate‐certainty evidence).\\n\\nAuthors' conclusions\\nOverall, compared with no RIPC, RIPC probably leads to little or no difference in perioperative mortality, myocardial infarction, renal impairment, stroke, hospital stay, and operating time, and may lead to little or no difference in limb loss in people undergoing elective major vascular and endovascular surgery. Adequately powered and designed randomised studies are needed, focusing in particular on the clinical endpoints and patient‐centred outcomes.\")]"
      ]
     },
     "execution_count": 17,
     "metadata": {},
     "output_type": "execute_result"
    }
   ],
   "source": [
    "import os\n",
    "import glob\n",
    "\n",
    "# Load original results\n",
    "original = {}\n",
    "original_path = \"outputs/original\"\n",
    "\n",
    "# Get all JSON files in the original directory\n",
    "json_files = glob.glob(os.path.join(original_path, \"*.json\"))\n",
    "\n",
    "for json_file in json_files:\n",
    "    with open(json_file, 'r', encoding='utf-8') as f:\n",
    "        data = json.load(f)\n",
    "        # Extract cochrane_review_id and pls result\n",
    "        if 'cochrane_review_id' in data and 'pls' in data:\n",
    "            cochrane_review_id = data['cochrane_review_id']\n",
    "            abstract = data['title'] + '\\n' + data['abstract']\n",
    "            original[cochrane_review_id] = abstract\n",
    "\n",
    "# Print the first 3 key-value pairs\n",
    "list(original.items())[:3]"
   ]
  },
  {
   "cell_type": "markdown",
   "id": "662bd32e",
   "metadata": {},
   "source": [
    "### References or gold standard"
   ]
  },
  {
   "cell_type": "code",
   "execution_count": 18,
   "id": "99288686",
   "metadata": {},
   "outputs": [
    {
     "data": {
      "text/plain": [
       "[('CD015749.PUB2',\n",
       "  \"What are the benefits and risks of using a combination of treatments to manage cachexia (disease‐related wasting)?\\n\\nKey messages:\\n• We do not know if combinations of two or more treatments (of medication, diet, and exercise) benefit people who have or are at risk of developing cachexia (disease‐related wasting). This is because there are currently not enough robust studies in this area.\\n• We need future research to increase our confidence in the evidence by conducting better designed and larger studies.\\nWhat is cachexia?\\n\\nCachexia is a complex metabolic syndrome that occurs in people with long‐term illnesses (known as chronic illnesses), such as cancer, HIV/AIDS, chronic kidney disease, heart disease, and chronic obstructive pulmonary disease (COPD).\\nPeople who have cachexia may:\\n• lose weight unintentionally;• lose muscle;• feel tired, weak, or both;• lose their appetite.\\nCachexia affects well‐being and can be life‐threatening.\\nHow is cachexia treated?\\n\\nStudies are investigating how to best manage cachexia with different treatments. These treatments can include medications, diet, and exercise, provided in a single (unimodal) or combined (multimodal) treatment. It is thought that due to the complex biology of cachexia, a combination of treatments may work in a complementary way (synergistically) to help improve the symptoms associated with cachexia and people's well‐being, extend life, or both.\\nWhat did we want to find out?\\n\\nWe wanted to find out if combining at least two treatments (out of diet, exercise, and medication) helped to improve: physical function and strength; muscle loss; weight; well‐being; appetite; fatigue; and biological indicators within the blood (biochemical markers). We also wanted to find out if these interventions were associated with any unwanted or harmful (adverse) effects.\\nWhat did we do?\\n\\nWe searched for studies that compared treatment combinations of diet, exercise and/or medication (where at least two treatments were used together) to: different combinations of treatments; a single treatment; or treatment as usual (standard care) in adults with cachexia or at risk of developing cachexia. We compared and summarised the results of the included studies. We rated our confidence in the evidence based on factors such as study methods and the number of people included.\\nWhat did we find?\\n\\nWe found nine studies that included a total of 926 adults, with an average age of 63 years. Just over half of participants (57%) were men. Studies took place around the world, including Europe (six studies), Turkey (one study), New Zealand (one study), and the USA (one study). One study included people with HIV/AIDS (average age 43 years; 35 of 50 people in the study were men); one study included people with COPD (average age 72 years; 20 of 28 people in the study were men); and one study included people with chronic kidney disease (average age 70 years; 11 of 21 in the study were men). Six studies included people with cancer (average age 64 years; 461 of 893 people in the studies were men). The studies lasted six weeks to two years.\\nThe studies used combinations of treatments which could have included diet, exercise, and/or medication, where at least two treatments were used together, and compared these to:\\n• treatment as usual (1 study, 46 people);• different combinations of treatments (4 studies, 192 people);• a single treatment (6 studies, 802 people).\\nThe studies did not provide enough robust evidence to determine if multimodal interventions are associated with benefits or harms in people with or at risk of cachexia.\\nWhat are the limitations of the evidence?\\n\\nWe are not confident in the evidence because not all the studies provided information about everything that we were interested in. Additionally, the studies used different ways of measuring results, and most of the studies included only small numbers of people.\\nImportantly, future studies may change the conclusions of this review.\\nHow current is this review?\\n\\nThe evidence is current to June 2024.\"),\n",
       " ('CD013445.PUB2',\n",
       "  'Comparison of two treatment options for kidney stones\\n\\nWhat are kidney stones?\\n\\nKidney stones are collections of calcium‐containing material that are usually hard and can form in one or both kidneys. Kidney stones can form when high levels of certain minerals form crystals in the urinary tract. These stones can be as small as a grain of sand or as large as a pea. In rare cases they can be as big as golf balls. Small kidney stones may not cause symptoms or severe pain. Larger stones can block urine from leaving the kidney.\\nHow are kidney stones treated?\\n\\nPeople with large kidney stones often need treatment. Two common ways to treat them are called percutaneous nephrolithotomy (PCNL) and retrograde intrarenal surgery (RIRS). PCNL involves placing a small tube from the skin into the kidney and then using different instruments to break up and remove the stones. RIRS involves placing a long viewing tube through the urethra (the tube connecting the bladder to the outside of the body) and the ureter (the tube connecting the bladder and the kidney) into the kidney, then using different instruments to break up and remove the stones. It is unclear how the two treatments compare.\\nWhat did we want to find out?\\n\\nWe wanted to know if PCNL was better than RIRS for treating kidney stones. We were mainly interested in the following results.\\n• Complete removal of stones• Serious complications• Need for another procedure to remove stones• Unplanned medical visits• Length of hospital stay• Narrowing (stricture) of or injury to the ureter• Quality of life\\nWhat did we do?\\n\\nWe searched for studies that compared PCNL with RIRS in adults with kidney stones of any size and located in any part of the kidney. We compared and summarized the results of the studies and rated our confidence in the evidence, based on factors such as study methods and sizes.\\nWhat did we find?\\n\\nWe found 42 studies that randomly allocated participants to either PCNL or RIRS. There were 4571 participants in total. The average age of participants was between 27.7 years and 59.3 years, and the average stone size was between 10.1 mm and 39.1 mm.\\nMain results\\nWe found that compared with people treated with RIRS, people treated with PCNL may be more likely to be free of stones after the procedure and less likely to need another procedure to remove remaining stones. PCNL probably does not increase the risk of serious complications, although it may result in a longer hospital stay. We also found that people treated with PCNL may be no more likely to have a stricture of the ureter than people treated with RIRS. We did not find any evidence for unplanned medical visits or quality of life.\\nWhat are the limitations of the evidence?\\n\\nWe have little confidence in the evidence for most results, mainly because the studies were not well planned or carried out and because the results varied considerably across studies.\\nHow up to date is this evidence?\\n\\nThe findings of this review are up to date to 23 March 2023.'),\n",
       " ('CD008472.PUB3',\n",
       "  \"Do short periods of artificially blocking blood flow to the limbs in people undergoing vascular surgery reduce death and organ injury?\\n\\nKey messages\\n• We found that performing short periods of limb blood flow obstruction by inflating a blood pressure cuff before surgery (remote ischaemic preconditioning, RIPC) probably does not reduce deaths, organ injury, duration of hospital stay, or operating time in people undergoing vascular surgery (e.g. a treatment method to repair narrowing or swelling of an artery).\\n• Larger, well‐designed studies with patient‐centred outcomes, such as quality of life, are needed to better estimate the benefits and potential harms of RIPC for people undergoing vascular surgery.\\nWhat is remote ischaemic preconditioning?\\n\\nAs the population ages, more people will experience vascular disease or artery disease, narrowing due to the build‐up of fatty deposits or balloon‐like bulging of arteries. As an essential treatment strategy for severe artery disease, vascular surgery removes the deposits or repairs the bulge, but this carries an increased risk of death and complications. The high risk of surgery is mainly due to the obstruction and subsequent restoring of blood flow involved in the vascular surgery procedure, also known as 'ischaemia‐reperfusion injury'. Several approaches have been used to reduce the surgery risk, but have obtained limited effect.\\nThe temporary blockage (by a few minutes) of blood flow to an organ can reduce injury in that organ (local ischaemic preconditioning) but may also reduce damage in other organs (remote ischaemic preconditioning, RIPC). Generally, RIPC is performed by frequently inflating and deflating using a blood pressure cuff placed on the upper arm or leg. As a safe and easy method, the effect of RIPC has been proven to prevent organ damage for heart surgery in animal studies.\\nWhat did we want to find out?\\n\\nWe wanted to find out whether RIPC versus no RIPC can reduce death and organ injury in people undergoing vascular surgery, and if it may cause any harm.\\nWhat did we do?\\n\\nWe searched for studies that looked at RIPC in people undergoing vascular surgery. We included studies with a randomised design (where people are randomly assigned to one of two or more treatment groups) that compared RIPC with no RIPC. We compared and summarised the results of the included studies and rated our confidence in the evidence, based on factors such as study methods and sizes.\\nWhat did we find?\\n\\nWe found 14 studies including 1295 people from the UK, Ireland, Estonia, Spain, China, the USA, Singapore, and New Zealand. The average age ranged from 65 to 76 years. The majority of the participants (84%) were men. The overall methodological quality of the studies was acceptable.\\nIn people undergoing vascular surgery, compared to no RIPC:\\n• RIPC probably leads to little or no difference in death (10 studies, 965 people), heart attack (11 studies, 1001 people), kidney injury (12 studies, 1054 people), and stroke (4 studies, 392 people), and may lead to little or no difference in limb loss (3 studies, 322 people); and\\n• RIPC probably leads to little or no difference in hospital stay (7 studies, 569 people) and operating time (10 studies, 803 people).\\nWhat are the limitations of the evidence?\\n\\nOur confidence in our findings is only moderate due to concerns about the following factors: firstly, the evidence was based on a few cases such as for death and limb loss, and some studies were small; secondly, the studies used different methods to detect outcomes such as kidney injury; and finally, for some results, such as heart attack, some of the studies conducted in the area have not made their results public yet, preventing an objective picture of all the available evidence (publication bias). The results of further research may differ from the results of this review, which means our conclusions could change as more research is reported.\\nHow up‐to‐date is this evidence?\\n\\nThis review updates a previous Cochrane Review. The evidence is current to 1 April 2022.\")]"
      ]
     },
     "execution_count": 18,
     "metadata": {},
     "output_type": "execute_result"
    }
   ],
   "source": [
    "import os\n",
    "import glob\n",
    "\n",
    "# Load references results\n",
    "references = {}\n",
    "references_path = \"outputs/original\"\n",
    "\n",
    "# Get all JSON files in the references directory\n",
    "json_files = glob.glob(os.path.join(references_path, \"*.json\"))\n",
    "\n",
    "for json_file in json_files:\n",
    "    with open(json_file, 'r', encoding='utf-8') as f:\n",
    "        data = json.load(f)\n",
    "        # Extract cochrane_review_id and pls result\n",
    "        if 'cochrane_review_id' in data and 'pls' in data:\n",
    "            cochrane_review_id = data['cochrane_review_id']\n",
    "            pls_result = data['pls']\n",
    "            references[cochrane_review_id] = pls_result\n",
    "\n",
    "# Print the first 3 key-value pairs\n",
    "list(references.items())[:3]"
   ]
  },
  {
   "cell_type": "markdown",
   "id": "65e256eb",
   "metadata": {},
   "source": [
    "### Baseline (simple LLM with a single one prompt)"
   ]
  },
  {
   "cell_type": "code",
   "execution_count": 19,
   "id": "1f218b46",
   "metadata": {},
   "outputs": [
    {
     "data": {
      "text/plain": [
       "[('CD015749.PUB2',\n",
       "  \"Plain Language Summary Title\\nCan combining different treatments help people with cachexia?\\n\\nKey Messages\\n– Cachexia is a condition that causes serious weight loss, muscle loss, and tiredness. It can happen to people with long-term illnesses like cancer or heart disease.\\n– We looked at studies that combined different types of treatments for cachexia, such as medicines, diet changes, and exercise programs.\\n– We do not know if using a combination of treatments helps or harms people with cachexia. The studies we found were too small and had problems in how they were done, so we are very uncertain about the results.\\n\\nWhat is cachexia?\\nCachexia is a serious condition that is sometimes called 'wasting syndrome'. It causes people to lose a lot of weight and muscle, even if they are still eating. It is not the same as normal weight loss.\\n\\nCachexia happens to people who have long-term (chronic) illnesses, such as cancer, heart failure, kidney disease, or HIV/AIDS. People with cachexia often feel very tired, lose their appetite, and have a lower quality of life.\\n\\nWhat did we want to find out?\\nWe wanted to find out if using a combination of treatments is better than usual care or just one treatment for people with cachexia.\\n\\nWe were interested in how these combined treatments affected:\\n– physical ability (for example, how far someone can walk)\\n– muscle strength\\n– body weight and muscle mass\\n– quality of life\\n– appetite\\n– tiredness (fatigue)\\n– any unwanted effects\\n\\nWhat did we do?\\nWe searched for studies that compared combined treatments with usual care, a different version of the combined treatment, or a single treatment. The combined treatments included at least two of the following: medicines, special diets or supplements, and exercise.\\n\\nThe studies included adults with cachexia caused by a long-term illness. We compared and summarized the results of the studies and rated our confidence in the evidence, based on factors such as study methods and sizes.\\n\\nWhat did we find?\\nWe found 9 studies that included a total of 926 people. Most people in the studies had cancer, but some had other long-term illnesses. The studies lasted from six weeks to seven months.\\n\\nThe studies compared combined treatments to:\\n– usual care\\n– a different combination of treatments\\n– a single treatment (like only exercise or only diet changes)\\n\\nOur review of these studies found that it is unclear if combined treatments make any difference to people's physical ability, strength, body weight, appetite, or tiredness. It was also unclear if they caused any unwanted effects. The results from the studies were not clear enough to show a benefit or harm.\\n\\nWhat are the limitations of the evidence?\\nWe have very little confidence in the evidence we found.\\n\\nThis is because most of the studies were very small. There were also problems with how some of the studies were carried out, which could make their results less reliable. Because of these limitations, we cannot be certain about the effects of combined treatments for cachexia. More and better research is needed.\\n\\nHow up to date is this evidence?\\nThe evidence is up to date to July 2024.\"),\n",
       " ('CD013445.PUB2',\n",
       "  \"Which surgery is better for treating kidney stones in adults: PCNL or RIRS?\\n\\nKey messages\\n\\n– For adults with kidney stones, a surgery called percutaneous nephrolithotomy (PCNL), where a surgeon makes a small cut in the back to reach the kidney, may be better at removing all the stone pieces than a surgery called retrograde intrarenal surgery (RIRS), where a surgeon uses a thin camera passed up through the body's natural urinary tubes.\\n\\n– People who have PCNL may also be less likely to need a second surgery to remove leftover stones.\\n\\n– PCNL probably makes little to no difference in the risk of serious problems compared to RIRS, but it may mean staying in the hospital for about one day longer. Our confidence in these results is limited because of how the studies were done.\\n\\nWhat are kidney stones?\\n\\nKidney stones are hard, pebble-like pieces of material that form in one or both kidneys when there are high levels of certain minerals in the urine. They can be as small as a grain of sand or as large as a golf ball.\\n\\nWhile small stones may pass out of the body in the urine without causing problems, larger stones can get stuck. This can block the flow of urine and cause severe pain, bleeding, or infections.\\n\\nHow are kidney stones treated?\\n\\nThere are several ways to treat kidney stones, depending on their size and where they are located. This review looked at two types of surgery for larger stones inside the kidney.\\n\\n– Percutaneous nephrolithotomy (PCNL): For this surgery, a surgeon makes a small cut in the person's back. They then create a narrow tunnel directly into the kidney and use special instruments to break up and remove the stone.\\n\\n– Retrograde intrarenal surgery (RIRS): For this surgery, a surgeon passes a very thin, flexible tube with a camera on the end (a scope) through the body's natural urinary opening. They guide the scope up to the kidney and use a laser to break the stone into tiny pieces. These small pieces can then pass out of the body in the urine.\\n\\nWhat did we want to find out?\\n\\nWe wanted to find out which surgery, PCNL or RIRS, is better and safer for treating kidney stones in adults.\\n\\nWe were interested in several things, including:\\n– how well each surgery cleared all the stones\\n– the risk of serious problems or unwanted effects\\n– whether people needed another surgery later\\n– how long people stayed in the hospital\\n– damage to the ureter (the tube that carries urine from the kidney to the bladder)\\n– people's quality of life after surgery\\n\\nWhat did we do?\\n\\nWe searched for studies that compared PCNL with RIRS in adults with kidney stones. We compared and summarized the results of the studies and rated our confidence in the evidence, based on factors such as study methods and sizes.\\n\\nWhat did we find?\\n\\nWe found 42 studies that included 4571 adults with kidney stones.\\n\\nCompared with RIRS, PCNL may be better at getting rid of all the stone pieces. People who had PCNL may also be less likely to need a second surgery.\\n\\nPCNL probably makes little to no difference in the risk of having a serious problem during or after surgery. It also may not affect the risk of damage to the ureter. However, people who had PCNL may stay in the hospital for about one day longer than people who had RIRS.\\n\\nThe studies did not give us any information about how the surgeries affected people's quality of life or whether they needed unplanned visits to a doctor or hospital after going home.\\n\\nWhat are the limitations of the evidence?\\n\\nOur confidence in the evidence is limited. This is because many of the studies we found had problems in how they were designed and carried out. For example, some studies were very small. This means we cannot be certain about the results, and future research might lead to different conclusions.\\n\\nHow up to date is this evidence?\\n\\nThe evidence is up to date to March 2023.\"),\n",
       " ('CD008472.PUB3',\n",
       "  \"Remote ischaemic preconditioning for people having major surgery on their blood vessels\\n\\nKey messages\\n\\n– Remote ischaemic preconditioning (RIPC) is a technique where blood flow to a limb, like an arm, is temporarily stopped and restarted a few times before surgery. This is done using a cuff, similar to one used for taking blood pressure.\\n\\n– For people having planned major surgery on their blood vessels, RIPC probably makes little to no difference to the risk of dying during or soon after surgery.\\n\\n– RIPC also probably makes little to no difference to the risk of having a heart attack, kidney problems, or a stroke after the surgery.\\n\\nWhat is major blood vessel surgery?\\n\\nMajor blood vessel surgery, also called vascular surgery, is an operation to fix problems in the body's main arteries and veins. These problems can include blockages that stop blood from flowing properly or weak spots in a blood vessel wall that bulge outwards.\\n\\nThese are serious operations that carry risks of major problems, including heart attack, stroke, or even death. Researchers are looking for ways to make these surgeries safer for patients.\\n\\nWhat did we want to find out?\\n\\nWe wanted to find out if using remote ischaemic preconditioning (RIPC) before major blood vessel surgery helps to protect people from harm.\\n\\nWe compared people who received RIPC before their surgery with people who did not receive it. We were interested in the effects on:\\n\\n– death during or soon after surgery\\n– heart attack\\n- kidney problems\\n– stroke\\n– loss of a limb\\n– how long people stayed in the hospital\\n– how long the surgery took\\n\\nWhat did we do?\\n\\nWe searched for studies that looked at remote ischaemic preconditioning compared with no preconditioning in people having planned major blood vessel surgery.\\n\\nWe compared and summarized the results of the studies and rated our confidence in the evidence, based on factors such as study methods and sizes.\\n\\nWhat did we find?\\n\\nWe found 14 studies that included a total of 1295 people. Most of the people in the studies were men, and their average age was around 70 years old.\\n\\nWe found that using RIPC before surgery probably makes little to no difference to the number of people who die during or shortly after their operation.\\n\\nThe evidence also suggests that RIPC probably makes little to no difference in the risk of having a heart attack, kidney problems, or a stroke. It also likely does not affect how long people stay in the hospital or how long their surgery lasts.\\n\\nWe are less certain about the effect of RIPC on the risk of losing a limb, but it may also make little to no difference.\\n\\nWhat are the limitations of the evidence?\\n\\nOur confidence in the results is moderate for most outcomes. This is mainly because some of the studies were small. When we combined their results, the findings were not very precise. This means the true effect of RIPC could be different from what the studies found.\\n\\nFor some outcomes, like limb loss, we are less confident because there were only a few studies that looked at them. More well-designed studies are needed to be more certain about the effects of RIPC.\\n\\nHow up to date is this evidence?\\n\\nThe evidence is up to date to April 2022.\")]"
      ]
     },
     "execution_count": 19,
     "metadata": {},
     "output_type": "execute_result"
    }
   ],
   "source": [
    "# Load baseline results\n",
    "baseline = {}\n",
    "baseline_path = \"outputs/baseline\"\n",
    "\n",
    "# Get all JSON files in the baseline directory\n",
    "json_files = glob.glob(os.path.join(baseline_path, \"*.json\"))\n",
    "\n",
    "for json_file in json_files:\n",
    "    with open(json_file, 'r', encoding='utf-8') as f:\n",
    "        data = json.load(f)\n",
    "        # Extract cochrane_id and response\n",
    "        if 'cochrane_id' in data and 'response' in data and 'output' in data['response']:\n",
    "            cochrane_id = data['cochrane_id']\n",
    "            response = data['response']['output']\n",
    "            baseline[cochrane_id] = response\n",
    "\n",
    "# Print the first 3 key-value pairs\n",
    "list(baseline.items())[:3]"
   ]
  },
  {
   "cell_type": "markdown",
   "id": "0ab6ada6",
   "metadata": {},
   "source": [
    "### Gemini 2.5 Pro"
   ]
  },
  {
   "cell_type": "code",
   "execution_count": 20,
   "id": "ac1b07cd",
   "metadata": {},
   "outputs": [
    {
     "data": {
      "text/plain": [
       "[('CD015749.PUB2',\n",
       "  \"Can combining treatments like medicine, diet, and exercise help people with cachexia (severe weight and muscle loss from long-term illness)?\\n\\nKey messages\\n- We do not know if combining treatments like medicine, diet, and exercise helps people with cachexia (severe weight and muscle loss from long-term illness). There was not enough good-quality evidence to be certain about the benefits or unwanted effects of these combined treatments.\\n- Better-designed studies that include more people and last long enough are needed to find out if combining treatments can help manage cachexia.\\n\\nWhat is cachexia?\\nPeople with long-term illnesses such as cancer, HIV/AIDS, kidney disease, and heart disease can develop a condition called cachexia. People with cachexia have severe, unintentional weight loss, including the loss of muscle. They may also have tiredness, loss of appetite, and a lower quality of life (how they feel and function day to day). Because cachexia has many causes, treatments that combine 2 or more approaches (known as 'multimodal treatments') may be helpful. These treatments might include a combination of medicines, diet support, and exercise programmes.\\n\\nWhat did we want to find out?\\nWe wanted to find out if using multimodal treatments helps to improve or stabilise cachexia in adults with a long-term illness. We also wanted to know if these treatments cause any unwanted effects.\\n\\nWhat did we do?\\nWe searched for studies that compared treatments combining 2 or more approaches (such as medicine, diet, or exercise) with usual care or a single treatment for people with cachexia. We then combined and summarized the findings from these studies and rated our confidence in the evidence.\\n\\nWhat did we find?\\nWe found 9 studies with a total of 926 adults. The average age of people in the studies was 63 years. They had various long-term illnesses causing cachexia, including cancer (6 studies), COPD (a long-term lung disease that makes it hard to breathe), chronic kidney disease (a condition where the kidneys are damaged and cannot filter blood properly), and HIV/AIDS (1 study each). The studies took place in Europe (6 studies), Turkey, New Zealand, and the USA. The treatments in the studies lasted from 6 weeks to 7 months.\\n\\nThe studies compared combined treatments against usual care or a single type of treatment.\\n\\nFor all the results we measured, including physical function, strength, body weight, and quality of life (how people feel and function day to day), we do not know if combination treatments have an effect. The evidence we found is not enough to either support or oppose the use of these combination treatments for managing cachexia.\\n\\nWhat are the limitations of the evidence?\\nWe are not confident in the evidence for several reasons. It is possible that people in the studies were aware of which treatment they were getting. Also, the studies did not include all the types of people or results we were interested in, and the studies were very small.\\n\\nHow up to date is this evidence?\\nThe evidence is up to date to July 2024.\"),\n",
       " ('CD013445.PUB2',\n",
       "  \"For adults with kidney stones, which surgery is better: surgery through a small cut in the back (percutaneous nephrolithotomy, or PCNL) or surgery using a thin tube passed through the urinary tract (retrograde intrarenal surgery, or RIRS)?\\n\\nKey messages\\n- Surgery through the back (PCNL) may be better at clearing stones and may reduce the need for more procedures compared to surgery through the urinary tract (RIRS).\\n- However, PCNL may lead to a longer hospital stay. There is probably little to no difference in the risk of major complications (unwanted medical problems) between the two types of surgery.\\n- We are not certain about these findings because of weaknesses in the studies we found. Future research should examine how these treatments affect a person's quality of life (their overall enjoyment of life) and whether they lead to unplanned medical visits.\\n\\nWhat are kidney stones and how are they treated?\\nKidney stones are hard deposits that form inside the kidneys. They can cause severe pain, block the flow of urine, and lead to infections. When stones are too large to pass on their own, surgery may be needed. This review compares 2 types of surgery for removing kidney stones in adults.\\n- Percutaneous nephrolithotomy (PCNL) is a procedure where a surgeon makes a small cut in the back and inserts a tube directly into the kidney to break up and remove the stone.\\n- Retrograde intrarenal surgery (RIRS) involves passing a thin, flexible telescope through the body's natural urinary passages to the kidney. The surgeon then uses a laser to break up the stone and removes the pieces.\\n\\nWhat did we want to find out?\\nWe wanted to find out how PCNL and RIRS compare for treating kidney stones in adults. We were interested in which procedure was better at completely removing the stones, had a lower risk of serious complications (unwanted medical problems), and was less likely to require more treatments.\\n\\nWhat did we do?\\nWe searched for studies that compared the 2 surgical procedures. We then combined the results of these studies and rated our confidence in the evidence.\\n\\nWhat did we find?\\nWe included 42 studies involving 4571 adults with kidney stones. The average stone size ranged from 10.1 mm to 39.1 mm. Most studies did not report their sources of funding. We found no studies that reported on unplanned medical visits or people's quality of life (their overall enjoyment of life).\\n\\nMain results\\nCompared with RIRS, PCNL may increase the number of people who are free of stones after surgery. It may also greatly reduce the need for additional procedures to remove stones. For every 1000 people treated, PCNL may result in 100 more people becoming stone-free and may lead to 153 fewer additional procedures.\\nHowever, PCNL may increase the length of a hospital stay by about 1 day.\\nPCNL probably makes little to no difference to the number of major complications (unwanted medical problems). It may also make little to no difference to the risk of injury to the ureter (the tube that carries urine from the kidney to the bladder).\\n\\nWhat are the limitations of the evidence?\\nWe have little confidence in the evidence for a few reasons. The studies did not always provide data about everything we were interested in. Also, the studies were done in different types of people or used different ways of performing the treatments.\\n\\nHow up to date is this evidence?\\nThe evidence is up to date to March 2023.\"),\n",
       " ('CD008472.PUB3',\n",
       "  \"Remote ischaemic preconditioning for vascular and endovascular surgery\\n\\nKey messages\\n- For people having major surgery on their blood vessels, a procedure to temporarily restrict blood flow to a limb (remote ischaemic preconditioning) probably makes little to no difference to the risk of death or serious complications like a heart attack, kidney problems, or stroke.\\n- We need better and larger studies to be more certain about the effects of this procedure on outcomes that are important to patients, such as their quality of life.\\n\\nWhy is major surgery on blood vessels risky?\\nEven with improvements in medical care, major surgery on blood vessels (the body's arteries and veins) still carries a significant chance of serious complications or death. During these operations, the blood supply to parts of the body can be temporarily reduced, which can damage vital organs.\\n\\nWhat is remote ischaemic preconditioning?\\nRemote ischaemic preconditioning (RIPC) is a technique that may help protect the body during surgery. It involves temporarily and repeatedly stopping the blood flow to a limb, like an arm or leg, using a cuff similar to a blood pressure cuff. This is done before the main operation. The theory is that these short periods of reduced blood flow can trigger the body's own defence mechanisms, helping to protect important organs from damage during the surgery.\\n\\nWhat did we want to find out?\\nWe wanted to find out about the benefits and harms of using RIPC for people having major surgery on their blood vessels. We compared people who received RIPC before their surgery with those who did not. We wanted to see if RIPC made a difference to their risk of death, heart attack, kidney damage, stroke, or other complications.\\n\\nWhat did we do?\\nWe searched for studies called randomised controlled trials. In these studies, people are randomly (by chance) put into one of two or more treatment groups. We looked for trials that compared RIPC with no preconditioning in people having major surgery on their blood vessels. We then combined the results from the studies and rated our confidence in the evidence.\\n\\nWhat did we find?\\nWe found 14 studies with a total of 1295 people having major surgery on their blood vessels. The participants' ages ranged from 64.5 to 76 years, and 84% were male. The studies took place between 2003 and 2019. Our findings show that for people having this type of surgery, RIPC probably makes little to no difference to the risk of death around the time of the operation. It also likely makes little to no difference to the risk of heart attack, kidney problems, or stroke. Furthermore, it does not seem to affect the length of the hospital stay, the duration of the operation, or the risk of losing a limb.\\n\\nWhat are the limitations of the evidence?\\nOur confidence in the evidence is only moderate. This is because there were not enough studies to be certain about the results. The studies also used different methods for the preconditioning procedure. Finally, it is possible that studies with positive results were more likely to be published than those with negative results (a problem known as publication bias), which could create a misleading impression of the benefits.\\n\\nHow up to date is this evidence?\\nThis review updates a previous version. The evidence is up to date to April 2022.\")]"
      ]
     },
     "execution_count": 20,
     "metadata": {},
     "output_type": "execute_result"
    }
   ],
   "source": [
    "# Load Gemini results\n",
    "gemini = {}\n",
    "gemini_path = \"outputs/gemini\"\n",
    "\n",
    "# Get all JSON files in the gemini directory\n",
    "json_files = glob.glob(os.path.join(gemini_path, \"*.json\"))\n",
    "\n",
    "for json_file in json_files:\n",
    "    with open(json_file, 'r', encoding='utf-8') as f:\n",
    "        data = json.load(f)\n",
    "        # Extract cochrane_id and response\n",
    "        if 'cochrane_id' in data and 'response' in data and 'output' in data['response']:\n",
    "            cochrane_id = data['cochrane_id']\n",
    "            response = data['response']['output']\n",
    "            gemini[cochrane_id] = response\n",
    "\n",
    "# Print the first 3 key-value pairs\n",
    "list(gemini.items())[:3]"
   ]
  },
  {
   "cell_type": "markdown",
   "id": "2c21482b",
   "metadata": {},
   "source": [
    "### GPT-5"
   ]
  },
  {
   "cell_type": "code",
   "execution_count": 21,
   "id": "5f98e240",
   "metadata": {},
   "outputs": [
    {
     "data": {
      "text/plain": [
       "[('CD015749.PUB2',\n",
       "  'Title\\nDo combined treatments (medicine, nutrition, and exercise) work better than usual care or a single treatment for people with cachexia (a condition with severe, unintentional weight loss, including loss of muscle and fat, often due to long-term illness)?\\n\\nKey messages\\n- We found too little good evidence to say if programs that combine medicine, nutrition support, and exercise work better than usual care (the standard care people would normally get) or a single treatment. Short-term effects on daily function, muscle strength, weight, symptoms, and overall wellbeing (quality of life: how someone feels and works day to day) were unclear. Side effects or harms (adverse events: an unwanted event that causes harm) were tracked but did not show clear differences.\\n- Most trials were small and short (treatment lasted 6 weeks to about 3–7 months). They used different mixes and doses of medicine, nutrition (how the body takes in and uses food and nutrients), and exercise. Six trials were in people with cancer (a group of diseases where cells grow out of control); 1 trial each was in COPD (a long-term lung disease), chronic kidney disease (when the kidneys are damaged and work poorly), and HIV/AIDS (HIV: the virus that causes AIDS; AIDS: the disease from HIV). These differences make it hard to know which mix helps which people.\\n- Future trials should be larger and run longer. They should test clear, repeatable combined programs, compare them with usual care and single treatments, measure what matters to people (daily function, strength, weight, appetite: desire for food, fatigue: extreme tiredness, and quality of life), and keep careful records of harms (side effects).\\n\\nWhat is cachexia and why does it matter?\\nCachexia (pronounced ka-KEK-see-uh) is a wasting problem linked to long-term (chronic: long-lasting) illness. People lose weight and muscle without trying. They feel weak, often eat less, and may have lower quality of life. Cachexia occurs with illnesses such as cancer, heart disease (diseases of the heart or blood vessels), COPD, chronic kidney disease, and HIV/AIDS.\\n\\nWhat are combined treatments for cachexia?\\nCombined treatments join two or more kinds of care (interventions: actions or treatments to prevent or treat disease). Most combine medicine, food support, and exercise. The hope is the parts work together to give more benefit than each alone (synergistically: work together to give a bigger benefit than alone). Examples are high-protein food or supplements, resistance exercise to keep muscle, and medicines to boost appetite or lower inflammation. We use “combined” after this.\\n\\nWhat did we want to find out?\\nWe asked if combined care helps adults with, or at risk of (having a significant chance of getting), cachexia. We looked for changes in daily physical function, strength, body weight and body composition (the amounts of muscle and fat), appetite, fatigue, quality of life, blood tests (biochemical markers: substances in blood that show disease or response to treatment), and harms.\\n\\nHow did we do the review?\\nWe searched medical databases and trial registers to July 2024 for randomized trials (studies where people are put by chance into different groups to reduce bias). We pulled together results and, when possible, combined them. We then rated how much we trust the evidence using GRADE (a system that shows how trustworthy the evidence is).\\n\\nWhat did we find?\\nWe found 9 randomized trials with 926 adults (average age 63). Six trials were in people with cancer. One trial each was in COPD, chronic kidney disease, and HIV/AIDS. Trials ran in Europe (6), Turkey (1), New Zealand (1), and the USA (1). Trial sizes were 20 to 332 people. Treatments combined 2 or more parts and were compared with usual care, a single part, or a different combined program. Treatment time was 6 weeks to about 3–7 months. Outcomes were measured at the end of treatment. No trials gave longer-term follow-up. Two trials did not provide usable data.\\n\\nHow sure are we about the results?\\nWe are very uncertain. The overall evidence is very low certainty by GRADE. We do not know if combined programs help daily function, strength, weight, appetite, fatigue, quality of life, or blood tests. We also do not know if they change harms (side effects).\\n\\nWhat were the main problems with the evidence?\\n- Small and short trials. Small trials can miss real effects.  \\n- Risk of bias. People may have known which treatment they got. This can skew results. We judged 4 trials at high risk of bias and 5 trials at unclear risk.  \\n- Big differences between trials. They used different mixes, doses, and ways to measure results. This makes it hard to combine findings.\\n\\nWhat should happen next?\\nResearchers should run larger, longer, well-planned trials. They should test clear, repeatable combined programs. Trials should compare combined care with usual care and with single treatments. They should measure outcomes that matter to people and keep careful records of side effects and harms.\\n\\nCurrency\\nSearches are up to date to July 2024.'),\n",
       " ('CD013445.PUB2',\n",
       "  'Title: Which is better for kidney stones in adults: PCNL (small cut in the back) or RIRS (scope passed up the urinary tract)?\\n\\nKey messages\\n- We found PCNL (percutaneous nephrolithotomy: percutaneous = through the skin; nephrolithotomy = removing a kidney stone) may clear stones more often (stone-free = no visible stone pieces on follow-up scans) than RIRS (retrograde intrarenal surgery: retrograde = moving up the urinary tract; intrarenal = inside the kidney). This is low‑certainty evidence, so we are unsure.\\n- We found PCNL probably causes about the same number of serious problems (major complications = serious problems that need major treatment or cause lasting harm) as RIRS. PCNL may mean about 1 day longer in hospital on average (mean difference = average extra days in hospital).\\n- We found no information on unplanned medical visits (unexpected return trips to clinic or the emergency department) or on how people felt and functioned day to day (quality of life = how someone feels and functions). We are cautious because the studies had important limits.\\n\\nWhat are kidney stones and why do they matter?\\nKidney stones are hard deposits that form in the kidneys. They can move into the ureter (the tube that carries urine from the kidney to the bladder). Stones can cause severe pain, block urine flow (obstruction = a blockage), or cause infection (infection = germs growing in the body). Small stones can pass on their own. Larger or hard‑to‑reach stones often need a procedure to break or remove them.\\n\\nWhat are RIRS and PCNL?\\n- RIRS uses a thin, flexible scope passed in through the urethra and bladder, up the ureter, and into the kidney. Surgeons usually break the stone with a laser and remove or let pieces pass.\\n- PCNL is a keyhole operation done through a small cut in the back. Surgeons make a tunnel into the kidney and pass instruments to break and remove the stone. Many trials used smaller PCNL tubes (<24 Fr; French gauge = a measure of tube size; 1 Fr = 0.33 mm).\\n\\nWhat did we want to find out?\\nWe compared PCNL and RIRS in adults with kidney stones. We asked which clears stones better, which causes more serious problems, whether people need extra procedures, how long people stay in hospital, if people make unplanned medical visits, and how treatments affect quality of life.\\n\\nHow did we do the review?\\nWe searched major databases and trial registries to March 2023. This included MEDLINE, Embase, and the Cochrane Library (trusted sources of medical studies). We looked for randomized controlled trials (RCTs = studies where people are randomly assigned to different treatments). We combined results and used GRADE (a system to say how sure we are about the findings).\\n\\nWhat did we find?\\n- We included 42 RCTs with 4,571 adults. Stone sizes ranged from about 10 mm to 39 mm. Twenty‑two studies were full articles and 20 were conference abstracts.\\n- PCNL may increase the chance of being stone‑free compared with RIRS (low‑certainty evidence).\\n- PCNL probably makes little or no difference to major complications when compared with RIRS (moderate‑certainty evidence).\\n- PCNL may mean fewer extra procedures (secondary interventions = extra treatments after the first procedure).\\n- PCNL may add about 1 day in hospital on average (mean difference = average extra days in hospital).\\n- PCNL may make little or no difference to narrowing of the ureter (ureteral stricture = scar that narrows the tube) or to damage to the ureter (ureteral injury = a tear or hole).\\n- No trials reported unplanned medical visits or quality of life.\\n\\nWhat are the limits of the evidence?\\nMany trials were small or used different methods. Trials used different stone sizes, stone places, and PCNL tube sizes. People and clinicians often knew which treatment was used. Many trials did not report funding or conflicts of interest. These issues make the results less certain.\\n\\nWhat should future research do?\\nWe need larger, well‑designed trials that compare current versions of both treatments across different stone sizes and places. Trials should follow people longer and report outcomes that matter to patients, such as pain, time to return to normal activities, quality of life, unplanned medical visits, and costs.\\n\\nCurrency\\nThe evidence is current to March 2023.'),\n",
       " ('CD008472.PUB3',\n",
       "  'Title:\\nDoes briefly cutting off blood flow to a limb before planned blood vessel surgery reduce deaths or complications?\\n\\nKey messages:\\n- We found no clear benefit from briefly cutting off blood flow to a limb (remote ischaemic preconditioning, RIPC: a blood pressure cuff is inflated on an arm or leg for short periods to stop blood flow) before planned major blood vessel surgery. The studies showed little or no difference in death, heart attack (when blood to the heart is blocked), kidney problems (renal: related to the kidney), stroke (loss of blood flow to part of the brain), limb loss (amputation), time in hospital, or time in surgery or under anaesthetic (a medicine that prevents pain).\\n- The evidence comes from 14 randomised trials (people were randomly placed into treatment or comparison groups) with 1,295 mainly older men. The cuff method varied across studies and most studies were small. This makes the results less certain.\\n- We need larger, well-designed trials that use the same cuff method, track outcomes that matter to patients (death, heart attack, kidney problems, stroke, limb loss), check longer-term effects, and report any harms from the cuff itself.\\n\\nIntroduction and aims\\n\\nWhat are major blood vessel operations, and why are they risky?\\nBlood vessel (vascular) surgery treats narrowed or blocked arteries and bulges called aneurysms. Doctors do some operations through a cut and others from inside the blood vessel using thin tubes and devices (endovascular: done inside blood vessels). Even planned (elective) operations can need short periods of low blood flow and low oxygen (ischaemia: not enough blood and oxygen). Low blood flow can stress the heart, brain, kidneys, and limbs and lead to serious problems.\\n\\nWhat is remote ischaemic preconditioning (RIPC)?\\nRIPC means briefly stopping and starting blood flow in a limb before or around the start of surgery. Clinicians usually inflate a blood pressure cuff on the arm or leg for a few minutes, then deflate it, and repeat this cycle several times. The cuff sits away from the organ at risk, so it is called “remote.” The short, controlled low-blood-flow cycles may trigger protective signals in the body.\\n\\nWhat did this review aim to find out?\\nWe wanted to know whether adding RIPC to usual care helps adults having planned major blood vessel or endovascular surgery. We looked for effects on death around the time of surgery (perioperative: around the time of surgery), heart attack, kidney problems, stroke, loss of a limb, length of hospital stay, and how long the operation or anaesthetic lasts. We also checked for harms caused by RIPC. This work updates an earlier review from 2011.\\n\\nMethods\\nWe searched medical databases and trial registries (organized lists of research) for trials that compared RIPC with no preconditioning in adults having planned major blood vessel or endovascular surgery. We combined trial results for death, heart attack, kidney problems, stroke, limb loss, hospital stay, and operation or anaesthetic time. We rated how certain the evidence is using standard methods.\\n\\nResults\\n\\nWhat did we find?\\nWe found 14 randomised trials with 1,295 people who had planned major blood vessel or endovascular surgery. Most people were older (average ages about 65 to 76) and most were men. The trials ran from 2003 to 2019. Overall, RIPC probably makes little or no difference to the main outcomes. It probably makes little or no difference to death around surgery, heart attacks, kidney problems after surgery, strokes, time in hospital, and time in operation or under anaesthetic. It may make little or no difference to the need for amputation. We judged the evidence as moderate for most outcomes and low for amputation.\\n\\nLimitations\\nMost trials were small. They used different cuff methods and included few events for some outcomes. These issues make the results less certain and could make the benefits look bigger than they are.\\n\\nWhat this means for patients\\nAt present, using a cuff to briefly block blood flow before planned major blood vessel surgery probably does not change the chance of death or major complications. Patients should discuss options with their surgical team.\\n\\nWhat we recommend for future research\\nWe need larger, well-designed trials that use the same RIPC method. Trials should measure outcomes that matter to patients, follow people for longer, and report any harms caused by the cuff.\\n\\nCurrency\\nThis review updates our previous review. The evidence is up to date to April 2022.')]"
      ]
     },
     "execution_count": 21,
     "metadata": {},
     "output_type": "execute_result"
    }
   ],
   "source": [
    "# Load gpt_5 results\n",
    "gpt_5 = {}\n",
    "gpt_5_path = \"outputs/gpt-5\"\n",
    "\n",
    "# Get all JSON files in the gpt_5 directory\n",
    "json_files = glob.glob(os.path.join(gpt_5_path, \"*.json\"))\n",
    "\n",
    "for json_file in json_files:\n",
    "    with open(json_file, 'r', encoding='utf-8') as f:\n",
    "        data = json.load(f)\n",
    "        # Extract cochrane_id and response\n",
    "        if 'cochrane_id' in data and 'response' in data and 'output' in data['response']:\n",
    "            cochrane_id = data['cochrane_id']\n",
    "            response = data['response']['output']\n",
    "            gpt_5[cochrane_id] = response\n",
    "\n",
    "# Print the first 3 key-value pairs\n",
    "list(gpt_5.items())[:3]"
   ]
  },
  {
   "cell_type": "markdown",
   "id": "97787755",
   "metadata": {},
   "source": [
    "### GPT-OSS-120B"
   ]
  },
  {
   "cell_type": "code",
   "execution_count": 22,
   "id": "2dc26827",
   "metadata": {},
   "outputs": [
    {
     "data": {
      "text/plain": [
       "[('CD015749.PUB2',\n",
       "  'Do combined treatments (drugs, nutrition, and exercise) improve muscle loss and weight loss (cachexia) in people with chronic illnesses?\\n\\nKey messages  \\n- Current research does not show a clear benefit of combined treatments for muscle loss, weight loss, or related outcomes in people with chronic illnesses, and data on possible harms are very limited.  \\n- The nine studies we found were few, mainly involved people with cancer, and were small or had methodological problems, so the results are uncertain for other conditions such as chronic obstructive pulmonary disease (a type of lung disease marked by permanent damage to lung tissue that makes breathing hard), chronic kidney disease (a condition in which the kidneys are damaged slowly over time and cannot remove waste and extra water from the blood), or HIV/AIDS.  \\n- Larger, well‑designed trials that follow participants for longer periods are needed to determine whether combined treatments can safely improve muscle and weight outcomes across a wide range of chronic illnesses.\\n\\nWhat is cachexia and why does it matter?  \\nCachexia is a serious condition marked by loss of more than 10\\u202f% of body weight, including loss of muscle and fat (also called wasting syndrome). It occurs in people with long‑term illnesses such as cancer, HIV/AIDS, kidney disease, heart disease (a disease that affects the heart or blood vessels), or chronic lung disease. Cachexia causes tiredness, loss of appetite (a desire to eat), weakness, and a poorer quality of life (how someone feels and functions day to day). Because metabolism is disturbed, simply eating more does not usually stop the wasting. Treatments that focus on only one component—medicine, diet, or exercise—have not been enough to reverse the problem.\\n\\nWhat are combined treatments?  \\nA combined treatment brings together two or more types of therapy, for example a drug together with nutritional support and an exercise plan. The idea is that the parts work together (working together) to improve strength, body weight, and overall wellbeing. Researchers test these approaches in randomised controlled trials (RCTs), which compare a new treatment with usual care or with a single‑component treatment while randomly assigning participants to each group to reduce bias.\\n\\nWhat did we aim to find out?  \\nWe wanted to know whether combined treatments help people with cachexia. Specifically, we examined whether they improve physical function (how well a person can move and perform daily tasks), muscle strength, body composition (amount of muscle versus fat), weight, appetite, fatigue (a persistent feeling of extreme tiredness that is not relieved by rest), quality of life, and whether they cause any harmful side effects (unwanted events that cause harm).\\n\\nHow did we find the evidence?  \\nWe searched for randomised trials that tested combined treatments for cachexia. We pooled the findings on benefits and harms and rated our confidence in the evidence using standard criteria.\\n\\nWhat did we find?  \\nWe identified nine small randomised trials that together included 926 adults (average age about 63\\u202fyears) with cachexia or at risk of cachexia. Most participants had cancer; single trials involved people with chronic obstructive pulmonary disease, chronic kidney disease, and HIV/AIDS. The studies were conducted in Europe, Turkey, New\\u202fZealand, and the United States and enrolled between 20 and 332 people. All trials tested programmes that combined at least two of the following: medicines, nutritional support, and exercise. They compared these programmes with usual care, a different version of the same programme, or a single‑component treatment. Follow‑up was short, usually ending right after the intervention (from six weeks up to about seven months).\\n\\nOverall, the evidence is very uncertain. The data suggest that combined treatments probably make little or no difference to physical function, muscle strength, body composition, body weight, appetite, fatigue, overall quality of life, or the risk of side effects. We cannot be sure because the studies were few, small, and of low quality. More robust, well‑designed trials are needed to determine whether combining medicines, nutrition, and exercise really helps people with cachexia.\\n\\nWhat are the limitations of the evidence?  \\nWe are not confident in the evidence because participants may have known which treatment they received, which can influence results. Not all studies reported every outcome we were interested in, and the evidence does not cover all the people, interventions, comparators, or outcomes we wanted to examine. The studies focused on specific populations and were very small, and some outcomes were based on only a few events. Consequently, we cannot be certain about the results.\\n\\nHow current is the evidence?  \\nThe evidence is up to date to July\\u202f2024.'),\n",
       " ('CD013445.PUB2',\n",
       "  'Is skin‑through stone removal (percutaneous nephrolithotomy, a surgery that uses a small tube through the skin to reach the kidney) better than scope‑through‑the‑ureter surgery (retrograde intrarenal surgery, a procedure that passes a thin flexible camera up through the urethra, bladder and ureter to break stones with a laser) for adult kidney stones?\\n\\nKey messages  \\n- Skin‑through stone removal (PCNL) may give a higher chance of being stone‑free (no detectable stones) and may lower the need for extra procedures; serious side effects (major complications) appear similar, but PCNL may add about one day to the hospital stay.  \\n- Most studies used smaller‑diameter PCNL tools and did not report how patients felt day to day (quality of life) or any unplanned medical visits, so those outcomes remain unknown.  \\n- Future research should test larger groups, track long‑term results, quality of life, costs and rare harms to show which method fits which patients best.  \\n\\nWhat are kidney stones and why can they be a problem?  \\nKidney stones are hard, crystal‑like deposits that form inside the kidney. They can cause severe pain, block urine flow and lead to infection. When a stone blocks the urinary tract, a sudden, intense pain episode, swelling and sometimes fever can occur. Doctors therefore aim to remove or break the stones.  \\n\\nWhat are the main ways doctors treat kidney stones?  \\nSmall stones may be watched or broken with shock‑wave lithotripsy, a treatment that focuses sound waves from outside the body to fragment stones. For larger stones, doctors usually choose one of two endoscopic procedures:  \\n\\n- Percutaneous nephrolithotomy (PCNL) – a small incision in the back lets a thin tube enter the kidney directly to break and remove the stone.  \\n- Retrograde intrarenal surgery (RIRS) – a thin flexible camera is passed up through the urethra, bladder and ureter; a laser then breaks the stone and the fragments are flushed out.  \\n\\nBoth aim to leave the patient stone‑free.  \\n\\nWhat did the review aim to find out?  \\nWe compared PCNL and RIRS in adults with kidney stones. We asked whether one method gave a higher stone‑free rate, caused more or fewer major complications, or reduced the need for additional procedures after the first treatment. We also looked at hospital stay length, ureteral strictures (narrowing of the tube that carries urine from the kidney to the bladder) and quality of life.  \\n\\nHow did we find the evidence?  \\nWe searched major databases for randomized controlled trials that randomly assigned adults to PCNL or RIRS. Two reviewers extracted data on stone‑free rates, complications, operative time, hospital stay and other outcomes. We combined results with meta‑analysis and rated the certainty of each outcome using the GRADE system (low‑certainty evidence means many limitations; moderate‑certainty evidence means the findings are reasonably reliable).  \\n\\nWhat did we find?  \\nWe identified 42 trials involving 4,571 adults. Stones measured about 10\\u202fmm to 39\\u202fmm. Trials used standard PCNL (access ≥\\u202f24\\u202fFrench), mini‑PCNL (15–23\\u202fFrench) or ultra‑mini‑PCNL (<\\u202f15\\u202fFrench) and compared them with RIRS. Most studies did not report participants’ age, gender, follow‑up length, funding sources or conflicts of interest. No trial measured unplanned medical visits or quality of life.  \\n\\nKey results (per 100 patients)  \\n\\n- Stone‑free outcome: about 10 more patients were stone‑free after PCNL than after RIRS. Evidence is low‑certainty, so PCNL may increase the chance of being stone‑free.  \\n- Major complications: serious side effects were similar for both procedures. About six fewer major complications may occur with PCNL per 1,000 patients. Evidence is moderate‑certainty, so PCNL probably makes little or no difference.  \\n- Additional procedures: roughly 15 fewer patients needed another intervention after PCNL. Evidence is low‑certainty, so PCNL may reduce the need for secondary procedures.  \\n- Hospital stay: patients undergoing PCNL stayed about one day longer on average. Evidence is low‑certainty, so PCNL may increase stay slightly.  \\n- Ureteral strictures: risk was very low for both approaches (about 1 fewer case per 1,000 with PCNL). Evidence is low‑certainty, so PCNL may make little or no difference.  \\n- Quality of life and unplanned visits: no data were available.  \\n\\nHow confident are we in the evidence?  \\nWe have limited confidence because many trials were small, participants and clinicians often knew which treatment was used, and study methods varied. This leads to low‑certainty evidence for most outcomes and moderate‑certainty evidence only for major complications.  \\n\\nWhat does this mean for patients and clinicians?  \\nPCNL may give a higher chance of being stone‑free and may lower the need for further procedures. Serious side effects appear similar between the two methods. PCNL may add about one day to the hospital stay. Because the evidence is limited, decisions should consider stone size, patient preferences and the skill of the treatment team.  \\n\\nWhat should future research address?  \\nWe need larger, well‑designed trials that report long‑term outcomes, quality of life (how someone feels and functions day to day), costs and rare harms. Such studies will help determine which procedure is best for different patients.'),\n",
       " ('CD008472.PUB3',\n",
       "  'Title: Does briefly cutting off blood flow to a limb (remote ischaemic preconditioning) improve outcomes compared with no such treatment in major vascular and endovascular surgery?\\n\\nKey messages  \\n- Remote ischaemic preconditioning (RIPC) – a brief, temporary blockage of blood flow to a limb before surgery – does not reduce death around the time of surgery (peri‑operative mortality) or serious complications such as heart attack (myocardial infarction), kidney problems (renal impairment), stroke, longer hospital stay, or longer operating time, compared with not using RIPC; its effect on permanent loss of a limb (limb loss) is also unclear.  \\n- We found no clear increase in harms. The overall certainty of the evidence is moderate‑certainty (research findings that are fairly reliable but have some limitations) for most outcomes, though a few outcomes have lower certainty.  \\n- Future research should test RIPC in larger, well‑designed randomised controlled trials (RCTs – studies where participants are randomly assigned to receive the treatment or no treatment) that focus on patient‑centred outcomes such as survival, organ function and quality of life.\\n\\nWhy are major vascular surgeries risky and what is remote ischaemic preconditioning?  \\nElective (planned) major vascular or endovascular surgery repairs large blood vessels such as the aorta, leg arteries or the arteries that supply the heart. Even with modern care, these operations carry a high risk of serious complications and death. During surgery the blood supply to parts of the body can be temporarily reduced, which may cause heart attack, kidney injury, stroke, loss of a limb, or death.  \\n\\nRemote ischaemic preconditioning (RIPC) is a simple technique that tries to protect the body before the main operation. We briefly stop blood flow to a distant limb – for example by inflating a blood‑pressure cuff on the arm or leg for a few minutes – and then release it. This short, harmless “stress” may trigger protective mechanisms that make the main surgical site more resistant to the longer periods of reduced blood flow that occur during the operation.\\n\\nWhat did we aim to find out?  \\nWe wanted to know whether using RIPC before elective major vascular or endovascular surgery provides any benefit compared with not using it. Specifically, we examined whether RIPC changes the rates of death around the time of surgery, heart attack, kidney problems, stroke, limb loss, length of hospital stay, and operating or anaesthetic time. We also looked for any harms.\\n\\nHow did we find the evidence?  \\nWe searched for randomised controlled trials that compared RIPC with no preconditioning in people undergoing elective major vascular or endovascular surgery. We combined the results and rated our confidence in the evidence using the GRADE system (a method that grades how confident we can be in research findings).\\n\\nWhat did we find?  \\nWe included 14 RCTs that together enrolled 1,295 participants (about 84\\u202f% men, aged 65–76\\u202fyears). All trials compared RIPC with no preconditioning.  \\n\\nRemote ischaemic preconditioning probably makes little or no difference to several important outcomes after major vascular or endovascular surgery:  \\n\\n- Peri‑operative death – the chance of dying around the time of surgery is about the same with or without RIPC.  \\n- Heart attack – the risk of myocardial infarction is similar whether RIPC is used or not.  \\n- Kidney problems – the proportion of participants developing renal impairment is comparable.  \\n- Stroke – the likelihood of a stroke does not change.  \\n- Length of hospital stay – patients stay roughly the same number of days.  \\n- Operating or anaesthetic time – the duration of the operation or the time under anaesthesia is similar.  \\n- Limb loss – the evidence is less certain, but RIPC may also make little or no difference.  \\n\\nOverall, the current evidence suggests that RIPC is unlikely to provide a clear benefit or harm for these outcomes in people undergoing elective major vascular or endovascular surgery.\\n\\nWhat are the limitations of the evidence?  \\nWe are moderately confident in the findings because the included studies were small, varied in participant types and how the intervention was delivered, and may over‑estimate benefits because they represent only a limited set of trials.\\n\\nHow current is the evidence?  \\nThis review updates our previous work and includes all relevant studies up to April\\u202f2022.')]"
      ]
     },
     "execution_count": 22,
     "metadata": {},
     "output_type": "execute_result"
    }
   ],
   "source": [
    "# Load gpt_oss_120b results\n",
    "gpt_oss_120b = {}\n",
    "gpt_oss_120b_path = \"outputs/gpt-oss-120b\"\n",
    "\n",
    "# Get all JSON files in the gpt_oss_120b directory\n",
    "json_files = glob.glob(os.path.join(gpt_oss_120b_path, \"*.json\"))\n",
    "\n",
    "for json_file in json_files:\n",
    "    with open(json_file, 'r', encoding='utf-8') as f:\n",
    "        data = json.load(f)\n",
    "        # Extract cochrane_id and response\n",
    "        if 'cochrane_id' in data and 'response' in data and 'output' in data['response']:\n",
    "            cochrane_id = data['cochrane_id']\n",
    "            response = data['response']['output']\n",
    "            gpt_oss_120b[cochrane_id] = response\n",
    "\n",
    "# Print the first 3 key-value pairs\n",
    "list(gpt_oss_120b.items())[:3]"
   ]
  },
  {
   "cell_type": "markdown",
   "id": "e675debc",
   "metadata": {},
   "source": [
    "## Test execution"
   ]
  },
  {
   "cell_type": "markdown",
   "id": "dfe711a4",
   "metadata": {},
   "source": [
    "### Reference"
   ]
  },
  {
   "cell_type": "code",
   "execution_count": 25,
   "id": "420d7b1d",
   "metadata": {},
   "outputs": [
    {
     "name": "stdout",
     "output_type": "stream",
     "text": [
      "Found 100 matching entries between original and references\n"
     ]
    }
   ],
   "source": [
    "# Extract references and original text with matching keys\n",
    "ground_truth_reference = []\n",
    "ground_truth_original = []\n",
    "matching_ids = []\n",
    "\n",
    "for cochrane_id in original:\n",
    "    if cochrane_id in original:\n",
    "        ground_truth_reference.append(references[cochrane_id])\n",
    "        ground_truth_original.append(original[cochrane_id])\n",
    "        matching_ids.append(cochrane_id)\n",
    "\n",
    "print(f\"Found {len(matching_ids)} matching entries between original and references\")"
   ]
  },
  {
   "cell_type": "code",
   "execution_count": null,
   "id": "c3958116",
   "metadata": {},
   "outputs": [
    {
     "name": "stderr",
     "output_type": "stream",
     "text": [
      "Some weights of RobertaModel were not initialized from the model checkpoint at roberta-large and are newly initialized: ['pooler.dense.bias', 'pooler.dense.weight']\n",
      "You should probably TRAIN this model on a down-stream task to be able to use it for predictions and inference.\n"
     ]
    },
    {
     "name": "stdout",
     "output_type": "stream",
     "text": [
      "Baseline BERTScore F1: 0.8482\n",
      "Baseline MeaningBERT score: 0.6825\n"
     ]
    }
   ],
   "source": [
    "# Calculate BERTScore using the function for baseline (gold standard and original text)\n",
    "ground_truth_bertscore = get_bertscore(ground_truth_reference, ground_truth_original, bertscore)\n",
    "print(f\"Ground Truth BERTScore F1: {ground_truth_bertscore:.4f}\")\n",
    "\n",
    "# Calculate MeaningBERT using the function for ground truth (gold standard and original text)\n",
    "ground_truth_meaningbert = get_meaningbert_score(ground_truth_reference, ground_truth_original, meaning_bert)\n",
    "print(f\"Ground Truth MeaningBERT score: {ground_truth_meaningbert:.4f}\")"
   ]
  },
  {
   "cell_type": "code",
   "execution_count": null,
   "id": "19f43fa0",
   "metadata": {},
   "outputs": [
    {
     "name": "stderr",
     "output_type": "stream",
     "text": [
      "Computing AlignScore:   0%|          | 0/100 [00:00<?, ?it/s]Token indices sequence length is longer than the specified maximum sequence length for this model (1687 > 512). Running this sequence through the model will result in indexing errors\n",
      "Computing AlignScore: 100%|██████████| 100/100 [43:17<00:00, 25.98s/it]"
     ]
    },
    {
     "name": "stdout",
     "output_type": "stream",
     "text": [
      "Baseline AlignScore: 0.7551\n"
     ]
    },
    {
     "name": "stderr",
     "output_type": "stream",
     "text": [
      "\n"
     ]
    }
   ],
   "source": [
    "ground_truth_alignscore = get_alignscore(ground_truth_reference, ground_truth_original, alignscore_evaluator)\n",
    "print(f\"Baseline AlignScore: {ground_truth_alignscore:.4f}\")"
   ]
  },
  {
   "cell_type": "markdown",
   "id": "41126382",
   "metadata": {},
   "source": [
    "### Baseline (simple agent)"
   ]
  },
  {
   "cell_type": "code",
   "execution_count": 26,
   "id": "28450863",
   "metadata": {},
   "outputs": [
    {
     "name": "stdout",
     "output_type": "stream",
     "text": [
      "Found 100 matching entries between baseline and original\n"
     ]
    }
   ],
   "source": [
    "# Extract predictions and original with matching keys\n",
    "baseline_predictions = []\n",
    "ground_truth_original = []\n",
    "matching_ids = []\n",
    "\n",
    "for cochrane_id in original:\n",
    "    if cochrane_id in original:\n",
    "        baseline_predictions.append(baseline[cochrane_id])\n",
    "        ground_truth_original.append(original[cochrane_id])\n",
    "        matching_ids.append(cochrane_id)\n",
    "\n",
    "print(f\"Found {len(matching_ids)} matching entries between baseline and original\")"
   ]
  },
  {
   "cell_type": "code",
   "execution_count": 27,
   "id": "23f73ee2",
   "metadata": {},
   "outputs": [
    {
     "name": "stderr",
     "output_type": "stream",
     "text": [
      "Some weights of RobertaModel were not initialized from the model checkpoint at roberta-large and are newly initialized: ['pooler.dense.bias', 'pooler.dense.weight']\n",
      "You should probably TRAIN this model on a down-stream task to be able to use it for predictions and inference.\n"
     ]
    },
    {
     "name": "stdout",
     "output_type": "stream",
     "text": [
      "Baseline BERTScore F1: 0.8340\n",
      "Baseline MeaningBERT score: 0.5828\n",
      "Baseline BERTScore F1 (reference): 0.8696\n",
      "Baseline MeaningBERT score (reference): 0.7161\n"
     ]
    }
   ],
   "source": [
    "# Calculate BERTScore using the function\n",
    "baseline_bertscore = get_bertscore(baseline_predictions, ground_truth_original, bertscore)\n",
    "print(f\"Baseline BERTScore F1: {baseline_bertscore:.4f}\")\n",
    "\n",
    "baseline_meaningbert = get_meaningbert_score(baseline_predictions, ground_truth_original, meaning_bert)\n",
    "print(f\"Baseline MeaningBERT score: {baseline_meaningbert:.4f}\")\n",
    "\n",
    "baseline_bertscore_reference = get_bertscore(baseline_predictions, ground_truth_reference, bertscore)\n",
    "print(f\"Baseline BERTScore F1 (reference): {baseline_bertscore_reference:.4f}\")\n",
    "\n",
    "baseline_meaningbert_reference = get_meaningbert_score(baseline_predictions, ground_truth_reference, meaning_bert)\n",
    "print(f\"Baseline MeaningBERT score (reference): {baseline_meaningbert_reference:.4f}\")"
   ]
  },
  {
   "cell_type": "code",
   "execution_count": null,
   "id": "5f0ff4ad",
   "metadata": {},
   "outputs": [
    {
     "name": "stderr",
     "output_type": "stream",
     "text": [
      "Evaluating with PLS API: 100%|██████████| 100/100 [00:19<00:00,  5.15it/s]\n"
     ]
    },
    {
     "data": {
      "text/plain": [
       "{'readability': {'flesch_kincaid_grade': {'mean': np.float64(8.72),\n",
       "   'std': np.float64(0.88),\n",
       "   'formatted': '8.72 ± 0.88'},\n",
       "  'automated_readability_index': {'mean': np.float64(8.68),\n",
       "   'std': np.float64(0.9),\n",
       "   'formatted': '8.68 ± 0.90'},\n",
       "  'coleman_liau_index': {'mean': np.float64(8.94),\n",
       "   'std': np.float64(0.82),\n",
       "   'formatted': '8.94 ± 0.82'},\n",
       "  'flesch_reading_ease': {'mean': np.float64(64.48),\n",
       "   'std': np.float64(5.17),\n",
       "   'formatted': '64.48 ± 5.17'},\n",
       "  'gunning_fog_index': {'mean': np.float64(12.55),\n",
       "   'std': np.float64(1.06),\n",
       "   'formatted': '12.55 ± 1.06'},\n",
       "  'lix': {'mean': np.float64(41.89),\n",
       "   'std': np.float64(2.76),\n",
       "   'formatted': '41.89 ± 2.76'},\n",
       "  'smog_index': {'mean': np.float64(12.31),\n",
       "   'std': np.float64(1.01),\n",
       "   'formatted': '12.31 ± 1.01'},\n",
       "  'rix': {'mean': np.float64(4.29),\n",
       "   'std': np.float64(0.52),\n",
       "   'formatted': '4.29 ± 0.52'},\n",
       "  'dale_chall_readability': {'mean': np.float64(6.28),\n",
       "   'std': np.float64(0.4),\n",
       "   'formatted': '6.28 ± 0.40'}},\n",
       " 'summary': {'excellent_count': np.float64(11.1),\n",
       "  'good_count': np.float64(1.64),\n",
       "  'acceptable_count': np.float64(3.14),\n",
       "  'poor_count': np.float64(1.89),\n",
       "  'critical_count': np.float64(0.23),\n",
       "  'excellent_percentage': np.float64(61.67),\n",
       "  'good_percentage': np.float64(9.11),\n",
       "  'acceptable_percentage': np.float64(17.44),\n",
       "  'poor_percentage': np.float64(10.5),\n",
       "  'critical_percentage': np.float64(1.28),\n",
       "  'excellence_rate': np.float64(61.67)},\n",
       " 'n_samples': 100}"
      ]
     },
     "execution_count": 29,
     "metadata": {},
     "output_type": "execute_result"
    }
   ],
   "source": [
    "baseline_pls = get_pls_evaluation(baseline_predictions)"
   ]
  },
  {
   "cell_type": "code",
   "execution_count": 31,
   "id": "b20cecc2",
   "metadata": {},
   "outputs": [
    {
     "data": {
      "text/html": [
       "<div>\n",
       "<style scoped>\n",
       "    .dataframe tbody tr th:only-of-type {\n",
       "        vertical-align: middle;\n",
       "    }\n",
       "\n",
       "    .dataframe tbody tr th {\n",
       "        vertical-align: top;\n",
       "    }\n",
       "\n",
       "    .dataframe thead th {\n",
       "        text-align: right;\n",
       "    }\n",
       "</style>\n",
       "<table border=\"1\" class=\"dataframe\">\n",
       "  <thead>\n",
       "    <tr style=\"text-align: right;\">\n",
       "      <th></th>\n",
       "      <th>model</th>\n",
       "      <th>Kincaid</th>\n",
       "      <th>ARI</th>\n",
       "      <th>Coleman-Liau</th>\n",
       "      <th>FleschReadingEase</th>\n",
       "      <th>GunningFogIndex</th>\n",
       "      <th>LIX</th>\n",
       "      <th>SMOGIndex</th>\n",
       "      <th>RIX</th>\n",
       "      <th>DaleChallIndex</th>\n",
       "    </tr>\n",
       "  </thead>\n",
       "  <tbody>\n",
       "    <tr>\n",
       "      <th>0</th>\n",
       "      <td>baseline</td>\n",
       "      <td>8.72 ± 0.88</td>\n",
       "      <td>8.68 ± 0.90</td>\n",
       "      <td>8.94 ± 0.82</td>\n",
       "      <td>64.48 ± 5.17</td>\n",
       "      <td>12.55 ± 1.06</td>\n",
       "      <td>41.89 ± 2.76</td>\n",
       "      <td>12.31 ± 1.01</td>\n",
       "      <td>4.29 ± 0.52</td>\n",
       "      <td>6.28 ± 0.40</td>\n",
       "    </tr>\n",
       "  </tbody>\n",
       "</table>\n",
       "</div>"
      ],
      "text/plain": [
       "      model      Kincaid          ARI Coleman-Liau FleschReadingEase  \\\n",
       "0  baseline  8.72 ± 0.88  8.68 ± 0.90  8.94 ± 0.82      64.48 ± 5.17   \n",
       "\n",
       "  GunningFogIndex           LIX     SMOGIndex          RIX DaleChallIndex  \n",
       "0    12.55 ± 1.06  41.89 ± 2.76  12.31 ± 1.01  4.29 ± 0.52    6.28 ± 0.40  "
      ]
     },
     "execution_count": 31,
     "metadata": {},
     "output_type": "execute_result"
    }
   ],
   "source": [
    "readability_table = create_readability_table(\n",
    "    model_results=[baseline_pls],\n",
    "    model_names=['baseline']\n",
    ")\n",
    "\n",
    "readability_table"
   ]
  },
  {
   "cell_type": "code",
   "execution_count": 32,
   "id": "c9a0c11b",
   "metadata": {},
   "outputs": [
    {
     "name": "stderr",
     "output_type": "stream",
     "text": [
      "Computing AlignScore:   0%|          | 0/100 [00:00<?, ?it/s]Token indices sequence length is longer than the specified maximum sequence length for this model (1687 > 512). Running this sequence through the model will result in indexing errors\n",
      "Computing AlignScore: 100%|██████████| 100/100 [45:17<00:00, 27.17s/it]\n"
     ]
    },
    {
     "name": "stdout",
     "output_type": "stream",
     "text": [
      "Baseline AlignScore: 0.7436\n"
     ]
    },
    {
     "name": "stderr",
     "output_type": "stream",
     "text": [
      "Computing AlignScore: 100%|██████████| 100/100 [27:29<00:00, 16.49s/it]"
     ]
    },
    {
     "name": "stdout",
     "output_type": "stream",
     "text": [
      "Baseline AlignScore (reference): 0.6900\n"
     ]
    },
    {
     "name": "stderr",
     "output_type": "stream",
     "text": [
      "\n"
     ]
    }
   ],
   "source": [
    "# For Baseline predictions vs original\n",
    "baseline_alignscore = get_alignscore(baseline_predictions, ground_truth_original, alignscore_evaluator)\n",
    "print(f\"Baseline AlignScore: {baseline_alignscore:.4f}\")\n",
    "\n",
    "# For Baseline predictions vs reference\n",
    "baseline_alignscore_reference = get_alignscore(baseline_predictions, ground_truth_reference, alignscore_evaluator)\n",
    "print(f\"Baseline AlignScore (reference): {baseline_alignscore_reference:.4f}\")"
   ]
  },
  {
   "cell_type": "markdown",
   "id": "2d964703",
   "metadata": {},
   "source": [
    "### Gemini 2.5 Pro"
   ]
  },
  {
   "cell_type": "code",
   "execution_count": null,
   "id": "6afffeac",
   "metadata": {},
   "outputs": [
    {
     "name": "stdout",
     "output_type": "stream",
     "text": [
      "Found 100 matching entries between gemini and original\n"
     ]
    }
   ],
   "source": [
    "# Extract predictions and original with matching keys\n",
    "gemini_predictions = []\n",
    "ground_truth_original = []\n",
    "matching_ids = []\n",
    "\n",
    "for cochrane_id in original:\n",
    "    if cochrane_id in original:\n",
    "        gemini_predictions.append(gemini[cochrane_id])\n",
    "        ground_truth_original.append(original[cochrane_id])\n",
    "        matching_ids.append(cochrane_id)\n",
    "\n",
    "print(f\"Found {len(matching_ids)} matching entries between gemini and original\")"
   ]
  },
  {
   "cell_type": "code",
   "execution_count": null,
   "id": "5020d241",
   "metadata": {},
   "outputs": [
    {
     "name": "stdout",
     "output_type": "stream",
     "text": [
      "Gemini BERTScore F1: 0.8419\n",
      "Gemini MeaningBERT score: 0.5820\n",
      "Gemini BERTScore F1 (reference): 0.8712\n",
      "Gemini MeaningBERT score (reference): 0.6850\n"
     ]
    }
   ],
   "source": [
    "# Calculate BERTScore using the function\n",
    "gemini_bertscore = get_bertscore(gemini_predictions, ground_truth_original, bertscore)\n",
    "print(f\"Gemini BERTScore F1: {gemini_bertscore:.4f}\")\n",
    "\n",
    "gemini_meaningbert = get_meaningbert_score(gemini_predictions, ground_truth_original, meaning_bert)\n",
    "print(f\"Gemini MeaningBERT score: {gemini_meaningbert:.4f}\")\n",
    "\n",
    "gemini_bertscore_reference = get_bertscore(gemini_predictions, ground_truth_reference, bertscore)\n",
    "print(f\"Gemini BERTScore F1 (reference): {gemini_bertscore_reference:.4f}\")\n",
    "\n",
    "gemini_meaningbert_reference = get_meaningbert_score(gemini_predictions, ground_truth_reference, meaning_bert)\n",
    "print(f\"Gemini MeaningBERT score (reference): {gemini_meaningbert_reference:.4f}\")"
   ]
  },
  {
   "cell_type": "code",
   "execution_count": null,
   "id": "3fba06ec",
   "metadata": {},
   "outputs": [
    {
     "name": "stderr",
     "output_type": "stream",
     "text": [
      "Computing AlignScore: 100%|██████████| 100/100 [42:34<00:00, 25.54s/it]\n"
     ]
    },
    {
     "name": "stdout",
     "output_type": "stream",
     "text": [
      "Gemini AlignScore: 0.7893\n"
     ]
    },
    {
     "name": "stderr",
     "output_type": "stream",
     "text": [
      "Computing AlignScore: 100%|██████████| 100/100 [28:24<00:00, 17.05s/it]"
     ]
    },
    {
     "name": "stdout",
     "output_type": "stream",
     "text": [
      "Gemini AlignScore (reference): 0.7189\n"
     ]
    },
    {
     "name": "stderr",
     "output_type": "stream",
     "text": [
      "\n"
     ]
    }
   ],
   "source": [
    "# For Gemini predictions vs original\n",
    "gemini_alignscore = get_alignscore(gemini_predictions, ground_truth_original, alignscore_evaluator)\n",
    "print(f\"Gemini AlignScore: {gemini_alignscore:.4f}\")\n",
    "\n",
    "# For Gemini predictions vs reference\n",
    "gemini_alignscore_reference = get_alignscore(gemini_predictions, ground_truth_reference, alignscore_evaluator)\n",
    "print(f\"Gemini AlignScore (reference): {gemini_alignscore_reference:.4f}\")"
   ]
  },
  {
   "cell_type": "markdown",
   "id": "f562a5c6",
   "metadata": {},
   "source": [
    "### GPT-OSS 120B"
   ]
  },
  {
   "cell_type": "code",
   "execution_count": null,
   "id": "9b624208",
   "metadata": {},
   "outputs": [
    {
     "name": "stdout",
     "output_type": "stream",
     "text": [
      "Found 100 matching entries between gpt-oss-120b and original\n"
     ]
    }
   ],
   "source": [
    "# Extract predictions and original with matching keys\n",
    "gpt_oss_120b_predictions = []\n",
    "ground_truth_original = []\n",
    "matching_ids = []\n",
    "\n",
    "for cochrane_id in original:\n",
    "    if cochrane_id in original:\n",
    "        gpt_oss_120b_predictions.append(gpt_oss_120b[cochrane_id])\n",
    "        ground_truth_original.append(original[cochrane_id])\n",
    "        matching_ids.append(cochrane_id)\n",
    "\n",
    "print(f\"Found {len(matching_ids)} matching entries between gpt-oss-120b and original\")"
   ]
  },
  {
   "cell_type": "code",
   "execution_count": null,
   "id": "a4961e22",
   "metadata": {},
   "outputs": [
    {
     "name": "stdout",
     "output_type": "stream",
     "text": [
      "GPT-OSS-120B BERTScore F1: 0.8311\n",
      "GPT-OSS-120B MeaningBERT score: 0.6408\n",
      "GPT-OSS-120B BERTScore F1 (reference): 0.8556\n",
      "GPT-OSS-120B MeaningBERT score (reference): 0.7197\n"
     ]
    }
   ],
   "source": [
    "# Calculate BERTScore using the function\n",
    "gpt_oss_120b_bertscore = get_bertscore(gpt_oss_120b_predictions, ground_truth_original, bertscore)\n",
    "print(f\"GPT-OSS-120B BERTScore F1: {gpt_oss_120b_bertscore:.4f}\")\n",
    "\n",
    "gpt_oss_120b_meaningbert = get_meaningbert_score(gpt_oss_120b_predictions, ground_truth_original, meaning_bert)\n",
    "print(f\"GPT-OSS-120B MeaningBERT score: {gpt_oss_120b_meaningbert:.4f}\")\n",
    "\n",
    "gpt_oss_120b_bertscore_reference = get_bertscore(gpt_oss_120b_predictions, ground_truth_reference, bertscore)\n",
    "print(f\"GPT-OSS-120B BERTScore F1 (reference): {gpt_oss_120b_bertscore_reference:.4f}\")\n",
    "\n",
    "gpt_oss_120b_meaningbert_reference = get_meaningbert_score(gpt_oss_120b_predictions, ground_truth_reference, meaning_bert)\n",
    "print(f\"GPT-OSS-120B MeaningBERT score (reference): {gpt_oss_120b_meaningbert_reference:.4f}\")"
   ]
  },
  {
   "cell_type": "code",
   "execution_count": null,
   "id": "db518a4d",
   "metadata": {},
   "outputs": [
    {
     "name": "stderr",
     "output_type": "stream",
     "text": [
      "Computing AlignScore: 100%|██████████| 100/100 [42:49<00:00, 25.70s/it]\n"
     ]
    },
    {
     "name": "stdout",
     "output_type": "stream",
     "text": [
      "GPT-OSS-120B AlignScore: 0.7925\n"
     ]
    },
    {
     "name": "stderr",
     "output_type": "stream",
     "text": [
      "Computing AlignScore: 100%|██████████| 100/100 [37:13<00:00, 22.33s/it]"
     ]
    },
    {
     "name": "stdout",
     "output_type": "stream",
     "text": [
      "GPT-OSS-120B AlignScore (reference): 0.6713\n"
     ]
    },
    {
     "name": "stderr",
     "output_type": "stream",
     "text": [
      "\n"
     ]
    }
   ],
   "source": [
    "gpt_oss_120b_alignscore = get_alignscore(gpt_oss_120b_predictions, ground_truth_original, alignscore_evaluator)\n",
    "print(f\"GPT-OSS-120B AlignScore: {gpt_oss_120b_alignscore:.4f}\")\n",
    "\n",
    "gpt_oss_120b_alignscore_reference = get_alignscore(gpt_oss_120b_predictions, ground_truth_reference, alignscore_evaluator)\n",
    "print(f\"GPT-OSS-120B AlignScore (reference): {gpt_oss_120b_alignscore_reference:.4f}\")"
   ]
  },
  {
   "cell_type": "markdown",
   "id": "9712c466",
   "metadata": {},
   "source": [
    "### GPT-5"
   ]
  },
  {
   "cell_type": "code",
   "execution_count": null,
   "id": "e8fe4a2b",
   "metadata": {},
   "outputs": [
    {
     "name": "stdout",
     "output_type": "stream",
     "text": [
      "Found 100 matching entries between gpt-5 and original\n"
     ]
    }
   ],
   "source": [
    "# Extract predictions and references with matching keys\n",
    "gpt_5_predictions = []\n",
    "ground_truth_original = []\n",
    "matching_ids = []\n",
    "\n",
    "for cochrane_id in original:\n",
    "    if cochrane_id in original:\n",
    "        gpt_5_predictions.append(gpt_5[cochrane_id])\n",
    "        ground_truth_original.append(original[cochrane_id])\n",
    "        matching_ids.append(cochrane_id)\n",
    "\n",
    "print(f\"Found {len(matching_ids)} matching entries between gpt-5 and original\")"
   ]
  },
  {
   "cell_type": "code",
   "execution_count": null,
   "id": "3c8ef8e3",
   "metadata": {},
   "outputs": [
    {
     "name": "stdout",
     "output_type": "stream",
     "text": [
      "GPT-5 BERTScore F1: 0.8283\n",
      "GPT-5 MeaningBERT score: 0.5632\n",
      "GPT-5 BERTScore F1 (reference): 0.8519\n",
      "GPT-5 MeaningBERT score (reference): 0.6414\n"
     ]
    }
   ],
   "source": [
    "# Calculate BERTScore using the function\n",
    "gpt_5_bertscore = get_bertscore(gpt_5_predictions, ground_truth_original, bertscore)\n",
    "print(f\"GPT-5 BERTScore F1: {gpt_5_bertscore:.4f}\")\n",
    "\n",
    "# Calculate MeaningBERT score for GPT-5 and original\n",
    "gpt_5_meaningbert = get_meaningbert_score(gpt_5_predictions, ground_truth_original, meaning_bert)\n",
    "print(f\"GPT-5 MeaningBERT score: {gpt_5_meaningbert:.4f}\")\n",
    "\n",
    "# Calculate BERTScore for GPT-5 and reference\n",
    "gpt_5_bertscore_reference = get_bertscore(gpt_5_predictions, ground_truth_reference, bertscore)\n",
    "print(f\"GPT-5 BERTScore F1 (reference): {gpt_5_bertscore_reference:.4f}\")\n",
    "\n",
    "# Calculate MeaningBERT score for GPT-5 and reference\n",
    "gpt_5_meaningbert_reference = get_meaningbert_score(gpt_5_predictions, ground_truth_reference, meaning_bert)\n",
    "print(f\"GPT-5 MeaningBERT score (reference): {gpt_5_meaningbert_reference:.4f}\")"
   ]
  },
  {
   "cell_type": "code",
   "execution_count": null,
   "id": "308fa941",
   "metadata": {},
   "outputs": [
    {
     "name": "stderr",
     "output_type": "stream",
     "text": [
      "Computing AlignScore: 100%|██████████| 100/100 [1:00:42<00:00, 36.43s/it]\n"
     ]
    },
    {
     "name": "stdout",
     "output_type": "stream",
     "text": [
      "GPT-5 AlignScore: 0.7647\n"
     ]
    },
    {
     "name": "stderr",
     "output_type": "stream",
     "text": [
      "Computing AlignScore: 100%|██████████| 100/100 [40:48<00:00, 24.49s/it]"
     ]
    },
    {
     "name": "stdout",
     "output_type": "stream",
     "text": [
      "GPT-5 AlignScore (reference): 0.6296\n"
     ]
    },
    {
     "name": "stderr",
     "output_type": "stream",
     "text": [
      "\n"
     ]
    }
   ],
   "source": [
    "gpt_5_alignscore = get_alignscore(gpt_5_predictions, ground_truth_original, alignscore_evaluator)\n",
    "print(f\"GPT-5 AlignScore: {gpt_5_alignscore:.4f}\")\n",
    "\n",
    "gpt_5_alignscore_reference = get_alignscore(gpt_5_predictions, ground_truth_reference, alignscore_evaluator)\n",
    "print(f\"GPT-5 AlignScore (reference): {gpt_5_alignscore_reference:.4f}\")"
   ]
  },
  {
   "cell_type": "markdown",
   "id": "376322b1",
   "metadata": {},
   "source": [
    "### Readability"
   ]
  },
  {
   "cell_type": "code",
   "execution_count": null,
   "id": "64fc62dc",
   "metadata": {},
   "outputs": [
    {
     "name": "stdout",
     "output_type": "stream",
     "text": [
      "Evaluating Reference (Gold Standard)...\n"
     ]
    },
    {
     "name": "stderr",
     "output_type": "stream",
     "text": [
      "Evaluating with PLS API: 100%|██████████| 100/100 [00:30<00:00,  3.26it/s]\n"
     ]
    },
    {
     "name": "stdout",
     "output_type": "stream",
     "text": [
      "Evaluating GPT-5...\n"
     ]
    },
    {
     "name": "stderr",
     "output_type": "stream",
     "text": [
      "Evaluating with PLS API: 100%|██████████| 100/100 [00:36<00:00,  2.78it/s]\n"
     ]
    },
    {
     "name": "stdout",
     "output_type": "stream",
     "text": [
      "Evaluating Gemini...\n"
     ]
    },
    {
     "name": "stderr",
     "output_type": "stream",
     "text": [
      "Evaluating with PLS API: 100%|██████████| 100/100 [00:31<00:00,  3.14it/s]\n"
     ]
    },
    {
     "name": "stdout",
     "output_type": "stream",
     "text": [
      "Evaluating GPT-OSS-120B...\n"
     ]
    },
    {
     "name": "stderr",
     "output_type": "stream",
     "text": [
      "Evaluating with PLS API: 100%|██████████| 100/100 [00:32<00:00,  3.09it/s]"
     ]
    },
    {
     "name": "stdout",
     "output_type": "stream",
     "text": [
      "\n",
      "Readability Metrics:\n",
      "          model       Kincaid           ARI  Coleman-Liau FleschReadingEase  \\\n",
      "0     Reference  11.38 ± 1.67  11.46 ± 1.89  11.21 ± 1.52      49.23 ± 9.09   \n",
      "1         GPT-5   9.04 ± 1.40   9.51 ± 1.50  10.23 ± 1.30      61.31 ± 7.94   \n",
      "2        Gemini   8.37 ± 1.14   8.31 ± 1.22   9.33 ± 1.06      64.06 ± 6.46   \n",
      "3  GPT-OSS-120B  10.52 ± 1.39  10.67 ± 1.63  10.86 ± 1.30      53.37 ± 7.52   \n",
      "\n",
      "  GunningFogIndex           LIX     SMOGIndex          RIX DaleChallIndex  \n",
      "0    16.21 ± 2.06  50.35 ± 4.87  14.23 ± 1.56  6.07 ± 1.23    7.37 ± 0.62  \n",
      "1    12.93 ± 1.63  42.24 ± 4.62  13.64 ± 1.44  4.34 ± 0.92    7.15 ± 0.58  \n",
      "2    12.25 ± 1.36  41.34 ± 4.03  12.00 ± 0.91  4.08 ± 0.74    6.35 ± 0.50  \n",
      "3    15.84 ± 1.54  48.06 ± 4.29  14.73 ± 1.17  5.53 ± 0.99    7.82 ± 0.48  \n",
      "\n",
      "Summary Percentages:\n",
      "          model  Excellent %  Good %  Acceptable %  Poor %  Critical %  \\\n",
      "0     Reference        37.83   17.89         14.67   15.00       14.61   \n",
      "1         GPT-5        56.61    8.67         10.50    9.33       14.89   \n",
      "2        Gemini        63.78   10.33         18.72    6.39        0.78   \n",
      "3  GPT-OSS-120B        43.44   12.89         10.17   12.94       20.56   \n",
      "\n",
      "   Excellence Rate  \n",
      "0            37.83  \n",
      "1            56.61  \n",
      "2            63.78  \n",
      "3            43.44  \n",
      "\n",
      "GPT-5 Flesch-Kincaid Grade: 9.04\n",
      "GPT-5 Excellence Rate: 56.61%\n"
     ]
    },
    {
     "name": "stderr",
     "output_type": "stream",
     "text": [
      "\n"
     ]
    }
   ],
   "source": [
    "# Evaluate each model's predictions\n",
    "print(\"Evaluating Reference (Gold Standard)...\")\n",
    "reference_pls = get_pls_evaluation(ground_truth_reference)\n",
    "\n",
    "print(\"Evaluating GPT-5...\")\n",
    "gpt5_pls = get_pls_evaluation(gpt_5_predictions)\n",
    "\n",
    "print(\"Evaluating Gemini...\")\n",
    "gemini_pls = get_pls_evaluation(gemini_predictions)\n",
    "\n",
    "print(\"Evaluating GPT-OSS-120B...\")\n",
    "gpt_oss_120b_pls = get_pls_evaluation(gpt_oss_120b_predictions)\n",
    "\n",
    "# Create readability metrics table\n",
    "readability_table = create_readability_table(\n",
    "    model_results=[reference_pls, gpt5_pls, gemini_pls, gpt_oss_120b_pls],\n",
    "    model_names=['Reference', 'GPT-5', 'Gemini', 'GPT-OSS-120B']\n",
    ")\n",
    "\n",
    "print(\"\\nReadability Metrics:\")\n",
    "print(readability_table)\n",
    "\n",
    "# Create summary percentages table\n",
    "summary_table = create_summary_table(\n",
    "    model_results=[reference_pls, gpt5_pls, gemini_pls, gpt_oss_120b_pls],\n",
    "    model_names=['Reference', 'GPT-5', 'Gemini', 'GPT-OSS-120B']\n",
    ")\n",
    "\n",
    "print(\"\\nSummary Percentages:\")\n",
    "print(summary_table)\n",
    "\n",
    "# Access individual metrics if needed\n",
    "print(f\"\\nGPT-5 Flesch-Kincaid Grade: {gpt5_pls['readability']['flesch_kincaid_grade']['mean']:.2f}\")\n",
    "print(f\"GPT-5 Excellence Rate: {gpt5_pls['summary']['excellence_rate']:.2f}%\")"
   ]
  },
  {
   "cell_type": "code",
   "execution_count": 2,
   "id": "743ac40c",
   "metadata": {},
   "outputs": [
    {
     "data": {
      "text/html": [
       "<div>\n",
       "<style scoped>\n",
       "    .dataframe tbody tr th:only-of-type {\n",
       "        vertical-align: middle;\n",
       "    }\n",
       "\n",
       "    .dataframe tbody tr th {\n",
       "        vertical-align: top;\n",
       "    }\n",
       "\n",
       "    .dataframe thead th {\n",
       "        text-align: right;\n",
       "    }\n",
       "</style>\n",
       "<table border=\"1\" class=\"dataframe\">\n",
       "  <thead>\n",
       "    <tr style=\"text-align: right;\">\n",
       "      <th></th>\n",
       "      <th>Model</th>\n",
       "      <th>BERTScore F1 (original)</th>\n",
       "      <th>MeaningBERT (original)</th>\n",
       "      <th>AlignScore (original)</th>\n",
       "      <th>BERTScore F1 (reference)</th>\n",
       "      <th>MeaningBERT (reference)</th>\n",
       "      <th>AlignScore (reference)</th>\n",
       "      <th>Flesch-Kincaid</th>\n",
       "      <th>ARI</th>\n",
       "      <th>Coleman-Liau</th>\n",
       "      <th>FleschReadingEase</th>\n",
       "      <th>GunningFogIndex</th>\n",
       "      <th>LIX</th>\n",
       "      <th>SMOGIndex</th>\n",
       "      <th>RIX</th>\n",
       "      <th>DaleChallIndex</th>\n",
       "      <th>Excellence Rate (%)</th>\n",
       "    </tr>\n",
       "  </thead>\n",
       "  <tbody>\n",
       "    <tr>\n",
       "      <th>0</th>\n",
       "      <td>Reference</td>\n",
       "      <td>0.8482</td>\n",
       "      <td>0.6825</td>\n",
       "      <td>0.7551</td>\n",
       "      <td>-</td>\n",
       "      <td>-</td>\n",
       "      <td>-</td>\n",
       "      <td>11.38 ± 1.67</td>\n",
       "      <td>11.46 ± 1.89</td>\n",
       "      <td>11.21 ± 1.52</td>\n",
       "      <td>49.23 ± 9.09</td>\n",
       "      <td>16.21 ± 2.06</td>\n",
       "      <td>50.35 ± 4.87</td>\n",
       "      <td>14.23 ± 1.56</td>\n",
       "      <td>6.07 ± 1.23</td>\n",
       "      <td>7.37 ± 0.62</td>\n",
       "      <td>37.83</td>\n",
       "    </tr>\n",
       "    <tr>\n",
       "      <th>1</th>\n",
       "      <td>GPT-5</td>\n",
       "      <td>0.8283</td>\n",
       "      <td>0.5632</td>\n",
       "      <td>0.7647</td>\n",
       "      <td>0.8519</td>\n",
       "      <td>0.6414</td>\n",
       "      <td>0.6296</td>\n",
       "      <td>9.04 ± 1.40</td>\n",
       "      <td>9.51 ± 1.50</td>\n",
       "      <td>10.23 ± 1.30</td>\n",
       "      <td>61.31 ± 7.94</td>\n",
       "      <td>12.93 ± 1.63</td>\n",
       "      <td>42.24 ± 4.62</td>\n",
       "      <td>13.64 ± 1.44</td>\n",
       "      <td>4.34 ± 0.92</td>\n",
       "      <td>7.15 ± 0.58</td>\n",
       "      <td>56.61</td>\n",
       "    </tr>\n",
       "    <tr>\n",
       "      <th>2</th>\n",
       "      <td>Gemini</td>\n",
       "      <td>0.8419</td>\n",
       "      <td>0.5820</td>\n",
       "      <td>0.7893</td>\n",
       "      <td>0.8712</td>\n",
       "      <td>0.6850</td>\n",
       "      <td>0.7189</td>\n",
       "      <td>8.37 ± 1.14</td>\n",
       "      <td>8.31 ± 1.22</td>\n",
       "      <td>9.33 ± 1.06</td>\n",
       "      <td>64.06 ± 6.46</td>\n",
       "      <td>12.25 ± 1.36</td>\n",
       "      <td>41.34 ± 4.03</td>\n",
       "      <td>12.00 ± 0.91</td>\n",
       "      <td>4.08 ± 0.74</td>\n",
       "      <td>6.35 ± 0.50</td>\n",
       "      <td>63.78</td>\n",
       "    </tr>\n",
       "    <tr>\n",
       "      <th>3</th>\n",
       "      <td>GPT-OSS-120B</td>\n",
       "      <td>0.8311</td>\n",
       "      <td>0.6408</td>\n",
       "      <td>0.7925</td>\n",
       "      <td>0.8556</td>\n",
       "      <td>0.6713</td>\n",
       "      <td>0.6713</td>\n",
       "      <td>10.52 ± 1.39</td>\n",
       "      <td>10.67 ± 1.63</td>\n",
       "      <td>10.86 ± 1.30</td>\n",
       "      <td>53.37 ± 7.52</td>\n",
       "      <td>15.84 ± 1.54</td>\n",
       "      <td>48.06 ± 4.29</td>\n",
       "      <td>14.73 ± 1.17</td>\n",
       "      <td>5.53 ± 0.99</td>\n",
       "      <td>7.82 ± 0.48</td>\n",
       "      <td>43.44</td>\n",
       "    </tr>\n",
       "  </tbody>\n",
       "</table>\n",
       "</div>"
      ],
      "text/plain": [
       "          Model  BERTScore F1 (original)  MeaningBERT (original)  \\\n",
       "0     Reference                   0.8482                  0.6825   \n",
       "1         GPT-5                   0.8283                  0.5632   \n",
       "2        Gemini                   0.8419                  0.5820   \n",
       "3  GPT-OSS-120B                   0.8311                  0.6408   \n",
       "\n",
       "   AlignScore (original) BERTScore F1 (reference) MeaningBERT (reference)  \\\n",
       "0                 0.7551                        -                       -   \n",
       "1                 0.7647                   0.8519                  0.6414   \n",
       "2                 0.7893                   0.8712                  0.6850   \n",
       "3                 0.7925                   0.8556                  0.6713   \n",
       "\n",
       "  AlignScore (reference) Flesch-Kincaid           ARI  Coleman-Liau  \\\n",
       "0                      -   11.38 ± 1.67  11.46 ± 1.89  11.21 ± 1.52   \n",
       "1                 0.6296    9.04 ± 1.40   9.51 ± 1.50  10.23 ± 1.30   \n",
       "2                 0.7189    8.37 ± 1.14   8.31 ± 1.22   9.33 ± 1.06   \n",
       "3                 0.6713   10.52 ± 1.39  10.67 ± 1.63  10.86 ± 1.30   \n",
       "\n",
       "  FleschReadingEase GunningFogIndex           LIX     SMOGIndex          RIX  \\\n",
       "0      49.23 ± 9.09    16.21 ± 2.06  50.35 ± 4.87  14.23 ± 1.56  6.07 ± 1.23   \n",
       "1      61.31 ± 7.94    12.93 ± 1.63  42.24 ± 4.62  13.64 ± 1.44  4.34 ± 0.92   \n",
       "2      64.06 ± 6.46    12.25 ± 1.36  41.34 ± 4.03  12.00 ± 0.91  4.08 ± 0.74   \n",
       "3      53.37 ± 7.52    15.84 ± 1.54  48.06 ± 4.29  14.73 ± 1.17  5.53 ± 0.99   \n",
       "\n",
       "  DaleChallIndex  Excellence Rate (%)  \n",
       "0    7.37 ± 0.62                37.83  \n",
       "1    7.15 ± 0.58                56.61  \n",
       "2    6.35 ± 0.50                63.78  \n",
       "3    7.82 ± 0.48                43.44  "
      ]
     },
     "execution_count": 2,
     "metadata": {},
     "output_type": "execute_result"
    }
   ],
   "source": [
    "df"
   ]
  },
  {
   "cell_type": "code",
   "execution_count": 66,
   "id": "f0cbb59d",
   "metadata": {},
   "outputs": [
    {
     "data": {
      "text/html": [
       "<div>\n",
       "<style scoped>\n",
       "    .dataframe tbody tr th:only-of-type {\n",
       "        vertical-align: middle;\n",
       "    }\n",
       "\n",
       "    .dataframe tbody tr th {\n",
       "        vertical-align: top;\n",
       "    }\n",
       "\n",
       "    .dataframe thead th {\n",
       "        text-align: right;\n",
       "    }\n",
       "</style>\n",
       "<table border=\"1\" class=\"dataframe\">\n",
       "  <thead>\n",
       "    <tr style=\"text-align: right;\">\n",
       "      <th></th>\n",
       "      <th>Model</th>\n",
       "      <th>BERTScore F1 (original)</th>\n",
       "      <th>MeaningBERT (original)</th>\n",
       "      <th>AlignScore (original)</th>\n",
       "      <th>BERTScore F1 (reference)</th>\n",
       "      <th>MeaningBERT (reference)</th>\n",
       "      <th>AlignScore (reference)</th>\n",
       "      <th>Flesch-Kincaid</th>\n",
       "      <th>ARI</th>\n",
       "      <th>Excellence Rate (%)</th>\n",
       "    </tr>\n",
       "  </thead>\n",
       "  <tbody>\n",
       "    <tr>\n",
       "      <th>0</th>\n",
       "      <td>Reference</td>\n",
       "      <td>0.8482</td>\n",
       "      <td>0.6825</td>\n",
       "      <td>0.7551</td>\n",
       "      <td>-</td>\n",
       "      <td>-</td>\n",
       "      <td>-</td>\n",
       "      <td>11.38</td>\n",
       "      <td>11.46</td>\n",
       "      <td>37.83</td>\n",
       "    </tr>\n",
       "    <tr>\n",
       "      <th>1</th>\n",
       "      <td>GPT-5</td>\n",
       "      <td>0.8283</td>\n",
       "      <td>0.5632</td>\n",
       "      <td>0.7647</td>\n",
       "      <td>0.8519</td>\n",
       "      <td>0.6414</td>\n",
       "      <td>0.6296</td>\n",
       "      <td>9.04</td>\n",
       "      <td>9.51</td>\n",
       "      <td>56.61</td>\n",
       "    </tr>\n",
       "    <tr>\n",
       "      <th>2</th>\n",
       "      <td>Gemini</td>\n",
       "      <td>0.8419</td>\n",
       "      <td>0.5820</td>\n",
       "      <td>0.7893</td>\n",
       "      <td>0.8712</td>\n",
       "      <td>0.685</td>\n",
       "      <td>0.7189</td>\n",
       "      <td>8.37</td>\n",
       "      <td>8.31</td>\n",
       "      <td>63.78</td>\n",
       "    </tr>\n",
       "    <tr>\n",
       "      <th>3</th>\n",
       "      <td>GPT-OSS-120B</td>\n",
       "      <td>0.8311</td>\n",
       "      <td>0.6408</td>\n",
       "      <td>0.7925</td>\n",
       "      <td>0.8556</td>\n",
       "      <td>0.6713</td>\n",
       "      <td>0.6713</td>\n",
       "      <td>10.52</td>\n",
       "      <td>10.67</td>\n",
       "      <td>43.44</td>\n",
       "    </tr>\n",
       "  </tbody>\n",
       "</table>\n",
       "</div>"
      ],
      "text/plain": [
       "          Model  BERTScore F1 (original)  MeaningBERT (original)  \\\n",
       "0     Reference                   0.8482                  0.6825   \n",
       "1         GPT-5                   0.8283                  0.5632   \n",
       "2        Gemini                   0.8419                  0.5820   \n",
       "3  GPT-OSS-120B                   0.8311                  0.6408   \n",
       "\n",
       "   AlignScore (original) BERTScore F1 (reference) MeaningBERT (reference)  \\\n",
       "0                 0.7551                        -                       -   \n",
       "1                 0.7647                   0.8519                  0.6414   \n",
       "2                 0.7893                   0.8712                   0.685   \n",
       "3                 0.7925                   0.8556                  0.6713   \n",
       "\n",
       "  AlignScore (reference)  Flesch-Kincaid    ARI  Excellence Rate (%)  \n",
       "0                      -           11.38  11.46                37.83  \n",
       "1                 0.6296            9.04   9.51                56.61  \n",
       "2                 0.7189            8.37   8.31                63.78  \n",
       "3                 0.6713           10.52  10.67                43.44  "
      ]
     },
     "execution_count": 66,
     "metadata": {},
     "output_type": "execute_result"
    }
   ],
   "source": [
    "table = pd.DataFrame({\n",
    "    'Model': ['Reference', 'GPT-5', 'Gemini', 'GPT-OSS-120B'],\n",
    "    'BERTScore F1 (original)': [baseline_bertscore, gpt_5_bertscore, gemini_bertscore, gpt_oss_120b_bertscore],\n",
    "    'MeaningBERT (original)': [baseline_meaningbert, gpt_5_meaningbert, gemini_meaningbert, gpt_oss_120b_meaningbert],\n",
    "    'AlignScore (original)': [baseline_alignscore, gpt_5_alignscore, gemini_alignscore, gpt_oss_120b_alignscore],\n",
    "    'BERTScore F1 (reference)': [\"-\", gpt_5_bertscore_reference, gemini_bertscore_reference, gpt_oss_120b_bertscore_reference],\n",
    "    'MeaningBERT (reference)': [\"-\", gpt_5_meaningbert_reference, gemini_meaningbert_reference, gpt_oss_120b_alignscore_reference],\n",
    "    'AlignScore (reference)': [\"-\", gpt_5_alignscore_reference, gemini_alignscore_reference, gpt_oss_120b_alignscore_reference],\n",
    "    'Flesch-Kincaid': [reference_pls['readability']['flesch_kincaid_grade']['mean'],\n",
    "                        gpt5_pls['readability']['flesch_kincaid_grade']['mean'],\n",
    "                        gemini_pls['readability']['flesch_kincaid_grade']['mean'],\n",
    "                        gpt_oss_120b_pls['readability']['flesch_kincaid_grade']['mean']],\n",
    "    'ARI': [reference_pls['readability']['automated_readability_index']['mean'],\n",
    "            gpt5_pls['readability']['automated_readability_index']['mean'],\n",
    "            gemini_pls['readability']['automated_readability_index']['mean'],\n",
    "            gpt_oss_120b_pls['readability']['automated_readability_index']['mean']],\n",
    "    'Excellence Rate (%)': [reference_pls['summary']['excellence_rate'],\n",
    "                            gpt5_pls['summary']['excellence_rate'],\n",
    "                            gemini_pls['summary']['excellence_rate'],\n",
    "                            gpt_oss_120b_pls['summary']['excellence_rate']]\n",
    "})\n",
    "\n",
    "table"
   ]
  },
  {
   "cell_type": "code",
   "execution_count": 65,
   "id": "fc12c1c3",
   "metadata": {},
   "outputs": [
    {
     "name": "stderr",
     "output_type": "stream",
     "text": [
      "huggingface/tokenizers: The current process just got forked, after parallelism has already been used. Disabling parallelism to avoid deadlocks...\n",
      "To disable this warning, you can either:\n",
      "\t- Avoid using `tokenizers` before the fork if possible\n",
      "\t- Explicitly set the environment variable TOKENIZERS_PARALLELISM=(true | false)\n"
     ]
    },
    {
     "name": "stdout",
     "output_type": "stream",
     "text": [
      "\u001b[33mWARNING: Retrying (Retry(total=4, connect=None, read=None, redirect=None, status=None)) after connection broken by 'NewConnectionError('<pip._vendor.urllib3.connection.HTTPSConnection object at 0x1028c9220>: Failed to establish a new connection: [Errno 8] nodename nor servname provided, or not known')': /simple/openpyxl/\u001b[0m\u001b[33m\n",
      "\u001b[0m\u001b[33mWARNING: Retrying (Retry(total=3, connect=None, read=None, redirect=None, status=None)) after connection broken by 'NewConnectionError('<pip._vendor.urllib3.connection.HTTPSConnection object at 0x1037d8b60>: Failed to establish a new connection: [Errno 8] nodename nor servname provided, or not known')': /simple/openpyxl/\u001b[0m\u001b[33m\n",
      "\u001b[0m\u001b[33mWARNING: Retrying (Retry(total=2, connect=None, read=None, redirect=None, status=None)) after connection broken by 'NewConnectionError('<pip._vendor.urllib3.connection.HTTPSConnection object at 0x1038be0f0>: Failed to establish a new connection: [Errno 8] nodename nor servname provided, or not known')': /simple/openpyxl/\u001b[0m\u001b[33m\n",
      "\u001b[0m\u001b[33mWARNING: Retrying (Retry(total=1, connect=None, read=None, redirect=None, status=None)) after connection broken by 'NewConnectionError('<pip._vendor.urllib3.connection.HTTPSConnection object at 0x104f35190>: Failed to establish a new connection: [Errno 8] nodename nor servname provided, or not known')': /simple/openpyxl/\u001b[0m\u001b[33m\n",
      "\u001b[0m\u001b[33mWARNING: Retrying (Retry(total=0, connect=None, read=None, redirect=None, status=None)) after connection broken by 'NewConnectionError('<pip._vendor.urllib3.connection.HTTPSConnection object at 0x104f348c0>: Failed to establish a new connection: [Errno 8] nodename nor servname provided, or not known')': /simple/openpyxl/\u001b[0m\u001b[33m\n",
      "\u001b[0m\u001b[31mERROR: Could not find a version that satisfies the requirement openpyxl (from versions: none)\u001b[0m\u001b[31m\n",
      "\u001b[0m\u001b[31mERROR: No matching distribution found for openpyxl\u001b[0m\u001b[31m\n",
      "\u001b[0mNote: you may need to restart the kernel to use updated packages.\n"
     ]
    }
   ],
   "source": [
    "%pip install openpyxl"
   ]
  },
  {
   "cell_type": "code",
   "execution_count": null,
   "id": "90de8962",
   "metadata": {},
   "outputs": [
    {
     "name": "stdout",
     "output_type": "stream",
     "text": [
      "Results saved to outputs/evaluation_results_20250819_114333.csv\n",
      "Results saved to outputs/evaluation_results_20250819_114333.json\n"
     ]
    },
    {
     "ename": "ImportError",
     "evalue": "Missing optional dependency 'tabulate'.  Use pip or conda to install tabulate.",
     "output_type": "error",
     "traceback": [
      "\u001b[31m---------------------------------------------------------------------------\u001b[39m",
      "\u001b[31mModuleNotFoundError\u001b[39m                       Traceback (most recent call last)",
      "\u001b[36mFile \u001b[39m\u001b[32m~/Documents/projects/medical-writing/.venv/lib/python3.12/site-packages/pandas/compat/_optional.py:135\u001b[39m, in \u001b[36mimport_optional_dependency\u001b[39m\u001b[34m(name, extra, errors, min_version)\u001b[39m\n\u001b[32m    134\u001b[39m \u001b[38;5;28;01mtry\u001b[39;00m:\n\u001b[32m--> \u001b[39m\u001b[32m135\u001b[39m     module = \u001b[43mimportlib\u001b[49m\u001b[43m.\u001b[49m\u001b[43mimport_module\u001b[49m\u001b[43m(\u001b[49m\u001b[43mname\u001b[49m\u001b[43m)\u001b[49m\n\u001b[32m    136\u001b[39m \u001b[38;5;28;01mexcept\u001b[39;00m \u001b[38;5;167;01mImportError\u001b[39;00m:\n",
      "\u001b[36mFile \u001b[39m\u001b[32m~/.local/share/uv/python/cpython-3.12.10-macos-aarch64-none/lib/python3.12/importlib/__init__.py:90\u001b[39m, in \u001b[36mimport_module\u001b[39m\u001b[34m(name, package)\u001b[39m\n\u001b[32m     89\u001b[39m         level += \u001b[32m1\u001b[39m\n\u001b[32m---> \u001b[39m\u001b[32m90\u001b[39m \u001b[38;5;28;01mreturn\u001b[39;00m \u001b[43m_bootstrap\u001b[49m\u001b[43m.\u001b[49m\u001b[43m_gcd_import\u001b[49m\u001b[43m(\u001b[49m\u001b[43mname\u001b[49m\u001b[43m[\u001b[49m\u001b[43mlevel\u001b[49m\u001b[43m:\u001b[49m\u001b[43m]\u001b[49m\u001b[43m,\u001b[49m\u001b[43m \u001b[49m\u001b[43mpackage\u001b[49m\u001b[43m,\u001b[49m\u001b[43m \u001b[49m\u001b[43mlevel\u001b[49m\u001b[43m)\u001b[49m\n",
      "\u001b[36mFile \u001b[39m\u001b[32m<frozen importlib._bootstrap>:1387\u001b[39m, in \u001b[36m_gcd_import\u001b[39m\u001b[34m(name, package, level)\u001b[39m\n",
      "\u001b[36mFile \u001b[39m\u001b[32m<frozen importlib._bootstrap>:1360\u001b[39m, in \u001b[36m_find_and_load\u001b[39m\u001b[34m(name, import_)\u001b[39m\n",
      "\u001b[36mFile \u001b[39m\u001b[32m<frozen importlib._bootstrap>:1324\u001b[39m, in \u001b[36m_find_and_load_unlocked\u001b[39m\u001b[34m(name, import_)\u001b[39m\n",
      "\u001b[31mModuleNotFoundError\u001b[39m: No module named 'tabulate'",
      "\nDuring handling of the above exception, another exception occurred:\n",
      "\u001b[31mImportError\u001b[39m                               Traceback (most recent call last)",
      "\u001b[36mCell\u001b[39m\u001b[36m \u001b[39m\u001b[32mIn[64]\u001b[39m\u001b[32m, line 17\u001b[39m\n\u001b[32m     14\u001b[39m \u001b[38;5;28mprint\u001b[39m(\u001b[33mf\u001b[39m\u001b[33m\"\u001b[39m\u001b[33mResults saved to outputs/evaluation_results_\u001b[39m\u001b[38;5;132;01m{\u001b[39;00mtimestamp\u001b[38;5;132;01m}\u001b[39;00m\u001b[33m.json\u001b[39m\u001b[33m\"\u001b[39m)\n\u001b[32m     16\u001b[39m \u001b[38;5;66;03m# Save as Markdown for documentation\u001b[39;00m\n\u001b[32m---> \u001b[39m\u001b[32m17\u001b[39m markdown_table = \u001b[43mtable\u001b[49m\u001b[43m.\u001b[49m\u001b[43mto_markdown\u001b[49m\u001b[43m(\u001b[49m\u001b[43mindex\u001b[49m\u001b[43m=\u001b[49m\u001b[38;5;28;43;01mFalse\u001b[39;49;00m\u001b[43m)\u001b[49m\n\u001b[32m     18\u001b[39m \u001b[38;5;28;01mwith\u001b[39;00m \u001b[38;5;28mopen\u001b[39m(\u001b[33mf\u001b[39m\u001b[33m'\u001b[39m\u001b[33moutputs/evaluation_results_\u001b[39m\u001b[38;5;132;01m{\u001b[39;00mtimestamp\u001b[38;5;132;01m}\u001b[39;00m\u001b[33m.md\u001b[39m\u001b[33m'\u001b[39m, \u001b[33m'\u001b[39m\u001b[33mw\u001b[39m\u001b[33m'\u001b[39m) \u001b[38;5;28;01mas\u001b[39;00m f:\n\u001b[32m     19\u001b[39m     f.write(\u001b[33m\"\u001b[39m\u001b[33m# Evaluation Results\u001b[39m\u001b[38;5;130;01m\\n\u001b[39;00m\u001b[38;5;130;01m\\n\u001b[39;00m\u001b[33m\"\u001b[39m)\n",
      "\u001b[36mFile \u001b[39m\u001b[32m~/Documents/projects/medical-writing/.venv/lib/python3.12/site-packages/pandas/util/_decorators.py:333\u001b[39m, in \u001b[36mdeprecate_nonkeyword_arguments.<locals>.decorate.<locals>.wrapper\u001b[39m\u001b[34m(*args, **kwargs)\u001b[39m\n\u001b[32m    327\u001b[39m \u001b[38;5;28;01mif\u001b[39;00m \u001b[38;5;28mlen\u001b[39m(args) > num_allow_args:\n\u001b[32m    328\u001b[39m     warnings.warn(\n\u001b[32m    329\u001b[39m         msg.format(arguments=_format_argument_list(allow_args)),\n\u001b[32m    330\u001b[39m         \u001b[38;5;167;01mFutureWarning\u001b[39;00m,\n\u001b[32m    331\u001b[39m         stacklevel=find_stack_level(),\n\u001b[32m    332\u001b[39m     )\n\u001b[32m--> \u001b[39m\u001b[32m333\u001b[39m \u001b[38;5;28;01mreturn\u001b[39;00m \u001b[43mfunc\u001b[49m\u001b[43m(\u001b[49m\u001b[43m*\u001b[49m\u001b[43margs\u001b[49m\u001b[43m,\u001b[49m\u001b[43m \u001b[49m\u001b[43m*\u001b[49m\u001b[43m*\u001b[49m\u001b[43mkwargs\u001b[49m\u001b[43m)\u001b[49m\n",
      "\u001b[36mFile \u001b[39m\u001b[32m~/Documents/projects/medical-writing/.venv/lib/python3.12/site-packages/pandas/core/frame.py:2988\u001b[39m, in \u001b[36mDataFrame.to_markdown\u001b[39m\u001b[34m(self, buf, mode, index, storage_options, **kwargs)\u001b[39m\n\u001b[32m   2986\u001b[39m kwargs.setdefault(\u001b[33m\"\u001b[39m\u001b[33mtablefmt\u001b[39m\u001b[33m\"\u001b[39m, \u001b[33m\"\u001b[39m\u001b[33mpipe\u001b[39m\u001b[33m\"\u001b[39m)\n\u001b[32m   2987\u001b[39m kwargs.setdefault(\u001b[33m\"\u001b[39m\u001b[33mshowindex\u001b[39m\u001b[33m\"\u001b[39m, index)\n\u001b[32m-> \u001b[39m\u001b[32m2988\u001b[39m tabulate = \u001b[43mimport_optional_dependency\u001b[49m\u001b[43m(\u001b[49m\u001b[33;43m\"\u001b[39;49m\u001b[33;43mtabulate\u001b[39;49m\u001b[33;43m\"\u001b[39;49m\u001b[43m)\u001b[49m\n\u001b[32m   2989\u001b[39m result = tabulate.tabulate(\u001b[38;5;28mself\u001b[39m, **kwargs)\n\u001b[32m   2990\u001b[39m \u001b[38;5;28;01mif\u001b[39;00m buf \u001b[38;5;129;01mis\u001b[39;00m \u001b[38;5;28;01mNone\u001b[39;00m:\n",
      "\u001b[36mFile \u001b[39m\u001b[32m~/Documents/projects/medical-writing/.venv/lib/python3.12/site-packages/pandas/compat/_optional.py:138\u001b[39m, in \u001b[36mimport_optional_dependency\u001b[39m\u001b[34m(name, extra, errors, min_version)\u001b[39m\n\u001b[32m    136\u001b[39m \u001b[38;5;28;01mexcept\u001b[39;00m \u001b[38;5;167;01mImportError\u001b[39;00m:\n\u001b[32m    137\u001b[39m     \u001b[38;5;28;01mif\u001b[39;00m errors == \u001b[33m\"\u001b[39m\u001b[33mraise\u001b[39m\u001b[33m\"\u001b[39m:\n\u001b[32m--> \u001b[39m\u001b[32m138\u001b[39m         \u001b[38;5;28;01mraise\u001b[39;00m \u001b[38;5;167;01mImportError\u001b[39;00m(msg)\n\u001b[32m    139\u001b[39m     \u001b[38;5;28;01mreturn\u001b[39;00m \u001b[38;5;28;01mNone\u001b[39;00m\n\u001b[32m    141\u001b[39m \u001b[38;5;66;03m# Handle submodules: if we have submodule, grab parent module from sys.modules\u001b[39;00m\n",
      "\u001b[31mImportError\u001b[39m: Missing optional dependency 'tabulate'.  Use pip or conda to install tabulate."
     ]
    }
   ],
   "source": [
    "import datetime\n",
    "\n",
    "# Create timestamp for file naming\n",
    "timestamp = datetime.datetime.now().strftime(\"%Y%m%d_%H%M%S\")\n",
    "\n",
    "# Save as CSV\n",
    "table.to_csv(f'outputs/evaluation_results_{timestamp}.csv', index=False)\n",
    "print(f\"Results saved to outputs/evaluation_results_{timestamp}.csv\")\n",
    "\n",
    "# Save as Excel with formatting\n",
    "with pd.ExcelWriter(f'outputs/evaluation_results_{timestamp}.xlsx', engine='openpyxl') as writer:\n",
    "    table.to_excel(writer, sheet_name='Evaluation Metrics', index=False)\n",
    "\n",
    "    # Also save the readability table in a separate sheet\n",
    "    readability_table.to_excel(writer, sheet_name='Readability Details', index=False)\n",
    "\n",
    "    # Get the workbook and worksheet to apply formatting\n",
    "    workbook = writer.book\n",
    "    worksheet = writer.sheets['Evaluation Metrics']\n",
    "\n",
    "    # Auto-adjust column widths\n",
    "    for column in worksheet.columns:\n",
    "        max_length = 0\n",
    "        column_letter = column[0].column_letter\n",
    "        for cell in column:\n",
    "            try:\n",
    "                if len(str(cell.value)) > max_length:\n",
    "                    max_length = len(str(cell.value))\n",
    "            except:\n",
    "                pass\n",
    "        adjusted_width = min(max_length + 2, 30)\n",
    "        worksheet.column_dimensions[column_letter].width = adjusted_width\n",
    "\n",
    "print(f\"Results saved to outputs/evaluation_results_{timestamp}.xlsx\")\n",
    "\n",
    "# Save as JSON for programmatic access\n",
    "results_dict = table.to_dict('records')\n",
    "with open(f'outputs/evaluation_results_{timestamp}.json', 'w') as f:\n",
    "    json.dump(results_dict, f, indent=2)\n",
    "print(f\"Results saved to outputs/evaluation_results_{timestamp}.json\")\n",
    "\n",
    "# Save as Markdown for documentation\n",
    "markdown_table = table.to_markdown(index=False)\n",
    "with open(f'outputs/evaluation_results_{timestamp}.md', 'w') as f:\n",
    "    f.write(\"# Evaluation Results\\n\\n\")\n",
    "    f.write(f\"Generated on: {datetime.datetime.now().strftime('%Y-%m-%d %H:%M:%S')}\\n\\n\")\n",
    "    f.write(markdown_table)\n",
    "print(f\"Results saved to outputs/evaluation_results_{timestamp}.md\")\n",
    "\n",
    "# Save as LaTeX for papers\n",
    "latex_table = table.to_latex(index=False, caption=\"Model Evaluation Results\", label=\"tab:eval_results\")\n",
    "with open(f'outputs/evaluation_results_{timestamp}.tex', 'w') as f:\n",
    "    f.write(latex_table)\n",
    "print(f\"Results saved to outputs/evaluation_results_{timestamp}.tex\")\n",
    "\n",
    "# Display the table\n",
    "print(\"\\n\" + \"=\"*80)\n",
    "print(\"EVALUATION RESULTS\")\n",
    "print(\"=\"*80)\n",
    "print(table.to_string(index=False))"
   ]
  },
  {
   "cell_type": "code",
   "execution_count": null,
   "id": "4122ef71",
   "metadata": {},
   "outputs": [],
   "source": []
  }
 ],
 "metadata": {
  "kernelspec": {
   "display_name": ".venv",
   "language": "python",
   "name": "python3"
  },
  "language_info": {
   "codemirror_mode": {
    "name": "ipython",
    "version": 3
   },
   "file_extension": ".py",
   "mimetype": "text/x-python",
   "name": "python",
   "nbconvert_exporter": "python",
   "pygments_lexer": "ipython3",
   "version": "3.12.10"
  }
 },
 "nbformat": 4,
 "nbformat_minor": 5
}
